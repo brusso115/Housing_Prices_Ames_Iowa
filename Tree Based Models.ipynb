{
 "cells": [
  {
   "cell_type": "code",
   "execution_count": 1,
   "metadata": {},
   "outputs": [],
   "source": [
    "import pandas as pd\n",
    "import numpy as np\n",
    "from sklearn.ensemble import IsolationForest, GradientBoostingRegressor, RandomForestRegressor\n",
    "from sklearn.svm import SVR\n",
    "from sklearn.model_selection import GridSearchCV\n",
    "from sklearn.preprocessing import StandardScaler\n",
    "from sklearn.linear_model import Ridge, Lasso\n",
    "from sklearn.feature_selection import SelectKBest, f_regression\n",
    "from statsmodels.stats.outliers_influence import variance_inflation_factor\n",
    "from scipy.stats import kurtosis, skew, boxcox\n",
    "from regressors import stats\n",
    "from numpy import mean\n",
    "from numpy import std\n",
    "import statsmodels.api as sm\n",
    "import matplotlib.pyplot as plt\n",
    "import seaborn as sns\n",
    "import tensorflow as tf\n",
    "from tensorflow import keras\n",
    "from tensorflow.keras import layers"
   ]
  },
  {
   "cell_type": "code",
   "execution_count": 2,
   "metadata": {},
   "outputs": [],
   "source": [
    "train = pd.read_csv('train_filled_na_ord.csv')\n",
    "test = pd.read_csv('test_filled_na_ord.csv')"
   ]
  },
  {
   "cell_type": "code",
   "execution_count": 3,
   "metadata": {},
   "outputs": [],
   "source": [
    "train.drop('Id', axis = 1, inplace=True)\n",
    "test.drop('Id', axis = 1, inplace=True)"
   ]
  },
  {
   "cell_type": "markdown",
   "metadata": {},
   "source": [
    "# Outlier Detection"
   ]
  },
  {
   "cell_type": "code",
   "execution_count": 4,
   "metadata": {},
   "outputs": [],
   "source": [
    "data_mean, data_std = mean(train), std(train)"
   ]
  },
  {
   "cell_type": "code",
   "execution_count": 5,
   "metadata": {},
   "outputs": [],
   "source": [
    "cut_off = data_std * 3\n",
    "lower, upper = data_mean - cut_off, data_mean + cut_off\n",
    "\n",
    "outliers = {}\n",
    "for col in ['LotFrontage','LotArea','MasVnrArea','YearBuilt','YearRemodAdd','BsmtFinSF1','BsmtFinSF2',\n",
    "            'BsmtUnfSF','TotalBsmtSF','1stFlrSF','2ndFlrSF','GrLivArea','GarageArea','WoodDeckSF',\n",
    "           'OpenPorchSF','EnclosedPorch']:\n",
    "    m = train[col].between(lower[col], upper[col], inclusive=True)\n",
    "    outliers[col] = train[~m]\n",
    "    \n",
    "    "
   ]
  },
  {
   "cell_type": "code",
   "execution_count": 6,
   "metadata": {},
   "outputs": [
    {
     "name": "stdout",
     "output_type": "stream",
     "text": [
      "LotFrontage 15\n",
      "LotArea 13\n",
      "MasVnrArea 32\n",
      "YearBuilt 6\n",
      "YearRemodAdd 0\n",
      "BsmtFinSF1 6\n",
      "BsmtFinSF2 50\n",
      "BsmtUnfSF 11\n",
      "TotalBsmtSF 10\n",
      "1stFlrSF 12\n",
      "2ndFlrSF 4\n",
      "GrLivArea 16\n",
      "GarageArea 7\n",
      "WoodDeckSF 22\n",
      "OpenPorchSF 27\n",
      "EnclosedPorch 51\n"
     ]
    }
   ],
   "source": [
    "outlier_indices = set()\n",
    "for col in outliers:\n",
    "    print(col, len(outliers[col]))\n",
    "    for idx in list(outliers[col].index):\n",
    "        #print(idx)\n",
    "        outlier_indices.add(idx)\n",
    "        "
   ]
  },
  {
   "cell_type": "code",
   "execution_count": 7,
   "metadata": {},
   "outputs": [],
   "source": [
    "train = train.drop(outlier_indices, axis=0)"
   ]
  },
  {
   "cell_type": "markdown",
   "metadata": {},
   "source": [
    "# Dropping Columns with all Zeroes"
   ]
  },
  {
   "cell_type": "code",
   "execution_count": 8,
   "metadata": {},
   "outputs": [],
   "source": [
    "allZeroCols = train.columns[(train == 0).all()].to_list()\n",
    "train = train.drop(allZeroCols, axis=1)\n",
    "test = test.drop(allZeroCols, axis=1)"
   ]
  },
  {
   "cell_type": "markdown",
   "metadata": {},
   "source": [
    "# Model Testing"
   ]
  },
  {
   "cell_type": "code",
   "execution_count": 9,
   "metadata": {},
   "outputs": [],
   "source": [
    "def getFeatureImportance(num, cols, features_importances_, sort):\n",
    "    \n",
    "    feature_importances = zip(cols, features_importances_)\n",
    "    sorted_importance = sorted(list(feature_importances),key= lambda x: abs(x[1]),reverse=False if sort == 'ascending' else True)\n",
    "\n",
    "    f, ax = plt.subplots(figsize=(13, 9))\n",
    "    sns.barplot([x[0] for x in sorted_importance[:num]], [x[1] for x in sorted_importance[:num]])\n",
    "    plt.xticks(rotation=90)\n",
    "    \n",
    "    return sorted_importance"
   ]
  },
  {
   "cell_type": "code",
   "execution_count": 10,
   "metadata": {},
   "outputs": [],
   "source": [
    "X = train.loc[:, train.columns != 'SalePrice']\n",
    "y = train['SalePrice']"
   ]
  },
  {
   "cell_type": "markdown",
   "metadata": {},
   "source": [
    "## Random Forest"
   ]
  },
  {
   "cell_type": "code",
   "execution_count": 11,
   "metadata": {},
   "outputs": [
    {
     "name": "stdout",
     "output_type": "stream",
     "text": [
      "{'mean_fit_time': array([2.22030873]), 'std_fit_time': array([0.10899302]), 'mean_score_time': array([0.09351072]), 'std_score_time': array([0.00370661]), 'param_criterion': masked_array(data=['mse'],\n",
      "             mask=[False],\n",
      "       fill_value='?',\n",
      "            dtype=object), 'param_max_features': masked_array(data=['sqrt'],\n",
      "             mask=[False],\n",
      "       fill_value='?',\n",
      "            dtype=object), 'param_n_estimators': masked_array(data=[1000],\n",
      "             mask=[False],\n",
      "       fill_value='?',\n",
      "            dtype=object), 'params': [{'criterion': 'mse', 'max_features': 'sqrt', 'n_estimators': 1000}], 'split0_test_score': array([0.90340218]), 'split1_test_score': array([0.91484958]), 'split2_test_score': array([0.86776774]), 'split3_test_score': array([0.90116276]), 'split4_test_score': array([0.86935256]), 'mean_test_score': array([0.89130697]), 'std_test_score': array([0.01915086]), 'rank_test_score': array([1], dtype=int32)}\n",
      "{'criterion': 'mse', 'max_features': 'sqrt', 'n_estimators': 1000}\n",
      "0.8913069658797997\n"
     ]
    }
   ],
   "source": [
    "model = RandomForestRegressor()\n",
    "params = {'n_estimators':[1000], 'max_features':['sqrt'], 'criterion':['mse']}\n",
    "gridRf = GridSearchCV(model, param_grid=params, cv=5)\n",
    "gridRf.fit(X, y)\n",
    "print(gridRf.cv_results_)\n",
    "print(gridRf.best_params_)\n",
    "print(gridRf.best_score_)"
   ]
  },
  {
   "cell_type": "code",
   "execution_count": 12,
   "metadata": {},
   "outputs": [
    {
     "name": "stderr",
     "output_type": "stream",
     "text": [
      "/Users/baileyrusso/opt/anaconda3/lib/python3.8/site-packages/seaborn/_decorators.py:36: FutureWarning: Pass the following variables as keyword args: x, y. From version 0.12, the only valid positional argument will be `data`, and passing other arguments without an explicit keyword will result in an error or misinterpretation.\n",
      "  warnings.warn(\n"
     ]
    },
    {
     "data": {
      "text/plain": [
       "[('TotalSF', 0.11518746926732056),\n",
       " ('TotalIndoorSF', 0.09622743829914908),\n",
       " ('OverallQual', 0.09118030879230993),\n",
       " ('GrLivAreaHighQualitySF', 0.051438757367953704),\n",
       " ('YearBuilt', 0.04768743237076497),\n",
       " ('ExterQual', 0.04566556890638774),\n",
       " ('GrLivArea', 0.04182710122537359),\n",
       " ('KitchenQual', 0.039453376535962696),\n",
       " ('BsmtQual', 0.03864569170969177),\n",
       " ('TotalBsmtSF', 0.030410438067079347),\n",
       " ('GarageArea', 0.030234983903604663),\n",
       " ('GarageYrBlt', 0.029591227024066264),\n",
       " ('GarageCars', 0.02775497358938121),\n",
       " ('1stFlrSF', 0.023367967370053054),\n",
       " ('Baths', 0.02295791365868005),\n",
       " ('YearRemodAdd', 0.019817608932823364),\n",
       " ('BsmtFinSF1', 0.018072043092256705),\n",
       " ('FullBath', 0.017477637967959123),\n",
       " ('LotArea', 0.01179546414000762),\n",
       " ('GarageType', 0.01155473387379341),\n",
       " ('2ndFlrSF', 0.009732059641935626),\n",
       " ('TotRmsAbvGrd', 0.009426848381009843),\n",
       " ('OpenPorchSF', 0.009093522149586353),\n",
       " ('FireplaceQu', 0.008908777814671646),\n",
       " ('LotFrontage', 0.008794394378979874),\n",
       " ('Fireplaces', 0.008677383479961586),\n",
       " ('MasVnrArea', 0.007818663705095184),\n",
       " ('hasFireplace', 0.00777330568196141),\n",
       " ('BsmtUnfSF', 0.006900496293216561),\n",
       " ('HeatingQC', 0.006875068506692306),\n",
       " ('Neighborhood', 0.0058770612225714685),\n",
       " ('Foundation', 0.005793328377239913),\n",
       " ('GarageFinish', 0.0053504213526884906),\n",
       " ('TotalOutdoorSF', 0.005341030618109205),\n",
       " ('SaleCondition', 0.004851289837379286),\n",
       " ('OverallCond', 0.004224000288484161),\n",
       " ('WoodDeckSF', 0.004188046142391273),\n",
       " ('MSSubClass', 0.0037038576708938154),\n",
       " ('BsmtFinType1', 0.003437242982613937),\n",
       " ('MoSold', 0.003435107324374499),\n",
       " ('BsmtBaths', 0.003305614399306501),\n",
       " ('BsmtFullBath', 0.003043287356656324),\n",
       " ('MSZoning', 0.0029989542899990624),\n",
       " ('BedroomAbvGr', 0.002971601452948988),\n",
       " ('BsmtExposure', 0.0028798394661515236),\n",
       " ('MasVnrType', 0.0027953074474023616),\n",
       " ('Exterior1st', 0.0026207195834628597),\n",
       " ('SaleType', 0.0024963756092967067),\n",
       " ('HalfBath', 0.0024454738654463098),\n",
       " ('Exterior2nd', 0.0021682127296495405),\n",
       " ('CentralAir', 0.002022662507965607),\n",
       " ('YrSold', 0.002000637646411914),\n",
       " ('HouseStyle', 0.0018467556614399966),\n",
       " ('RoofStyle', 0.0018128295806520312),\n",
       " ('BldgType', 0.0017640101905186632),\n",
       " ('GarageQual', 0.0017158144639271892),\n",
       " ('KitchenAbvGr', 0.0017047794696079656),\n",
       " ('GarageCond', 0.0016300654507456218),\n",
       " ('LotShape', 0.0013052498093234573),\n",
       " ('BsmtCond', 0.0012315588022084366),\n",
       " ('LandContour', 0.0011771477548400955),\n",
       " ('NumFloors', 0.0011454709135848458),\n",
       " ('ScreenPorch', 0.0009740432583351225),\n",
       " ('LotConfig', 0.0009578535165763692),\n",
       " ('hasBeenRemodeled', 0.0008606183365991986),\n",
       " ('PavedDrive', 0.000796527958051059),\n",
       " ('ExterCond', 0.0007884494334123203),\n",
       " ('EnclosedPorch', 0.0007844978337621314),\n",
       " ('Functional', 0.0007677488123893926),\n",
       " ('Condition1', 0.0007250349891935877),\n",
       " ('LandSlope', 0.0006885468931393441),\n",
       " ('hasGarage', 0.0006759176055694264),\n",
       " ('Electrical', 0.0004928368057686251),\n",
       " ('Fence', 0.0004586237987349301),\n",
       " ('Alley', 0.00035863680498432395),\n",
       " ('hasFence', 0.0003580934727012162),\n",
       " ('BsmtFinType2', 0.000354058246223773),\n",
       " ('3SsnPorch', 0.0003459473636845999),\n",
       " ('BsmtHalfBath', 0.00032730287097671574),\n",
       " ('BsmtFinSF2', 0.0003167542543181576),\n",
       " ('hasAlley_Access', 0.0002685308424355228),\n",
       " ('hasMasVnr', 0.00019520051926874538),\n",
       " ('MiscVal', 0.00014638515244306277),\n",
       " ('Heating', 0.00013697204923199374),\n",
       " ('hasBsmt', 0.00010666014490522498),\n",
       " ('MiscFeature', 0.00010191265839593803),\n",
       " ('LowQualFinSF', 8.877685449753284e-05),\n",
       " ('hasMisc_Feature', 8.241111399038905e-05),\n",
       " ('RoofMatl', 7.327848951328604e-05),\n",
       " ('Condition2', 3.408919181370773e-05),\n",
       " ('Street', 3.160860033203831e-05),\n",
       " ('hasPool', 2.554264684210993e-05),\n",
       " ('PoolQC', 2.2729197019316252e-05),\n",
       " ('PoolArea', 2.064863790182209e-05),\n",
       " ('Utilities', 1.351250967676619e-06)]"
      ]
     },
     "execution_count": 12,
     "metadata": {},
     "output_type": "execute_result"
    },
    {
     "data": {
      "image/png": "[encoded data removed]",
      "text/plain": [
       "<Figure size 936x648 with 1 Axes>"
      ]
     },
     "metadata": {
      "needs_background": "light"
     },
     "output_type": "display_data"
    }
   ],
   "source": [
    "getFeatureImportance(30, X.columns, gridRf.best_estimator_.feature_importances_, sort='descending')"
   ]
  },
  {
   "cell_type": "code",
   "execution_count": 13,
   "metadata": {},
   "outputs": [
    {
     "data": {
      "text/plain": [
       "0.9858971210034134"
      ]
     },
     "execution_count": 13,
     "metadata": {},
     "output_type": "execute_result"
    }
   ],
   "source": [
    "gridRf.score(X, y)"
   ]
  },
  {
   "cell_type": "markdown",
   "metadata": {},
   "source": [
    "## Gradient Boosting Regressor"
   ]
  },
  {
   "cell_type": "code",
   "execution_count": 14,
   "metadata": {},
   "outputs": [
    {
     "name": "stdout",
     "output_type": "stream",
     "text": [
      "{'mean_fit_time': array([0.18177304, 0.22814746, 0.21286464, 0.21128788, 0.20502481,\n",
      "       0.2852354 , 0.30418949, 0.32201791, 0.26058245, 0.34249377,\n",
      "       0.31765699, 0.30265422, 0.28228073, 0.28251781, 0.26946931,\n",
      "       0.2612669 , 0.29057226, 0.33128471, 0.31804657, 0.31888285,\n",
      "       0.34030719, 0.37499242, 0.39637284, 0.38206549, 0.34806299,\n",
      "       0.42549663, 0.37072406, 0.31838374, 0.46522584, 0.43831925,\n",
      "       0.4343708 , 0.453474  , 0.47050734, 0.48318043, 0.49940519,\n",
      "       0.4382103 , 0.41428456, 0.43017507, 0.42742   , 0.38901482,\n",
      "       0.46667137, 0.48808079, 0.46710505, 0.44514599, 0.53269558,\n",
      "       0.54280596, 0.52597971, 0.49709702, 0.44599319, 0.45830822,\n",
      "       0.46468973, 0.43055263, 0.55228682, 0.56473804, 0.54400544,\n",
      "       0.51115403, 0.64602971, 0.66847839, 0.61886644, 0.57107058]), 'std_fit_time': array([0.00874881, 0.01588329, 0.01290629, 0.00712672, 0.00559318,\n",
      "       0.03351306, 0.0381619 , 0.02846909, 0.01613485, 0.02956629,\n",
      "       0.01222107, 0.00501351, 0.03150792, 0.01236763, 0.00586491,\n",
      "       0.00575007, 0.01122167, 0.01005786, 0.00590868, 0.00585287,\n",
      "       0.00381999, 0.00200332, 0.02855662, 0.04324318, 0.04544934,\n",
      "       0.0226559 , 0.03754678, 0.00703093, 0.04095002, 0.04254195,\n",
      "       0.02991645, 0.03986459, 0.03812522, 0.01011084, 0.04349256,\n",
      "       0.01211145, 0.02104766, 0.03670325, 0.04860642, 0.01925825,\n",
      "       0.01090004, 0.00991171, 0.00605387, 0.01013685, 0.01651156,\n",
      "       0.03580835, 0.00958802, 0.00310735, 0.00180494, 0.00439224,\n",
      "       0.01959049, 0.01065763, 0.01054801, 0.01356839, 0.01939154,\n",
      "       0.00582471, 0.02347344, 0.01239733, 0.01638818, 0.02198153]), 'mean_score_time': array([0.00281534, 0.00273585, 0.00265579, 0.00315142, 0.00307798,\n",
      "       0.0033298 , 0.00337262, 0.00339589, 0.00311193, 0.00340219,\n",
      "       0.00313263, 0.00296645, 0.00396953, 0.00318017, 0.00301871,\n",
      "       0.00318174, 0.00344234, 0.00335073, 0.00318546, 0.00415034,\n",
      "       0.00365553, 0.00352936, 0.00363879, 0.00406556, 0.00406146,\n",
      "       0.00498896, 0.00430112, 0.0035964 , 0.00511274, 0.00410352,\n",
      "       0.00407538, 0.00495481, 0.00432901, 0.0043468 , 0.00509529,\n",
      "       0.00430021, 0.0047698 , 0.00422668, 0.00488019, 0.00514903,\n",
      "       0.00485687, 0.00517378, 0.00496473, 0.00525098, 0.00511379,\n",
      "       0.00531363, 0.00525765, 0.00525141, 0.00484433, 0.00499182,\n",
      "       0.00548325, 0.00543485, 0.00554686, 0.00595245, 0.0057003 ,\n",
      "       0.00584497, 0.00616698, 0.00638547, 0.0064539 , 0.00639715]), 'std_score_time': array([4.10968727e-04, 2.11636855e-04, 1.46165205e-04, 8.08907025e-04,\n",
      "       7.76575289e-04, 4.37457057e-04, 7.44850327e-04, 3.15925889e-04,\n",
      "       5.37671134e-04, 7.65302774e-04, 3.34987976e-04, 2.42886751e-04,\n",
      "       8.42451779e-04, 3.15814747e-04, 1.64313311e-04, 2.59440231e-04,\n",
      "       3.08141617e-04, 3.40455153e-04, 5.06917148e-05, 8.57418294e-04,\n",
      "       2.44888199e-04, 1.97621327e-04, 5.37167300e-04, 8.87678053e-04,\n",
      "       6.44087304e-04, 8.23028358e-04, 8.30495184e-04, 7.02964718e-05,\n",
      "       6.26891024e-04, 2.50733864e-04, 1.13496920e-04, 7.20451067e-04,\n",
      "       3.66644534e-04, 3.58797272e-04, 7.07963397e-04, 1.26099097e-04,\n",
      "       5.83756564e-04, 1.85188353e-04, 5.66737382e-04, 6.23701774e-04,\n",
      "       2.53452895e-04, 5.87759462e-04, 1.33734046e-04, 7.36721996e-04,\n",
      "       2.13624931e-04, 6.92013168e-04, 1.74968012e-04, 1.24833564e-04,\n",
      "       1.19624901e-04, 1.72918893e-04, 8.83789375e-04, 7.89853119e-04,\n",
      "       1.16555565e-04, 3.29719796e-04, 1.21225792e-04, 2.64944843e-04,\n",
      "       2.39675470e-04, 1.53025848e-04, 4.91657186e-04, 3.60888891e-04]), 'param_loss': masked_array(data=['ls', 'ls', 'ls', 'ls', 'ls', 'ls', 'ls', 'ls', 'ls',\n",
      "                   'ls', 'ls', 'ls', 'ls', 'ls', 'ls', 'ls', 'ls', 'ls',\n",
      "                   'ls', 'ls', 'ls', 'ls', 'ls', 'ls', 'ls', 'ls', 'ls',\n",
      "                   'ls', 'ls', 'ls', 'ls', 'ls', 'ls', 'ls', 'ls', 'ls',\n",
      "                   'ls', 'ls', 'ls', 'ls', 'ls', 'ls', 'ls', 'ls', 'ls',\n",
      "                   'ls', 'ls', 'ls', 'ls', 'ls', 'ls', 'ls', 'ls', 'ls',\n",
      "                   'ls', 'ls', 'ls', 'ls', 'ls', 'ls'],\n",
      "             mask=[False, False, False, False, False, False, False, False,\n",
      "                   False, False, False, False, False, False, False, False,\n",
      "                   False, False, False, False, False, False, False, False,\n",
      "                   False, False, False, False, False, False, False, False,\n",
      "                   False, False, False, False, False, False, False, False,\n",
      "                   False, False, False, False, False, False, False, False,\n",
      "                   False, False, False, False, False, False, False, False,\n",
      "                   False, False, False, False],\n",
      "       fill_value='?',\n",
      "            dtype=object), 'param_max_depth': masked_array(data=[1, 1, 1, 1, 1, 1, 1, 1, 1, 1, 1, 1, 2, 2, 2, 2, 2, 2,\n",
      "                   2, 2, 2, 2, 2, 2, 3, 3, 3, 3, 3, 3, 3, 3, 3, 3, 3, 3,\n",
      "                   4, 4, 4, 4, 4, 4, 4, 4, 4, 4, 4, 4, 5, 5, 5, 5, 5, 5,\n",
      "                   5, 5, 5, 5, 5, 5],\n",
      "             mask=[False, False, False, False, False, False, False, False,\n",
      "                   False, False, False, False, False, False, False, False,\n",
      "                   False, False, False, False, False, False, False, False,\n",
      "                   False, False, False, False, False, False, False, False,\n",
      "                   False, False, False, False, False, False, False, False,\n",
      "                   False, False, False, False, False, False, False, False,\n",
      "                   False, False, False, False, False, False, False, False,\n",
      "                   False, False, False, False],\n",
      "       fill_value='?',\n",
      "            dtype=object), 'param_max_features': masked_array(data=['sqrt', 'sqrt', 'sqrt', 'sqrt', 'sqrt', 'sqrt', 'sqrt',\n",
      "                   'sqrt', 'sqrt', 'sqrt', 'sqrt', 'sqrt', 'sqrt', 'sqrt',\n",
      "                   'sqrt', 'sqrt', 'sqrt', 'sqrt', 'sqrt', 'sqrt', 'sqrt',\n",
      "                   'sqrt', 'sqrt', 'sqrt', 'sqrt', 'sqrt', 'sqrt', 'sqrt',\n",
      "                   'sqrt', 'sqrt', 'sqrt', 'sqrt', 'sqrt', 'sqrt', 'sqrt',\n",
      "                   'sqrt', 'sqrt', 'sqrt', 'sqrt', 'sqrt', 'sqrt', 'sqrt',\n",
      "                   'sqrt', 'sqrt', 'sqrt', 'sqrt', 'sqrt', 'sqrt', 'sqrt',\n",
      "                   'sqrt', 'sqrt', 'sqrt', 'sqrt', 'sqrt', 'sqrt', 'sqrt',\n",
      "                   'sqrt', 'sqrt', 'sqrt', 'sqrt'],\n",
      "             mask=[False, False, False, False, False, False, False, False,\n",
      "                   False, False, False, False, False, False, False, False,\n",
      "                   False, False, False, False, False, False, False, False,\n",
      "                   False, False, False, False, False, False, False, False,\n",
      "                   False, False, False, False, False, False, False, False,\n",
      "                   False, False, False, False, False, False, False, False,\n",
      "                   False, False, False, False, False, False, False, False,\n",
      "                   False, False, False, False],\n",
      "       fill_value='?',\n",
      "            dtype=object), 'param_n_estimators': masked_array(data=[500, 500, 500, 500, 600, 600, 600, 600, 700, 700, 700,\n",
      "                   700, 500, 500, 500, 500, 600, 600, 600, 600, 700, 700,\n",
      "                   700, 700, 500, 500, 500, 500, 600, 600, 600, 600, 700,\n",
      "                   700, 700, 700, 500, 500, 500, 500, 600, 600, 600, 600,\n",
      "                   700, 700, 700, 700, 500, 500, 500, 500, 600, 600, 600,\n",
      "                   600, 700, 700, 700, 700],\n",
      "             mask=[False, False, False, False, False, False, False, False,\n",
      "                   False, False, False, False, False, False, False, False,\n",
      "                   False, False, False, False, False, False, False, False,\n",
      "                   False, False, False, False, False, False, False, False,\n",
      "                   False, False, False, False, False, False, False, False,\n",
      "                   False, False, False, False, False, False, False, False,\n",
      "                   False, False, False, False, False, False, False, False,\n",
      "                   False, False, False, False],\n",
      "       fill_value='?',\n",
      "            dtype=object), 'param_subsample': masked_array(data=[1, 0.9, 0.8, 0.7, 1, 0.9, 0.8, 0.7, 1, 0.9, 0.8, 0.7,\n",
      "                   1, 0.9, 0.8, 0.7, 1, 0.9, 0.8, 0.7, 1, 0.9, 0.8, 0.7,\n",
      "                   1, 0.9, 0.8, 0.7, 1, 0.9, 0.8, 0.7, 1, 0.9, 0.8, 0.7,\n",
      "                   1, 0.9, 0.8, 0.7, 1, 0.9, 0.8, 0.7, 1, 0.9, 0.8, 0.7,\n",
      "                   1, 0.9, 0.8, 0.7, 1, 0.9, 0.8, 0.7, 1, 0.9, 0.8, 0.7],\n",
      "             mask=[False, False, False, False, False, False, False, False,\n",
      "                   False, False, False, False, False, False, False, False,\n",
      "                   False, False, False, False, False, False, False, False,\n",
      "                   False, False, False, False, False, False, False, False,\n",
      "                   False, False, False, False, False, False, False, False,\n",
      "                   False, False, False, False, False, False, False, False,\n",
      "                   False, False, False, False, False, False, False, False,\n",
      "                   False, False, False, False],\n",
      "       fill_value='?',\n",
      "            dtype=object), 'params': [{'loss': 'ls', 'max_depth': 1, 'max_features': 'sqrt', 'n_estimators': 500, 'subsample': 1}, {'loss': 'ls', 'max_depth': 1, 'max_features': 'sqrt', 'n_estimators': 500, 'subsample': 0.9}, {'loss': 'ls', 'max_depth': 1, 'max_features': 'sqrt', 'n_estimators': 500, 'subsample': 0.8}, {'loss': 'ls', 'max_depth': 1, 'max_features': 'sqrt', 'n_estimators': 500, 'subsample': 0.7}, {'loss': 'ls', 'max_depth': 1, 'max_features': 'sqrt', 'n_estimators': 600, 'subsample': 1}, {'loss': 'ls', 'max_depth': 1, 'max_features': 'sqrt', 'n_estimators': 600, 'subsample': 0.9}, {'loss': 'ls', 'max_depth': 1, 'max_features': 'sqrt', 'n_estimators': 600, 'subsample': 0.8}, {'loss': 'ls', 'max_depth': 1, 'max_features': 'sqrt', 'n_estimators': 600, 'subsample': 0.7}, {'loss': 'ls', 'max_depth': 1, 'max_features': 'sqrt', 'n_estimators': 700, 'subsample': 1}, {'loss': 'ls', 'max_depth': 1, 'max_features': 'sqrt', 'n_estimators': 700, 'subsample': 0.9}, {'loss': 'ls', 'max_depth': 1, 'max_features': 'sqrt', 'n_estimators': 700, 'subsample': 0.8}, {'loss': 'ls', 'max_depth': 1, 'max_features': 'sqrt', 'n_estimators': 700, 'subsample': 0.7}, {'loss': 'ls', 'max_depth': 2, 'max_features': 'sqrt', 'n_estimators': 500, 'subsample': 1}, {'loss': 'ls', 'max_depth': 2, 'max_features': 'sqrt', 'n_estimators': 500, 'subsample': 0.9}, {'loss': 'ls', 'max_depth': 2, 'max_features': 'sqrt', 'n_estimators': 500, 'subsample': 0.8}, {'loss': 'ls', 'max_depth': 2, 'max_features': 'sqrt', 'n_estimators': 500, 'subsample': 0.7}, {'loss': 'ls', 'max_depth': 2, 'max_features': 'sqrt', 'n_estimators': 600, 'subsample': 1}, {'loss': 'ls', 'max_depth': 2, 'max_features': 'sqrt', 'n_estimators': 600, 'subsample': 0.9}, {'loss': 'ls', 'max_depth': 2, 'max_features': 'sqrt', 'n_estimators': 600, 'subsample': 0.8}, {'loss': 'ls', 'max_depth': 2, 'max_features': 'sqrt', 'n_estimators': 600, 'subsample': 0.7}, {'loss': 'ls', 'max_depth': 2, 'max_features': 'sqrt', 'n_estimators': 700, 'subsample': 1}, {'loss': 'ls', 'max_depth': 2, 'max_features': 'sqrt', 'n_estimators': 700, 'subsample': 0.9}, {'loss': 'ls', 'max_depth': 2, 'max_features': 'sqrt', 'n_estimators': 700, 'subsample': 0.8}, {'loss': 'ls', 'max_depth': 2, 'max_features': 'sqrt', 'n_estimators': 700, 'subsample': 0.7}, {'loss': 'ls', 'max_depth': 3, 'max_features': 'sqrt', 'n_estimators': 500, 'subsample': 1}, {'loss': 'ls', 'max_depth': 3, 'max_features': 'sqrt', 'n_estimators': 500, 'subsample': 0.9}, {'loss': 'ls', 'max_depth': 3, 'max_features': 'sqrt', 'n_estimators': 500, 'subsample': 0.8}, {'loss': 'ls', 'max_depth': 3, 'max_features': 'sqrt', 'n_estimators': 500, 'subsample': 0.7}, {'loss': 'ls', 'max_depth': 3, 'max_features': 'sqrt', 'n_estimators': 600, 'subsample': 1}, {'loss': 'ls', 'max_depth': 3, 'max_features': 'sqrt', 'n_estimators': 600, 'subsample': 0.9}, {'loss': 'ls', 'max_depth': 3, 'max_features': 'sqrt', 'n_estimators': 600, 'subsample': 0.8}, {'loss': 'ls', 'max_depth': 3, 'max_features': 'sqrt', 'n_estimators': 600, 'subsample': 0.7}, {'loss': 'ls', 'max_depth': 3, 'max_features': 'sqrt', 'n_estimators': 700, 'subsample': 1}, {'loss': 'ls', 'max_depth': 3, 'max_features': 'sqrt', 'n_estimators': 700, 'subsample': 0.9}, {'loss': 'ls', 'max_depth': 3, 'max_features': 'sqrt', 'n_estimators': 700, 'subsample': 0.8}, {'loss': 'ls', 'max_depth': 3, 'max_features': 'sqrt', 'n_estimators': 700, 'subsample': 0.7}, {'loss': 'ls', 'max_depth': 4, 'max_features': 'sqrt', 'n_estimators': 500, 'subsample': 1}, {'loss': 'ls', 'max_depth': 4, 'max_features': 'sqrt', 'n_estimators': 500, 'subsample': 0.9}, {'loss': 'ls', 'max_depth': 4, 'max_features': 'sqrt', 'n_estimators': 500, 'subsample': 0.8}, {'loss': 'ls', 'max_depth': 4, 'max_features': 'sqrt', 'n_estimators': 500, 'subsample': 0.7}, {'loss': 'ls', 'max_depth': 4, 'max_features': 'sqrt', 'n_estimators': 600, 'subsample': 1}, {'loss': 'ls', 'max_depth': 4, 'max_features': 'sqrt', 'n_estimators': 600, 'subsample': 0.9}, {'loss': 'ls', 'max_depth': 4, 'max_features': 'sqrt', 'n_estimators': 600, 'subsample': 0.8}, {'loss': 'ls', 'max_depth': 4, 'max_features': 'sqrt', 'n_estimators': 600, 'subsample': 0.7}, {'loss': 'ls', 'max_depth': 4, 'max_features': 'sqrt', 'n_estimators': 700, 'subsample': 1}, {'loss': 'ls', 'max_depth': 4, 'max_features': 'sqrt', 'n_estimators': 700, 'subsample': 0.9}, {'loss': 'ls', 'max_depth': 4, 'max_features': 'sqrt', 'n_estimators': 700, 'subsample': 0.8}, {'loss': 'ls', 'max_depth': 4, 'max_features': 'sqrt', 'n_estimators': 700, 'subsample': 0.7}, {'loss': 'ls', 'max_depth': 5, 'max_features': 'sqrt', 'n_estimators': 500, 'subsample': 1}, {'loss': 'ls', 'max_depth': 5, 'max_features': 'sqrt', 'n_estimators': 500, 'subsample': 0.9}, {'loss': 'ls', 'max_depth': 5, 'max_features': 'sqrt', 'n_estimators': 500, 'subsample': 0.8}, {'loss': 'ls', 'max_depth': 5, 'max_features': 'sqrt', 'n_estimators': 500, 'subsample': 0.7}, {'loss': 'ls', 'max_depth': 5, 'max_features': 'sqrt', 'n_estimators': 600, 'subsample': 1}, {'loss': 'ls', 'max_depth': 5, 'max_features': 'sqrt', 'n_estimators': 600, 'subsample': 0.9}, {'loss': 'ls', 'max_depth': 5, 'max_features': 'sqrt', 'n_estimators': 600, 'subsample': 0.8}, {'loss': 'ls', 'max_depth': 5, 'max_features': 'sqrt', 'n_estimators': 600, 'subsample': 0.7}, {'loss': 'ls', 'max_depth': 5, 'max_features': 'sqrt', 'n_estimators': 700, 'subsample': 1}, {'loss': 'ls', 'max_depth': 5, 'max_features': 'sqrt', 'n_estimators': 700, 'subsample': 0.9}, {'loss': 'ls', 'max_depth': 5, 'max_features': 'sqrt', 'n_estimators': 700, 'subsample': 0.8}, {'loss': 'ls', 'max_depth': 5, 'max_features': 'sqrt', 'n_estimators': 700, 'subsample': 0.7}], 'split0_test_score': array([0.89421036, 0.90269284, 0.90128359, 0.90349089, 0.90176269,\n",
      "       0.89781709, 0.90799279, 0.90007356, 0.89932767, 0.90683852,\n",
      "       0.90145303, 0.90063451, 0.90054532, 0.90765937, 0.90888841,\n",
      "       0.90013872, 0.90755054, 0.91354919, 0.90814293, 0.91220399,\n",
      "       0.90211074, 0.91166103, 0.91162198, 0.90613819, 0.8972211 ,\n",
      "       0.90168474, 0.90563556, 0.89819492, 0.91502763, 0.90776545,\n",
      "       0.91485728, 0.90566939, 0.90649299, 0.90468582, 0.91077158,\n",
      "       0.90138437, 0.90446679, 0.91322144, 0.90095718, 0.9017151 ,\n",
      "       0.90027189, 0.89646963, 0.90258047, 0.90638334, 0.90110994,\n",
      "       0.89899326, 0.90323995, 0.9010375 , 0.9040307 , 0.90071531,\n",
      "       0.90012944, 0.90874269, 0.89805163, 0.90399076, 0.90995842,\n",
      "       0.89061785, 0.90041457, 0.91920862, 0.90440473, 0.90507826]), 'split1_test_score': array([0.92125001, 0.91937196, 0.91684601, 0.92314953, 0.92076568,\n",
      "       0.91547041, 0.92147031, 0.9225805 , 0.92049569, 0.92455252,\n",
      "       0.91978628, 0.92210263, 0.92681867, 0.92932097, 0.93551055,\n",
      "       0.92840956, 0.93437878, 0.93870774, 0.93225395, 0.93542701,\n",
      "       0.92719232, 0.93144692, 0.93614078, 0.92329676, 0.93174911,\n",
      "       0.92731015, 0.93157079, 0.93268858, 0.93248928, 0.92999302,\n",
      "       0.92638285, 0.92867968, 0.93600397, 0.93298052, 0.9382476 ,\n",
      "       0.92910721, 0.93385659, 0.92840622, 0.93531828, 0.9317174 ,\n",
      "       0.93514995, 0.93414938, 0.92907613, 0.92740718, 0.93264821,\n",
      "       0.93290146, 0.93117985, 0.9347009 , 0.93316914, 0.93585999,\n",
      "       0.93033276, 0.92838921, 0.92742057, 0.93336453, 0.93162111,\n",
      "       0.92648206, 0.92908852, 0.93031964, 0.92385445, 0.93256513]), 'split2_test_score': array([0.89020997, 0.87670527, 0.88478075, 0.88004088, 0.88301541,\n",
      "       0.88554139, 0.8804463 , 0.87313909, 0.88228319, 0.88429702,\n",
      "       0.88147628, 0.87582532, 0.89051865, 0.89216434, 0.89471171,\n",
      "       0.87871448, 0.88517485, 0.88549201, 0.89244983, 0.89815618,\n",
      "       0.89866097, 0.89416064, 0.88240511, 0.89708546, 0.88665951,\n",
      "       0.89854919, 0.88467302, 0.89639318, 0.88965987, 0.89704902,\n",
      "       0.89548945, 0.89567558, 0.89736084, 0.89695602, 0.88722304,\n",
      "       0.87997262, 0.88734189, 0.88128666, 0.89472998, 0.88704307,\n",
      "       0.88657099, 0.89612926, 0.89112995, 0.88797319, 0.87837483,\n",
      "       0.89435562, 0.8927737 , 0.88127828, 0.88750152, 0.89544533,\n",
      "       0.89308843, 0.87929337, 0.88398327, 0.89000457, 0.88917852,\n",
      "       0.88658911, 0.89696912, 0.89258105, 0.87499772, 0.888121  ]), 'split3_test_score': array([0.92580585, 0.92597655, 0.92608175, 0.91495664, 0.92456606,\n",
      "       0.92978879, 0.92523903, 0.92871161, 0.93163953, 0.93551295,\n",
      "       0.9332143 , 0.92895832, 0.92885571, 0.92327349, 0.9228551 ,\n",
      "       0.91655311, 0.9259203 , 0.92429995, 0.92698168, 0.92115735,\n",
      "       0.92976759, 0.92012167, 0.92722451, 0.91725718, 0.9266449 ,\n",
      "       0.92010555, 0.90143291, 0.92099595, 0.92111427, 0.91365965,\n",
      "       0.91702861, 0.9116023 , 0.92638536, 0.91769857, 0.92007725,\n",
      "       0.93085798, 0.93236261, 0.92662489, 0.90985892, 0.9264599 ,\n",
      "       0.91113966, 0.91456064, 0.92140617, 0.927117  , 0.91998983,\n",
      "       0.91119506, 0.92984247, 0.91809076, 0.91948808, 0.90508351,\n",
      "       0.91439878, 0.92149166, 0.91975255, 0.91610314, 0.90889082,\n",
      "       0.93038934, 0.92156098, 0.92460221, 0.91872508, 0.91708124]), 'split4_test_score': array([0.86289167, 0.85004515, 0.83724283, 0.86323226, 0.87189925,\n",
      "       0.85289261, 0.82361404, 0.86364514, 0.83987768, 0.85585481,\n",
      "       0.86038939, 0.85704981, 0.87955985, 0.87373697, 0.88973115,\n",
      "       0.88542946, 0.88746127, 0.8888518 , 0.88221501, 0.87248728,\n",
      "       0.87424438, 0.87604341, 0.88369914, 0.87528294, 0.88044345,\n",
      "       0.89086995, 0.8753321 , 0.8842865 , 0.88909962, 0.87959617,\n",
      "       0.88369656, 0.87919075, 0.88860033, 0.8888438 , 0.88467144,\n",
      "       0.88224582, 0.88017196, 0.8751429 , 0.88287911, 0.88392428,\n",
      "       0.8807447 , 0.88222368, 0.875732  , 0.88184221, 0.88126668,\n",
      "       0.89497553, 0.86975496, 0.88029683, 0.87846604, 0.88488942,\n",
      "       0.88713154, 0.88690694, 0.88009646, 0.88197801, 0.89155297,\n",
      "       0.871649  , 0.8842081 , 0.87823869, 0.88230048, 0.8856779 ]), 'mean_test_score': array([0.89887357, 0.89495835, 0.89324698, 0.89697404, 0.90040182,\n",
      "       0.89630206, 0.89175249, 0.89762998, 0.89472475, 0.90141116,\n",
      "       0.89926386, 0.89691412, 0.90525964, 0.90523103, 0.91033938,\n",
      "       0.90184906, 0.90809715, 0.91018014, 0.90840868, 0.90788636,\n",
      "       0.9063952 , 0.90668673, 0.9082183 , 0.90381211, 0.90454361,\n",
      "       0.90770392, 0.89972887, 0.90651182, 0.90947813, 0.90561266,\n",
      "       0.90749095, 0.90416354, 0.9109687 , 0.90823294, 0.90819818,\n",
      "       0.9047136 , 0.90763997, 0.90493642, 0.90474869, 0.90617195,\n",
      "       0.90277544, 0.90470652, 0.90398494, 0.90614458, 0.9026779 ,\n",
      "       0.90648419, 0.90535818, 0.90308086, 0.9045311 , 0.90439871,\n",
      "       0.90501619, 0.90496477, 0.9018609 , 0.9050882 , 0.90624037,\n",
      "       0.90114547, 0.90644826, 0.90899004, 0.90085649, 0.90570471]), 'std_test_score': array([0.02288035, 0.02817213, 0.03132975, 0.02225416, 0.02056761,\n",
      "       0.02642444, 0.03752045, 0.02588181, 0.03228319, 0.02862232,\n",
      "       0.02610064, 0.02723613, 0.01960391, 0.02036844, 0.01709538,\n",
      "       0.01859789, 0.01979878, 0.02043989, 0.01925834, 0.02145236,\n",
      "       0.02044817, 0.01956642, 0.02199998, 0.01688191, 0.02089442,\n",
      "       0.01372317, 0.01935759, 0.01766655, 0.01734219, 0.01681656,\n",
      "       0.0155714 , 0.01645801, 0.01771998, 0.01560597, 0.02021963,\n",
      "       0.02193891, 0.02224901, 0.02252478, 0.0176275 , 0.01972261,\n",
      "       0.01935083, 0.01794926, 0.01948599, 0.01904102, 0.02121066,\n",
      "       0.01453086, 0.02322363, 0.02108916, 0.02006735, 0.01711504,\n",
      "       0.01558829, 0.01908518, 0.01887442, 0.01835037, 0.0153092 ,\n",
      "       0.02319443, 0.0165037 , 0.02008986, 0.01935864, 0.01767235]), 'rank_test_score': array([52, 57, 59, 54, 49, 56, 60, 53, 58, 46, 51, 55, 26, 27,  2, 45, 10,\n",
      "        3,  6, 11, 19, 15,  8, 40, 35, 12, 50, 16,  4, 24, 14, 38,  1,  7,\n",
      "        9, 33, 13, 31, 32, 21, 42, 34, 39, 22, 43, 17, 25, 41, 36, 37, 29,\n",
      "       30, 44, 28, 20, 47, 18,  5, 48, 23], dtype=int32)}\n",
      "{'loss': 'ls', 'max_depth': 3, 'max_features': 'sqrt', 'n_estimators': 700, 'subsample': 1}\n",
      "0.9109686973500064\n"
     ]
    }
   ],
   "source": [
    "model = GradientBoostingRegressor()\n",
    "params = {'n_estimators': [500,600,700],\n",
    "          'max_depth':[1,2,3,4,5],\n",
    "          'max_features':['sqrt'],\n",
    "          'subsample':[1,0.9,0.8,0.7], \n",
    "          'loss':['ls']}\n",
    "\n",
    "gridGbr = GridSearchCV(model, param_grid=params, cv=5)\n",
    "gridGbr.fit(X, y)\n",
    "print(gridGbr.cv_results_)\n",
    "print(gridGbr.best_params_)\n",
    "print(gridGbr.best_score_)"
   ]
  },
  {
   "cell_type": "code",
   "execution_count": 15,
   "metadata": {},
   "outputs": [
    {
     "name": "stderr",
     "output_type": "stream",
     "text": [
      "/Users/baileyrusso/opt/anaconda3/lib/python3.8/site-packages/seaborn/_decorators.py:36: FutureWarning: Pass the following variables as keyword args: x, y. From version 0.12, the only valid positional argument will be `data`, and passing other arguments without an explicit keyword will result in an error or misinterpretation.\n",
      "  warnings.warn(\n"
     ]
    },
    {
     "data": {
      "text/plain": [
       "[('TotalIndoorSF', 0.1369645913024918),\n",
       " ('OverallQual', 0.11038808081322228),\n",
       " ('GarageCars', 0.09056137403369266),\n",
       " ('YearRemodAdd', 0.06801773165043663),\n",
       " ('KitchenQual', 0.06661139614976384),\n",
       " ('TotalSF', 0.05264450792834563),\n",
       " ('GrLivArea', 0.05136485115566487),\n",
       " ('BsmtQual', 0.03921513015930241),\n",
       " ('GarageArea', 0.03574131957233686),\n",
       " ('GrLivAreaHighQualitySF', 0.032815545228452606),\n",
       " ('BsmtFinSF1', 0.032257328024168606),\n",
       " ('YearBuilt', 0.0294599912247387),\n",
       " ('GarageYrBlt', 0.02514808269216717),\n",
       " ('1stFlrSF', 0.020476296073769537),\n",
       " ('TotalBsmtSF', 0.019438052675571284),\n",
       " ('FullBath', 0.015598507686733412),\n",
       " ('OpenPorchSF', 0.013984099208317178),\n",
       " ('MasVnrArea', 0.012543335049439783),\n",
       " ('2ndFlrSF', 0.011599104370241167),\n",
       " ('Fireplaces', 0.009969430489572283),\n",
       " ('LotArea', 0.009120114389881239),\n",
       " ('ExterQual', 0.00825804841246811),\n",
       " ('GarageType', 0.008214377862652963),\n",
       " ('GarageFinish', 0.007825436834258523),\n",
       " ('Baths', 0.007238837062896829),\n",
       " ('OverallCond', 0.007120689245930641),\n",
       " ('FireplaceQu', 0.006206030821031475),\n",
       " ('BsmtUnfSF', 0.006091773224032875),\n",
       " ('TotRmsAbvGrd', 0.004779138058286979),\n",
       " ('BsmtBaths', 0.004360932692669394),\n",
       " ('KitchenAbvGr', 0.003624850311010297),\n",
       " ('Neighborhood', 0.0033668518315289175),\n",
       " ('SaleCondition', 0.0030015623755722956),\n",
       " ('MSZoning', 0.002923343122949837),\n",
       " ('BsmtFinType1', 0.002825379619299157),\n",
       " ('LotFrontage', 0.002614943608664369),\n",
       " ('GarageCond', 0.0023906897887018145),\n",
       " ('SaleType', 0.002372201663824714),\n",
       " ('MSSubClass', 0.002121729744431893),\n",
       " ('PavedDrive', 0.0019018238610961373),\n",
       " ('Exterior1st', 0.0018953401382350058),\n",
       " ('CentralAir', 0.0018582440595890652),\n",
       " ('WoodDeckSF', 0.0017865597254904564),\n",
       " ('TotalOutdoorSF', 0.0016707288633400793),\n",
       " ('HalfBath', 0.0016598750301376481),\n",
       " ('hasFireplace', 0.0014568270106357156),\n",
       " ('BsmtFullBath', 0.001395031114964738),\n",
       " ('Functional', 0.001356923754539787),\n",
       " ('LandContour', 0.0013071238125625976),\n",
       " ('BsmtExposure', 0.001242619590106168),\n",
       " ('Condition1', 0.001206377629878386),\n",
       " ('Foundation', 0.0011653907592677707),\n",
       " ('MoSold', 0.001119536772951348),\n",
       " ('BsmtCond', 0.0011142013837561141),\n",
       " ('ScreenPorch', 0.000842677334689998),\n",
       " ('LotShape', 0.0006993913457637385),\n",
       " ('BedroomAbvGr', 0.0006717767329848267),\n",
       " ('Exterior2nd', 0.0006048164478795741),\n",
       " ('LandSlope', 0.0005393284372304305),\n",
       " ('YrSold', 0.0005300121545258104),\n",
       " ('MasVnrType', 0.0004369538943643768),\n",
       " ('HeatingQC', 0.0003636815206001858),\n",
       " ('Alley', 0.00034836105516061495),\n",
       " ('hasBeenRemodeled', 0.00031715823511177163),\n",
       " ('Fence', 0.0002754716300998173),\n",
       " ('3SsnPorch', 0.0002667911886018869),\n",
       " ('RoofStyle', 0.00026068884375029107),\n",
       " ('ExterCond', 0.0002310004396015296),\n",
       " ('EnclosedPorch', 0.0002237353322334748),\n",
       " ('HouseStyle', 0.0002192032789823698),\n",
       " ('LotConfig', 0.00020891295702495468),\n",
       " ('RoofMatl', 0.00017785492698080567),\n",
       " ('BldgType', 0.00017161601877735058),\n",
       " ('PoolArea', 0.00015328966919353633),\n",
       " ('GarageQual', 0.0001487021652367474),\n",
       " ('BsmtFinSF2', 0.0001362500195837109),\n",
       " ('hasMisc_Feature', 0.0001175815883881341),\n",
       " ('hasGarage', 0.00011548526055156421),\n",
       " ('NumFloors', 0.00011221725222500061),\n",
       " ('MiscVal', 7.963778235511859e-05),\n",
       " ('BsmtFinType2', 6.346740802341264e-05),\n",
       " ('Street', 5.087897556853435e-05),\n",
       " ('hasMasVnr', 4.909990953446791e-05),\n",
       " ('Electrical', 3.7285585952109044e-05),\n",
       " ('Condition2', 2.7407606371516733e-05),\n",
       " ('BsmtHalfBath', 2.5276220573995646e-05),\n",
       " ('PoolQC', 1.8892007810451573e-05),\n",
       " ('Utilities', 1.8623086585528648e-05),\n",
       " ('hasAlley_Access', 1.6854214110345944e-05),\n",
       " ('MiscFeature', 1.6645337405117572e-05),\n",
       " ('LowQualFinSF', 1.1275745040403105e-05),\n",
       " ('hasFence', 8.526331738253064e-06),\n",
       " ('Heating', 7.490608174684775e-06),\n",
       " ('hasBsmt', 3.391786141259646e-06),\n",
       " ('hasPool', 0.0)]"
      ]
     },
     "execution_count": 15,
     "metadata": {},
     "output_type": "execute_result"
    },
    {
     "data": {
      "image/png": "[encoded data removed]",
      "text/plain": [
       "<Figure size 936x648 with 1 Axes>"
      ]
     },
     "metadata": {
      "needs_background": "light"
     },
     "output_type": "display_data"
    }
   ],
   "source": [
    "getFeatureImportance(30, X.columns, gridGbr.best_estimator_.feature_importances_, sort='descending')"
   ]
  },
  {
   "cell_type": "code",
   "execution_count": 16,
   "metadata": {},
   "outputs": [
    {
     "data": {
      "text/plain": [
       "0.9930314379856661"
      ]
     },
     "execution_count": 16,
     "metadata": {},
     "output_type": "execute_result"
    }
   ],
   "source": [
    "gridGbr.score(X, y)"
   ]
  },
  {
   "cell_type": "markdown",
   "metadata": {},
   "source": [
    "# Test Predictions"
   ]
  },
  {
   "cell_type": "code",
   "execution_count": 35,
   "metadata": {},
   "outputs": [
    {
     "data": {
      "text/html": [
       "<div>\n",
       "<style scoped>\n",
       "    .dataframe tbody tr th:only-of-type {\n",
       "        vertical-align: middle;\n",
       "    }\n",
       "\n",
       "    .dataframe tbody tr th {\n",
       "        vertical-align: top;\n",
       "    }\n",
       "\n",
       "    .dataframe thead th {\n",
       "        text-align: right;\n",
       "    }\n",
       "</style>\n",
       "<table border=\"1\" class=\"dataframe\">\n",
       "  <thead>\n",
       "    <tr style=\"text-align: right;\">\n",
       "      <th></th>\n",
       "      <th>SalePrice</th>\n",
       "    </tr>\n",
       "    <tr>\n",
       "      <th>Id</th>\n",
       "      <th></th>\n",
       "    </tr>\n",
       "  </thead>\n",
       "  <tbody>\n",
       "    <tr>\n",
       "      <th>1461</th>\n",
       "      <td>127027.823437</td>\n",
       "    </tr>\n",
       "    <tr>\n",
       "      <th>1462</th>\n",
       "      <td>163735.894342</td>\n",
       "    </tr>\n",
       "    <tr>\n",
       "      <th>1463</th>\n",
       "      <td>196839.961248</td>\n",
       "    </tr>\n",
       "    <tr>\n",
       "      <th>1464</th>\n",
       "      <td>193430.624115</td>\n",
       "    </tr>\n",
       "    <tr>\n",
       "      <th>1465</th>\n",
       "      <td>189740.044087</td>\n",
       "    </tr>\n",
       "    <tr>\n",
       "      <th>...</th>\n",
       "      <td>...</td>\n",
       "    </tr>\n",
       "    <tr>\n",
       "      <th>2915</th>\n",
       "      <td>77901.579872</td>\n",
       "    </tr>\n",
       "    <tr>\n",
       "      <th>2916</th>\n",
       "      <td>81571.017418</td>\n",
       "    </tr>\n",
       "    <tr>\n",
       "      <th>2917</th>\n",
       "      <td>166285.147514</td>\n",
       "    </tr>\n",
       "    <tr>\n",
       "      <th>2918</th>\n",
       "      <td>119022.808627</td>\n",
       "    </tr>\n",
       "    <tr>\n",
       "      <th>2919</th>\n",
       "      <td>231411.940761</td>\n",
       "    </tr>\n",
       "  </tbody>\n",
       "</table>\n",
       "<p>1459 rows × 1 columns</p>\n",
       "</div>"
      ],
      "text/plain": [
       "          SalePrice\n",
       "Id                 \n",
       "1461  127027.823437\n",
       "1462  163735.894342\n",
       "1463  196839.961248\n",
       "1464  193430.624115\n",
       "1465  189740.044087\n",
       "...             ...\n",
       "2915   77901.579872\n",
       "2916   81571.017418\n",
       "2917  166285.147514\n",
       "2918  119022.808627\n",
       "2919  231411.940761\n",
       "\n",
       "[1459 rows x 1 columns]"
      ]
     },
     "execution_count": 35,
     "metadata": {},
     "output_type": "execute_result"
    }
   ],
   "source": [
    "gridGbr_predictions = gridGbr.predict(test)\n",
    "gridGbr_predictions = pd.DataFrame(gridGbr_predictions)\n",
    "gridGbr_predictions.index = gridGbr_predictions.index + 1461\n",
    "gridGbr_predictions = gridGbr_predictions.rename(columns={0:'SalePrice'})\n",
    "gridGbr_predictions = gridGbr_predictions.rename_axis('Id')\n"
   ]
  },
  {
   "cell_type": "code",
   "execution_count": 36,
   "metadata": {},
   "outputs": [],
   "source": [
    "#gridGbr_predictions.to_csv('submission12.csv')"
   ]
  },
  {
   "cell_type": "code",
   "execution_count": null,
   "metadata": {},
   "outputs": [],
   "source": []
  }
 ],
 "metadata": {
  "kernelspec": {
   "display_name": "Python 3",
   "language": "python",
   "name": "python3"
  },
  "language_info": {
   "codemirror_mode": {
    "name": "ipython",
    "version": 3
   },
   "file_extension": ".py",
   "mimetype": "text/x-python",
   "name": "python",
   "nbconvert_exporter": "python",
   "pygments_lexer": "ipython3",
   "version": "3.8.8"
  }
 },
 "nbformat": 4,
 "nbformat_minor": 4
}

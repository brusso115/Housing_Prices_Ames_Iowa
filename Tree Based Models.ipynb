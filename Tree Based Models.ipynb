{
 "cells": [
  {
   "cell_type": "code",
   "execution_count": 1,
   "metadata": {},
   "outputs": [],
   "source": [
    "import pandas as pd\n",
    "import numpy as np\n",
    "from sklearn.ensemble import IsolationForest, GradientBoostingRegressor, RandomForestRegressor\n",
    "from sklearn.svm import SVR\n",
    "from sklearn.model_selection import GridSearchCV\n",
    "from sklearn.preprocessing import StandardScaler\n",
    "from sklearn.linear_model import Ridge, Lasso\n",
    "from sklearn.feature_selection import SelectKBest, f_regression\n",
    "from statsmodels.stats.outliers_influence import variance_inflation_factor\n",
    "from scipy.stats import kurtosis, skew, boxcox\n",
    "from regressors import stats\n",
    "from numpy import mean\n",
    "from numpy import std\n",
    "import statsmodels.api as sm\n",
    "import matplotlib.pyplot as plt\n",
    "import seaborn as sns\n",
    "import tensorflow as tf\n",
    "from tensorflow import keras\n",
    "from tensorflow.keras import layers"
   ]
  },
  {
   "cell_type": "code",
   "execution_count": 2,
   "metadata": {},
   "outputs": [],
   "source": [
    "train = pd.read_csv('train_filled_na_ord.csv')\n",
    "test = pd.read_csv('test_filled_na_ord.csv')"
   ]
  },
  {
   "cell_type": "code",
   "execution_count": 3,
   "metadata": {},
   "outputs": [],
   "source": [
    "train.drop('Id', axis = 1, inplace=True)"
   ]
  },
  {
   "cell_type": "markdown",
   "metadata": {},
   "source": [
    "# Outlier Detection"
   ]
  },
  {
   "cell_type": "code",
   "execution_count": 4,
   "metadata": {},
   "outputs": [],
   "source": [
    "data_mean, data_std = mean(train), std(train)"
   ]
  },
  {
   "cell_type": "code",
   "execution_count": 5,
   "metadata": {},
   "outputs": [
    {
     "name": "stderr",
     "output_type": "stream",
     "text": [
      "<ipython-input-5-0ba5647624ad>:8: FutureWarning: Boolean inputs to the `inclusive` argument are deprecated infavour of `both` or `neither`.\n",
      "  m = train[col].between(lower[col], upper[col], inclusive=True)\n"
     ]
    }
   ],
   "source": [
    "cut_off = data_std * 3\n",
    "lower, upper = data_mean - cut_off, data_mean + cut_off\n",
    "\n",
    "outliers = {}\n",
    "for col in ['LotFrontage','LotArea','MasVnrArea','YearBuilt','YearRemodAdd','BsmtFinSF1','BsmtFinSF2',\n",
    "            'BsmtUnfSF','TotalBsmtSF','1stFlrSF','2ndFlrSF','GrLivArea','GarageArea','WoodDeckSF',\n",
    "           'OpenPorchSF','EnclosedPorch']:\n",
    "    m = train[col].between(lower[col], upper[col], inclusive=True)\n",
    "    outliers[col] = train[~m]\n",
    "    \n",
    "    "
   ]
  },
  {
   "cell_type": "code",
   "execution_count": 6,
   "metadata": {},
   "outputs": [
    {
     "name": "stdout",
     "output_type": "stream",
     "text": [
      "LotFrontage 15\n",
      "LotArea 13\n",
      "MasVnrArea 32\n",
      "YearBuilt 6\n",
      "YearRemodAdd 0\n",
      "BsmtFinSF1 6\n",
      "BsmtFinSF2 50\n",
      "BsmtUnfSF 11\n",
      "TotalBsmtSF 10\n",
      "1stFlrSF 12\n",
      "2ndFlrSF 4\n",
      "GrLivArea 16\n",
      "GarageArea 7\n",
      "WoodDeckSF 22\n",
      "OpenPorchSF 27\n",
      "EnclosedPorch 51\n"
     ]
    }
   ],
   "source": [
    "outlier_indices = set()\n",
    "for col in outliers:\n",
    "    print(col, len(outliers[col]))\n",
    "    for idx in list(outliers[col].index):\n",
    "        #print(idx)\n",
    "        outlier_indices.add(idx)\n",
    "        "
   ]
  },
  {
   "cell_type": "code",
   "execution_count": 7,
   "metadata": {},
   "outputs": [],
   "source": [
    "train = train.drop(outlier_indices, axis=0)"
   ]
  },
  {
   "cell_type": "markdown",
   "metadata": {},
   "source": [
    "# Dropping Columns with all Zeroes"
   ]
  },
  {
   "cell_type": "code",
   "execution_count": 8,
   "metadata": {},
   "outputs": [],
   "source": [
    "allZeroCols = train.columns[(train == 0).all()].to_list()\n",
    "train = train.drop(allZeroCols, axis=1)"
   ]
  },
  {
   "cell_type": "markdown",
   "metadata": {},
   "source": [
    "# Model Testing"
   ]
  },
  {
   "cell_type": "code",
   "execution_count": 10,
   "metadata": {},
   "outputs": [],
   "source": [
    "def getFeatureImportance(num, cols, features_importances_, sort):\n",
    "    \n",
    "    feature_importances = zip(cols, features_importances_)\n",
    "    sorted_importance = sorted(list(feature_importances),key= lambda x: abs(x[1]),reverse=False if sort == 'ascending' else True)\n",
    "\n",
    "    f, ax = plt.subplots(figsize=(13, 9))\n",
    "    sns.barplot([x[0] for x in sorted_importance[:num]], [x[1] for x in sorted_importance[:num]])\n",
    "    plt.xticks(rotation=90)\n",
    "    \n",
    "    return sorted_importance"
   ]
  },
  {
   "cell_type": "code",
   "execution_count": 11,
   "metadata": {},
   "outputs": [],
   "source": [
    "X = train.loc[:, train.columns != 'SalePrice']\n",
    "y = train['SalePrice']"
   ]
  },
  {
   "cell_type": "markdown",
   "metadata": {},
   "source": [
    "## Random Forest"
   ]
  },
  {
   "cell_type": "code",
   "execution_count": 12,
   "metadata": {},
   "outputs": [
    {
     "name": "stdout",
     "output_type": "stream",
     "text": [
      "{'mean_fit_time': array([2.49039488]), 'std_fit_time': array([0.10907068]), 'mean_score_time': array([0.09655175]), 'std_score_time': array([0.01205319]), 'param_criterion': masked_array(data=['mse'],\n",
      "             mask=[False],\n",
      "       fill_value='?',\n",
      "            dtype=object), 'param_max_features': masked_array(data=['sqrt'],\n",
      "             mask=[False],\n",
      "       fill_value='?',\n",
      "            dtype=object), 'param_n_estimators': masked_array(data=[1000],\n",
      "             mask=[False],\n",
      "       fill_value='?',\n",
      "            dtype=object), 'params': [{'criterion': 'mse', 'max_features': 'sqrt', 'n_estimators': 1000}], 'split0_test_score': array([0.90167679]), 'split1_test_score': array([0.9153973]), 'split2_test_score': array([0.86556167]), 'split3_test_score': array([0.89970927]), 'split4_test_score': array([0.87032652]), 'mean_test_score': array([0.89053431]), 'std_test_score': array([0.01927947]), 'rank_test_score': array([1], dtype=int32)}\n",
      "{'criterion': 'mse', 'max_features': 'sqrt', 'n_estimators': 1000}\n",
      "0.890534309501381\n"
     ]
    }
   ],
   "source": [
    "model = RandomForestRegressor()\n",
    "params = {'n_estimators':[1000], 'max_features':['sqrt'], 'criterion':['mse']}\n",
    "gridRf = GridSearchCV(model, param_grid=params, cv=5)\n",
    "gridRf.fit(X, y)\n",
    "print(gridRf.cv_results_)\n",
    "print(gridRf.best_params_)\n",
    "print(gridRf.best_score_)"
   ]
  },
  {
   "cell_type": "code",
   "execution_count": 13,
   "metadata": {},
   "outputs": [
    {
     "name": "stderr",
     "output_type": "stream",
     "text": [
      "/Users/baileyrusso/opt/anaconda3/lib/python3.8/site-packages/seaborn/_decorators.py:36: FutureWarning: Pass the following variables as keyword args: x, y. From version 0.12, the only valid positional argument will be `data`, and passing other arguments without an explicit keyword will result in an error or misinterpretation.\n",
      "  warnings.warn(\n"
     ]
    },
    {
     "data": {
      "text/plain": [
       "[('TotalSF', 0.11200864491682172),\n",
       " ('TotalIndoorSF', 0.0963405130655997),\n",
       " ('OverallQual', 0.08707495111747582),\n",
       " ('YearBuilt', 0.051449427715442614),\n",
       " ('GrLivAreaHighQualitySF', 0.04931754308047726),\n",
       " ('ExterQual', 0.04920303728158829),\n",
       " ('GrLivArea', 0.04894058434527406),\n",
       " ('BsmtQual', 0.041938074709076),\n",
       " ('KitchenQual', 0.0366189979239426),\n",
       " ('TotalBsmtSF', 0.029137837500029466),\n",
       " ('GarageCars', 0.027757838230738796),\n",
       " ('GarageYrBlt', 0.026996650694380446),\n",
       " ('GarageArea', 0.026272821435846593),\n",
       " ('1stFlrSF', 0.022683420878011062),\n",
       " ('Baths', 0.022369625094068736),\n",
       " ('YearRemodAdd', 0.020471016186971197),\n",
       " ('FullBath', 0.019742846707548077),\n",
       " ('BsmtFinSF1', 0.018498534241296317),\n",
       " ('FireplaceQu', 0.011679508865055017),\n",
       " ('LotArea', 0.010868149622023636),\n",
       " ('2ndFlrSF', 0.010669970214202391),\n",
       " ('OpenPorchSF', 0.010300168358481483),\n",
       " ('GarageType', 0.009614821535214561),\n",
       " ('TotRmsAbvGrd', 0.009609321243097074),\n",
       " ('LotFrontage', 0.008315949559160807),\n",
       " ('Fireplaces', 0.008111998344442423),\n",
       " ('GarageFinish', 0.0069840747122106575),\n",
       " ('hasFireplace', 0.006904566933338471),\n",
       " ('BsmtUnfSF', 0.00686074640721591),\n",
       " ('MasVnrArea', 0.006715768704243711),\n",
       " ('Foundation', 0.006333459536557429),\n",
       " ('Neighborhood', 0.0061482541185312834),\n",
       " ('HeatingQC', 0.005179448225257706),\n",
       " ('TotalOutdoorSF', 0.005109758354330779),\n",
       " ('SaleCondition', 0.004702288525197245),\n",
       " ('MSSubClass', 0.004299403906210167),\n",
       " ('OverallCond', 0.004102042993861296),\n",
       " ('WoodDeckSF', 0.00402980137575423),\n",
       " ('BsmtBaths', 0.0038322266383014254),\n",
       " ('BsmtFinType1', 0.0038020401427123905),\n",
       " ('MoSold', 0.0033511873020155153),\n",
       " ('BedroomAbvGr', 0.003262075859644826),\n",
       " ('BsmtFullBath', 0.0029085975124611475),\n",
       " ('BsmtExposure', 0.002865274449389168),\n",
       " ('MSZoning', 0.002775924837267678),\n",
       " ('MasVnrType', 0.0026249265097972605),\n",
       " ('Exterior1st', 0.002590279740834213),\n",
       " ('Exterior2nd', 0.0024125316886359984),\n",
       " ('SaleType', 0.0023894808975224702),\n",
       " ('HouseStyle', 0.0021326893558203286),\n",
       " ('CentralAir', 0.0021289831156416136),\n",
       " ('HalfBath', 0.0019855145154281163),\n",
       " ('YrSold', 0.0019726140643369938),\n",
       " ('KitchenAbvGr', 0.0016242571184626948),\n",
       " ('GarageCond', 0.0015459680003798752),\n",
       " ('GarageQual', 0.0015428860393917683),\n",
       " ('RoofStyle', 0.0015262913187856764),\n",
       " ('BldgType', 0.0015248672972276176),\n",
       " ('LotShape', 0.0013570005296903568),\n",
       " ('BsmtCond', 0.0012901323479602865),\n",
       " ('NumFloors', 0.0012139955061833793),\n",
       " ('LandContour', 0.0011640131403972325),\n",
       " ('PavedDrive', 0.0009177610477939077),\n",
       " ('LotConfig', 0.0009149387741992976),\n",
       " ('ScreenPorch', 0.0009105950796124172),\n",
       " ('hasBeenRemodeled', 0.0009084581308940375),\n",
       " ('Functional', 0.0008191632334583072),\n",
       " ('ExterCond', 0.0007925096418129665),\n",
       " ('EnclosedPorch', 0.0007578086368108868),\n",
       " ('Condition1', 0.0007092238526734471),\n",
       " ('hasGarage', 0.0007065721347224407),\n",
       " ('LandSlope', 0.000630431044676425),\n",
       " ('Fence', 0.0005128532251250708),\n",
       " ('Electrical', 0.0004834798484394745),\n",
       " ('Alley', 0.00044814291116255676),\n",
       " ('BsmtHalfBath', 0.0003899840208996918),\n",
       " ('hasFence', 0.00037511798430615276),\n",
       " ('3SsnPorch', 0.000347456430188808),\n",
       " ('BsmtFinType2', 0.0003412878246688284),\n",
       " ('hasAlley_Access', 0.0003168159601845797),\n",
       " ('BsmtFinSF2', 0.0003156836974481997),\n",
       " ('hasMasVnr', 0.0002050745226010594),\n",
       " ('hasBsmt', 0.00017807398207511958),\n",
       " ('MiscVal', 0.00013754245693944667),\n",
       " ('hasMisc_Feature', 0.00012523862287517845),\n",
       " ('Heating', 0.00012243480571153033),\n",
       " ('MiscFeature', 0.00011364777678247992),\n",
       " ('RoofMatl', 0.00010311597817030165),\n",
       " ('LowQualFinSF', 7.448593616966753e-05),\n",
       " ('Condition2', 4.9069808087230154e-05),\n",
       " ('Street', 3.3699913121712524e-05),\n",
       " ('hasPool', 2.974971589088204e-05),\n",
       " ('PoolArea', 2.2027161527450938e-05),\n",
       " ('PoolQC', 1.892603876941618e-05),\n",
       " ('Utilities', 3.0052149381292795e-06)]"
      ]
     },
     "execution_count": 13,
     "metadata": {},
     "output_type": "execute_result"
    },
    {
     "data": {
      "image/png": "[encoded data removed]",
      "text/plain": [
       "<Figure size 936x648 with 1 Axes>"
      ]
     },
     "metadata": {
      "needs_background": "light"
     },
     "output_type": "display_data"
    }
   ],
   "source": [
    "getFeatureImportance(30, X.columns, gridRf.best_estimator_.feature_importances_, sort='descending')"
   ]
  },
  {
   "cell_type": "code",
   "execution_count": 14,
   "metadata": {},
   "outputs": [
    {
     "data": {
      "text/plain": [
       "0.9858074526610417"
      ]
     },
     "execution_count": 14,
     "metadata": {},
     "output_type": "execute_result"
    }
   ],
   "source": [
    "gridRf.score(X, y)"
   ]
  },
  {
   "cell_type": "markdown",
   "metadata": {},
   "source": [
    "## Gradient Boosting Regressor"
   ]
  },
  {
   "cell_type": "code",
   "execution_count": 15,
   "metadata": {},
   "outputs": [
    {
     "name": "stdout",
     "output_type": "stream",
     "text": [
      "{'mean_fit_time': array([0.16883764, 0.21984577, 0.23139219, 0.23073144, 0.24365654,\n",
      "       0.26174459, 0.26547356, 0.29721889, 0.2486166 , 0.2979918 ,\n",
      "       0.31304383, 0.2963316 , 0.24990802, 0.27479563, 0.28412757,\n",
      "       0.30054951, 0.30123296, 0.33369198, 0.35254726, 0.34181161,\n",
      "       0.34550395, 0.38947287, 0.3737782 , 0.36524329, 0.31823497,\n",
      "       0.35699334, 0.3294652 , 0.31144843, 0.37117057, 0.4126914 ,\n",
      "       0.40482759, 0.37358589, 0.456106  , 0.49449029, 0.4868278 ,\n",
      "       0.51671867, 0.42886252, 0.42891045, 0.39907856, 0.36899724,\n",
      "       0.44644113, 0.47856889, 0.47677188, 0.45735202, 0.53691292,\n",
      "       0.56870251, 0.54251914, 0.50954924, 0.44593639, 0.46310019,\n",
      "       0.44254942, 0.44627104, 0.57284079, 0.595332  , 0.55983148,\n",
      "       0.53560014, 0.67699604, 0.72121778, 0.62116723, 0.63153467]), 'std_fit_time': array([0.00304367, 0.00921869, 0.01532855, 0.01938503, 0.03040356,\n",
      "       0.01133557, 0.01998314, 0.03191835, 0.02032782, 0.0116553 ,\n",
      "       0.0250813 , 0.00471302, 0.01742777, 0.00424756, 0.0197896 ,\n",
      "       0.04760089, 0.01169252, 0.01099249, 0.04835101, 0.02606835,\n",
      "       0.00940117, 0.01034933, 0.00142517, 0.00481817, 0.00991974,\n",
      "       0.02391409, 0.0072726 , 0.00211895, 0.00239354, 0.01797125,\n",
      "       0.03032189, 0.00434937, 0.02457677, 0.03207873, 0.00668992,\n",
      "       0.03420413, 0.02011763, 0.01902335, 0.01717672, 0.01624926,\n",
      "       0.00362147, 0.00734752, 0.0102856 , 0.0170078 , 0.009005  ,\n",
      "       0.02062864, 0.0141564 , 0.00962708, 0.00234481, 0.00624072,\n",
      "       0.0076472 , 0.01759761, 0.02515814, 0.03164464, 0.01670124,\n",
      "       0.02809654, 0.0187755 , 0.03504953, 0.02016575, 0.0415924 ]), 'mean_score_time': array([0.00257387, 0.00243773, 0.0025238 , 0.00236292, 0.00340981,\n",
      "       0.00245428, 0.00248909, 0.00304503, 0.00260644, 0.00279584,\n",
      "       0.00267057, 0.0026402 , 0.00293794, 0.00279336, 0.00280414,\n",
      "       0.00316806, 0.00347929, 0.00302567, 0.00328383, 0.00340762,\n",
      "       0.00368633, 0.00336971, 0.00316973, 0.00314169, 0.00371261,\n",
      "       0.00355349, 0.00343809, 0.00346293, 0.00383244, 0.00385189,\n",
      "       0.00416484, 0.00385032, 0.004392  , 0.00432281, 0.00513139,\n",
      "       0.00536895, 0.00466175, 0.00501947, 0.00486064, 0.00485816,\n",
      "       0.00494227, 0.00550346, 0.00520496, 0.00539575, 0.00560346,\n",
      "       0.0060164 , 0.00596409, 0.00602298, 0.0053762 , 0.0056335 ,\n",
      "       0.00558162, 0.00642042, 0.00660067, 0.00713196, 0.0067122 ,\n",
      "       0.00669584, 0.00741425, 0.00735803, 0.007234  , 0.00803161]), 'std_score_time': array([5.41912321e-04, 1.97164214e-04, 3.34294599e-04, 9.84196284e-05,\n",
      "       5.76105242e-04, 5.81491135e-05, 8.69947545e-05, 6.21309163e-04,\n",
      "       6.69613170e-05, 4.22877560e-04, 2.17970626e-04, 6.43151341e-05,\n",
      "       3.83976881e-04, 6.69667497e-05, 2.28155424e-04, 4.16674742e-04,\n",
      "       5.07094098e-04, 1.64137961e-04, 3.40101060e-04, 5.32975006e-04,\n",
      "       4.98299430e-04, 4.26816874e-04, 6.94678917e-05, 9.19818013e-05,\n",
      "       2.27529354e-04, 3.89668455e-05, 5.92145745e-05, 7.25583536e-05,\n",
      "       6.31204532e-05, 1.05268107e-04, 5.18489594e-04, 1.06981963e-04,\n",
      "       5.54510169e-04, 1.39443720e-04, 7.22471093e-04, 7.25616282e-04,\n",
      "       2.14935501e-04, 9.45432507e-04, 3.05630450e-04, 3.85929991e-04,\n",
      "       1.08449020e-04, 5.48975383e-04, 1.36051711e-04, 2.19743802e-04,\n",
      "       1.95945530e-04, 3.00757174e-04, 1.93650456e-04, 7.29126583e-05,\n",
      "       6.65966897e-05, 2.15207688e-04, 1.34227754e-04, 1.04153675e-03,\n",
      "       8.48313707e-04, 7.77359565e-04, 1.31156485e-04, 1.68216269e-04,\n",
      "       2.20245483e-04, 2.54501594e-04, 1.51570670e-04, 1.36411879e-03]), 'param_loss': masked_array(data=['ls', 'ls', 'ls', 'ls', 'ls', 'ls', 'ls', 'ls', 'ls',\n",
      "                   'ls', 'ls', 'ls', 'ls', 'ls', 'ls', 'ls', 'ls', 'ls',\n",
      "                   'ls', 'ls', 'ls', 'ls', 'ls', 'ls', 'ls', 'ls', 'ls',\n",
      "                   'ls', 'ls', 'ls', 'ls', 'ls', 'ls', 'ls', 'ls', 'ls',\n",
      "                   'ls', 'ls', 'ls', 'ls', 'ls', 'ls', 'ls', 'ls', 'ls',\n",
      "                   'ls', 'ls', 'ls', 'ls', 'ls', 'ls', 'ls', 'ls', 'ls',\n",
      "                   'ls', 'ls', 'ls', 'ls', 'ls', 'ls'],\n",
      "             mask=[False, False, False, False, False, False, False, False,\n",
      "                   False, False, False, False, False, False, False, False,\n",
      "                   False, False, False, False, False, False, False, False,\n",
      "                   False, False, False, False, False, False, False, False,\n",
      "                   False, False, False, False, False, False, False, False,\n",
      "                   False, False, False, False, False, False, False, False,\n",
      "                   False, False, False, False, False, False, False, False,\n",
      "                   False, False, False, False],\n",
      "       fill_value='?',\n",
      "            dtype=object), 'param_max_depth': masked_array(data=[1, 1, 1, 1, 1, 1, 1, 1, 1, 1, 1, 1, 2, 2, 2, 2, 2, 2,\n",
      "                   2, 2, 2, 2, 2, 2, 3, 3, 3, 3, 3, 3, 3, 3, 3, 3, 3, 3,\n",
      "                   4, 4, 4, 4, 4, 4, 4, 4, 4, 4, 4, 4, 5, 5, 5, 5, 5, 5,\n",
      "                   5, 5, 5, 5, 5, 5],\n",
      "             mask=[False, False, False, False, False, False, False, False,\n",
      "                   False, False, False, False, False, False, False, False,\n",
      "                   False, False, False, False, False, False, False, False,\n",
      "                   False, False, False, False, False, False, False, False,\n",
      "                   False, False, False, False, False, False, False, False,\n",
      "                   False, False, False, False, False, False, False, False,\n",
      "                   False, False, False, False, False, False, False, False,\n",
      "                   False, False, False, False],\n",
      "       fill_value='?',\n",
      "            dtype=object), 'param_max_features': masked_array(data=['sqrt', 'sqrt', 'sqrt', 'sqrt', 'sqrt', 'sqrt', 'sqrt',\n",
      "                   'sqrt', 'sqrt', 'sqrt', 'sqrt', 'sqrt', 'sqrt', 'sqrt',\n",
      "                   'sqrt', 'sqrt', 'sqrt', 'sqrt', 'sqrt', 'sqrt', 'sqrt',\n",
      "                   'sqrt', 'sqrt', 'sqrt', 'sqrt', 'sqrt', 'sqrt', 'sqrt',\n",
      "                   'sqrt', 'sqrt', 'sqrt', 'sqrt', 'sqrt', 'sqrt', 'sqrt',\n",
      "                   'sqrt', 'sqrt', 'sqrt', 'sqrt', 'sqrt', 'sqrt', 'sqrt',\n",
      "                   'sqrt', 'sqrt', 'sqrt', 'sqrt', 'sqrt', 'sqrt', 'sqrt',\n",
      "                   'sqrt', 'sqrt', 'sqrt', 'sqrt', 'sqrt', 'sqrt', 'sqrt',\n",
      "                   'sqrt', 'sqrt', 'sqrt', 'sqrt'],\n",
      "             mask=[False, False, False, False, False, False, False, False,\n",
      "                   False, False, False, False, False, False, False, False,\n",
      "                   False, False, False, False, False, False, False, False,\n",
      "                   False, False, False, False, False, False, False, False,\n",
      "                   False, False, False, False, False, False, False, False,\n",
      "                   False, False, False, False, False, False, False, False,\n",
      "                   False, False, False, False, False, False, False, False,\n",
      "                   False, False, False, False],\n",
      "       fill_value='?',\n",
      "            dtype=object), 'param_n_estimators': masked_array(data=[500, 500, 500, 500, 600, 600, 600, 600, 700, 700, 700,\n",
      "                   700, 500, 500, 500, 500, 600, 600, 600, 600, 700, 700,\n",
      "                   700, 700, 500, 500, 500, 500, 600, 600, 600, 600, 700,\n",
      "                   700, 700, 700, 500, 500, 500, 500, 600, 600, 600, 600,\n",
      "                   700, 700, 700, 700, 500, 500, 500, 500, 600, 600, 600,\n",
      "                   600, 700, 700, 700, 700],\n",
      "             mask=[False, False, False, False, False, False, False, False,\n",
      "                   False, False, False, False, False, False, False, False,\n",
      "                   False, False, False, False, False, False, False, False,\n",
      "                   False, False, False, False, False, False, False, False,\n",
      "                   False, False, False, False, False, False, False, False,\n",
      "                   False, False, False, False, False, False, False, False,\n",
      "                   False, False, False, False, False, False, False, False,\n",
      "                   False, False, False, False],\n",
      "       fill_value='?',\n",
      "            dtype=object), 'param_subsample': masked_array(data=[1, 0.9, 0.8, 0.7, 1, 0.9, 0.8, 0.7, 1, 0.9, 0.8, 0.7,\n",
      "                   1, 0.9, 0.8, 0.7, 1, 0.9, 0.8, 0.7, 1, 0.9, 0.8, 0.7,\n",
      "                   1, 0.9, 0.8, 0.7, 1, 0.9, 0.8, 0.7, 1, 0.9, 0.8, 0.7,\n",
      "                   1, 0.9, 0.8, 0.7, 1, 0.9, 0.8, 0.7, 1, 0.9, 0.8, 0.7,\n",
      "                   1, 0.9, 0.8, 0.7, 1, 0.9, 0.8, 0.7, 1, 0.9, 0.8, 0.7],\n",
      "             mask=[False, False, False, False, False, False, False, False,\n",
      "                   False, False, False, False, False, False, False, False,\n",
      "                   False, False, False, False, False, False, False, False,\n",
      "                   False, False, False, False, False, False, False, False,\n",
      "                   False, False, False, False, False, False, False, False,\n",
      "                   False, False, False, False, False, False, False, False,\n",
      "                   False, False, False, False, False, False, False, False,\n",
      "                   False, False, False, False],\n",
      "       fill_value='?',\n",
      "            dtype=object), 'params': [{'loss': 'ls', 'max_depth': 1, 'max_features': 'sqrt', 'n_estimators': 500, 'subsample': 1}, {'loss': 'ls', 'max_depth': 1, 'max_features': 'sqrt', 'n_estimators': 500, 'subsample': 0.9}, {'loss': 'ls', 'max_depth': 1, 'max_features': 'sqrt', 'n_estimators': 500, 'subsample': 0.8}, {'loss': 'ls', 'max_depth': 1, 'max_features': 'sqrt', 'n_estimators': 500, 'subsample': 0.7}, {'loss': 'ls', 'max_depth': 1, 'max_features': 'sqrt', 'n_estimators': 600, 'subsample': 1}, {'loss': 'ls', 'max_depth': 1, 'max_features': 'sqrt', 'n_estimators': 600, 'subsample': 0.9}, {'loss': 'ls', 'max_depth': 1, 'max_features': 'sqrt', 'n_estimators': 600, 'subsample': 0.8}, {'loss': 'ls', 'max_depth': 1, 'max_features': 'sqrt', 'n_estimators': 600, 'subsample': 0.7}, {'loss': 'ls', 'max_depth': 1, 'max_features': 'sqrt', 'n_estimators': 700, 'subsample': 1}, {'loss': 'ls', 'max_depth': 1, 'max_features': 'sqrt', 'n_estimators': 700, 'subsample': 0.9}, {'loss': 'ls', 'max_depth': 1, 'max_features': 'sqrt', 'n_estimators': 700, 'subsample': 0.8}, {'loss': 'ls', 'max_depth': 1, 'max_features': 'sqrt', 'n_estimators': 700, 'subsample': 0.7}, {'loss': 'ls', 'max_depth': 2, 'max_features': 'sqrt', 'n_estimators': 500, 'subsample': 1}, {'loss': 'ls', 'max_depth': 2, 'max_features': 'sqrt', 'n_estimators': 500, 'subsample': 0.9}, {'loss': 'ls', 'max_depth': 2, 'max_features': 'sqrt', 'n_estimators': 500, 'subsample': 0.8}, {'loss': 'ls', 'max_depth': 2, 'max_features': 'sqrt', 'n_estimators': 500, 'subsample': 0.7}, {'loss': 'ls', 'max_depth': 2, 'max_features': 'sqrt', 'n_estimators': 600, 'subsample': 1}, {'loss': 'ls', 'max_depth': 2, 'max_features': 'sqrt', 'n_estimators': 600, 'subsample': 0.9}, {'loss': 'ls', 'max_depth': 2, 'max_features': 'sqrt', 'n_estimators': 600, 'subsample': 0.8}, {'loss': 'ls', 'max_depth': 2, 'max_features': 'sqrt', 'n_estimators': 600, 'subsample': 0.7}, {'loss': 'ls', 'max_depth': 2, 'max_features': 'sqrt', 'n_estimators': 700, 'subsample': 1}, {'loss': 'ls', 'max_depth': 2, 'max_features': 'sqrt', 'n_estimators': 700, 'subsample': 0.9}, {'loss': 'ls', 'max_depth': 2, 'max_features': 'sqrt', 'n_estimators': 700, 'subsample': 0.8}, {'loss': 'ls', 'max_depth': 2, 'max_features': 'sqrt', 'n_estimators': 700, 'subsample': 0.7}, {'loss': 'ls', 'max_depth': 3, 'max_features': 'sqrt', 'n_estimators': 500, 'subsample': 1}, {'loss': 'ls', 'max_depth': 3, 'max_features': 'sqrt', 'n_estimators': 500, 'subsample': 0.9}, {'loss': 'ls', 'max_depth': 3, 'max_features': 'sqrt', 'n_estimators': 500, 'subsample': 0.8}, {'loss': 'ls', 'max_depth': 3, 'max_features': 'sqrt', 'n_estimators': 500, 'subsample': 0.7}, {'loss': 'ls', 'max_depth': 3, 'max_features': 'sqrt', 'n_estimators': 600, 'subsample': 1}, {'loss': 'ls', 'max_depth': 3, 'max_features': 'sqrt', 'n_estimators': 600, 'subsample': 0.9}, {'loss': 'ls', 'max_depth': 3, 'max_features': 'sqrt', 'n_estimators': 600, 'subsample': 0.8}, {'loss': 'ls', 'max_depth': 3, 'max_features': 'sqrt', 'n_estimators': 600, 'subsample': 0.7}, {'loss': 'ls', 'max_depth': 3, 'max_features': 'sqrt', 'n_estimators': 700, 'subsample': 1}, {'loss': 'ls', 'max_depth': 3, 'max_features': 'sqrt', 'n_estimators': 700, 'subsample': 0.9}, {'loss': 'ls', 'max_depth': 3, 'max_features': 'sqrt', 'n_estimators': 700, 'subsample': 0.8}, {'loss': 'ls', 'max_depth': 3, 'max_features': 'sqrt', 'n_estimators': 700, 'subsample': 0.7}, {'loss': 'ls', 'max_depth': 4, 'max_features': 'sqrt', 'n_estimators': 500, 'subsample': 1}, {'loss': 'ls', 'max_depth': 4, 'max_features': 'sqrt', 'n_estimators': 500, 'subsample': 0.9}, {'loss': 'ls', 'max_depth': 4, 'max_features': 'sqrt', 'n_estimators': 500, 'subsample': 0.8}, {'loss': 'ls', 'max_depth': 4, 'max_features': 'sqrt', 'n_estimators': 500, 'subsample': 0.7}, {'loss': 'ls', 'max_depth': 4, 'max_features': 'sqrt', 'n_estimators': 600, 'subsample': 1}, {'loss': 'ls', 'max_depth': 4, 'max_features': 'sqrt', 'n_estimators': 600, 'subsample': 0.9}, {'loss': 'ls', 'max_depth': 4, 'max_features': 'sqrt', 'n_estimators': 600, 'subsample': 0.8}, {'loss': 'ls', 'max_depth': 4, 'max_features': 'sqrt', 'n_estimators': 600, 'subsample': 0.7}, {'loss': 'ls', 'max_depth': 4, 'max_features': 'sqrt', 'n_estimators': 700, 'subsample': 1}, {'loss': 'ls', 'max_depth': 4, 'max_features': 'sqrt', 'n_estimators': 700, 'subsample': 0.9}, {'loss': 'ls', 'max_depth': 4, 'max_features': 'sqrt', 'n_estimators': 700, 'subsample': 0.8}, {'loss': 'ls', 'max_depth': 4, 'max_features': 'sqrt', 'n_estimators': 700, 'subsample': 0.7}, {'loss': 'ls', 'max_depth': 5, 'max_features': 'sqrt', 'n_estimators': 500, 'subsample': 1}, {'loss': 'ls', 'max_depth': 5, 'max_features': 'sqrt', 'n_estimators': 500, 'subsample': 0.9}, {'loss': 'ls', 'max_depth': 5, 'max_features': 'sqrt', 'n_estimators': 500, 'subsample': 0.8}, {'loss': 'ls', 'max_depth': 5, 'max_features': 'sqrt', 'n_estimators': 500, 'subsample': 0.7}, {'loss': 'ls', 'max_depth': 5, 'max_features': 'sqrt', 'n_estimators': 600, 'subsample': 1}, {'loss': 'ls', 'max_depth': 5, 'max_features': 'sqrt', 'n_estimators': 600, 'subsample': 0.9}, {'loss': 'ls', 'max_depth': 5, 'max_features': 'sqrt', 'n_estimators': 600, 'subsample': 0.8}, {'loss': 'ls', 'max_depth': 5, 'max_features': 'sqrt', 'n_estimators': 600, 'subsample': 0.7}, {'loss': 'ls', 'max_depth': 5, 'max_features': 'sqrt', 'n_estimators': 700, 'subsample': 1}, {'loss': 'ls', 'max_depth': 5, 'max_features': 'sqrt', 'n_estimators': 700, 'subsample': 0.9}, {'loss': 'ls', 'max_depth': 5, 'max_features': 'sqrt', 'n_estimators': 700, 'subsample': 0.8}, {'loss': 'ls', 'max_depth': 5, 'max_features': 'sqrt', 'n_estimators': 700, 'subsample': 0.7}], 'split0_test_score': array([0.90289968, 0.89592374, 0.90361234, 0.90477156, 0.89293009,\n",
      "       0.89374323, 0.89365069, 0.90243222, 0.90202273, 0.90205308,\n",
      "       0.90419871, 0.89966829, 0.91154411, 0.91220734, 0.90560504,\n",
      "       0.89818164, 0.90830834, 0.90970898, 0.90883937, 0.90878489,\n",
      "       0.90278485, 0.90659323, 0.91019412, 0.9097805 , 0.90212701,\n",
      "       0.91774287, 0.89322822, 0.89163111, 0.9112237 , 0.91359417,\n",
      "       0.89846551, 0.90240177, 0.90312901, 0.89821159, 0.91116482,\n",
      "       0.90630642, 0.90649614, 0.90276959, 0.89625468, 0.90196213,\n",
      "       0.90989872, 0.90582214, 0.89337316, 0.9166342 , 0.90956118,\n",
      "       0.90599474, 0.90893286, 0.90750803, 0.89569831, 0.9017496 ,\n",
      "       0.89990911, 0.89760364, 0.90820565, 0.89775847, 0.89153865,\n",
      "       0.89969222, 0.9070868 , 0.91203367, 0.90688226, 0.90018063]), 'split1_test_score': array([0.91999725, 0.92535604, 0.92034586, 0.92104311, 0.92007835,\n",
      "       0.92020071, 0.91694277, 0.92763962, 0.92079076, 0.91789327,\n",
      "       0.91527866, 0.922588  , 0.92864608, 0.9337412 , 0.92054826,\n",
      "       0.92928305, 0.92908458, 0.930361  , 0.93671851, 0.93135926,\n",
      "       0.9294871 , 0.93055981, 0.93182537, 0.9343674 , 0.93685486,\n",
      "       0.92980343, 0.93384988, 0.93222185, 0.93502686, 0.93007296,\n",
      "       0.92620737, 0.92997708, 0.92955598, 0.92859895, 0.92172304,\n",
      "       0.93761467, 0.92907572, 0.92533961, 0.92762927, 0.92756933,\n",
      "       0.92607066, 0.92665616, 0.9323464 , 0.93562109, 0.92936941,\n",
      "       0.93033841, 0.9309231 , 0.94008279, 0.92569582, 0.92903636,\n",
      "       0.93270041, 0.93333232, 0.93521448, 0.9286453 , 0.91941722,\n",
      "       0.92739585, 0.93203553, 0.92553593, 0.9344469 , 0.92352029]), 'split2_test_score': array([0.87799012, 0.88182694, 0.88944778, 0.88217168, 0.88495809,\n",
      "       0.87425386, 0.87245476, 0.88100506, 0.89019659, 0.88739551,\n",
      "       0.88926624, 0.88293205, 0.88852096, 0.88154592, 0.89033226,\n",
      "       0.88697217, 0.90031892, 0.8843776 , 0.88499709, 0.88188669,\n",
      "       0.89006304, 0.88667422, 0.88319951, 0.88987521, 0.89277795,\n",
      "       0.88123571, 0.9084109 , 0.89576895, 0.90113892, 0.8987554 ,\n",
      "       0.88532817, 0.88732942, 0.90352498, 0.89101581, 0.89266717,\n",
      "       0.88497576, 0.88913709, 0.8931281 , 0.90054147, 0.89147215,\n",
      "       0.87760828, 0.89540723, 0.89365772, 0.87818524, 0.88682518,\n",
      "       0.88911063, 0.8919514 , 0.89861957, 0.87739104, 0.89214609,\n",
      "       0.88921222, 0.88922219, 0.87526762, 0.88305339, 0.89198401,\n",
      "       0.89003855, 0.8819776 , 0.89967533, 0.89006411, 0.89237644]), 'split3_test_score': array([0.93121706, 0.92818936, 0.92990804, 0.92228884, 0.92818963,\n",
      "       0.92344929, 0.92376221, 0.92354359, 0.93090921, 0.93441598,\n",
      "       0.92193004, 0.93198664, 0.93065424, 0.92240239, 0.91985134,\n",
      "       0.91692671, 0.92522118, 0.92334972, 0.91675255, 0.9270114 ,\n",
      "       0.90537795, 0.92355347, 0.91770623, 0.93183231, 0.90603073,\n",
      "       0.92385075, 0.92642056, 0.90964786, 0.92854194, 0.92727407,\n",
      "       0.92003465, 0.92453988, 0.91174959, 0.91911859, 0.92460601,\n",
      "       0.91663153, 0.91131354, 0.90283295, 0.90735698, 0.92277826,\n",
      "       0.92618954, 0.90692728, 0.93355877, 0.91574792, 0.90483237,\n",
      "       0.93121581, 0.91313207, 0.92897976, 0.91733959, 0.92212636,\n",
      "       0.91901883, 0.92183923, 0.91801039, 0.91152519, 0.91714494,\n",
      "       0.91550895, 0.92240251, 0.92448651, 0.915524  , 0.92015679]), 'split4_test_score': array([0.85307998, 0.85799525, 0.85382847, 0.83480269, 0.85668269,\n",
      "       0.86335042, 0.86335895, 0.85589429, 0.85603015, 0.86589545,\n",
      "       0.86175801, 0.8392652 , 0.86342944, 0.87044476, 0.8829546 ,\n",
      "       0.88193249, 0.88416998, 0.8906307 , 0.87435941, 0.88266636,\n",
      "       0.87119109, 0.88048428, 0.87644571, 0.85690706, 0.87495649,\n",
      "       0.885033  , 0.88425155, 0.86804357, 0.87735918, 0.87781718,\n",
      "       0.87696544, 0.87575174, 0.87391527, 0.8646447 , 0.88651064,\n",
      "       0.87298278, 0.86899648, 0.87839557, 0.88539606, 0.86347944,\n",
      "       0.87462784, 0.8722189 , 0.88415235, 0.88228238, 0.88079347,\n",
      "       0.88222997, 0.88454348, 0.87865664, 0.88279652, 0.88038041,\n",
      "       0.87558627, 0.90059135, 0.88195095, 0.87867826, 0.8805837 ,\n",
      "       0.89366991, 0.8784499 , 0.89621675, 0.87225669, 0.8733633 ]), 'mean_test_score': array([0.89703682, 0.89785827, 0.8994285 , 0.89301558, 0.89656777,\n",
      "       0.8949995 , 0.89403388, 0.89810296, 0.89998989, 0.90153066,\n",
      "       0.89848633, 0.89528804, 0.90455896, 0.90406832, 0.9038583 ,\n",
      "       0.90265921, 0.9094206 , 0.9076856 , 0.90433339, 0.90634172,\n",
      "       0.89978081, 0.905573  , 0.90387419, 0.9045525 , 0.90254941,\n",
      "       0.90753315, 0.90923222, 0.89946267, 0.91065812, 0.90950276,\n",
      "       0.90140023, 0.90399998, 0.90437497, 0.90031793, 0.90733434,\n",
      "       0.90370223, 0.9010038 , 0.90049316, 0.90343569, 0.90145226,\n",
      "       0.90287901, 0.90140634, 0.90741768, 0.90569417, 0.90227632,\n",
      "       0.90777791, 0.90589658, 0.91076936, 0.89978426, 0.90508776,\n",
      "       0.90328537, 0.90851775, 0.90372982, 0.89993212, 0.90013371,\n",
      "       0.90526109, 0.90439047, 0.91158964, 0.90383479, 0.90191949]), 'std_test_score': array([0.0283719 , 0.02655526, 0.02669464, 0.03251769, 0.02565746,\n",
      "       0.02399215, 0.02372908, 0.02687859, 0.02615791, 0.02374499,\n",
      "       0.02143922, 0.03287093, 0.02552959, 0.02416884, 0.01521382,\n",
      "       0.01793387, 0.01648031, 0.01787604, 0.0223413 , 0.02106017,\n",
      "       0.01915527, 0.01967377, 0.02093944, 0.02879569, 0.02022876,\n",
      "       0.02031886, 0.01888017, 0.02116147, 0.02055928, 0.01936581,\n",
      "       0.01911344, 0.02085724, 0.01799187, 0.0224358 , 0.01528902,\n",
      "       0.02288391, 0.02044396, 0.01530066, 0.01404335, 0.02314605,\n",
      "       0.02265943, 0.01775066, 0.0211313 , 0.02200562, 0.01728519,\n",
      "       0.02031086, 0.01636045, 0.02181915, 0.0189015 , 0.01818204,\n",
      "       0.0204425 , 0.01641639, 0.02235919, 0.01844011, 0.01538656,\n",
      "       0.01408588, 0.02131292, 0.01215979, 0.0213065 , 0.01848645]), 'rank_test_score': array([55, 54, 51, 60, 56, 58, 59, 53, 46, 38, 52, 57, 19, 24, 27, 34,  5,\n",
      "        9, 23, 13, 49, 16, 26, 20, 35, 10,  6, 50,  3,  4, 41, 25, 22, 44,\n",
      "       12, 30, 42, 43, 31, 39, 33, 40, 11, 15, 36,  8, 14,  2, 48, 18, 32,\n",
      "        7, 29, 47, 45, 17, 21,  1, 28, 37], dtype=int32)}\n",
      "{'loss': 'ls', 'max_depth': 5, 'max_features': 'sqrt', 'n_estimators': 700, 'subsample': 0.9}\n",
      "0.9115896392181064\n"
     ]
    }
   ],
   "source": [
    "model = GradientBoostingRegressor()\n",
    "params = {'n_estimators': [500,600,700],\n",
    "          'max_depth':[1,2,3,4,5],\n",
    "          'max_features':['sqrt'],\n",
    "          'subsample':[1,0.9,0.8,0.7], \n",
    "          'loss':['ls']}\n",
    "\n",
    "gridGbr = GridSearchCV(model, param_grid=params, cv=5)\n",
    "gridGbr.fit(X, y)\n",
    "print(gridGbr.cv_results_)\n",
    "print(gridGbr.best_params_)\n",
    "print(gridGbr.best_score_)"
   ]
  },
  {
   "cell_type": "code",
   "execution_count": 16,
   "metadata": {},
   "outputs": [
    {
     "name": "stderr",
     "output_type": "stream",
     "text": [
      "/Users/baileyrusso/opt/anaconda3/lib/python3.8/site-packages/seaborn/_decorators.py:36: FutureWarning: Pass the following variables as keyword args: x, y. From version 0.12, the only valid positional argument will be `data`, and passing other arguments without an explicit keyword will result in an error or misinterpretation.\n",
      "  warnings.warn(\n"
     ]
    },
    {
     "data": {
      "text/plain": [
       "[('YearBuilt', 0.13203243477341692),\n",
       " ('TotalIndoorSF', 0.12959817204598528),\n",
       " ('BsmtQual', 0.07027157096809938),\n",
       " ('TotalSF', 0.06952732705044298),\n",
       " ('OverallQual', 0.06741717474404807),\n",
       " ('GrLivArea', 0.0630493056957535),\n",
       " ('KitchenQual', 0.05637083394679467),\n",
       " ('GrLivAreaHighQualitySF', 0.044337088790422016),\n",
       " ('1stFlrSF', 0.037838450254054926),\n",
       " ('GarageCars', 0.030069832391718457),\n",
       " ('MasVnrArea', 0.02435309060498808),\n",
       " ('FireplaceQu', 0.02292281809720669),\n",
       " ('TotalBsmtSF', 0.017357566023919704),\n",
       " ('GarageArea', 0.016016311162349545),\n",
       " ('BsmtFinSF1', 0.015684151834438803),\n",
       " ('hasFireplace', 0.014411061223874776),\n",
       " ('GarageYrBlt', 0.011612210579874455),\n",
       " ('OverallCond', 0.00947455710269368),\n",
       " ('TotalOutdoorSF', 0.009472108569439521),\n",
       " ('YearRemodAdd', 0.00908881665499943),\n",
       " ('OpenPorchSF', 0.008844076285373544),\n",
       " ('LotArea', 0.008034608537281693),\n",
       " ('WoodDeckSF', 0.00741659581322132),\n",
       " ('Baths', 0.007239568147726559),\n",
       " ('ExterQual', 0.007128887427887103),\n",
       " ('LotFrontage', 0.0070363880044410085),\n",
       " ('SaleCondition', 0.006880597667750755),\n",
       " ('BsmtUnfSF', 0.00633590148319568),\n",
       " ('Neighborhood', 0.005494264350806285),\n",
       " ('FullBath', 0.005467343284434207),\n",
       " ('GarageType', 0.0053129719015421635),\n",
       " ('CentralAir', 0.004858608721041698),\n",
       " ('BsmtFinType1', 0.003862470647901488),\n",
       " ('GarageFinish', 0.0035440656422126124),\n",
       " ('Fireplaces', 0.003518627909242854),\n",
       " ('2ndFlrSF', 0.003489681272594432),\n",
       " ('BsmtBaths', 0.003414418580102506),\n",
       " ('BsmtFullBath', 0.0033199108304203823),\n",
       " ('MSZoning', 0.0031788482205971137),\n",
       " ('MSSubClass', 0.0030091407468097824),\n",
       " ('MoSold', 0.002990117112612881),\n",
       " ('NumFloors', 0.002762565890116573),\n",
       " ('BldgType', 0.0025805226821955986),\n",
       " ('Exterior1st', 0.002353764765177354),\n",
       " ('BsmtExposure', 0.002334400927392824),\n",
       " ('Foundation', 0.0022916075577253895),\n",
       " ('GarageCond', 0.0021479816028558713),\n",
       " ('LandContour', 0.001999511185491591),\n",
       " ('TotRmsAbvGrd', 0.0018583310257907185),\n",
       " ('HalfBath', 0.0014736918007002813),\n",
       " ('HouseStyle', 0.0013302969022114801),\n",
       " ('BedroomAbvGr', 0.0012790542704477154),\n",
       " ('BsmtCond', 0.0010432666503760843),\n",
       " ('Functional', 0.0009146407037053656),\n",
       " ('Condition1', 0.0009121910541208228),\n",
       " ('KitchenAbvGr', 0.0008034386596344036),\n",
       " ('hasMasVnr', 0.0008030936902668288),\n",
       " ('YrSold', 0.0007932139735167587),\n",
       " ('LotShape', 0.0007502443998956571),\n",
       " ('EnclosedPorch', 0.0007430363661419724),\n",
       " ('SaleType', 0.000725792609958057),\n",
       " ('Exterior2nd', 0.0007226636356244801),\n",
       " ('RoofStyle', 0.0006709023511259887),\n",
       " ('HeatingQC', 0.0006677611740415967),\n",
       " ('PavedDrive', 0.0005931721850962948),\n",
       " ('ExterCond', 0.0005750790557175436),\n",
       " ('MasVnrType', 0.0005656632016661008),\n",
       " ('BsmtFinSF2', 0.000546504300523675),\n",
       " ('hasBeenRemodeled', 0.0005122583955573132),\n",
       " ('hasAlley_Access', 0.0004807068470635006),\n",
       " ('LotConfig', 0.0004730016157361924),\n",
       " ('ScreenPorch', 0.0004516881204721897),\n",
       " ('Electrical', 0.00041910834677326485),\n",
       " ('GarageQual', 0.0003870201311706141),\n",
       " ('3SsnPorch', 0.0002960219435702043),\n",
       " ('LandSlope', 0.00024947093880657974),\n",
       " ('hasFence', 0.00021278433537837296),\n",
       " ('RoofMatl', 0.00018477505430727236),\n",
       " ('BsmtFinType2', 0.00014136941581882812),\n",
       " ('BsmtHalfBath', 0.00013763627592197053),\n",
       " ('Fence', 0.00011396879931138621),\n",
       " ('Alley', 8.066153181408107e-05),\n",
       " ('Street', 6.800622138228093e-05),\n",
       " ('PoolQC', 5.79291721374642e-05),\n",
       " ('MiscVal', 5.5168704489963596e-05),\n",
       " ('hasGarage', 4.1065745159993314e-05),\n",
       " ('hasMisc_Feature', 3.361322885155906e-05),\n",
       " ('MiscFeature', 2.463748211694535e-05),\n",
       " ('PoolArea', 1.877450442238918e-05),\n",
       " ('LowQualFinSF', 1.3600419854240606e-05),\n",
       " ('hasBsmt', 1.250779390188317e-05),\n",
       " ('Heating', 6.673321410249548e-06),\n",
       " ('hasPool', 2.9689156768044926e-06),\n",
       " ('Utilities', 2.150156605163168e-07),\n",
       " ('Condition2', 0.0)]"
      ]
     },
     "execution_count": 16,
     "metadata": {},
     "output_type": "execute_result"
    },
    {
     "data": {
      "image/png": "[encoded data removed]",
      "text/plain": [
       "<Figure size 936x648 with 1 Axes>"
      ]
     },
     "metadata": {
      "needs_background": "light"
     },
     "output_type": "display_data"
    }
   ],
   "source": [
    "getFeatureImportance(30, X.columns, gridGbr.best_estimator_.feature_importances_, sort='descending')"
   ]
  },
  {
   "cell_type": "code",
   "execution_count": 17,
   "metadata": {},
   "outputs": [
    {
     "data": {
      "text/plain": [
       "0.9999269588968246"
      ]
     },
     "execution_count": 17,
     "metadata": {},
     "output_type": "execute_result"
    }
   ],
   "source": [
    "gridGbr.score(X, y)"
   ]
  }
 ],
 "metadata": {
  "kernelspec": {
   "display_name": "Python 3",
   "language": "python",
   "name": "python3"
  },
  "language_info": {
   "codemirror_mode": {
    "name": "ipython",
    "version": 3
   },
   "file_extension": ".py",
   "mimetype": "text/x-python",
   "name": "python",
   "nbconvert_exporter": "python",
   "pygments_lexer": "ipython3",
   "version": "3.8.3"
  }
 },
 "nbformat": 4,
 "nbformat_minor": 4
}

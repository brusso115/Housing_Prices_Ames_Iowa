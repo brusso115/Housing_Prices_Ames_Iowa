{
 "cells": [
  {
   "cell_type": "code",
   "execution_count": 1,
   "metadata": {},
   "outputs": [],
   "source": [
    "import pandas as pd\n",
    "import numpy as np\n",
    "from sklearn.ensemble import IsolationForest, GradientBoostingRegressor, RandomForestRegressor\n",
    "from sklearn.model_selection import GridSearchCV\n",
    "from sklearn.preprocessing import StandardScaler\n",
    "from sklearn.linear_model import Ridge, Lasso\n",
    "from sklearn.feature_selection import SelectKBest, f_regression\n",
    "from statsmodels.stats.outliers_influence import variance_inflation_factor\n",
    "from regressors import stats\n",
    "import statsmodels.api as sm\n",
    "import matplotlib.pyplot as plt\n",
    "import seaborn as sns"
   ]
  },
  {
   "cell_type": "code",
   "execution_count": 2,
   "metadata": {},
   "outputs": [],
   "source": [
    "train = pd.read_csv('train_filled_na.csv')\n",
    "train_ord = pd.read_csv('train_filled_na_ord.csv')"
   ]
  },
  {
   "cell_type": "code",
   "execution_count": 3,
   "metadata": {},
   "outputs": [],
   "source": [
    "train.drop('Id', axis = 1, inplace=True)\n",
    "train_ord.drop('Id', axis = 1, inplace=True)"
   ]
  },
  {
   "cell_type": "code",
   "execution_count": 4,
   "metadata": {},
   "outputs": [],
   "source": [
    "allZeroCols = train.columns[(train == 0).all()].to_list()\n",
    "train = train.drop(allZeroCols, axis=1)"
   ]
  },
  {
   "cell_type": "markdown",
   "metadata": {},
   "source": [
    "# Outlier Detection"
   ]
  },
  {
   "cell_type": "markdown",
   "metadata": {},
   "source": [
    "## Train w/ dummies"
   ]
  },
  {
   "cell_type": "code",
   "execution_count": 5,
   "metadata": {},
   "outputs": [],
   "source": [
    "iso = IsolationForest(contamination=0.1)\n",
    "yhat = iso.fit_predict(train)"
   ]
  },
  {
   "cell_type": "code",
   "execution_count": 6,
   "metadata": {},
   "outputs": [],
   "source": [
    "mask = yhat != -1"
   ]
  },
  {
   "cell_type": "code",
   "execution_count": 7,
   "metadata": {},
   "outputs": [],
   "source": [
    "train = train.loc[mask, :]"
   ]
  },
  {
   "cell_type": "code",
   "execution_count": 8,
   "metadata": {},
   "outputs": [],
   "source": [
    "# X = train.loc[:, train.columns != 'SalePrice']\n",
    "# y = train['SalePrice']"
   ]
  },
  {
   "cell_type": "markdown",
   "metadata": {},
   "source": [
    "## Train w/out dummies"
   ]
  },
  {
   "cell_type": "code",
   "execution_count": 9,
   "metadata": {},
   "outputs": [],
   "source": [
    "iso = IsolationForest(contamination=0.1)\n",
    "yhat = iso.fit_predict(train_ord)"
   ]
  },
  {
   "cell_type": "code",
   "execution_count": 10,
   "metadata": {},
   "outputs": [],
   "source": [
    "mask = yhat != -1"
   ]
  },
  {
   "cell_type": "code",
   "execution_count": 11,
   "metadata": {},
   "outputs": [],
   "source": [
    "train_ord = train_ord.loc[mask, :]"
   ]
  },
  {
   "cell_type": "code",
   "execution_count": 12,
   "metadata": {},
   "outputs": [],
   "source": [
    "# X = train_ord.loc[:, train_ord.columns != 'SalePrice']\n",
    "# y = train_ord['SalePrice']"
   ]
  },
  {
   "cell_type": "markdown",
   "metadata": {},
   "source": [
    "# Feature Selection"
   ]
  },
  {
   "cell_type": "markdown",
   "metadata": {},
   "source": [
    "## Select K Best"
   ]
  },
  {
   "cell_type": "code",
   "execution_count": 13,
   "metadata": {},
   "outputs": [],
   "source": [
    "def get_k_best(k, X, y):\n",
    "    k_best = SelectKBest(f_regression, k=k).fit(X, y)\n",
    "    X[X.columns[k_best.get_support()]]\n",
    "\n",
    "    k_best_scores = zip(X.columns, k_best.scores_)\n",
    "    sorted_coef_importance = sorted(list(k_best_scores),key= lambda x: x[1],reverse=True)\n",
    "    sorted_coef_importance\n",
    "    print(sorted_coef_importance)\n",
    "    f, ax = plt.subplots(figsize=(13, 9))\n",
    "    sns.barplot([x[0] for x in sorted_coef_importance[:k]], [x[1] for x in sorted_coef_importance[:k]])\n",
    "    plt.xticks(rotation=90)"
   ]
  },
  {
   "cell_type": "code",
   "execution_count": 14,
   "metadata": {},
   "outputs": [
    {
     "name": "stderr",
     "output_type": "stream",
     "text": [
      "/Users/baileyrusso/opt/anaconda3/lib/python3.8/site-packages/sklearn/feature_selection/_univariate_selection.py:302: RuntimeWarning: invalid value encountered in true_divide\n",
      "  corr /= X_norms\n",
      "/Users/baileyrusso/opt/anaconda3/lib/python3.8/site-packages/seaborn/_decorators.py:36: FutureWarning: Pass the following variables as keyword args: x, y. From version 0.12, the only valid positional argument will be `data`, and passing other arguments without an explicit keyword will result in an error or misinterpretation.\n",
      "  warnings.warn(\n"
     ]
    },
    {
     "name": "stdout",
     "output_type": "stream",
     "text": [
      "[('OverallQual', 2379.3259873381476), ('GrLivArea', 1464.7596676613002), ('GarageCars', 1023.9867868339708), ('ExterQual', 964.6106072337061), ('GarageArea', 901.4781316495879), ('TotalBsmtSF', 877.3310123807305), ('1stFlrSF', 799.2053265947969), ('BsmtQual', 734.1396278602278), ('KitchenQual', 725.6065784032852), ('FullBath', 616.7947930191245), ('YearBuilt', 594.3872179715354), ('TotRmsAbvGrd', 516.702253892171), ('YearRemodAdd', 487.97650433468374), ('Fireplaces', 333.3073596454085), ('GarageFinish', 325.13164662168384), ('MasVnrArea', 269.3947064371616), ('HeatingQC', 268.34743923869695), ('NeighborhoodDummy_NridgHt', 232.30270443282822), ('BsmtFinSF1', 199.2517621127624), ('LotFrontage', 196.48147044796585), ('MSSubClassDummy_60', 188.86512081207528), ('OpenPorchSF', 159.03455984142403), ('WoodDeckSF', 158.17303253566146), ('NeighborhoodDummy_NoRidge', 154.11038128003048), ('MSZoningDummy_RM', 148.25851174741354), ('LotArea', 141.35950878911436), ('BsmtExposure', 140.60539497096755), ('2ndFlrSF', 105.12655438900345), ('HalfBath', 97.21808080033378), ('MSSubClassDummy_30', 91.35655631031622), ('LotShapeDummy_Reg', 87.18905729693446), ('MSZoningDummy_RL', 82.75444901205061), ('BsmtFullBath', 80.20559051135507), ('GarageYrBlt', 76.29212720520475), ('BsmtUnfSF', 74.05984745133159), ('NeighborhoodDummy_NAmes', 67.16428746351671), ('NeighborhoodDummy_OldTown', 60.27520018078465), ('GarageCond', 58.31745571426405), ('GarageQual', 56.31847685790119), ('NeighborhoodDummy_Edwards', 48.2698328640182), ('Fence', 44.132125803973025), ('NeighborhoodDummy_Somerst', 37.89898104954078), ('MSSubClassDummy_50', 37.04183900236658), ('NeighborhoodDummy_StoneBr', 36.402833471299985), ('NeighborhoodDummy_IDOTRR', 32.403498491934265), ('BedroomAbvGr', 30.790832417751478), ('NeighborhoodDummy_Timber', 29.713120071177368), ('NeighborhoodDummy_BrkSide', 29.651259707174358), ('NumFloors', 28.11812422738507), ('NeighborhoodDummy_Sawyer', 27.28148374102676), ('OverallCond', 25.15285151574689), ('EnclosedPorch', 25.00905835606649), ('MSSubClassDummy_160', 23.367632422693763), ('ExterCond', 20.250552201112217), ('Condition1Dummy_Norm', 18.941487494598416), ('NeighborhoodDummy_BrDale', 18.372697599934437), ('MSZoningDummy_FV', 16.80212622318756), ('AlleyDummy_No_Alley_Access', 16.16599552437391), ('NeighborhoodDummy_MeadowV', 15.044323926515478), ('LandContourDummy_HLS', 14.992080699788293), ('LotConfigDummy_CulDSac', 13.99647348034968), ('KitchenAbvGr', 13.189374672386542), ('Condition1Dummy_Feedr', 12.382079412815386), ('NeighborhoodDummy_CollgCr', 11.157459609946024), ('MSSubClassDummy_90', 10.054351535379187), ('MSSubClassDummy_45', 9.443823498319938), ('NeighborhoodDummy_Veenker', 8.719661260137189), ('LotShapeDummy_IR2', 7.393806299298657), ('LandContourDummy_Low', 7.370180169646877), ('BsmtFinType1', 7.249965096945507), ('MoSold', 7.134309412492174), ('NeighborhoodDummy_Crawfor', 7.098624051668777), ('NeighborhoodDummy_SWISU', 6.503706592359586), ('NeighborhoodDummy_ClearCr', 6.4058123131215945), ('MSSubClassDummy_190', 6.338123633970671), ('ScreenPorch', 6.28927109272067), ('NeighborhoodDummy_Mitchel', 5.553110005493888), ('FireplaceQu', 5.3823555501185805), ('LowQualFinSF', 5.355281795887459), ('MSSubClassDummy_120', 4.849137976175841), ('BsmtFinType2', 4.797855298646873), ('MSZoningDummy_RH', 4.657543360868135), ('LandSlope', 4.590846914156953), ('BsmtHalfBath', 4.50449535957275), ('MSSubClassDummy_85', 4.3850891690188325), ('BsmtCond', 4.376403288276442), ('MSSubClassDummy_180', 3.8881023191172956), ('Condition1Dummy_PosA', 3.8724180036767377), ('LotConfigDummy_Inside', 3.8460583596373583), ('LandContourDummy_Lvl', 2.737801864323831), ('NeighborhoodDummy_NPkVill', 2.6446745402269207), ('NeighborhoodDummy_SawyerW', 2.2988627504363506), ('NeighborhoodDummy_Gilbert', 2.1821652564319836), ('3SsnPorch', 2.003824545252352), ('MSSubClassDummy_80', 1.735632061958632), ('MSSubClassDummy_70', 1.7246870473646319), ('LotShapeDummy_IR3', 1.5144861421224993), ('NeighborhoodDummy_NWAmes', 1.3797406557344334), ('hasBeenRemodeled', 1.1024647878569276), ('MiscVal', 0.902319243968403), ('NeighborhoodDummy_Blueste', 0.7620702604755962), ('LotConfigDummy_FR3', 0.7590378390156376), ('AlleyDummy_Pave', 0.4162995869733273), ('MSSubClassDummy_75', 0.40083102228776474), ('UtilitiesDummy_NoSeWa', 0.38063429911824387), ('StreetDummy_Pave', 0.3093365389280038), ('BsmtFinSF2', 0.21151141629745504), ('YrSold', 0.0717520518520993), ('LotConfigDummy_FR2', 0.008820644199244452), ('MSSubClassDummy_40', 0.004267683554355476), ('PoolArea', 0.003507394825807186), ('PoolQC', 0.0008397236761610854), ('Condition2Dummy_PosA', nan), ('Condition2Dummy_PosN', nan), ('Condition2Dummy_RRAe', nan), ('FoundationDummy_PConc', 487.3869763137223), ('HouseStyleDummy_2Story', 73.1048081816564), ('RoofStyleDummy_Hip', 46.856150774559715), ('RoofStyleDummy_Gable', 45.91269985205507), ('RoofMatlDummy_Membran', nan), ('RoofMatlDummy_Metal', nan), ('RoofMatlDummy_Roll', nan), ('Exterior1stDummy_AsphShn', nan), ('HeatingDummy_OthW', nan), ('HeatingDummy_Wall', nan), ('ElectricalDummy_FuseP', nan), ('GarageTypeDummy_Detchd', 252.0674313416504), ('FoundationDummy_CBlock', 225.76594097843332), ('MasVnrTypeDummy_None', 214.30113294635547), ('GarageTypeDummy_Attchd', 205.11391168960282), ('Exterior2ndDummy_VinylSd', 195.77717625104185), ('Exterior1stDummy_VinylSd', 195.19464705639876), ('MasVnrTypeDummy_Stone', 146.787292257219), ('CentralAirDummy_Y', 56.257403509696196), ('MiscFeatureDummy_TenC', nan), ('SaleTypeDummy_New', 122.82844332149907), ('SaleConditionDummy_Partial', 119.90080155114214), ('ElectricalDummy_SBrkr', 76.48731555706013), ('MasVnrTypeDummy_BrkFace', 62.61470170151539), ('GarageTypeDummy_No_Garage', 55.46674967633778), ('PavedDriveDummy_Y', 51.29400927507825), ('Exterior1stDummy_Wd Sdng', 46.48400832103945), ('SaleTypeDummy_WD', 46.12593768177194), ('GarageTypeDummy_BuiltIn', 44.09303869013157), ('Exterior1stDummy_MetalSd', 41.520618278334055), ('Exterior2ndDummy_Wd Sdng', 40.40530429971964), ('Exterior2ndDummy_MetalSd', 40.302643982990276), ('Exterior1stDummy_HdBoard', 22.87763437451561), ('FunctionalDummy_Typ', 20.904471070335898), ('Exterior2ndDummy_CmentBd', 15.439324107785211), ('ElectricalDummy_FuseF', 14.545741303046515), ('Exterior2ndDummy_HdBoard', 13.425394513551753), ('BldgTypeDummy_Twnhs', 11.803934397169233), ('Exterior1stDummy_CemntBd', 11.782867397209063), ('FoundationDummy_Slab', 11.620496117324242), ('SaleConditionDummy_Normal', 10.539971044606405), ('HouseStyleDummy_1.5Unf', 10.287235045464405), ('PavedDriveDummy_P', 10.213641155099207), ('BldgTypeDummy_Duplex', 10.054351535379187), ('HouseStyleDummy_SFoyer', 9.100798729444053), ('RoofMatlDummy_CompShg', 8.871584217518109), ('RoofMatlDummy_WdShngl', 8.643577391713361), ('FunctionalDummy_Maj2', 7.680868771731309), ('FunctionalDummy_Min1', 7.634310539544776), ('MiscFeatureDummy_No_Misc_Feature', 7.513783977159206), ('Exterior2ndDummy_Wd Shng', 6.93950800539844), ('MiscFeatureDummy_Shed', 6.914929495391967), ('BldgTypeDummy_2fmCon', 6.338123633970671), ('MasVnrTypeDummy_No_MasVnr', 5.838072510979881), ('Condition2Dummy_Norm', 5.33208573145152), ('FunctionalDummy_Min2', 4.986176355917987), ('Exterior1stDummy_WdShing', 4.724724815976409), ('SaleConditionDummy_Family', 4.513775761244678), ('Exterior2ndDummy_Other', 4.311372616257282), ('SaleTypeDummy_CWD', 3.9858919830294566), ('Exterior2ndDummy_Plywood', 3.91986040869255), ('SaleTypeDummy_Con', 3.6084950418591397), ('Condition1Dummy_RRAe', 3.4392013422349295), ('RoofMatlDummy_WdShake', 3.4074846806637455), ('Exterior1stDummy_BrkFace', 3.356218073115583), ('Exterior1stDummy_BrkComm', 3.124142241577575), ('Condition1Dummy_RRNn', 3.0594904206939475), ('FunctionalDummy_Mod', 3.0510650500433467), ('Condition2Dummy_RRNn', 2.989701685962661), ('Exterior1stDummy_Stone', 2.7756405656673557), ('ElectricalDummy_Mix', 2.767013697521499), ('HouseStyleDummy_1Story', 2.7615341439196497), ('Exterior2ndDummy_Brk Cmn', 2.6791074634764507), ('HouseStyleDummy_SLvl', 2.5510685384268603), ('GarageTypeDummy_CarPort', 2.496790212622578), ('SaleTypeDummy_Oth', 2.43452362053462), ('Condition1Dummy_PosN', 2.0889861874218236), ('Exterior2ndDummy_BrkFace', 2.0287922376466905), ('FoundationDummy_Stone', 1.9984986407934213), ('HouseStyleDummy_2.5Unf', 1.7755184723527306), ('Exterior2ndDummy_Stucco', 1.6415042265650481), ('Exterior1stDummy_ImStucc', 1.5102997329913075), ('HeatingDummy_Grav', 1.5010915821555608), ('Condition2Dummy_Feedr', 1.4879127453277365), ('RoofStyleDummy_Shed', 1.4382062375865963), ('Exterior2ndDummy_ImStucc', 1.250048774345975), ('Exterior1stDummy_CBlock', 1.2078556606748907), ('Exterior2ndDummy_CBlock', 1.2078556606748907), ('HeatingDummy_GasA', 1.0721168368674299), ('GarageTypeDummy_Basment', 0.9348203569465918), ('SaleTypeDummy_ConLI', 0.926524790393032), ('Exterior1stDummy_Stucco', 0.9200378867592978), ('SaleConditionDummy_AdjLand', 0.6201300141966889), ('FunctionalDummy_Sev', 0.5520390073764707), ('Exterior1stDummy_Plywood', 0.5171877124006838), ('MiscFeatureDummy_Othr', 0.46741612737126936), ('Condition2Dummy_RRAn', 0.39159750500657414), ('HeatingDummy_GasW', 0.34221662271715364), ('RoofMatlDummy_Tar&Grv', 0.2504226637430994), ('RoofStyleDummy_Gambrel', 0.22215903630219103), ('HouseStyleDummy_2.5Fin', 0.22141168476373638), ('Exterior2ndDummy_AsphShn', 0.21520230342855687), ('SaleTypeDummy_ConLw', 0.18512737559520084), ('Condition1Dummy_RRAn', 0.11277106833679028), ('Condition1Dummy_RRNe', 0.05942523854182941), ('BldgTypeDummy_TwnhsE', 0.03367060526923783), ('RoofStyleDummy_Mansard', 0.03042795949392544), ('FoundationDummy_Wood', 0.028252278726848306), ('Exterior2ndDummy_Stone', 0.013002197929815142), ('SaleConditionDummy_Alloca', 0.010731600535265335), ('SaleTypeDummy_ConLD', 0.00014684680712215856)]\n"
     ]
    },
    {
     "data": {
      "image/png": "[encoded data removed]",
      "text/plain": [
       "<Figure size 936x648 with 1 Axes>"
      ]
     },
     "metadata": {
      "needs_background": "light"
     },
     "output_type": "display_data"
    }
   ],
   "source": [
    "get_k_best(50, X=train.loc[:, train.columns != 'SalePrice'], y=train['SalePrice'])"
   ]
  },
  {
   "cell_type": "code",
   "execution_count": null,
   "metadata": {},
   "outputs": [],
   "source": [
    "get_k_best(50, X=train_ord.loc[:, train.columns != 'SalePrice'], y=train['SalePrice'])"
   ]
  },
  {
   "cell_type": "markdown",
   "metadata": {},
   "source": [
    "## Model Feature Selection"
   ]
  },
  {
   "cell_type": "code",
   "execution_count": null,
   "metadata": {},
   "outputs": [],
   "source": [
    "def getFeatureImportance(num, cols, features_importances_, sort):\n",
    "    \n",
    "    feature_importances = zip(cols, features_importances_)\n",
    "    sorted_importance = sorted(list(feature_importances),key= lambda x: abs(x[1]),reverse=False if sort == 'ascending' else True)\n",
    "\n",
    "    f, ax = plt.subplots(figsize=(13, 9))\n",
    "    sns.barplot([x[0] for x in sorted_importance[:num]], [x[1] for x in sorted_importance[:num]])\n",
    "    plt.xticks(rotation=90)\n",
    "    \n",
    "    return sorted_importance"
   ]
  },
  {
   "cell_type": "markdown",
   "metadata": {},
   "source": [
    "### Random Forest"
   ]
  },
  {
   "cell_type": "code",
   "execution_count": null,
   "metadata": {},
   "outputs": [],
   "source": [
    "model = RandomForestRegressor()\n",
    "params = {'n_estimators':[100], 'max_features':['auto', 'sqrt']}\n",
    "gridRf = GridSearchCV(model, param_grid=params, cv=5)\n",
    "gridRf.fit(X, y)"
   ]
  },
  {
   "cell_type": "code",
   "execution_count": null,
   "metadata": {},
   "outputs": [],
   "source": [
    "gridRf.cv_results_"
   ]
  },
  {
   "cell_type": "code",
   "execution_count": null,
   "metadata": {},
   "outputs": [],
   "source": [
    "gridRf.best_params_"
   ]
  },
  {
   "cell_type": "code",
   "execution_count": null,
   "metadata": {},
   "outputs": [],
   "source": [
    "gridRf.best_score_"
   ]
  },
  {
   "cell_type": "code",
   "execution_count": null,
   "metadata": {},
   "outputs": [],
   "source": [
    "getFeatureImportance(50, train.columns, gridRf.best_estimator_.feature_importances_, '')"
   ]
  },
  {
   "cell_type": "markdown",
   "metadata": {},
   "source": [
    "### Ridge Regression"
   ]
  },
  {
   "cell_type": "code",
   "execution_count": null,
   "metadata": {},
   "outputs": [],
   "source": [
    "scaler = StandardScaler()\n",
    "X_Scaled = scaler.fit_transform(train.loc[:, train.columns != 'SalePrice'])\n",
    "X_Scaled = pd.DataFrame(X_Scaled, columns = train.columns[train.columns != 'SalePrice'])"
   ]
  },
  {
   "cell_type": "code",
   "execution_count": null,
   "metadata": {},
   "outputs": [],
   "source": [
    "model = Ridge()\n",
    "params = {'alpha':[0.1,1,10,50,75,100,1000,2000]}\n",
    "gridRidge = GridSearchCV(model, param_grid=params, cv=5)\n",
    "gridRidge.fit(X_Scaled, y)"
   ]
  },
  {
   "cell_type": "code",
   "execution_count": null,
   "metadata": {},
   "outputs": [],
   "source": [
    "gridRidge.cv_results_"
   ]
  },
  {
   "cell_type": "code",
   "execution_count": null,
   "metadata": {},
   "outputs": [],
   "source": [
    "gridRidge.best_params_"
   ]
  },
  {
   "cell_type": "code",
   "execution_count": null,
   "metadata": {},
   "outputs": [],
   "source": [
    "gridRidge.best_score_"
   ]
  },
  {
   "cell_type": "code",
   "execution_count": null,
   "metadata": {},
   "outputs": [],
   "source": [
    "gridRidge.best_estimator_.coef_"
   ]
  },
  {
   "cell_type": "code",
   "execution_count": null,
   "metadata": {},
   "outputs": [],
   "source": [
    "getFeatureImportance(50, train.columns, gridRidge.best_estimator_.coef_,'descending')"
   ]
  },
  {
   "cell_type": "markdown",
   "metadata": {},
   "source": [
    "### Lasso Regression"
   ]
  },
  {
   "cell_type": "code",
   "execution_count": null,
   "metadata": {},
   "outputs": [],
   "source": [
    "model = Lasso()\n",
    "params = {'alpha':[0.1,1,10,50,75,100,1000,2000],'max_iter':[1000]}\n",
    "gridLasso = GridSearchCV(model, param_grid=params, cv=5)\n",
    "gridLasso.fit(X_Scaled, y)"
   ]
  },
  {
   "cell_type": "code",
   "execution_count": null,
   "metadata": {},
   "outputs": [],
   "source": [
    "gridLasso.cv_results_"
   ]
  },
  {
   "cell_type": "code",
   "execution_count": null,
   "metadata": {},
   "outputs": [],
   "source": [
    "gridLasso.best_params_"
   ]
  },
  {
   "cell_type": "code",
   "execution_count": null,
   "metadata": {},
   "outputs": [],
   "source": [
    "gridLasso.best_score_"
   ]
  },
  {
   "cell_type": "code",
   "execution_count": null,
   "metadata": {},
   "outputs": [],
   "source": [
    "getFeatureImportance(50, train.columns, gridLasso.best_estimator_.coef_, '')"
   ]
  },
  {
   "cell_type": "markdown",
   "metadata": {},
   "source": [
    "## Value Counts"
   ]
  },
  {
   "cell_type": "code",
   "execution_count": null,
   "metadata": {},
   "outputs": [],
   "source": [
    "train_org = pd.read_csv('train.csv')"
   ]
  },
  {
   "cell_type": "code",
   "execution_count": null,
   "metadata": {},
   "outputs": [],
   "source": [
    "def getValueCounts(cols, data):\n",
    "    f, axes = plt.subplots(round(len(cols)/2)+1, 2, figsize=(10,80))\n",
    "    rowIdx = 0\n",
    "    colIdx = 0\n",
    "    for col in cols:\n",
    "        if colIdx > 1:\n",
    "            rowIdx = rowIdx + 1\n",
    "            colIdx = 0\n",
    "        value_counts = data[col].value_counts()\n",
    "        ax = sns.barplot(x=value_counts.index, y=value_counts, data=data, ax=axes[rowIdx,colIdx]).set_title(col)\n",
    "        colIdx += 1\n",
    "    f.tight_layout()"
   ]
  },
  {
   "cell_type": "code",
   "execution_count": null,
   "metadata": {},
   "outputs": [],
   "source": [
    "cat_cols = train_org.columns[train_org.dtypes == 'object'] | train_org.columns[train_org.columns == 'MSSubClass']\n",
    "getValueCounts(cat_cols, train_org)"
   ]
  },
  {
   "cell_type": "code",
   "execution_count": null,
   "metadata": {},
   "outputs": [],
   "source": [
    "colsToDrop = ['BldgType','BsmtCond','BsmtFinType2','CentralAir','Condition1','Condition2','Electrical',\n",
    "              'ExterCond','Functional','GarageCond','GarageQual','Heating','LandContour','LandSlope',\n",
    "              'MiscFeature','PavedDrive','RoofMatl','Street','Utilities','SaleType','MSSubClass']"
   ]
  },
  {
   "cell_type": "code",
   "execution_count": null,
   "metadata": {},
   "outputs": [],
   "source": [
    "for col in colsToDrop:\n",
    "    train = train[train.columns.drop(list(train.filter(regex=col)))]\n"
   ]
  },
  {
   "cell_type": "code",
   "execution_count": null,
   "metadata": {},
   "outputs": [],
   "source": [
    "X = train.loc[:, train.columns != 'SalePrice']"
   ]
  },
  {
   "cell_type": "code",
   "execution_count": null,
   "metadata": {},
   "outputs": [],
   "source": [
    "scaler = StandardScaler()\n",
    "X_Scaled = scaler.fit_transform(train.loc[:, train.columns != 'SalePrice'])\n",
    "X_Scaled = pd.DataFrame(X_Scaled, columns = train.columns[train.columns != 'SalePrice'])\n",
    "y = train['SalePrice']"
   ]
  },
  {
   "cell_type": "markdown",
   "metadata": {},
   "source": [
    "## Random Forest on Subset"
   ]
  },
  {
   "cell_type": "code",
   "execution_count": null,
   "metadata": {},
   "outputs": [],
   "source": [
    "model = RandomForestRegressor()\n",
    "params = {'n_estimators':[100], 'max_features':['auto', 'sqrt']}\n",
    "gridRf = GridSearchCV(model, param_grid=params, cv=5)\n",
    "gridRf.fit(X, y)"
   ]
  },
  {
   "cell_type": "code",
   "execution_count": null,
   "metadata": {},
   "outputs": [],
   "source": [
    "gridRf.best_score_"
   ]
  },
  {
   "cell_type": "markdown",
   "metadata": {},
   "source": [
    "## Ridge on Subset"
   ]
  },
  {
   "cell_type": "code",
   "execution_count": null,
   "metadata": {},
   "outputs": [],
   "source": [
    "model = Ridge()\n",
    "params = {'alpha':[0.1,1,10,50,75,100,1000,2000],'max_iter':[1000]}\n",
    "gridRidge = GridSearchCV(model, param_grid=params, cv=5)\n",
    "gridRidge.fit(X_Scaled, y)"
   ]
  },
  {
   "cell_type": "code",
   "execution_count": null,
   "metadata": {},
   "outputs": [],
   "source": [
    "gridRidge.best_score_"
   ]
  },
  {
   "cell_type": "markdown",
   "metadata": {},
   "source": [
    "## Lasso on Subset"
   ]
  },
  {
   "cell_type": "code",
   "execution_count": null,
   "metadata": {},
   "outputs": [],
   "source": [
    "model = Lasso()\n",
    "params = {'alpha':[0.1,1,10,50,75,100,1000,2000],'max_iter':[1000]}\n",
    "gridLasso = GridSearchCV(model, param_grid=params, cv=5)\n",
    "gridLasso.fit(X_Scaled, y)"
   ]
  },
  {
   "cell_type": "code",
   "execution_count": null,
   "metadata": {},
   "outputs": [],
   "source": [
    "gridLasso.best_score_"
   ]
  },
  {
   "cell_type": "markdown",
   "metadata": {},
   "source": [
    "## Correlation between variables"
   ]
  },
  {
   "cell_type": "markdown",
   "metadata": {},
   "source": [
    "### Correlation Matrix"
   ]
  },
  {
   "cell_type": "code",
   "execution_count": null,
   "metadata": {},
   "outputs": [],
   "source": [
    "corr = X.corr()"
   ]
  },
  {
   "cell_type": "code",
   "execution_count": null,
   "metadata": {},
   "outputs": [],
   "source": [
    "def get_redundant_pairs(df):\n",
    "    '''Get diagonal and lower triangular pairs of correlation matrix'''\n",
    "    pairs_to_drop = set()\n",
    "    cols = df.columns\n",
    "    for i in range(0, df.shape[1]):\n",
    "        for j in range(0, i+1):\n",
    "            pairs_to_drop.add((cols[i], cols[j]))\n",
    "    return pairs_to_drop\n",
    "\n",
    "def get_top_abs_correlations(df, n=5):\n",
    "    au_corr = df.corr().abs().unstack()\n",
    "    labels_to_drop = get_redundant_pairs(df)\n",
    "    au_corr = au_corr.drop(labels=labels_to_drop).sort_values(ascending=False)\n",
    "    return au_corr[0:n]\n",
    "\n",
    "print(\"Top Absolute Correlations\")\n",
    "mostCorrelatedFeat = get_top_abs_correlations(corr, 1000)\n"
   ]
  },
  {
   "cell_type": "code",
   "execution_count": null,
   "metadata": {},
   "outputs": [],
   "source": [
    "mostCorrelatedFeat.head(50)"
   ]
  },
  {
   "cell_type": "code",
   "execution_count": null,
   "metadata": {},
   "outputs": [],
   "source": [
    "colsToDrop = ['Exterior2nd']\n",
    "for col in colsToDrop:\n",
    "    train = train[train.columns.drop(list(train.filter(regex=col)))]"
   ]
  },
  {
   "cell_type": "code",
   "execution_count": null,
   "metadata": {},
   "outputs": [],
   "source": [
    "X = train.loc[:, train.columns != 'SalePrice']"
   ]
  },
  {
   "cell_type": "markdown",
   "metadata": {},
   "source": [
    "### Variance Inflation Factor"
   ]
  },
  {
   "cell_type": "code",
   "execution_count": null,
   "metadata": {},
   "outputs": [],
   "source": [
    "constant = np.ones((X.shape[0], 1))\n",
    "X['constant'] = constant"
   ]
  },
  {
   "cell_type": "code",
   "execution_count": null,
   "metadata": {},
   "outputs": [],
   "source": [
    "vifs = zip(X.columns, [variance_inflation_factor(X.values, i) for i in range(len(X.columns))])"
   ]
  },
  {
   "cell_type": "code",
   "execution_count": null,
   "metadata": {},
   "outputs": [],
   "source": [
    "list(vifs)"
   ]
  },
  {
   "cell_type": "code",
   "execution_count": null,
   "metadata": {},
   "outputs": [],
   "source": [
    "X[['BsmtFinSF1','BsmtFinSF2','BsmtUnfSF','TotalBsmtSF']]"
   ]
  },
  {
   "cell_type": "code",
   "execution_count": null,
   "metadata": {},
   "outputs": [],
   "source": [
    "X[['GrLivArea','1stFlrSF','2ndFlrSF','LowQualFinSF']]"
   ]
  },
  {
   "cell_type": "code",
   "execution_count": null,
   "metadata": {},
   "outputs": [],
   "source": [
    "train = train.drop(['GrLivArea','TotalBsmtSF','OverallQual','GarageArea','PoolArea','PoolQC'], axis=1)"
   ]
  },
  {
   "cell_type": "code",
   "execution_count": null,
   "metadata": {},
   "outputs": [],
   "source": [
    "X = train.loc[:,train.columns != 'SalePrice']"
   ]
  },
  {
   "cell_type": "markdown",
   "metadata": {},
   "source": [
    "### Variance Inflation Factor on Subset"
   ]
  },
  {
   "cell_type": "code",
   "execution_count": null,
   "metadata": {},
   "outputs": [],
   "source": [
    "vifs = zip(X.columns, [variance_inflation_factor(X.values, i) for i in range(len(X.columns))])"
   ]
  },
  {
   "cell_type": "code",
   "execution_count": null,
   "metadata": {},
   "outputs": [],
   "source": [
    "list(vifs)"
   ]
  },
  {
   "cell_type": "markdown",
   "metadata": {},
   "source": [
    "### Correlation Matrix on Subset"
   ]
  },
  {
   "cell_type": "code",
   "execution_count": null,
   "metadata": {},
   "outputs": [],
   "source": [
    "corr = X.corr()"
   ]
  },
  {
   "cell_type": "code",
   "execution_count": null,
   "metadata": {},
   "outputs": [],
   "source": [
    "mostCorrelatedFeat = get_top_abs_correlations(corr, 1000)\n",
    "mostCorrelatedFeat.head(50)"
   ]
  },
  {
   "cell_type": "code",
   "execution_count": null,
   "metadata": {},
   "outputs": [],
   "source": [
    "scaler = StandardScaler()\n",
    "X_Scaled = scaler.fit_transform(train.loc[:, train.columns != 'SalePrice'])\n",
    "X_Scaled = pd.DataFrame(X_Scaled, columns = train.columns[train.columns != 'SalePrice'])\n",
    "y = train['SalePrice']"
   ]
  },
  {
   "cell_type": "code",
   "execution_count": null,
   "metadata": {},
   "outputs": [],
   "source": [
    "model = Lasso()\n",
    "params = {'alpha':[0.1,1,10,50,75,100,1000,2000],'max_iter':[1000]}\n",
    "gridLasso = GridSearchCV(model, param_grid=params, cv=5)\n",
    "gridLasso.fit(X_Scaled, y)\n"
   ]
  },
  {
   "cell_type": "code",
   "execution_count": null,
   "metadata": {},
   "outputs": [],
   "source": [
    "list(zip(X_Scaled.columns,gridLasso.best_estimator_.coef_))"
   ]
  },
  {
   "cell_type": "code",
   "execution_count": null,
   "metadata": {},
   "outputs": [],
   "source": [
    "stats.summary(gridLasso.best_estimator_, X_Scaled, y)"
   ]
  },
  {
   "cell_type": "code",
   "execution_count": null,
   "metadata": {},
   "outputs": [],
   "source": []
  }
 ],
 "metadata": {
  "kernelspec": {
   "display_name": "Python 3",
   "language": "python",
   "name": "python3"
  },
  "language_info": {
   "codemirror_mode": {
    "name": "ipython",
    "version": 3
   },
   "file_extension": ".py",
   "mimetype": "text/x-python",
   "name": "python",
   "nbconvert_exporter": "python",
   "pygments_lexer": "ipython3",
   "version": "3.8.3"
  }
 },
 "nbformat": 4,
 "nbformat_minor": 4
}

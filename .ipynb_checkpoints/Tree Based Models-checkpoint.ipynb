{
 "cells": [
  {
   "cell_type": "code",
   "execution_count": 1,
   "metadata": {},
   "outputs": [],
   "source": [
    "import pandas as pd\n",
    "import numpy as np\n",
    "from sklearn.ensemble import IsolationForest, GradientBoostingRegressor, RandomForestRegressor\n",
    "from sklearn.svm import SVR\n",
    "from sklearn.model_selection import GridSearchCV\n",
    "from sklearn.preprocessing import StandardScaler\n",
    "from sklearn.linear_model import Ridge, Lasso\n",
    "from sklearn.feature_selection import SelectKBest, f_regression\n",
    "from statsmodels.stats.outliers_influence import variance_inflation_factor, OLSInfluence\n",
    "from scipy.stats import kurtosis, skew, boxcox\n",
    "from regressors import stats\n",
    "from numpy import mean\n",
    "from numpy import std\n",
    "import statsmodels.api as sm\n",
    "import matplotlib.pyplot as plt\n",
    "import seaborn as sns\n",
    "import tensorflow as tf\n",
    "from tensorflow import keras\n",
    "from tensorflow.keras import layers"
   ]
  },
  {
   "cell_type": "code",
   "execution_count": 2,
   "metadata": {},
   "outputs": [],
   "source": [
    "train = pd.read_csv('./data/train_filled_na_ord.csv')\n",
    "test = pd.read_csv('./data/test_filled_na_ord.csv')"
   ]
  },
  {
   "cell_type": "code",
   "execution_count": 3,
   "metadata": {},
   "outputs": [],
   "source": [
    "train.drop('Id', axis = 1, inplace=True)\n",
    "test.drop('Id', axis = 1, inplace=True)"
   ]
  },
  {
   "cell_type": "markdown",
   "metadata": {},
   "source": [
    "# Outlier Detection"
   ]
  },
  {
   "cell_type": "code",
   "execution_count": 4,
   "metadata": {},
   "outputs": [],
   "source": [
    "scaler = StandardScaler()\n",
    "X_Scaled = scaler.fit_transform(train.loc[:, train.columns != 'SalePrice'])\n",
    "X_Scaled = pd.DataFrame(X_Scaled, columns = train.columns[train.columns != 'SalePrice'])\n",
    "y = train['SalePrice']"
   ]
  },
  {
   "cell_type": "code",
   "execution_count": 5,
   "metadata": {},
   "outputs": [],
   "source": [
    "X_sm = sm.add_constant(X_Scaled)\n",
    "model = sm.OLS(list(y),X_sm)\n",
    "results = model.fit()"
   ]
  },
  {
   "cell_type": "code",
   "execution_count": 6,
   "metadata": {},
   "outputs": [],
   "source": [
    "C, P = OLSInfluence(results).cooks_distance"
   ]
  },
  {
   "cell_type": "code",
   "execution_count": 7,
   "metadata": {},
   "outputs": [],
   "source": [
    "outliers = pd.DataFrame(C[C > 1])\n",
    "outliers.columns = [\"Cook's Distance\"]"
   ]
  },
  {
   "cell_type": "code",
   "execution_count": 8,
   "metadata": {},
   "outputs": [],
   "source": [
    "# data_mean, data_std = mean(train), std(train)"
   ]
  },
  {
   "cell_type": "code",
   "execution_count": 9,
   "metadata": {},
   "outputs": [],
   "source": [
    "# cut_off = data_std * 3\n",
    "# lower, upper = data_mean - cut_off, data_mean + cut_off\n",
    "\n",
    "# outliers = {}\n",
    "# for col in ['LotFrontage','LotArea','MasVnrArea','YearBuilt','YearRemodAdd','BsmtFinSF1','BsmtFinSF2',\n",
    "#             'BsmtUnfSF','TotalBsmtSF','1stFlrSF','2ndFlrSF','GrLivArea','GarageArea','WoodDeckSF',\n",
    "#            'OpenPorchSF','EnclosedPorch']:\n",
    "#     m = train[col].between(lower[col], upper[col], inclusive=True)\n",
    "#     outliers[col] = train[~m]\n",
    "    \n",
    "    "
   ]
  },
  {
   "cell_type": "code",
   "execution_count": 10,
   "metadata": {},
   "outputs": [],
   "source": [
    "# outlier_indices = set()\n",
    "# for col in outliers:\n",
    "#     print(col, len(outliers[col]))\n",
    "#     for idx in list(outliers[col].index):\n",
    "#         #print(idx)\n",
    "#         outlier_indices.add(idx)\n",
    "        "
   ]
  },
  {
   "cell_type": "code",
   "execution_count": 11,
   "metadata": {},
   "outputs": [],
   "source": [
    "train = train.drop(outliers.index, axis=0)"
   ]
  },
  {
   "cell_type": "markdown",
   "metadata": {},
   "source": [
    "# Dropping Columns with all Zeroes"
   ]
  },
  {
   "cell_type": "code",
   "execution_count": 12,
   "metadata": {},
   "outputs": [],
   "source": [
    "allZeroCols = train.columns[(train == 0).all()].to_list()\n",
    "train = train.drop(allZeroCols, axis=1)\n",
    "test = test.drop(allZeroCols, axis=1)"
   ]
  },
  {
   "cell_type": "markdown",
   "metadata": {},
   "source": [
    "# Model Testing"
   ]
  },
  {
   "cell_type": "code",
   "execution_count": 13,
   "metadata": {},
   "outputs": [],
   "source": [
    "def getFeatureImportance(num, cols, features_importances_, sort):\n",
    "    \n",
    "    feature_importances = zip(cols, features_importances_)\n",
    "    sorted_importance = sorted(list(feature_importances),key= lambda x: abs(x[1]),reverse=False if sort == 'ascending' else True)\n",
    "\n",
    "    f, ax = plt.subplots(figsize=(13, 9))\n",
    "    sns.barplot([x[0] for x in sorted_importance[:num]], [x[1] for x in sorted_importance[:num]])\n",
    "    plt.xticks(rotation=90)\n",
    "    \n",
    "    return sorted_importance"
   ]
  },
  {
   "cell_type": "code",
   "execution_count": 14,
   "metadata": {},
   "outputs": [],
   "source": [
    "X = train.loc[:, train.columns != 'SalePrice']\n",
    "y = train['SalePrice']"
   ]
  },
  {
   "cell_type": "markdown",
   "metadata": {},
   "source": [
    "## Random Forest"
   ]
  },
  {
   "cell_type": "code",
   "execution_count": 15,
   "metadata": {},
   "outputs": [
    {
     "name": "stdout",
     "output_type": "stream",
     "text": [
      "{'mean_fit_time': array([3.09276319]), 'std_fit_time': array([0.16991297]), 'mean_score_time': array([0.12043009]), 'std_score_time': array([0.01393595]), 'param_criterion': masked_array(data=['mse'],\n",
      "             mask=[False],\n",
      "       fill_value='?',\n",
      "            dtype=object), 'param_max_features': masked_array(data=['sqrt'],\n",
      "             mask=[False],\n",
      "       fill_value='?',\n",
      "            dtype=object), 'param_n_estimators': masked_array(data=[1000],\n",
      "             mask=[False],\n",
      "       fill_value='?',\n",
      "            dtype=object), 'params': [{'criterion': 'mse', 'max_features': 'sqrt', 'n_estimators': 1000}], 'split0_test_score': array([0.88868724]), 'split1_test_score': array([0.81142772]), 'split2_test_score': array([0.87301184]), 'split3_test_score': array([0.90054672]), 'split4_test_score': array([0.87255656]), 'mean_test_score': array([0.86924602]), 'std_test_score': array([0.03074343]), 'rank_test_score': array([1], dtype=int32)}\n",
      "{'criterion': 'mse', 'max_features': 'sqrt', 'n_estimators': 1000}\n",
      "0.869246016544672\n"
     ]
    }
   ],
   "source": [
    "model = RandomForestRegressor()\n",
    "params = {'n_estimators':[1000], 'max_features':['sqrt'], 'criterion':['mse']}\n",
    "gridRf = GridSearchCV(model, param_grid=params, cv=5)\n",
    "gridRf.fit(X, y)\n",
    "print(gridRf.cv_results_)\n",
    "print(gridRf.best_params_)\n",
    "print(gridRf.best_score_)"
   ]
  },
  {
   "cell_type": "code",
   "execution_count": 16,
   "metadata": {},
   "outputs": [
    {
     "name": "stderr",
     "output_type": "stream",
     "text": [
      "/Users/baileyrusso/opt/anaconda3/lib/python3.8/site-packages/seaborn/_decorators.py:36: FutureWarning: Pass the following variables as keyword args: x, y. From version 0.12, the only valid positional argument will be `data`, and passing other arguments without an explicit keyword will result in an error or misinterpretation.\n",
      "  warnings.warn(\n"
     ]
    },
    {
     "data": {
      "text/plain": [
       "[('TotalSF', 0.12242942896049847),\n",
       " ('TotalIndoorSF', 0.10055256092520437),\n",
       " ('GrLivAreaHighQualitySF', 0.05686401887418753),\n",
       " ('ExterQual', 0.053696778071535126),\n",
       " ('OverallQual', 0.05260044974031709),\n",
       " ('GarageCars', 0.04881362720054115),\n",
       " ('GrLivArea', 0.04376838779981662),\n",
       " ('KitchenQual', 0.03941353809326803),\n",
       " ('TotalBsmtSF', 0.03701188541467678),\n",
       " ('GarageArea', 0.034026868238153055),\n",
       " ('BsmtQual', 0.03380997972497125),\n",
       " ('YearBuilt', 0.03123565235872194),\n",
       " ('1stFlrSF', 0.028338341976981516),\n",
       " ('BsmtFinSF1', 0.021709300207901017),\n",
       " ('GarageYrBlt', 0.020608412474726497),\n",
       " ('Baths', 0.018636126180599785),\n",
       " ('YearRemodAdd', 0.017430359136545778),\n",
       " ('2ndFlrSF', 0.0156453563110194),\n",
       " ('FullBath', 0.01526881894212506),\n",
       " ('LotArea', 0.013219071191118911),\n",
       " ('MasVnrArea', 0.012629849469285226),\n",
       " ('FireplaceQu', 0.012578709686561142),\n",
       " ('Fireplaces', 0.010710679277700233),\n",
       " ('TotRmsAbvGrd', 0.009284779884978204),\n",
       " ('LotFrontage', 0.008523403565411621),\n",
       " ('hasFireplace', 0.008268743367256332),\n",
       " ('OpenPorchSF', 0.007565805184821343),\n",
       " ('Foundation', 0.007498602766809281),\n",
       " ('Neighborhood', 0.007248535998853145),\n",
       " ('GarageType', 0.0070906569999581665),\n",
       " ('BsmtUnfSF', 0.006017781607188977),\n",
       " ('TotalOutdoorSF', 0.005295280486549132),\n",
       " ('GarageFinish', 0.0049752718207058365),\n",
       " ('WoodDeckSF', 0.004308583392337867),\n",
       " ('HeatingQC', 0.004228901532365977),\n",
       " ('BsmtExposure', 0.003814005198684381),\n",
       " ('OverallCond', 0.0036908707034163254),\n",
       " ('MSSubClass', 0.00351816658386238),\n",
       " ('MoSold', 0.003474344784820187),\n",
       " ('BedroomAbvGr', 0.0033037927132580675),\n",
       " ('SaleCondition', 0.0032019444644820713),\n",
       " ('Exterior2nd', 0.0027353957696026857),\n",
       " ('BsmtBaths', 0.0027343015395182514),\n",
       " ('Exterior1st', 0.002689910509761026),\n",
       " ('BsmtFinType1', 0.00266459439520412),\n",
       " ('HalfBath', 0.0024079971359197757),\n",
       " ('MasVnrType', 0.0024075858316621778),\n",
       " ('MSZoning', 0.002268452202913393),\n",
       " ('RoofStyle', 0.0018734936421506258),\n",
       " ('YrSold', 0.0018602768668188865),\n",
       " ('BsmtFullBath', 0.0017920605247285532),\n",
       " ('HouseStyle', 0.0017857861690576946),\n",
       " ('GarageQual', 0.0017013374015674761),\n",
       " ('KitchenAbvGr', 0.0015877771684905276),\n",
       " ('LandContour', 0.0015655784782127092),\n",
       " ('CentralAir', 0.001505199039419126),\n",
       " ('SaleType', 0.0014292448748718855),\n",
       " ('LotShape', 0.0014111476529223906),\n",
       " ('BldgType', 0.0014057082815199485),\n",
       " ('LotConfig', 0.0012785417014867953),\n",
       " ('ScreenPorch', 0.0011354156656330444),\n",
       " ('GarageCond', 0.0011232851731512094),\n",
       " ('Condition1', 0.001101848248319946),\n",
       " ('RoofMatl', 0.001091189353583979),\n",
       " ('PoolArea', 0.0010856483000040288),\n",
       " ('Fence', 0.0010366232102686128),\n",
       " ('Functional', 0.001028874281324546),\n",
       " ('NumFloors', 0.001012820547398731),\n",
       " ('LandSlope', 0.0009932753621043858),\n",
       " ('PoolQC', 0.0009147300861549764),\n",
       " ('EnclosedPorch', 0.0008980352472613224),\n",
       " ('BsmtFinSF2', 0.0008373130961615185),\n",
       " ('hasBeenRemodeled', 0.0007801806078132912),\n",
       " ('BsmtCond', 0.0007716702959376276),\n",
       " ('hasPool', 0.0007631321342201011),\n",
       " ('BsmtHalfBath', 0.0007087711676386691),\n",
       " ('ExterCond', 0.0006680041268681532),\n",
       " ('BsmtFinType2', 0.0005859023785965316),\n",
       " ('hasGarage', 0.0005187654639532467),\n",
       " ('PavedDrive', 0.0004903162712156123),\n",
       " ('hasFence', 0.000487922045852097),\n",
       " ('LowQualFinSF', 0.00041883617607650094),\n",
       " ('Electrical', 0.00032758863681026237),\n",
       " ('Alley', 0.00029757489744727794),\n",
       " ('Condition2', 0.0002945824359434472),\n",
       " ('Heating', 0.00023164802121989866),\n",
       " ('hasAlley_Access', 0.0002208484414775568),\n",
       " ('3SsnPorch', 0.00020526114759243134),\n",
       " ('MiscVal', 0.0001279580688416456),\n",
       " ('MiscFeature', 0.00012058930107352544),\n",
       " ('hasBsmt', 0.00011032859747162643),\n",
       " ('hasMisc_Feature', 8.921129731020805e-05),\n",
       " ('hasMasVnr', 6.510517321489644e-05),\n",
       " ('Street', 4.468424401582147e-05)]"
      ]
     },
     "execution_count": 16,
     "metadata": {},
     "output_type": "execute_result"
    },
    {
     "data": {
      "image/png": "[encoded data removed]",
      "text/plain": [
       "<Figure size 936x648 with 1 Axes>"
      ]
     },
     "metadata": {
      "needs_background": "light"
     },
     "output_type": "display_data"
    }
   ],
   "source": [
    "getFeatureImportance(30, X.columns, gridRf.best_estimator_.feature_importances_, sort='descending')"
   ]
  },
  {
   "cell_type": "code",
   "execution_count": 17,
   "metadata": {},
   "outputs": [
    {
     "data": {
      "text/plain": [
       "0.9829589526861073"
      ]
     },
     "execution_count": 17,
     "metadata": {},
     "output_type": "execute_result"
    }
   ],
   "source": [
    "gridRf.score(X, y)"
   ]
  },
  {
   "cell_type": "markdown",
   "metadata": {},
   "source": [
    "## Gradient Boosting Regressor"
   ]
  },
  {
   "cell_type": "code",
   "execution_count": 18,
   "metadata": {},
   "outputs": [
    {
     "name": "stdout",
     "output_type": "stream",
     "text": [
      "{'mean_fit_time': array([0.21814566, 0.26459069, 0.28347921, 0.27208438, 0.25996399,\n",
      "       0.35221267, 0.3547452 , 0.30533233, 0.31070881, 0.39241104,\n",
      "       0.34090228, 0.31994858, 0.2827384 , 0.32429819, 0.30837827,\n",
      "       0.29270515, 0.36058578, 0.40388346, 0.38875141, 0.40767078,\n",
      "       0.50460644, 0.56787381, 0.49888387, 0.50610023, 0.43415604,\n",
      "       0.45477433, 0.41308846, 0.39070458, 0.49841342, 0.484235  ,\n",
      "       0.47925653, 0.43766737, 0.52724185, 0.63688259, 0.6104219 ,\n",
      "       0.58501568, 0.5424737 , 0.4943902 , 0.43305182, 0.44645696,\n",
      "       0.55416689, 0.58113022, 0.69291329, 0.53727703, 0.71958237,\n",
      "       0.77099152, 0.85460587, 0.72369528, 0.62358179, 0.60062404,\n",
      "       0.60696583, 0.6253994 , 0.76243329, 0.78775482, 0.76629524,\n",
      "       0.71740689, 0.88087349, 0.76655884, 0.70315304, 0.65248227]), 'std_fit_time': array([0.00809518, 0.02496223, 0.02810881, 0.00874558, 0.02210353,\n",
      "       0.00908897, 0.03062178, 0.01982513, 0.03707812, 0.01489259,\n",
      "       0.0250022 , 0.00961393, 0.0128414 , 0.01927224, 0.00994774,\n",
      "       0.00775333, 0.02542282, 0.0198258 , 0.01695817, 0.01130558,\n",
      "       0.01299867, 0.13366793, 0.05455443, 0.04707005, 0.03373282,\n",
      "       0.02601977, 0.02152025, 0.03022264, 0.0314016 , 0.04450111,\n",
      "       0.02921606, 0.03215832, 0.00834315, 0.07848833, 0.05837139,\n",
      "       0.06860717, 0.0394744 , 0.03730905, 0.00581395, 0.01957158,\n",
      "       0.0233811 , 0.01353161, 0.06437546, 0.02519394, 0.03922407,\n",
      "       0.02899788, 0.03107053, 0.06032497, 0.03090868, 0.03928129,\n",
      "       0.04630263, 0.03611539, 0.03516982, 0.07298869, 0.05175901,\n",
      "       0.0502525 , 0.07368541, 0.02254461, 0.00908028, 0.00429646]), 'mean_score_time': array([0.00330119, 0.00326252, 0.00327854, 0.0033926 , 0.00369778,\n",
      "       0.00352073, 0.0038003 , 0.00329404, 0.00364475, 0.00371099,\n",
      "       0.00312915, 0.0030931 , 0.00361514, 0.00335445, 0.00339622,\n",
      "       0.00322075, 0.00395265, 0.00351677, 0.00394301, 0.00396166,\n",
      "       0.00525103, 0.00460548, 0.00519819, 0.00506606, 0.00510559,\n",
      "       0.00483403, 0.00397716, 0.00448232, 0.00574927, 0.0042841 ,\n",
      "       0.00474315, 0.00450683, 0.00509439, 0.00602622, 0.00614471,\n",
      "       0.00579538, 0.00543776, 0.00533552, 0.00509624, 0.00526047,\n",
      "       0.00572529, 0.0058291 , 0.00703959, 0.00667772, 0.00661483,\n",
      "       0.00708003, 0.0088892 , 0.00720983, 0.0061409 , 0.00698218,\n",
      "       0.0066566 , 0.00752344, 0.00854206, 0.00829034, 0.00820036,\n",
      "       0.00800405, 0.00838723, 0.00753422, 0.00704999, 0.00725055]), 'std_score_time': array([6.33482147e-04, 3.50496687e-04, 2.90200579e-04, 5.38400077e-04,\n",
      "       5.18359663e-04, 4.94912569e-04, 6.65705722e-04, 4.10077888e-04,\n",
      "       5.75355090e-04, 4.07070551e-04, 2.66727448e-04, 2.90023853e-04,\n",
      "       4.55675304e-04, 1.54049297e-04, 1.44715592e-04, 1.62072833e-04,\n",
      "       4.87018761e-04, 1.47367108e-04, 4.76449604e-04, 3.21170573e-04,\n",
      "       5.78997634e-04, 3.29572493e-04, 2.08550739e-03, 6.21680395e-04,\n",
      "       7.71089528e-04, 6.28126832e-04, 1.12313382e-04, 4.01749084e-04,\n",
      "       4.62402650e-04, 8.96720644e-05, 7.94853151e-04, 2.74694750e-04,\n",
      "       4.46418009e-04, 1.01375627e-03, 8.31023140e-04, 1.09445371e-03,\n",
      "       7.05115031e-04, 6.54086646e-04, 7.08150066e-04, 7.63317149e-04,\n",
      "       7.72825792e-04, 5.32865578e-04, 7.15857720e-04, 1.10713337e-03,\n",
      "       8.67875782e-04, 8.70831873e-04, 1.59785941e-03, 8.39755568e-04,\n",
      "       7.51008797e-04, 1.01960176e-03, 1.04393030e-03, 3.81756156e-04,\n",
      "       5.08155607e-04, 1.25214614e-03, 9.20494043e-04, 7.85412329e-04,\n",
      "       9.71748463e-04, 4.34305168e-04, 1.25071523e-04, 2.62914492e-04]), 'param_loss': masked_array(data=['ls', 'ls', 'ls', 'ls', 'ls', 'ls', 'ls', 'ls', 'ls',\n",
      "                   'ls', 'ls', 'ls', 'ls', 'ls', 'ls', 'ls', 'ls', 'ls',\n",
      "                   'ls', 'ls', 'ls', 'ls', 'ls', 'ls', 'ls', 'ls', 'ls',\n",
      "                   'ls', 'ls', 'ls', 'ls', 'ls', 'ls', 'ls', 'ls', 'ls',\n",
      "                   'ls', 'ls', 'ls', 'ls', 'ls', 'ls', 'ls', 'ls', 'ls',\n",
      "                   'ls', 'ls', 'ls', 'ls', 'ls', 'ls', 'ls', 'ls', 'ls',\n",
      "                   'ls', 'ls', 'ls', 'ls', 'ls', 'ls'],\n",
      "             mask=[False, False, False, False, False, False, False, False,\n",
      "                   False, False, False, False, False, False, False, False,\n",
      "                   False, False, False, False, False, False, False, False,\n",
      "                   False, False, False, False, False, False, False, False,\n",
      "                   False, False, False, False, False, False, False, False,\n",
      "                   False, False, False, False, False, False, False, False,\n",
      "                   False, False, False, False, False, False, False, False,\n",
      "                   False, False, False, False],\n",
      "       fill_value='?',\n",
      "            dtype=object), 'param_max_depth': masked_array(data=[1, 1, 1, 1, 1, 1, 1, 1, 1, 1, 1, 1, 2, 2, 2, 2, 2, 2,\n",
      "                   2, 2, 2, 2, 2, 2, 3, 3, 3, 3, 3, 3, 3, 3, 3, 3, 3, 3,\n",
      "                   4, 4, 4, 4, 4, 4, 4, 4, 4, 4, 4, 4, 5, 5, 5, 5, 5, 5,\n",
      "                   5, 5, 5, 5, 5, 5],\n",
      "             mask=[False, False, False, False, False, False, False, False,\n",
      "                   False, False, False, False, False, False, False, False,\n",
      "                   False, False, False, False, False, False, False, False,\n",
      "                   False, False, False, False, False, False, False, False,\n",
      "                   False, False, False, False, False, False, False, False,\n",
      "                   False, False, False, False, False, False, False, False,\n",
      "                   False, False, False, False, False, False, False, False,\n",
      "                   False, False, False, False],\n",
      "       fill_value='?',\n",
      "            dtype=object), 'param_max_features': masked_array(data=['sqrt', 'sqrt', 'sqrt', 'sqrt', 'sqrt', 'sqrt', 'sqrt',\n",
      "                   'sqrt', 'sqrt', 'sqrt', 'sqrt', 'sqrt', 'sqrt', 'sqrt',\n",
      "                   'sqrt', 'sqrt', 'sqrt', 'sqrt', 'sqrt', 'sqrt', 'sqrt',\n",
      "                   'sqrt', 'sqrt', 'sqrt', 'sqrt', 'sqrt', 'sqrt', 'sqrt',\n",
      "                   'sqrt', 'sqrt', 'sqrt', 'sqrt', 'sqrt', 'sqrt', 'sqrt',\n",
      "                   'sqrt', 'sqrt', 'sqrt', 'sqrt', 'sqrt', 'sqrt', 'sqrt',\n",
      "                   'sqrt', 'sqrt', 'sqrt', 'sqrt', 'sqrt', 'sqrt', 'sqrt',\n",
      "                   'sqrt', 'sqrt', 'sqrt', 'sqrt', 'sqrt', 'sqrt', 'sqrt',\n",
      "                   'sqrt', 'sqrt', 'sqrt', 'sqrt'],\n",
      "             mask=[False, False, False, False, False, False, False, False,\n",
      "                   False, False, False, False, False, False, False, False,\n",
      "                   False, False, False, False, False, False, False, False,\n",
      "                   False, False, False, False, False, False, False, False,\n",
      "                   False, False, False, False, False, False, False, False,\n",
      "                   False, False, False, False, False, False, False, False,\n",
      "                   False, False, False, False, False, False, False, False,\n",
      "                   False, False, False, False],\n",
      "       fill_value='?',\n",
      "            dtype=object), 'param_n_estimators': masked_array(data=[500, 500, 500, 500, 600, 600, 600, 600, 700, 700, 700,\n",
      "                   700, 500, 500, 500, 500, 600, 600, 600, 600, 700, 700,\n",
      "                   700, 700, 500, 500, 500, 500, 600, 600, 600, 600, 700,\n",
      "                   700, 700, 700, 500, 500, 500, 500, 600, 600, 600, 600,\n",
      "                   700, 700, 700, 700, 500, 500, 500, 500, 600, 600, 600,\n",
      "                   600, 700, 700, 700, 700],\n",
      "             mask=[False, False, False, False, False, False, False, False,\n",
      "                   False, False, False, False, False, False, False, False,\n",
      "                   False, False, False, False, False, False, False, False,\n",
      "                   False, False, False, False, False, False, False, False,\n",
      "                   False, False, False, False, False, False, False, False,\n",
      "                   False, False, False, False, False, False, False, False,\n",
      "                   False, False, False, False, False, False, False, False,\n",
      "                   False, False, False, False],\n",
      "       fill_value='?',\n",
      "            dtype=object), 'param_subsample': masked_array(data=[1, 0.9, 0.8, 0.7, 1, 0.9, 0.8, 0.7, 1, 0.9, 0.8, 0.7,\n",
      "                   1, 0.9, 0.8, 0.7, 1, 0.9, 0.8, 0.7, 1, 0.9, 0.8, 0.7,\n",
      "                   1, 0.9, 0.8, 0.7, 1, 0.9, 0.8, 0.7, 1, 0.9, 0.8, 0.7,\n",
      "                   1, 0.9, 0.8, 0.7, 1, 0.9, 0.8, 0.7, 1, 0.9, 0.8, 0.7,\n",
      "                   1, 0.9, 0.8, 0.7, 1, 0.9, 0.8, 0.7, 1, 0.9, 0.8, 0.7],\n",
      "             mask=[False, False, False, False, False, False, False, False,\n",
      "                   False, False, False, False, False, False, False, False,\n",
      "                   False, False, False, False, False, False, False, False,\n",
      "                   False, False, False, False, False, False, False, False,\n",
      "                   False, False, False, False, False, False, False, False,\n",
      "                   False, False, False, False, False, False, False, False,\n",
      "                   False, False, False, False, False, False, False, False,\n",
      "                   False, False, False, False],\n",
      "       fill_value='?',\n",
      "            dtype=object), 'params': [{'loss': 'ls', 'max_depth': 1, 'max_features': 'sqrt', 'n_estimators': 500, 'subsample': 1}, {'loss': 'ls', 'max_depth': 1, 'max_features': 'sqrt', 'n_estimators': 500, 'subsample': 0.9}, {'loss': 'ls', 'max_depth': 1, 'max_features': 'sqrt', 'n_estimators': 500, 'subsample': 0.8}, {'loss': 'ls', 'max_depth': 1, 'max_features': 'sqrt', 'n_estimators': 500, 'subsample': 0.7}, {'loss': 'ls', 'max_depth': 1, 'max_features': 'sqrt', 'n_estimators': 600, 'subsample': 1}, {'loss': 'ls', 'max_depth': 1, 'max_features': 'sqrt', 'n_estimators': 600, 'subsample': 0.9}, {'loss': 'ls', 'max_depth': 1, 'max_features': 'sqrt', 'n_estimators': 600, 'subsample': 0.8}, {'loss': 'ls', 'max_depth': 1, 'max_features': 'sqrt', 'n_estimators': 600, 'subsample': 0.7}, {'loss': 'ls', 'max_depth': 1, 'max_features': 'sqrt', 'n_estimators': 700, 'subsample': 1}, {'loss': 'ls', 'max_depth': 1, 'max_features': 'sqrt', 'n_estimators': 700, 'subsample': 0.9}, {'loss': 'ls', 'max_depth': 1, 'max_features': 'sqrt', 'n_estimators': 700, 'subsample': 0.8}, {'loss': 'ls', 'max_depth': 1, 'max_features': 'sqrt', 'n_estimators': 700, 'subsample': 0.7}, {'loss': 'ls', 'max_depth': 2, 'max_features': 'sqrt', 'n_estimators': 500, 'subsample': 1}, {'loss': 'ls', 'max_depth': 2, 'max_features': 'sqrt', 'n_estimators': 500, 'subsample': 0.9}, {'loss': 'ls', 'max_depth': 2, 'max_features': 'sqrt', 'n_estimators': 500, 'subsample': 0.8}, {'loss': 'ls', 'max_depth': 2, 'max_features': 'sqrt', 'n_estimators': 500, 'subsample': 0.7}, {'loss': 'ls', 'max_depth': 2, 'max_features': 'sqrt', 'n_estimators': 600, 'subsample': 1}, {'loss': 'ls', 'max_depth': 2, 'max_features': 'sqrt', 'n_estimators': 600, 'subsample': 0.9}, {'loss': 'ls', 'max_depth': 2, 'max_features': 'sqrt', 'n_estimators': 600, 'subsample': 0.8}, {'loss': 'ls', 'max_depth': 2, 'max_features': 'sqrt', 'n_estimators': 600, 'subsample': 0.7}, {'loss': 'ls', 'max_depth': 2, 'max_features': 'sqrt', 'n_estimators': 700, 'subsample': 1}, {'loss': 'ls', 'max_depth': 2, 'max_features': 'sqrt', 'n_estimators': 700, 'subsample': 0.9}, {'loss': 'ls', 'max_depth': 2, 'max_features': 'sqrt', 'n_estimators': 700, 'subsample': 0.8}, {'loss': 'ls', 'max_depth': 2, 'max_features': 'sqrt', 'n_estimators': 700, 'subsample': 0.7}, {'loss': 'ls', 'max_depth': 3, 'max_features': 'sqrt', 'n_estimators': 500, 'subsample': 1}, {'loss': 'ls', 'max_depth': 3, 'max_features': 'sqrt', 'n_estimators': 500, 'subsample': 0.9}, {'loss': 'ls', 'max_depth': 3, 'max_features': 'sqrt', 'n_estimators': 500, 'subsample': 0.8}, {'loss': 'ls', 'max_depth': 3, 'max_features': 'sqrt', 'n_estimators': 500, 'subsample': 0.7}, {'loss': 'ls', 'max_depth': 3, 'max_features': 'sqrt', 'n_estimators': 600, 'subsample': 1}, {'loss': 'ls', 'max_depth': 3, 'max_features': 'sqrt', 'n_estimators': 600, 'subsample': 0.9}, {'loss': 'ls', 'max_depth': 3, 'max_features': 'sqrt', 'n_estimators': 600, 'subsample': 0.8}, {'loss': 'ls', 'max_depth': 3, 'max_features': 'sqrt', 'n_estimators': 600, 'subsample': 0.7}, {'loss': 'ls', 'max_depth': 3, 'max_features': 'sqrt', 'n_estimators': 700, 'subsample': 1}, {'loss': 'ls', 'max_depth': 3, 'max_features': 'sqrt', 'n_estimators': 700, 'subsample': 0.9}, {'loss': 'ls', 'max_depth': 3, 'max_features': 'sqrt', 'n_estimators': 700, 'subsample': 0.8}, {'loss': 'ls', 'max_depth': 3, 'max_features': 'sqrt', 'n_estimators': 700, 'subsample': 0.7}, {'loss': 'ls', 'max_depth': 4, 'max_features': 'sqrt', 'n_estimators': 500, 'subsample': 1}, {'loss': 'ls', 'max_depth': 4, 'max_features': 'sqrt', 'n_estimators': 500, 'subsample': 0.9}, {'loss': 'ls', 'max_depth': 4, 'max_features': 'sqrt', 'n_estimators': 500, 'subsample': 0.8}, {'loss': 'ls', 'max_depth': 4, 'max_features': 'sqrt', 'n_estimators': 500, 'subsample': 0.7}, {'loss': 'ls', 'max_depth': 4, 'max_features': 'sqrt', 'n_estimators': 600, 'subsample': 1}, {'loss': 'ls', 'max_depth': 4, 'max_features': 'sqrt', 'n_estimators': 600, 'subsample': 0.9}, {'loss': 'ls', 'max_depth': 4, 'max_features': 'sqrt', 'n_estimators': 600, 'subsample': 0.8}, {'loss': 'ls', 'max_depth': 4, 'max_features': 'sqrt', 'n_estimators': 600, 'subsample': 0.7}, {'loss': 'ls', 'max_depth': 4, 'max_features': 'sqrt', 'n_estimators': 700, 'subsample': 1}, {'loss': 'ls', 'max_depth': 4, 'max_features': 'sqrt', 'n_estimators': 700, 'subsample': 0.9}, {'loss': 'ls', 'max_depth': 4, 'max_features': 'sqrt', 'n_estimators': 700, 'subsample': 0.8}, {'loss': 'ls', 'max_depth': 4, 'max_features': 'sqrt', 'n_estimators': 700, 'subsample': 0.7}, {'loss': 'ls', 'max_depth': 5, 'max_features': 'sqrt', 'n_estimators': 500, 'subsample': 1}, {'loss': 'ls', 'max_depth': 5, 'max_features': 'sqrt', 'n_estimators': 500, 'subsample': 0.9}, {'loss': 'ls', 'max_depth': 5, 'max_features': 'sqrt', 'n_estimators': 500, 'subsample': 0.8}, {'loss': 'ls', 'max_depth': 5, 'max_features': 'sqrt', 'n_estimators': 500, 'subsample': 0.7}, {'loss': 'ls', 'max_depth': 5, 'max_features': 'sqrt', 'n_estimators': 600, 'subsample': 1}, {'loss': 'ls', 'max_depth': 5, 'max_features': 'sqrt', 'n_estimators': 600, 'subsample': 0.9}, {'loss': 'ls', 'max_depth': 5, 'max_features': 'sqrt', 'n_estimators': 600, 'subsample': 0.8}, {'loss': 'ls', 'max_depth': 5, 'max_features': 'sqrt', 'n_estimators': 600, 'subsample': 0.7}, {'loss': 'ls', 'max_depth': 5, 'max_features': 'sqrt', 'n_estimators': 700, 'subsample': 1}, {'loss': 'ls', 'max_depth': 5, 'max_features': 'sqrt', 'n_estimators': 700, 'subsample': 0.9}, {'loss': 'ls', 'max_depth': 5, 'max_features': 'sqrt', 'n_estimators': 700, 'subsample': 0.8}, {'loss': 'ls', 'max_depth': 5, 'max_features': 'sqrt', 'n_estimators': 700, 'subsample': 0.7}], 'split0_test_score': array([0.87815029, 0.86863501, 0.87505093, 0.88166229, 0.87729161,\n",
      "       0.87618635, 0.89050365, 0.88350925, 0.8800089 , 0.87677997,\n",
      "       0.89272542, 0.88407282, 0.90079141, 0.90516638, 0.90237269,\n",
      "       0.88400961, 0.9003396 , 0.89986948, 0.90106729, 0.88316608,\n",
      "       0.9088122 , 0.90195015, 0.90322411, 0.89212671, 0.91510017,\n",
      "       0.91560161, 0.90160147, 0.89830015, 0.91485003, 0.89794143,\n",
      "       0.90715543, 0.91625328, 0.9096808 , 0.9085938 , 0.91317691,\n",
      "       0.8923833 , 0.91252598, 0.91632235, 0.90426737, 0.90823031,\n",
      "       0.90557949, 0.9029623 , 0.91112707, 0.90144793, 0.89015386,\n",
      "       0.89628578, 0.9006534 , 0.9001902 , 0.8907544 , 0.90008657,\n",
      "       0.90083748, 0.89884693, 0.90076534, 0.90572469, 0.90215495,\n",
      "       0.87507201, 0.90874534, 0.88334751, 0.89739337, 0.90710335]), 'split1_test_score': array([0.72434531, 0.75249391, 0.73731724, 0.7881055 , 0.74241165,\n",
      "       0.74647327, 0.7752499 , 0.78626439, 0.71501044, 0.73554276,\n",
      "       0.74364925, 0.77413474, 0.74178085, 0.75324515, 0.76497974,\n",
      "       0.75632985, 0.75123434, 0.73884404, 0.76757628, 0.74343887,\n",
      "       0.77039189, 0.77942745, 0.76148834, 0.78358358, 0.77010078,\n",
      "       0.79202239, 0.77210697, 0.79491907, 0.78770095, 0.77385852,\n",
      "       0.78662822, 0.75833302, 0.80488405, 0.77181279, 0.78398749,\n",
      "       0.76641246, 0.79881533, 0.78486862, 0.80776245, 0.75567494,\n",
      "       0.7768208 , 0.7703524 , 0.79051732, 0.74968023, 0.75165453,\n",
      "       0.80774049, 0.7883553 , 0.75632284, 0.81724065, 0.8063142 ,\n",
      "       0.78436573, 0.77529255, 0.79411915, 0.82181967, 0.81083873,\n",
      "       0.80778392, 0.80552083, 0.80567804, 0.77505798, 0.80127026]), 'split2_test_score': array([0.8949868 , 0.89171207, 0.90204651, 0.89800526, 0.89430008,\n",
      "       0.90356565, 0.90089528, 0.88587961, 0.89185115, 0.90450879,\n",
      "       0.89675945, 0.89899803, 0.91622403, 0.91505457, 0.90648921,\n",
      "       0.90475029, 0.91325678, 0.91510835, 0.9098896 , 0.91089402,\n",
      "       0.9179405 , 0.91841212, 0.9009262 , 0.90518081, 0.91666291,\n",
      "       0.92017868, 0.900593  , 0.91506577, 0.9106351 , 0.91553939,\n",
      "       0.90575447, 0.91371179, 0.91985348, 0.91189554, 0.91350289,\n",
      "       0.89416153, 0.9033653 , 0.90553008, 0.90019082, 0.90300925,\n",
      "       0.90695337, 0.91399604, 0.90362063, 0.91387351, 0.90412   ,\n",
      "       0.91446878, 0.90591152, 0.91214554, 0.89400506, 0.90222028,\n",
      "       0.90985382, 0.89473067, 0.91040213, 0.90439155, 0.90537179,\n",
      "       0.89619269, 0.90259547, 0.89327516, 0.90913224, 0.9023767 ]), 'split3_test_score': array([0.87626942, 0.88627823, 0.89884396, 0.88027495, 0.86152289,\n",
      "       0.88801989, 0.89176985, 0.91394676, 0.88555301, 0.89494673,\n",
      "       0.91208922, 0.89324476, 0.90653346, 0.91181008, 0.91985483,\n",
      "       0.91641766, 0.91200679, 0.92795883, 0.91326316, 0.91566712,\n",
      "       0.93007536, 0.9172035 , 0.92279585, 0.90524878, 0.92027026,\n",
      "       0.91891584, 0.9205515 , 0.91317293, 0.90845504, 0.92092288,\n",
      "       0.91875108, 0.90813531, 0.90416062, 0.92362589, 0.90743502,\n",
      "       0.92347495, 0.91508634, 0.91987554, 0.91578975, 0.91989215,\n",
      "       0.91302996, 0.91478937, 0.91862388, 0.91079939, 0.92670123,\n",
      "       0.9274935 , 0.92559247, 0.91948428, 0.924249  , 0.91729027,\n",
      "       0.91133304, 0.91018924, 0.90289735, 0.91187646, 0.91062012,\n",
      "       0.91064177, 0.90942202, 0.92174539, 0.91780667, 0.9135812 ]), 'split4_test_score': array([0.89686416, 0.90159535, 0.9144891 , 0.91044957, 0.90257922,\n",
      "       0.90317645, 0.91486855, 0.90715799, 0.89915977, 0.90334958,\n",
      "       0.90020135, 0.91345548, 0.91111033, 0.91500802, 0.92059075,\n",
      "       0.90911313, 0.91767027, 0.9084016 , 0.92129245, 0.91775208,\n",
      "       0.9223763 , 0.90185468, 0.91859241, 0.91251771, 0.89587974,\n",
      "       0.91011067, 0.90627264, 0.89324216, 0.91185164, 0.90575947,\n",
      "       0.9040838 , 0.91256712, 0.89569911, 0.90218481, 0.90337534,\n",
      "       0.90540101, 0.89423815, 0.89212992, 0.90861647, 0.89853703,\n",
      "       0.88959819, 0.9120202 , 0.89394373, 0.89924673, 0.89914408,\n",
      "       0.90385541, 0.88848401, 0.91877549, 0.89121032, 0.9065454 ,\n",
      "       0.9063419 , 0.90297894, 0.89381687, 0.90475747, 0.9156791 ,\n",
      "       0.91035485, 0.89162897, 0.87331785, 0.90816345, 0.90061751]), 'mean_test_score': array([0.8541232 , 0.86014291, 0.86554955, 0.87169951, 0.85562109,\n",
      "       0.86348432, 0.87465744, 0.8753516 , 0.85431665, 0.86302556,\n",
      "       0.86908494, 0.87278117, 0.87528802, 0.88005684, 0.88285744,\n",
      "       0.87412411, 0.87890156, 0.87803646, 0.88261776, 0.87418363,\n",
      "       0.88991925, 0.88376958, 0.88140538, 0.87973152, 0.88360277,\n",
      "       0.89136584, 0.88022512, 0.88294002, 0.88669855, 0.88280434,\n",
      "       0.8844746 , 0.8818001 , 0.88685561, 0.88362257, 0.88429553,\n",
      "       0.87636665, 0.88480622, 0.8837453 , 0.88732537, 0.87706874,\n",
      "       0.87839636, 0.88282406, 0.88356653, 0.87500956, 0.87435474,\n",
      "       0.88996879, 0.88179934, 0.88138367, 0.88349189, 0.88649135,\n",
      "       0.88254639, 0.87640766, 0.88040017, 0.88971397, 0.88893294,\n",
      "       0.88000905, 0.88358252, 0.87547279, 0.88151074, 0.8849898 ]), 'std_test_score': array([0.06543192, 0.05487876, 0.06537496, 0.04325347, 0.05834715,\n",
      "       0.05939175, 0.05046019, 0.04607635, 0.06994536, 0.06450875,\n",
      "       0.06304992, 0.05023764, 0.06694753, 0.06350809, 0.05937519,\n",
      "       0.05987345, 0.06409018, 0.07019946, 0.05788532, 0.06654565,\n",
      "       0.06015795, 0.05265514, 0.06055289, 0.04852175, 0.05738116,\n",
      "       0.04979366, 0.0545271 , 0.04480145, 0.04954193, 0.05504519,\n",
      "       0.04919464, 0.0617894 , 0.04172974, 0.05633679, 0.05029589,\n",
      "       0.05608084, 0.04361905, 0.05037486, 0.04011569, 0.06111487,\n",
      "       0.05137507, 0.05639381, 0.04723687, 0.06290499, 0.06252294,\n",
      "       0.04243251, 0.04823108, 0.06291263, 0.03542094, 0.04052491,\n",
      "       0.04922316, 0.05081485, 0.04346356, 0.03405552, 0.03931782,\n",
      "       0.03837183, 0.03954924, 0.03846047, 0.05361932, 0.04209981]), 'rank_test_score': array([60, 57, 54, 52, 58, 55, 47, 44, 59, 56, 53, 51, 45, 34, 22, 50, 37,\n",
      "       39, 25, 49,  3, 14, 30, 36, 17,  1, 33, 21,  8, 24, 12, 27,  7, 16,\n",
      "       13, 42, 11, 15,  6, 40, 38, 23, 19, 46, 48,  2, 28, 31, 20,  9, 26,\n",
      "       41, 32,  4,  5, 35, 18, 43, 29, 10], dtype=int32)}\n",
      "{'loss': 'ls', 'max_depth': 3, 'max_features': 'sqrt', 'n_estimators': 500, 'subsample': 0.9}\n",
      "0.891365836493984\n"
     ]
    }
   ],
   "source": [
    "model = GradientBoostingRegressor()\n",
    "params = {'n_estimators': [500,600,700],\n",
    "          'max_depth':[1,2,3,4,5],\n",
    "          'max_features':['sqrt'],\n",
    "          'subsample':[1,0.9,0.8,0.7], \n",
    "          'loss':['ls']}\n",
    "\n",
    "gridGbr = GridSearchCV(model, param_grid=params, cv=5)\n",
    "gridGbr.fit(X, y)\n",
    "print(gridGbr.cv_results_)\n",
    "print(gridGbr.best_params_)\n",
    "print(gridGbr.best_score_)"
   ]
  },
  {
   "cell_type": "code",
   "execution_count": 19,
   "metadata": {},
   "outputs": [
    {
     "name": "stderr",
     "output_type": "stream",
     "text": [
      "/Users/baileyrusso/opt/anaconda3/lib/python3.8/site-packages/seaborn/_decorators.py:36: FutureWarning: Pass the following variables as keyword args: x, y. From version 0.12, the only valid positional argument will be `data`, and passing other arguments without an explicit keyword will result in an error or misinterpretation.\n",
      "  warnings.warn(\n"
     ]
    },
    {
     "data": {
      "text/plain": [
       "[('TotalSF', 0.18224972570994963),\n",
       " ('TotalIndoorSF', 0.15101835268883165),\n",
       " ('BsmtQual', 0.0823180919550363),\n",
       " ('GarageYrBlt', 0.06517415551531137),\n",
       " ('OverallQual', 0.05858627171215467),\n",
       " ('YearRemodAdd', 0.053216692647758364),\n",
       " ('GarageCars', 0.05040439989452878),\n",
       " ('BsmtFinSF1', 0.03846837077355903),\n",
       " ('Fireplaces', 0.03333762364277315),\n",
       " ('2ndFlrSF', 0.02800633173468043),\n",
       " ('KitchenQual', 0.024683530999057384),\n",
       " ('GrLivAreaHighQualitySF', 0.022274990881949844),\n",
       " ('ExterQual', 0.016569778608603668),\n",
       " ('GrLivArea', 0.01400991919823192),\n",
       " ('FullBath', 0.011117439872647425),\n",
       " ('LotArea', 0.010883064067600355),\n",
       " ('Neighborhood', 0.010230451982091642),\n",
       " ('hasFireplace', 0.00807575954847292),\n",
       " ('YearBuilt', 0.007882142397810838),\n",
       " ('Foundation', 0.007419273157828535),\n",
       " ('GarageArea', 0.00729493066695894),\n",
       " ('OpenPorchSF', 0.007259023107776419),\n",
       " ('1stFlrSF', 0.00695400815396332),\n",
       " ('GarageType', 0.006717459912276442),\n",
       " ('OverallCond', 0.006481447552516264),\n",
       " ('Baths', 0.00645941801515403),\n",
       " ('MSZoning', 0.005239552421663715),\n",
       " ('LotFrontage', 0.005170324219561404),\n",
       " ('MasVnrArea', 0.004447624948453371),\n",
       " ('TotalBsmtSF', 0.004438186244782949),\n",
       " ('LandContour', 0.0041999179408803156),\n",
       " ('BsmtUnfSF', 0.0038301467676379736),\n",
       " ('MSSubClass', 0.003695671165885411),\n",
       " ('FireplaceQu', 0.0032989151979041253),\n",
       " ('CentralAir', 0.003098249842090443),\n",
       " ('GarageFinish', 0.0029385438431631505),\n",
       " ('SaleCondition', 0.002933405805767945),\n",
       " ('BsmtBaths', 0.0028336697169434634),\n",
       " ('TotRmsAbvGrd', 0.0026534434396539544),\n",
       " ('Condition1', 0.0025290584074280195),\n",
       " ('BsmtExposure', 0.0020594073505711737),\n",
       " ('WoodDeckSF', 0.002043681077547861),\n",
       " ('TotalOutdoorSF', 0.0018671444447792658),\n",
       " ('HalfBath', 0.0018668512703854069),\n",
       " ('BedroomAbvGr', 0.0018369540273929143),\n",
       " ('Functional', 0.001836063673586045),\n",
       " ('BsmtFinType1', 0.0016308464955548255),\n",
       " ('BldgType', 0.0016150728594713946),\n",
       " ('MoSold', 0.0015515648408696435),\n",
       " ('Exterior1st', 0.0014268397925130752),\n",
       " ('PoolQC', 0.0014108663081605754),\n",
       " ('KitchenAbvGr', 0.0013566240686812994),\n",
       " ('RoofMatl', 0.0012090660912781538),\n",
       " ('LandSlope', 0.0008986098062032017),\n",
       " ('ScreenPorch', 0.0008929360485423),\n",
       " ('LotShape', 0.000855026898735123),\n",
       " ('YrSold', 0.000615527240734495),\n",
       " ('GarageQual', 0.0006030858411961467),\n",
       " ('EnclosedPorch', 0.0005885566538833852),\n",
       " ('BsmtFullBath', 0.0005268195553848805),\n",
       " ('Exterior2nd', 0.0004649080618611806),\n",
       " ('BsmtFinSF2', 0.0004229327241638487),\n",
       " ('Condition2', 0.000421541177640849),\n",
       " ('PavedDrive', 0.0003202822502398668),\n",
       " ('MasVnrType', 0.0003099314791150249),\n",
       " ('LotConfig', 0.0003032509842197166),\n",
       " ('LowQualFinSF', 0.000280062626545861),\n",
       " ('NumFloors', 0.00023681372172479142),\n",
       " ('RoofStyle', 0.0002045312265693916),\n",
       " ('HouseStyle', 0.00018764758447858382),\n",
       " ('Heating', 0.00016091802133482168),\n",
       " ('BsmtFinType2', 0.00014607847441839975),\n",
       " ('SaleType', 0.00014368896558620723),\n",
       " ('ExterCond', 0.00013805586312442815),\n",
       " ('hasBeenRemodeled', 0.00013339343297850905),\n",
       " ('BsmtCond', 0.00012710866066531352),\n",
       " ('Fence', 0.00012305983471754724),\n",
       " ('HeatingQC', 0.00012221060530926241),\n",
       " ('3SsnPorch', 0.00012207030134405237),\n",
       " ('GarageCond', 0.00012175396146154713),\n",
       " ('PoolArea', 8.21411761089774e-05),\n",
       " ('BsmtHalfBath', 7.683122872638435e-05),\n",
       " ('Alley', 6.614357960194323e-05),\n",
       " ('hasMasVnr', 4.4835582170592977e-05),\n",
       " ('MiscVal', 4.133660982537794e-05),\n",
       " ('hasAlley_Access', 3.7305132621829435e-05),\n",
       " ('hasPool', 2.5670639798538574e-05),\n",
       " ('hasFence', 1.2980688391445307e-05),\n",
       " ('MiscFeature', 1.2668656660850714e-05),\n",
       " ('Electrical', 1.1255381362208194e-05),\n",
       " ('hasGarage', 3.212273075262832e-06),\n",
       " ('Street', 2.9326299975116193e-06),\n",
       " ('hasMisc_Feature', 1.53775934906298e-06),\n",
       " ('hasBsmt', 0.0)]"
      ]
     },
     "execution_count": 19,
     "metadata": {},
     "output_type": "execute_result"
    },
    {
     "data": {
      "image/png": "[encoded data removed]",
      "text/plain": [
       "<Figure size 936x648 with 1 Axes>"
      ]
     },
     "metadata": {
      "needs_background": "light"
     },
     "output_type": "display_data"
    }
   ],
   "source": [
    "getFeatureImportance(30, X.columns, gridGbr.best_estimator_.feature_importances_, sort='descending')"
   ]
  },
  {
   "cell_type": "code",
   "execution_count": 20,
   "metadata": {},
   "outputs": [
    {
     "data": {
      "text/plain": [
       "0.9892057329939907"
      ]
     },
     "execution_count": 20,
     "metadata": {},
     "output_type": "execute_result"
    }
   ],
   "source": [
    "gridGbr.score(X, y)"
   ]
  },
  {
   "cell_type": "markdown",
   "metadata": {},
   "source": [
    "# Test Predictions"
   ]
  },
  {
   "cell_type": "code",
   "execution_count": 21,
   "metadata": {},
   "outputs": [],
   "source": [
    "gridGbr_predictions = gridGbr.predict(test)\n",
    "gridGbr_predictions = pd.DataFrame(gridGbr_predictions)\n",
    "gridGbr_predictions.index = gridGbr_predictions.index + 1461\n",
    "gridGbr_predictions = gridGbr_predictions.rename(columns={0:'SalePrice'})\n",
    "gridGbr_predictions = gridGbr_predictions.rename_axis('Id')\n"
   ]
  },
  {
   "cell_type": "code",
   "execution_count": 22,
   "metadata": {},
   "outputs": [],
   "source": [
    "#gridGbr_predictions.to_csv('./submissions/submission12.csv')"
   ]
  },
  {
   "cell_type": "code",
   "execution_count": null,
   "metadata": {},
   "outputs": [],
   "source": []
  }
 ],
 "metadata": {
  "kernelspec": {
   "display_name": "Python 3",
   "language": "python",
   "name": "python3"
  },
  "language_info": {
   "codemirror_mode": {
    "name": "ipython",
    "version": 3
   },
   "file_extension": ".py",
   "mimetype": "text/x-python",
   "name": "python",
   "nbconvert_exporter": "python",
   "pygments_lexer": "ipython3",
   "version": "3.8.8"
  }
 },
 "nbformat": 4,
 "nbformat_minor": 4
}

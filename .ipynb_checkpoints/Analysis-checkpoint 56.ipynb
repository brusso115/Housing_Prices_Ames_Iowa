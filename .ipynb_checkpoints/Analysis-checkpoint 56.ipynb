{
 "cells": [
  {
   "cell_type": "code",
   "execution_count": 1,
   "metadata": {},
   "outputs": [],
   "source": [
    "import pandas as pd\n",
    "import numpy as np\n",
    "from sklearn.ensemble import IsolationForest, GradientBoostingRegressor, RandomForestRegressor\n",
    "from sklearn.model_selection import GridSearchCV\n",
    "from sklearn.preprocessing import StandardScaler\n",
    "from sklearn.linear_model import Ridge, Lasso\n",
    "from sklearn.feature_selection import SelectKBest, f_regression\n",
    "from statsmodels.stats.outliers_influence import variance_inflation_factor\n",
    "from regressors import stats\n",
    "import statsmodels.api as sm\n",
    "import matplotlib.pyplot as plt\n",
    "import seaborn as sns"
   ]
  },
  {
   "cell_type": "code",
   "execution_count": 2,
   "metadata": {},
   "outputs": [],
   "source": [
    "train = pd.read_csv('train_filled_na.csv')\n",
    "train_ord = pd.read_csv('train_filled_na_ord.csv')"
   ]
  },
  {
   "cell_type": "code",
   "execution_count": 3,
   "metadata": {},
   "outputs": [],
   "source": [
    "train.drop('Id', axis = 1, inplace=True)\n",
    "train_ord.drop('Id', axis = 1, inplace=True)"
   ]
  },
  {
   "cell_type": "markdown",
   "metadata": {},
   "source": [
    "# Outlier Detection"
   ]
  },
  {
   "cell_type": "markdown",
   "metadata": {},
   "source": [
    "## Train w/ dummies"
   ]
  },
  {
   "cell_type": "code",
   "execution_count": 4,
   "metadata": {},
   "outputs": [],
   "source": [
    "iso = IsolationForest(contamination=0.1)\n",
    "yhat = iso.fit_predict(train)"
   ]
  },
  {
   "cell_type": "code",
   "execution_count": 5,
   "metadata": {},
   "outputs": [],
   "source": [
    "mask = yhat != -1"
   ]
  },
  {
   "cell_type": "code",
   "execution_count": 6,
   "metadata": {},
   "outputs": [],
   "source": [
    "train = train.loc[mask, :]"
   ]
  },
  {
   "cell_type": "code",
   "execution_count": 7,
   "metadata": {},
   "outputs": [],
   "source": [
    "# X = train.loc[:, train.columns != 'SalePrice']\n",
    "# y = train['SalePrice']"
   ]
  },
  {
   "cell_type": "markdown",
   "metadata": {},
   "source": [
    "## Train w/out dummies"
   ]
  },
  {
   "cell_type": "code",
   "execution_count": 8,
   "metadata": {},
   "outputs": [],
   "source": [
    "iso = IsolationForest(contamination=0.1)\n",
    "yhat = iso.fit_predict(train_ord)"
   ]
  },
  {
   "cell_type": "code",
   "execution_count": 9,
   "metadata": {},
   "outputs": [],
   "source": [
    "mask = yhat != -1"
   ]
  },
  {
   "cell_type": "code",
   "execution_count": 10,
   "metadata": {},
   "outputs": [],
   "source": [
    "train_ord = train_ord.loc[mask, :]"
   ]
  },
  {
   "cell_type": "code",
   "execution_count": 11,
   "metadata": {},
   "outputs": [],
   "source": [
    "# X = train_ord.loc[:, train_ord.columns != 'SalePrice']\n",
    "# y = train_ord['SalePrice']"
   ]
  },
  {
   "cell_type": "markdown",
   "metadata": {},
   "source": [
    "## Drop columns with all zeros"
   ]
  },
  {
   "cell_type": "code",
   "execution_count": 12,
   "metadata": {},
   "outputs": [],
   "source": [
    "allZeroCols = train.columns[(train == 0).all()].to_list()\n",
    "train = train.drop(allZeroCols, axis=1)"
   ]
  },
  {
   "cell_type": "code",
   "execution_count": 13,
   "metadata": {},
   "outputs": [],
   "source": [
    "allZeroCols = train_ord.columns[(train_ord == 0).all()].to_list()\n",
    "train_ord = train_ord.drop(allZeroCols, axis=1)"
   ]
  },
  {
   "cell_type": "markdown",
   "metadata": {},
   "source": [
    "# Feature Selection"
   ]
  },
  {
   "cell_type": "markdown",
   "metadata": {},
   "source": [
    "## Select K Best"
   ]
  },
  {
   "cell_type": "code",
   "execution_count": 14,
   "metadata": {},
   "outputs": [],
   "source": [
    "def get_k_best(k, X, y):\n",
    "    k_best = SelectKBest(f_regression, k=k).fit(X, y)\n",
    "    X[X.columns[k_best.get_support()]]\n",
    "\n",
    "    k_best_scores = zip(X.columns, k_best.scores_)\n",
    "    sorted_coef_importance = sorted(list(k_best_scores),key= lambda x: x[1],reverse=True)\n",
    "    sorted_coef_importance\n",
    "    print(sorted_coef_importance)\n",
    "    f, ax = plt.subplots(figsize=(13, 9))\n",
    "    sns.barplot([x[0] for x in sorted_coef_importance[:k]], [x[1] for x in sorted_coef_importance[:k]])\n",
    "    plt.xticks(rotation=90)"
   ]
  },
  {
   "cell_type": "code",
   "execution_count": 15,
   "metadata": {},
   "outputs": [
    {
     "name": "stdout",
     "output_type": "stream",
     "text": [
      "[('OverallQual', 2498.8417515519277), ('GrLivArea', 1588.6890390473836), ('ExterQual', 1131.8913216338512), ('GarageCars', 1015.4948990022474), ('TotalBsmtSF', 944.2799540815284), ('GarageArea', 941.7894075204715), ('KitchenQual', 870.8396557176504), ('1stFlrSF', 821.7661163558563), ('BsmtQual', 813.5093804074564), ('TotRmsAbvGrd', 621.0322163342686), ('YearBuilt', 617.96330290487), ('FullBath', 609.6245541624995), ('FoundationDummy_PConc', 513.7504223575169), ('YearRemodAdd', 505.20376185815064), ('GarageFinish', 342.2211198506514), ('MasVnrArea', 334.0855229442561), ('Fireplaces', 330.96362230079063), ('NeighborhoodDummy_NridgHt', 304.0041475194311), ('HeatingQC', 266.0292645953087), ('GarageTypeDummy_Detchd', 245.73829004479344), ('FoundationDummy_CBlock', 245.00012358655692), ('BsmtFinSF1', 242.1710284310941), ('MasVnrTypeDummy_None', 235.0209912152156), ('OpenPorchSF', 218.08082308856757), ('LotFrontage', 196.68128700185133), ('MSSubClassDummy_60', 194.46108799471813), ('Exterior2ndDummy_VinylSd', 193.17611033571185), ('SaleTypeDummy_New', 192.0527868432712), ('Exterior1stDummy_VinylSd', 192.03563816439058), ('GarageTypeDummy_Attchd', 189.85947436504884), ('SaleConditionDummy_Partial', 184.27196695683375), ('MasVnrTypeDummy_Stone', 184.03610844448787), ('BsmtExposure', 144.72363451797563), ('WoodDeckSF', 140.86585430643092), ('MSZoningDummy_RM', 134.16176883134375), ('NeighborhoodDummy_NoRidge', 132.3955559842825), ('LotArea', 128.91593419428554), ('2ndFlrSF', 109.93867242775089), ('HalfBath', 100.40261833966001), ('BsmtFullBath', 87.12892373688535), ('SaleTypeDummy_WD', 85.31052639934553), ('HouseStyleDummy_2Story', 82.23765170431479), ('LotShapeDummy_Reg', 80.14071656741605), ('MSZoningDummy_RL', 74.60216885474262), ('MSSubClassDummy_30', 74.4843799016323), ('ElectricalDummy_SBrkr', 73.46876325057518), ('GarageYrBlt', 71.37666227205239), ('NeighborhoodDummy_NAmes', 69.27642058113507), ('BsmtUnfSF', 67.7025146699224), ('RoofStyleDummy_Hip', 62.21998065525065), ('CentralAirDummy_Y', 59.40454330588953), ('GarageCond', 59.373701980362235), ('RoofStyleDummy_Gable', 59.28907546509946), ('MasVnrTypeDummy_BrkFace', 55.38874273377942), ('GarageTypeDummy_No_Garage', 50.88065948681454), ('NeighborhoodDummy_OldTown', 49.56283300975977), ('GarageQual', 49.315422003557686), ('GarageTypeDummy_BuiltIn', 48.46627650118985), ('PavedDriveDummy_Y', 48.103928468602035), ('NeighborhoodDummy_StoneBr', 47.68538450657678), ('NeighborhoodDummy_Edwards', 47.517651960530664), ('Exterior1stDummy_Wd Sdng', 43.66801997000028), ('Fence', 40.6273942778343), ('Exterior1stDummy_MetalSd', 39.389684101757325), ('Exterior2ndDummy_Wd Sdng', 39.34072059750292), ('Exterior2ndDummy_MetalSd', 38.17365420395155), ('SaleConditionDummy_Normal', 37.62411773544699), ('MSSubClassDummy_50', 37.364539988853174), ('NumFloors', 35.816970010129474), ('NeighborhoodDummy_Somerst', 31.65041919926823), ('NeighborhoodDummy_Sawyer', 30.893434819581763), ('OverallCond', 29.99532644109661), ('BedroomAbvGr', 29.690925192689953), ('NeighborhoodDummy_BrkSide', 27.66793877980691), ('Exterior1stDummy_HdBoard', 26.18494254898972), ('NeighborhoodDummy_IDOTRR', 25.95020331022126), ('ExterCond', 24.997355889042453), ('NeighborhoodDummy_Timber', 24.917575753687135), ('MSSubClassDummy_160', 22.99393260265859), ('Exterior2ndDummy_CmentBd', 21.759877721999278), ('EnclosedPorch', 20.340531321208857), ('FunctionalDummy_Typ', 19.83167829089936), ('NeighborhoodDummy_MeadowV', 17.846607651088274), ('Exterior1stDummy_CemntBd', 17.807967129417474), ('FoundationDummy_Slab', 17.6888816831572), ('KitchenAbvGr', 17.684015729481985), ('NeighborhoodDummy_BrDale', 17.406468420216118), ('Condition1Dummy_Feedr', 16.96510962507774), ('Condition1Dummy_Norm', 16.373720226654697), ('MSSubClassDummy_90', 16.122987222395803), ('BldgTypeDummy_Duplex', 16.122987222395803), ('Exterior2ndDummy_HdBoard', 16.09910111203495), ('ElectricalDummy_FuseF', 15.00457064545305), ('LandContourDummy_HLS', 14.695019330157034), ('LotConfigDummy_CulDSac', 14.580826358311464), ('BldgTypeDummy_Twnhs', 14.304592217582366), ('MSZoningDummy_FV', 14.085598718441283), ('MSSubClassDummy_45', 12.687372117914087), ('HouseStyleDummy_1.5Unf', 12.687372117914087), ('AlleyDummy_No_Alley_Access', 10.541105093050302), ('PavedDriveDummy_P', 10.522547576237965), ('HouseStyleDummy_SFoyer', 10.281159669468538), ('NeighborhoodDummy_CollgCr', 9.597420474177719), ('FireplaceQu', 9.562779648682076), ('Exterior1stDummy_WdShing', 9.494126050812474), ('BsmtFinType2', 8.603953047802099), ('Condition2Dummy_PosN', 8.267952127785478), ('MSZoningDummy_RH', 8.259888106818602), ('BsmtCond', 7.827518200922662), ('MiscFeatureDummy_No_Misc_Feature', 7.705646529941048), ('ScreenPorch', 7.417342583021026), ('Exterior2ndDummy_Wd Shng', 7.285948455219224), ('FunctionalDummy_Maj2', 7.2014097477500565), ('MSSubClassDummy_190', 7.187373191807548), ('BldgTypeDummy_2fmCon', 7.187373191807548), ('NeighborhoodDummy_SWISU', 7.169631390163409), ('FunctionalDummy_Min1', 7.16884510646963), ('HeatingDummy_GasA', 7.152161263500275), ('MiscFeatureDummy_Shed', 7.091341368974163), ('MSSubClassDummy_180', 7.030359969310705), ('BsmtFinType1', 6.709744387890608), ('NeighborhoodDummy_Mitchel', 5.937033371455436), ('LotShapeDummy_IR2', 5.841535424822847), ('BsmtHalfBath', 5.440711093855792), ('LotConfigDummy_Inside', 5.187007266399695), ('MoSold', 5.165874948122241), ('GarageTypeDummy_CarPort', 5.1207198908058995), ('MasVnrTypeDummy_No_MasVnr', 5.1095380105997235), ('LowQualFinSF', 5.087273652719688), ('Exterior1stDummy_BrkComm', 4.810277760507225), ('MSSubClassDummy_120', 4.62101579036956), ('MSSubClassDummy_85', 4.544943895301768), ('FunctionalDummy_Min2', 4.466589165824532), ('NeighborhoodDummy_ClearCr', 4.383247357608695), ('Exterior2ndDummy_Plywood', 4.365753661117436), ('Condition1Dummy_RRAe', 4.213205319193772), ('Exterior2ndDummy_Brk Cmn', 4.120381937742313), ('Exterior2ndDummy_Other', 3.7691335662197716), ('Condition1Dummy_PosN', 3.76479382007389), ('NeighborhoodDummy_Veenker', 3.7003321158198217), ('HouseStyleDummy_SLvl', 3.6631315096978416), ('NeighborhoodDummy_Crawfor', 3.5404099307111014), ('HeatingDummy_Grav', 3.4172498541142327), ('SaleConditionDummy_Family', 3.3391089377987626), ('HouseStyleDummy_1Story', 3.3262540903972826), ('Condition1Dummy_PosA', 3.1960336148054274), ('HeatingDummy_Wall', 3.185162914969789), ('SaleTypeDummy_Con', 3.1059642443761897), ('FunctionalDummy_Mod', 3.010176280346414), ('RoofMatlDummy_WdShake', 2.873885005227391), ('Condition2Dummy_RRNn', 2.8188419947513466), ('LandContourDummy_Low', 2.7599606910334047), ('NeighborhoodDummy_NPkVill', 2.642247287096893), ('ElectricalDummy_Mix', 2.5767541564714116), ('Condition1Dummy_RRNn', 2.5711982513702414), ('LandSlope', 2.4343359026056715), ('Exterior1stDummy_Stone', 2.374500233460411), ('SaleTypeDummy_Oth', 2.3070029654484343), ('3SsnPorch', 2.287198138645026), ('RoofMatlDummy_WdShngl', 2.2187920632602114), ('MSSubClassDummy_80', 2.210790374830151), ('NeighborhoodDummy_Gilbert', 1.8843638449409834), ('RoofMatlDummy_CompShg', 1.8533148444211078), ('Exterior1stDummy_BrkFace', 1.8516123948748413), ('SaleTypeDummy_CWD', 1.7581208841978186), ('Exterior1stDummy_AsphShn', 1.3003883791383173), ('Exterior1stDummy_ImStucc', 1.294976892556959), ('LandContourDummy_Lvl', 1.2506032512915422), ('RoofStyleDummy_Shed', 1.231692535372617), ('LotShapeDummy_IR3', 1.2087860679659834), ('HouseStyleDummy_2.5Unf', 1.190012985651512), ('Exterior2ndDummy_BrkFace', 1.1551525538627396), ('Exterior1stDummy_CBlock', 1.144822697239521), ('Exterior2ndDummy_CBlock', 1.144822697239521), ('Condition2Dummy_Feedr', 1.1365320712231235), ('Exterior2ndDummy_AsphShn', 1.1029509356121676), ('Exterior2ndDummy_ImStucc', 0.9646339523827714), ('Exterior2ndDummy_Stone', 0.8874645749815381), ('FoundationDummy_Stone', 0.8375275165501077), ('MiscVal', 0.8063649915379362), ('GarageTypeDummy_Basment', 0.7630617585212748), ('NeighborhoodDummy_Blueste', 0.7516915253920713), ('Exterior1stDummy_Plywood', 0.6758295372235673), ('HeatingDummy_GasW', 0.613931477787359), ('SaleConditionDummy_AdjLand', 0.5998239270408313), ('LotConfigDummy_FR3', 0.5945975995416944), ('NeighborhoodDummy_SawyerW', 0.5472914697940235), ('NeighborhoodDummy_NWAmes', 0.4931898115756794), ('Exterior2ndDummy_Stucco', 0.47215470185307595), ('MSSubClassDummy_70', 0.4706860021180169), ('MiscFeatureDummy_Othr', 0.45701199524814756), ('Condition2Dummy_Norm', 0.44575383003060837), ('Condition2Dummy_RRAn', 0.38577598540285846), ('AlleyDummy_Pave', 0.3848145771312106), ('RoofMatlDummy_Roll', 0.38411819623332083), ('UtilitiesDummy_NoSeWa', 0.37545187627620175), ('SaleTypeDummy_ConLI', 0.36944886800003374), ('StreetDummy_Pave', 0.3209583906403286), ('RoofStyleDummy_Gambrel', 0.28091679613807924), ('BsmtFinSF2', 0.24926296923588398), ('SaleConditionDummy_Alloca', 0.23384373124363805), ('hasBeenRemodeled', 0.22687663752292486), ('HouseStyleDummy_2.5Fin', 0.22646008905531329), ('SaleTypeDummy_ConLw', 0.21464415857226024), ('SaleTypeDummy_ConLD', 0.15383827005274586), ('MSSubClassDummy_75', 0.13342346788444334), ('Condition1Dummy_RRAn', 0.04526094405324876), ('Condition1Dummy_RRNe', 0.03694901407169351), ('BldgTypeDummy_TwnhsE', 0.03365271437484469), ('RoofMatlDummy_Tar&Grv', 0.012578315912125616), ('FoundationDummy_Wood', 0.012465912488137209), ('LotConfigDummy_FR2', 0.010229133417645662), ('PoolArea', 0.009043682876798862), ('YrSold', 0.005607770523707388), ('PoolQC', 0.004156940183308607), ('Exterior1stDummy_Stucco', 0.0010950101188830713), ('RoofStyleDummy_Mansard', 0.0007925643335385547), ('MSSubClassDummy_40', 0.00020130441277088341)]\n"
     ]
    },
    {
     "name": "stderr",
     "output_type": "stream",
     "text": [
      "/Users/baileyrusso/opt/anaconda3/lib/python3.8/site-packages/seaborn/_decorators.py:36: FutureWarning: Pass the following variables as keyword args: x, y. From version 0.12, the only valid positional argument will be `data`, and passing other arguments without an explicit keyword will result in an error or misinterpretation.\n",
      "  warnings.warn(\n"
     ]
    },
    {
     "data": {
      "image/png": "[encoded data removed]",
      "text/plain": [
       "<Figure size 936x648 with 1 Axes>"
      ]
     },
     "metadata": {
      "needs_background": "light"
     },
     "output_type": "display_data"
    }
   ],
   "source": [
    "get_k_best(50, X=train.loc[:, train.columns != 'SalePrice'], y=train['SalePrice'])"
   ]
  },
  {
   "cell_type": "code",
   "execution_count": 16,
   "metadata": {},
   "outputs": [
    {
     "name": "stdout",
     "output_type": "stream",
     "text": [
      "[('OverallQual', 2360.433102753024), ('GrLivArea', 1506.6357943787477), ('GarageCars', 1066.092078723424), ('GarageArea', 892.7159453232059), ('ExterQual', 892.7152545427457), ('TotalBsmtSF', 813.2347707795753), ('BsmtQual', 811.6598942269751), ('KitchenQual', 775.4427446273082), ('1stFlrSF', 755.7826568216705), ('FullBath', 691.9751530523282), ('YearBuilt', 651.826224668733), ('TotRmsAbvGrd', 530.8246686241567), ('YearRemodAdd', 523.414716009858), ('GarageFinish', 355.18249321901857), ('Foundation', 342.60283373024663), ('GarageType', 316.55431958618595), ('Fireplaces', 309.9815441844484), ('HeatingQC', 298.668316382457), ('MasVnrArea', 297.5528169115773), ('LotFrontage', 197.70004607174042), ('BsmtFinSF1', 194.20674450716456), ('OpenPorchSF', 191.4801681393852), ('WoodDeckSF', 163.26962225030758), ('BsmtExposure', 139.38370857477415), ('LotArea', 137.77398840852447), ('2ndFlrSF', 128.59504791300907), ('HalfBath', 111.3024630951478), ('BsmtFullBath', 80.40825407573581), ('LotShape', 76.06077154319946), ('GarageYrBlt', 72.53485437979282), ('Electrical', 68.94402126412601), ('MSZoning', 67.80335889729433), ('BsmtUnfSF', 65.30274996821616), ('CentralAir', 63.128688786682666), ('SaleCondition', 62.70658064985543), ('GarageCond', 57.16388020243942), ('HouseStyle', 54.59404446995238), ('PavedDrive', 53.191764057740215), ('Neighborhood', 50.28907378522211), ('BedroomAbvGr', 49.29847774528621), ('GarageQual', 47.426534405133296), ('Fence', 43.04565754968072), ('RoofStyle', 37.14746487151699), ('NumFloors', 36.48134045095471), ('EnclosedPorch', 34.91851057518673), ('OverallCond', 34.2117713362056), ('Exterior2nd', 30.41507281709622), ('Exterior1st', 22.485749305944474), ('ExterCond', 20.053169062209367), ('Functional', 18.659369710917815), ('KitchenAbvGr', 16.40493302154543), ('MasVnrType', 13.14956799726043), ('BsmtFinType2', 12.455224745983834), ('Condition1', 12.442550135477115), ('MiscFeature', 9.8486868945554), ('Alley', 9.21090037716442), ('BsmtFinType1', 8.09256849037737), ('MoSold', 8.085436235698866), ('BldgType', 7.141888704536293), ('FireplaceQu', 5.6169867198073495), ('BsmtCond', 5.132638179485697), ('Heating', 5.049104346752487), ('LowQualFinSF', 4.780714146130884), ('BsmtHalfBath', 4.769910112992343), ('LotConfig', 4.422410967152205), ('ScreenPorch', 4.004981643110587), ('BsmtFinSF2', 3.506958323691612), ('3SsnPorch', 3.4988094896859474), ('RoofMatl', 2.8967059547200216), ('SaleType', 2.755825200690039), ('hasBeenRemodeled', 2.0312401805003497), ('LandSlope', 1.8236284104150382), ('MSSubClass', 1.6889984270597873), ('MiscVal', 1.1425493851015183), ('Condition2', 1.1290270301870216), ('Street', 0.9010511403276952), ('LandContour', 0.3333405986781549), ('YrSold', 0.22372680400812103), ('PoolArea', 0.002186725207203335), ('PoolQC', 0.0002810416424181023)]\n"
     ]
    },
    {
     "name": "stderr",
     "output_type": "stream",
     "text": [
      "/Users/baileyrusso/opt/anaconda3/lib/python3.8/site-packages/seaborn/_decorators.py:36: FutureWarning: Pass the following variables as keyword args: x, y. From version 0.12, the only valid positional argument will be `data`, and passing other arguments without an explicit keyword will result in an error or misinterpretation.\n",
      "  warnings.warn(\n"
     ]
    },
    {
     "data": {
      "image/png": "[encoded data removed]",
      "text/plain": [
       "<Figure size 936x648 with 1 Axes>"
      ]
     },
     "metadata": {
      "needs_background": "light"
     },
     "output_type": "display_data"
    }
   ],
   "source": [
    "get_k_best(50, X=train_ord.loc[:, train_ord.columns != 'SalePrice'], y=train_ord['SalePrice'])"
   ]
  },
  {
   "cell_type": "markdown",
   "metadata": {},
   "source": [
    "## Model Feature Selection"
   ]
  },
  {
   "cell_type": "code",
   "execution_count": 17,
   "metadata": {},
   "outputs": [],
   "source": [
    "def getFeatureImportance(num, cols, features_importances_, sort):\n",
    "    \n",
    "    feature_importances = zip(cols, features_importances_)\n",
    "    sorted_importance = sorted(list(feature_importances),key= lambda x: abs(x[1]),reverse=False if sort == 'ascending' else True)\n",
    "\n",
    "    f, ax = plt.subplots(figsize=(13, 9))\n",
    "    sns.barplot([x[0] for x in sorted_importance[:num]], [x[1] for x in sorted_importance[:num]])\n",
    "    plt.xticks(rotation=90)\n",
    "    \n",
    "    return sorted_importance"
   ]
  },
  {
   "cell_type": "markdown",
   "metadata": {},
   "source": [
    "### Random Forest"
   ]
  },
  {
   "cell_type": "code",
   "execution_count": 24,
   "metadata": {},
   "outputs": [
    {
     "data": {
      "text/plain": [
       "GridSearchCV(cv=5, estimator=RandomForestRegressor(),\n",
       "             param_grid={'max_features': ['auto', 'sqrt'],\n",
       "                         'n_estimators': [100]})"
      ]
     },
     "execution_count": 24,
     "metadata": {},
     "output_type": "execute_result"
    }
   ],
   "source": [
    "X = train_ord.loc[:, train_ord.columns != 'SalePrice']\n",
    "y = train_ord['SalePrice']\n",
    "model = RandomForestRegressor()\n",
    "params = {'n_estimators':[100], 'max_features':['auto', 'sqrt']}\n",
    "gridRf = GridSearchCV(model, param_grid=params, cv=5)\n",
    "gridRf.fit(X, y)"
   ]
  },
  {
   "cell_type": "code",
   "execution_count": 25,
   "metadata": {},
   "outputs": [
    {
     "data": {
      "text/plain": [
       "{'mean_fit_time': array([1.08802619, 0.24155965]),\n",
       " 'std_fit_time': array([0.03154151, 0.02208944]),\n",
       " 'mean_score_time': array([0.01022344, 0.01128535]),\n",
       " 'std_score_time': array([0.00143591, 0.00184862]),\n",
       " 'param_max_features': masked_array(data=['auto', 'sqrt'],\n",
       "              mask=[False, False],\n",
       "        fill_value='?',\n",
       "             dtype=object),\n",
       " 'param_n_estimators': masked_array(data=[100, 100],\n",
       "              mask=[False, False],\n",
       "        fill_value='?',\n",
       "             dtype=object),\n",
       " 'params': [{'max_features': 'auto', 'n_estimators': 100},\n",
       "  {'max_features': 'sqrt', 'n_estimators': 100}],\n",
       " 'split0_test_score': array([0.85983665, 0.88649247]),\n",
       " 'split1_test_score': array([0.91140222, 0.89888612]),\n",
       " 'split2_test_score': array([0.84930433, 0.85104194]),\n",
       " 'split3_test_score': array([0.88366053, 0.87498797]),\n",
       " 'split4_test_score': array([0.87422657, 0.87179472]),\n",
       " 'mean_test_score': array([0.87568606, 0.87664064]),\n",
       " 'std_test_score': array([0.02139423, 0.01595887]),\n",
       " 'rank_test_score': array([2, 1], dtype=int32)}"
      ]
     },
     "execution_count": 25,
     "metadata": {},
     "output_type": "execute_result"
    }
   ],
   "source": [
    "gridRf.cv_results_"
   ]
  },
  {
   "cell_type": "code",
   "execution_count": 26,
   "metadata": {},
   "outputs": [
    {
     "data": {
      "text/plain": [
       "{'max_features': 'sqrt', 'n_estimators': 100}"
      ]
     },
     "execution_count": 26,
     "metadata": {},
     "output_type": "execute_result"
    }
   ],
   "source": [
    "gridRf.best_params_"
   ]
  },
  {
   "cell_type": "code",
   "execution_count": 27,
   "metadata": {},
   "outputs": [
    {
     "data": {
      "text/plain": [
       "0.8766406438393226"
      ]
     },
     "execution_count": 27,
     "metadata": {},
     "output_type": "execute_result"
    }
   ],
   "source": [
    "gridRf.best_score_"
   ]
  },
  {
   "cell_type": "code",
   "execution_count": 28,
   "metadata": {},
   "outputs": [
    {
     "name": "stderr",
     "output_type": "stream",
     "text": [
      "/Users/baileyrusso/opt/anaconda3/lib/python3.8/site-packages/seaborn/_decorators.py:36: FutureWarning: Pass the following variables as keyword args: x, y. From version 0.12, the only valid positional argument will be `data`, and passing other arguments without an explicit keyword will result in an error or misinterpretation.\n",
      "  warnings.warn(\n"
     ]
    },
    {
     "data": {
      "text/plain": [
       "[('OverallQual', 0.11853103624719359),\n",
       " ('GrLivArea', 0.0894032513113147),\n",
       " ('GarageArea', 0.05852264050118425),\n",
       " ('YearBuilt', 0.052979668663328906),\n",
       " ('TotalBsmtSF', 0.051717914695660144),\n",
       " ('ExterQual', 0.05111842742557838),\n",
       " ('GarageCars', 0.05074917718946653),\n",
       " ('1stFlrSF', 0.04634566165636158),\n",
       " ('GarageYrBlt', 0.03634658049743992),\n",
       " ('BsmtQual', 0.03552704410728914),\n",
       " ('FullBath', 0.03369811403930792),\n",
       " ('TotRmsAbvGrd', 0.02661221465621542),\n",
       " ('KitchenQual', 0.02573001096648716),\n",
       " ('LotFrontage', 0.021578909746855633),\n",
       " ('YearRemodAdd', 0.020536174572709114),\n",
       " ('BsmtFinSF1', 0.020311731793811467),\n",
       " ('LotArea', 0.0200641259633153),\n",
       " ('2ndFlrSF', 0.019849596118087273),\n",
       " ('Fireplaces', 0.01828896127331433),\n",
       " ('GarageType', 0.01650387110342636),\n",
       " ('GarageFinish', 0.016394964083099903),\n",
       " ('MasVnrArea', 0.016135907699026494),\n",
       " ('Neighborhood', 0.01124155377801735),\n",
       " ('BsmtUnfSF', 0.00986994901204707),\n",
       " ('Foundation', 0.009851260325957924),\n",
       " ('WoodDeckSF', 0.008835724122441367),\n",
       " ('OpenPorchSF', 0.008170113138009793),\n",
       " ('HeatingQC', 0.00788927558468953),\n",
       " ('FireplaceQu', 0.006293667669866463),\n",
       " ('MoSold', 0.005065330769149639),\n",
       " ('MSSubClass', 0.004886047523171327),\n",
       " ('BedroomAbvGr', 0.004815758317494398),\n",
       " ('BsmtFinType1', 0.004543092647965028),\n",
       " ('BsmtFullBath', 0.004395179928088593),\n",
       " ('HalfBath', 0.004334790011232513),\n",
       " ('BsmtExposure', 0.00427054778549216),\n",
       " ('HouseStyle', 0.004027912178468662),\n",
       " ('SaleCondition', 0.0038826961168429088),\n",
       " ('Exterior1st', 0.003654135280977902),\n",
       " ('MSZoning', 0.0035776590728792195),\n",
       " ('Exterior2nd', 0.003569297564642973),\n",
       " ('OverallCond', 0.0035492219316052994),\n",
       " ('YrSold', 0.0029022525763108225),\n",
       " ('hasBeenRemodeled', 0.0027219568431552906),\n",
       " ('LotShape', 0.0025464853591042657),\n",
       " ('MasVnrType', 0.002113769378115548),\n",
       " ('SaleType', 0.0019239803224994894),\n",
       " ('BldgType', 0.0017948040917167972),\n",
       " ('RoofStyle', 0.0017188590654938513),\n",
       " ('LandContour', 0.0016062291493255394),\n",
       " ('SalePrice', 0.0014385838790397577),\n",
       " ('EnclosedPorch', 0.001318400125357396),\n",
       " ('LotConfig', 0.0012122111912056214),\n",
       " ('GarageQual', 0.001170415746305615),\n",
       " ('Condition1', 0.0011548056123915041),\n",
       " ('ScreenPorch', 0.001133008363588066),\n",
       " ('KitchenAbvGr', 0.001089727075205068),\n",
       " ('CentralAir', 0.0010726788527477276),\n",
       " ('Functional', 0.0009769188273304947),\n",
       " ('GarageCond', 0.0009297850757629129),\n",
       " ('BsmtFinType2', 0.0009260108917323307),\n",
       " ('BsmtFinSF2', 0.0008874089026829325),\n",
       " ('BsmtCond', 0.0007902723488147606),\n",
       " ('Fence', 0.0007869975794005322),\n",
       " ('PavedDrive', 0.0007036394058450633),\n",
       " ('LandSlope', 0.0005801141717084349),\n",
       " ('Alley', 0.0005470928096762605),\n",
       " ('ExterCond', 0.0004775277810780966),\n",
       " ('RoofMatl', 0.0003787397080026996),\n",
       " ('BsmtHalfBath', 0.0003276069404308253),\n",
       " ('3SsnPorch', 0.00028864237984864243),\n",
       " ('Electrical', 0.0002726648640525033),\n",
       " ('Heating', 0.00012002557027866419),\n",
       " ('MiscVal', 0.00011841606264222921),\n",
       " ('MiscFeature', 0.0001004410851239523),\n",
       " ('Street', 6.915261764986501e-05),\n",
       " ('LowQualFinSF', 5.063446998431918e-05),\n",
       " ('PoolArea', 3.280980832602561e-05),\n",
       " ('Condition2', 2.7241742822031837e-05),\n",
       " ('PoolQC', 2.0492255730469884e-05)]"
      ]
     },
     "execution_count": 28,
     "metadata": {},
     "output_type": "execute_result"
    },
    {
     "data": {
      "image/png": "[encoded data removed]",
      "text/plain": [
       "<Figure size 936x648 with 1 Axes>"
      ]
     },
     "metadata": {
      "needs_background": "light"
     },
     "output_type": "display_data"
    }
   ],
   "source": [
    "getFeatureImportance(50, train_ord.columns, gridRf.best_estimator_.feature_importances_, '')"
   ]
  },
  {
   "cell_type": "markdown",
   "metadata": {},
   "source": [
    "### Ridge Regression"
   ]
  },
  {
   "cell_type": "code",
   "execution_count": 29,
   "metadata": {},
   "outputs": [],
   "source": [
    "scaler = StandardScaler()\n",
    "X_Scaled = scaler.fit_transform(train.loc[:, train.columns != 'SalePrice'])\n",
    "X_Scaled = pd.DataFrame(X_Scaled, columns = train.columns[train.columns != 'SalePrice'])"
   ]
  },
  {
   "cell_type": "code",
   "execution_count": 30,
   "metadata": {},
   "outputs": [
    {
     "data": {
      "text/plain": [
       "GridSearchCV(cv=5, estimator=Ridge(),\n",
       "             param_grid={'alpha': [0.1, 1, 10, 50, 75, 100, 1000, 2000]})"
      ]
     },
     "execution_count": 30,
     "metadata": {},
     "output_type": "execute_result"
    }
   ],
   "source": [
    "model = Ridge()\n",
    "params = {'alpha':[0.1,1,10,50,75,100,1000,2000]}\n",
    "gridRidge = GridSearchCV(model, param_grid=params, cv=5)\n",
    "gridRidge.fit(X_Scaled, y)"
   ]
  },
  {
   "cell_type": "code",
   "execution_count": 31,
   "metadata": {},
   "outputs": [
    {
     "data": {
      "text/plain": [
       "{'mean_fit_time': array([0.02846785, 0.00454392, 0.0047286 , 0.00439897, 0.00460463,\n",
       "        0.00440249, 0.00477338, 0.00541482]),\n",
       " 'std_fit_time': array([4.78367746e-02, 1.22467583e-04, 1.04616312e-04, 4.43152881e-04,\n",
       "        2.84581330e-04, 3.28409372e-04, 2.78874330e-05, 1.21163993e-04]),\n",
       " 'mean_score_time': array([0.00239959, 0.00256076, 0.00247507, 0.00247183, 0.00260825,\n",
       "        0.0024332 , 0.00272746, 0.00285759]),\n",
       " 'std_score_time': array([1.50573940e-04, 8.74346432e-05, 2.31824839e-04, 1.81119902e-04,\n",
       "        5.44815198e-05, 2.55527267e-04, 1.63048287e-04, 1.01577687e-04]),\n",
       " 'param_alpha': masked_array(data=[0.1, 1, 10, 50, 75, 100, 1000, 2000],\n",
       "              mask=[False, False, False, False, False, False, False, False],\n",
       "        fill_value='?',\n",
       "             dtype=object),\n",
       " 'params': [{'alpha': 0.1},\n",
       "  {'alpha': 1},\n",
       "  {'alpha': 10},\n",
       "  {'alpha': 50},\n",
       "  {'alpha': 75},\n",
       "  {'alpha': 100},\n",
       "  {'alpha': 1000},\n",
       "  {'alpha': 2000}],\n",
       " 'split0_test_score': array([-0.32719221, -0.30052651, -0.25857827, -0.20404279, -0.18419549,\n",
       "        -0.16826173, -0.03310518, -0.01340065]),\n",
       " 'split1_test_score': array([-0.45354789, -0.43353041, -0.39374767, -0.32202966, -0.29196997,\n",
       "        -0.26733445, -0.06141811, -0.03203156]),\n",
       " 'split2_test_score': array([-0.34226069, -0.32372574, -0.2902203 , -0.2351682 , -0.21246095,\n",
       "        -0.19424655, -0.05275467, -0.02978244]),\n",
       " 'split3_test_score': array([-0.52011183, -0.48912874, -0.42396861, -0.33284041, -0.29978569,\n",
       "        -0.27437129, -0.08158586, -0.05061473]),\n",
       " 'split4_test_score': array([-0.13791357, -0.12380722, -0.10611465, -0.0823517 , -0.07274096,\n",
       "        -0.06512673, -0.00739377,  0.00172386]),\n",
       " 'mean_test_score': array([-0.35620524, -0.33414372, -0.2945259 , -0.23528655, -0.21223061,\n",
       "        -0.19386815, -0.04725152, -0.0248211 ]),\n",
       " 'std_test_score': array([0.13040585, 0.12599854, 0.11261434, 0.09100151, 0.08278604,\n",
       "        0.07629972, 0.02529262, 0.01775938]),\n",
       " 'rank_test_score': array([8, 7, 6, 5, 4, 3, 2, 1], dtype=int32)}"
      ]
     },
     "execution_count": 31,
     "metadata": {},
     "output_type": "execute_result"
    }
   ],
   "source": [
    "gridRidge.cv_results_"
   ]
  },
  {
   "cell_type": "code",
   "execution_count": 32,
   "metadata": {},
   "outputs": [
    {
     "data": {
      "text/plain": [
       "{'alpha': 2000}"
      ]
     },
     "execution_count": 32,
     "metadata": {},
     "output_type": "execute_result"
    }
   ],
   "source": [
    "gridRidge.best_params_"
   ]
  },
  {
   "cell_type": "code",
   "execution_count": 33,
   "metadata": {},
   "outputs": [
    {
     "data": {
      "text/plain": [
       "-0.02482110408204057"
      ]
     },
     "execution_count": 33,
     "metadata": {},
     "output_type": "execute_result"
    }
   ],
   "source": [
    "gridRidge.best_score_"
   ]
  },
  {
   "cell_type": "code",
   "execution_count": 34,
   "metadata": {},
   "outputs": [
    {
     "data": {
      "text/plain": [
       "array([  734.55511302,   999.41603198,  -426.12669108,  -182.15568334,\n",
       "         809.74806108,  -137.69411116,   746.20609004,   175.22266337,\n",
       "        -393.12848301,   348.86270319,  -256.58411537,  -340.77745454,\n",
       "         -67.53559067,  -227.52854906,  1002.70884187,  -341.82244608,\n",
       "         220.20100309,  -272.15560895,   832.71000094,  -647.07872461,\n",
       "         430.72962567,   524.94930572,   449.50737959,   854.83580706,\n",
       "         318.20650778, -1112.62210725,  -556.06985442,  -393.01039214,\n",
       "        -435.63029863,  -240.18755713, -1097.40096491,  -410.27127473,\n",
       "        -536.07425119,  -539.57360774,   960.99841006,   406.39049758,\n",
       "         657.8031108 ,   415.79303165,  1083.66040957,   188.97312087,\n",
       "          89.41824383,  -521.39682268,  -417.62977692,   -62.10109361,\n",
       "       -1594.34750987,  -328.6067464 ,   122.16470899,   589.90959991,\n",
       "         369.67607492,  -408.41755947,   -27.91528102,   738.17909908,\n",
       "         481.92439515,  -325.97312244,   202.34440565,   591.65626638,\n",
       "         529.17644251,    34.96417258,  -202.34907274,  -576.66753755,\n",
       "         759.36310874,  -543.00272448,  -706.49045791,  -864.885032  ,\n",
       "         232.54705288,  -195.12657459,  -244.24334612,   443.85058222,\n",
       "         182.65846781,  -420.20533074,    97.20769849,   479.23097743,\n",
       "         740.29157874,  -248.95552276,   432.73358594,   -98.75606865,\n",
       "        1423.46331437,  -141.04090723,  1168.88765554,   790.39765351,\n",
       "        -892.73315567,  -286.59684947,    93.44963433,   444.90957531,\n",
       "        -853.07687811,  -445.90129764, -1296.34498768,   745.92243348,\n",
       "         895.12821739,  -907.72868649,   380.99958636,  -464.75938012,\n",
       "       -1136.40837975,   635.99265475,    20.62785689,  -685.57321019,\n",
       "          83.97676544,   -96.95358246,   699.78272038,  1855.38667833,\n",
       "        -500.00924724,   583.91178574, -1801.26954952,   611.79130795,\n",
       "         685.85200691,  -146.3979856 ,   863.27039154,   -20.78071827,\n",
       "        -805.17316769,  -504.55770291,  -384.4386383 ,  1432.39213678,\n",
       "         417.58800021,  -359.61404271,  -618.24778063, -1004.9964222 ,\n",
       "         485.13648032,   -47.21284959,    68.29148735,   797.70536128,\n",
       "          31.20749631,  -657.24425985,  -244.24334612,  -706.49045791,\n",
       "        -511.7506922 ,  -163.54550232,   591.65626638,  -275.04821447,\n",
       "        -534.46647066,    97.73543292,  -201.00556898,  -590.41351216,\n",
       "         425.2716973 ,  -328.02215479,   625.571782  ,   419.89846716,\n",
       "        -159.61584243,  -549.32474187,   475.61403352,   -40.9662505 ,\n",
       "        -628.25767342,  -440.2710516 ,   396.20630657,   933.86698776,\n",
       "         650.86874888,  -232.51641871,   677.54079167,  -465.11667181,\n",
       "         -54.98752353,  -435.89387578,  -552.47792114,   229.90712417,\n",
       "         357.96703184,    86.98679459,   518.65160663,  -459.95598316,\n",
       "        -199.1055147 ,  -163.02466642,   847.58473715, -1214.94865506,\n",
       "         677.54079167,  -337.40079031,  -488.08280452,  -326.00761172,\n",
       "        -508.93299921,  -800.11732367,   557.29476745,  -241.12985908,\n",
       "         -21.32799801,   609.41848506,  -471.59621844,   173.19903744,\n",
       "       -1098.44476833,  -353.65545578,   349.13386352,   201.37105925,\n",
       "         852.50472555,  -611.28710139,  -454.03483174,   773.4899212 ,\n",
       "         210.92102891,  -813.78929017,  1921.08960758, -1175.79201765,\n",
       "          -1.94972439,  -330.74671088,    54.93400509, -1026.71274818,\n",
       "         497.09591306,  1230.82857148,  -848.63495773,  -239.45213135,\n",
       "        -642.88026584,   248.03590437,   139.64208161,   -91.53176048,\n",
       "         120.00864987,   236.22343015,   318.60218816,  -992.64229408,\n",
       "         102.47409643,   140.9285185 ,  -689.054105  ,  -457.13186293,\n",
       "         770.56020832,  -512.56521012,  -270.47121914,  -137.74417738,\n",
       "        -198.4874337 ,  -432.61888744,   608.04047499,     8.19483898,\n",
       "         567.16948863,   552.38943388,    42.98240269,   172.39576631,\n",
       "         -39.17455835,   514.46885217])"
      ]
     },
     "execution_count": 34,
     "metadata": {},
     "output_type": "execute_result"
    }
   ],
   "source": [
    "gridRidge.best_estimator_.coef_"
   ]
  },
  {
   "cell_type": "code",
   "execution_count": 35,
   "metadata": {},
   "outputs": [
    {
     "name": "stderr",
     "output_type": "stream",
     "text": [
      "/Users/baileyrusso/opt/anaconda3/lib/python3.8/site-packages/seaborn/_decorators.py:36: FutureWarning: Pass the following variables as keyword args: x, y. From version 0.12, the only valid positional argument will be `data`, and passing other arguments without an explicit keyword will result in an error or misinterpretation.\n",
      "  warnings.warn(\n"
     ]
    },
    {
     "data": {
      "text/plain": [
       "[('HeatingDummy_GasA', 1921.089607577945),\n",
       " ('NeighborhoodDummy_NWAmes', 1855.3866783289982),\n",
       " ('NeighborhoodDummy_OldTown', -1801.2695495168693),\n",
       " ('ScreenPorch', -1594.3475098689999),\n",
       " ('Condition1Dummy_Norm', 1432.3921367795037),\n",
       " ('LotShapeDummy_IR3', 1423.463314373915),\n",
       " ('NeighborhoodDummy_Blueste', -1296.3449876772556),\n",
       " ('ElectricalDummy_SBrkr', 1230.8285714830538),\n",
       " ('Exterior2ndDummy_Brk Cmn', -1214.9486550630386),\n",
       " ('HeatingDummy_GasW', -1175.7920176476055),\n",
       " ('LandContourDummy_HLS', 1168.8876555360962),\n",
       " ('NeighborhoodDummy_Edwards', -1136.4083797544467),\n",
       " ('BsmtHalfBath', -1112.622107249985),\n",
       " ('Exterior2ndDummy_Wd Shng', -1098.4447683300777),\n",
       " ('KitchenQual', -1097.400964908288),\n",
       " ('GarageQual', 1083.6604095715093),\n",
       " ('ElectricalDummy_FuseF', -1026.712748175078),\n",
       " ('Condition1Dummy_RRAn', -1004.9964221990232),\n",
       " ('BsmtFinSF1', 1002.7088418746152),\n",
       " ('LotArea', 999.4160319822656),\n",
       " ('GarageTypeDummy_Detchd', -992.6422940787895),\n",
       " ('GarageYrBlt', 960.9984100587383),\n",
       " ('RoofMatlDummy_WdShngl', 933.8669877613502),\n",
       " ('NeighborhoodDummy_ClearCr', -907.7286864888147),\n",
       " ('NeighborhoodDummy_BrkSide', 895.1282173940122),\n",
       " ('LandContourDummy_Lvl', -892.7331556717654),\n",
       " ('MSSubClassDummy_90', -864.8850320040445),\n",
       " ('NeighborhoodDummy_Somerst', 863.2703915350276),\n",
       " ('GrLivArea', 854.8358070572046),\n",
       " ('LotConfigDummy_FR3', -853.0768781081747),\n",
       " ('MasVnrTypeDummy_Stone', 852.5047255489795),\n",
       " ('FunctionalDummy_Maj2', -848.6349577289672),\n",
       " ('Exterior2ndDummy_AsphShn', 847.5847371540702),\n",
       " ('TotalBsmtSF', 832.7100009443858),\n",
       " ('FoundationDummy_Wood', -813.7892901739148),\n",
       " ('OverallCond', 809.7480610808508),\n",
       " ('NeighborhoodDummy_Timber', -805.1731676896428),\n",
       " ('Exterior2ndDummy_MetalSd', -800.117323668469),\n",
       " ('Condition2Dummy_Norm', 797.7053612834152),\n",
       " ('LandContourDummy_Low', 790.3976535090895),\n",
       " ('FoundationDummy_Slab', 773.4899211997101),\n",
       " ('MiscFeatureDummy_Othr', 770.5602083239655),\n",
       " ('MSSubClassDummy_75', 759.3631087430678),\n",
       " ('YearRemodAdd', 746.2060900350382),\n",
       " ('NeighborhoodDummy_BrDale', 745.9224334756033),\n",
       " ('StreetDummy_Pave', 740.2915787440469),\n",
       " ('SalePrice', 738.1790990757407),\n",
       " ('LotFrontage', 734.5551130175442),\n",
       " ('MSSubClassDummy_85', -706.4904579088173),\n",
       " ('BldgTypeDummy_2fmCon', -706.4904579088171),\n",
       " ('NeighborhoodDummy_NPkVill', 699.7827203775141),\n",
       " ('PavedDriveDummy_Y', -689.0541050010464),\n",
       " ('NeighborhoodDummy_Sawyer', 685.8520069110824),\n",
       " ('NeighborhoodDummy_MeadowV', -685.5732101925713),\n",
       " ('Exterior1stDummy_BrkFace', 677.5407916711549),\n",
       " ('Exterior2ndDummy_BrkFace', 677.5407916711541),\n",
       " ('GarageCars', 657.8031107989606),\n",
       " ('Condition2Dummy_RRAn', -657.2442598458167),\n",
       " ('Exterior1stDummy_AsphShn', 650.8687488810456),\n",
       " ('HeatingQC', -647.0787246053302),\n",
       " ('FunctionalDummy_Min2', -642.8802658429234),\n",
       " ('NeighborhoodDummy_Gilbert', 635.9926547541198),\n",
       " ('RoofMatlDummy_Roll', -628.2576734166429),\n",
       " ('RoofStyleDummy_Gable', 625.5717819973539),\n",
       " ('Condition1Dummy_RRAe', -618.2477806256237),\n",
       " ('NeighborhoodDummy_SWISU', 611.7913079476521),\n",
       " ('FoundationDummy_CBlock', -611.2871013946275),\n",
       " ('Exterior2ndDummy_Stucco', 609.4184850643275),\n",
       " ('SaleTypeDummy_ConLw', 608.0404749931682),\n",
       " ('MSSubClassDummy_40', 591.6562663760457),\n",
       " ('BldgTypeDummy_TwnhsE', 591.6562663760441),\n",
       " ('HouseStyleDummy_2Story', -590.413512157805),\n",
       " ('Fence', 589.9095999118568),\n",
       " ('NeighborhoodDummy_NridgHt', 583.9117857437296),\n",
       " ('MSSubClassDummy_70', -576.6675375495967),\n",
       " ('SaleTypeDummy_Oth', 567.1694886280033),\n",
       " ('Exterior2ndDummy_Other', 557.2947674475871),\n",
       " ('FullBath', -556.069854418465),\n",
       " ('Exterior1stDummy_ImStucc', -552.4779211416907),\n",
       " ('SaleTypeDummy_WD', 552.3894338783994),\n",
       " ('RoofStyleDummy_Mansard', -549.324741867311),\n",
       " ('MSSubClassDummy_80', -543.0027244809097),\n",
       " ('FireplaceQu', -539.5736077390156),\n",
       " ('Fireplaces', -536.0742511881303),\n",
       " ('HouseStyleDummy_1Story', -534.4664706638647),\n",
       " ('MSSubClassDummy_45', 529.1764425052536),\n",
       " ('2ndFlrSF', 524.949305716341),\n",
       " ('OpenPorchSF', -521.3968226790503),\n",
       " ('Exterior1stDummy_Stucco', 518.6516066267003),\n",
       " ('SaleConditionDummy_Normal', 514.4688521747536),\n",
       " ('MiscFeatureDummy_Shed', -512.5652101212927),\n",
       " ('BldgTypeDummy_Duplex', -511.75069220437734),\n",
       " ('Exterior2ndDummy_ImStucc', -508.93299921254436),\n",
       " ('NeighborhoodDummy_Veenker', -504.55770291302616),\n",
       " ('NeighborhoodDummy_NoRidge', -500.00924724057637),\n",
       " ('ElectricalDummy_Mix', 497.09591306105096),\n",
       " ('Exterior2ndDummy_CmentBd', -488.0828045163066),\n",
       " ('Condition1Dummy_RRNe', 485.1364803232526),\n",
       " ('hasBeenRemodeled', 481.9243951456783),\n",
       " ('MSZoningDummy_RM', 479.2309774298855),\n",
       " ('RoofStyleDummy_Shed', 475.61403351675557),\n",
       " ('Exterior2ndDummy_VinylSd', -471.59621844221004),\n",
       " ('Exterior1stDummy_CBlock', -465.11667180901316),\n",
       " ('NeighborhoodDummy_Crawfor', -464.7593801212758),\n",
       " ('Exterior1stDummy_VinylSd', -459.955983163791),\n",
       " ('MiscFeatureDummy_No_Misc_Feature', -457.13186293164915),\n",
       " ('FoundationDummy_PConc', -454.03483173928964),\n",
       " ('LowQualFinSF', 449.5073795902468),\n",
       " ('LotConfigDummy_Inside', -445.9012976449811),\n",
       " ('LotConfigDummy_FR2', 444.9095753106647),\n",
       " ('MSSubClassDummy_190', 443.8505822175976),\n",
       " ('RoofMatlDummy_Tar&Grv', -440.2710516045561),\n",
       " ('Exterior1stDummy_HdBoard', -435.8938757780049),\n",
       " ('BedroomAbvGr', -435.63029862517027),\n",
       " ('AlleyDummy_Pave', 432.7335859413732),\n",
       " ('SaleTypeDummy_ConLI', -432.61888743562685),\n",
       " ('1stFlrSF', 430.7296256733798),\n",
       " ('LandSlope', -426.126691079248),\n",
       " ('HouseStyleDummy_SFoyer', 425.27169729765177),\n",
       " ('MSZoningDummy_RH', -420.20533073596243),\n",
       " ('RoofStyleDummy_Gambrel', 419.898467163494),\n",
       " ('EnclosedPorch', -417.6297769234255),\n",
       " ('Condition1Dummy_PosA', 417.5880002105643),\n",
       " ('GarageArea', 415.793031648637),\n",
       " ('TotRmsAbvGrd', -410.2712747314096),\n",
       " ('MoSold', -408.41755946805233),\n",
       " ('GarageFinish', 406.3904975794845),\n",
       " ('RoofMatlDummy_WdShake', 396.20630656746516),\n",
       " ('ExterQual', -393.1284830092735),\n",
       " ('HalfBath', -393.01039214377374),\n",
       " ('Condition1Dummy_Feedr', -384.43863829817406),\n",
       " ('NeighborhoodDummy_CollgCr', 380.99958636418745),\n",
       " ('MiscVal', 369.67607491536523),\n",
       " ('Condition1Dummy_PosN', -359.614042709294),\n",
       " ('Exterior1stDummy_Plywood', 357.9670318376469),\n",
       " ('MasVnrTypeDummy_BrkFace', -353.6554557784032),\n",
       " ('MasVnrTypeDummy_No_MasVnr', 349.1338635169244),\n",
       " ('ExterCond', 348.8627031877297),\n",
       " ('BsmtFinType2', -341.8224460804808),\n",
       " ('BsmtCond', -340.7774545379499),\n",
       " ('Exterior2ndDummy_CBlock', -337.40079031211803),\n",
       " ('HeatingDummy_Wall', -330.746710884913),\n",
       " ('PoolArea', -328.60674639500047),\n",
       " ('HouseStyleDummy_SLvl', -328.02215478804976),\n",
       " ('Exterior2ndDummy_HdBoard', -326.00761171875934),\n",
       " ('NumFloors', -325.973122439995),\n",
       " ('GarageTypeDummy_CarPort', 318.6021881571017),\n",
       " ('BsmtFullBath', 318.206507776972),\n",
       " ('UtilitiesDummy_NoSeWa', -286.5968494730053),\n",
       " ('HouseStyleDummy_1.5Unf', -275.04821447192614),\n",
       " ('BsmtUnfSF', -272.1556089504841),\n",
       " ('SaleTypeDummy_CWD', -270.47121914364857),\n",
       " ('BsmtQual', -256.5841153653278),\n",
       " ('AlleyDummy_No_Alley_Access', -248.95552276279219),\n",
       " ('FunctionalDummy_Mod', 248.03590437195274),\n",
       " ('MSSubClassDummy_180', -244.24334611949263),\n",
       " ('Condition2Dummy_RRNn', -244.24334611949251),\n",
       " ('Exterior2ndDummy_Plywood', -241.12985908105998),\n",
       " ('KitchenAbvGr', -240.1875571344361),\n",
       " ('FunctionalDummy_Min1', -239.45213134525062),\n",
       " ('GarageTypeDummy_BuiltIn', 236.22343014867045),\n",
       " ('MSSubClassDummy_120', 232.54705288078316),\n",
       " ('Exterior1stDummy_BrkComm', -232.51641870778235),\n",
       " ('Exterior1stDummy_MetalSd', 229.90712416500605),\n",
       " ('BsmtFinType1', -227.5285490601331),\n",
       " ('BsmtFinSF2', 220.2010030851664),\n",
       " ('FoundationDummy_Stone', 210.92102890831768),\n",
       " ('MSSubClassDummy_60', -202.34907274256767),\n",
       " ('MSSubClassDummy_30', 202.34440564602943),\n",
       " ('MasVnrTypeDummy_None', 201.37105925030951),\n",
       " ('HouseStyleDummy_2.5Unf', -201.00556897683833),\n",
       " ('Exterior1stDummy_Wd Sdng', -199.10551469529022),\n",
       " ('SaleTypeDummy_ConLD', -198.4874336971127),\n",
       " ('MSSubClassDummy_160', -195.12657458518743),\n",
       " ('GarageCond', 188.9731208673693),\n",
       " ('MSZoningDummy_FV', 182.65846781344106),\n",
       " ('OverallQual', -182.15568334156245),\n",
       " ('MasVnrArea', 175.22266336870373),\n",
       " ('Exterior2ndDummy_Wd Sdng', 173.1990374386127),\n",
       " ('SaleConditionDummy_Alloca', 172.3957663077741),\n",
       " ('BldgTypeDummy_Twnhs', -163.54550231839224),\n",
       " ('Exterior1stDummy_WdShing', -163.02466641692897),\n",
       " ('RoofStyleDummy_Hip', -159.61584243203734),\n",
       " ('NeighborhoodDummy_SawyerW', -146.39798559987554),\n",
       " ('LotShapeDummy_Reg', -141.0409072284425),\n",
       " ('PavedDriveDummy_P', 140.9285185014544),\n",
       " ('FunctionalDummy_Typ', 139.6420816106423),\n",
       " ('SaleTypeDummy_Con', -137.74417738381533),\n",
       " ('YearBuilt', -137.69411115760323),\n",
       " ('PoolQC', 122.1647089923896),\n",
       " ('GarageTypeDummy_Basment', 120.00864987016632),\n",
       " ('GarageTypeDummy_No_Garage', 102.47409642788182),\n",
       " ('LotShapeDummy_IR2', -98.75606865489925),\n",
       " ('HouseStyleDummy_2.5Fin', 97.73543291853977),\n",
       " ('MSZoningDummy_RL', 97.20769849228542),\n",
       " ('NeighborhoodDummy_NAmes', -96.95358246225918),\n",
       " ('LotConfigDummy_CulDSac', 93.44963432682599),\n",
       " ('GarageTypeDummy_Attchd', -91.53176047758618),\n",
       " ('WoodDeckSF', 89.41824383149812),\n",
       " ('Exterior1stDummy_Stone', 86.98679458846134),\n",
       " ('NeighborhoodDummy_Mitchel', 83.97676544141079),\n",
       " ('Condition2Dummy_Feedr', 68.2914873462616),\n",
       " ('BsmtExposure', -67.53559067294549),\n",
       " ('3SsnPorch', -62.10109361060673),\n",
       " ('Exterior1stDummy_CemntBd', -54.987523533253146),\n",
       " ('CentralAirDummy_Y', 54.934005093627185),\n",
       " ('Condition1Dummy_RRNn', -47.21284959441048),\n",
       " ('SaleConditionDummy_AdjLand', 42.98240268648467),\n",
       " ('RoofMatlDummy_CompShg', -40.9662505034829),\n",
       " ('SaleConditionDummy_Family', -39.17455835232294),\n",
       " ('MSSubClassDummy_50', 34.96417258363425),\n",
       " ('Condition2Dummy_PosN', 31.207496310854754),\n",
       " ('YrSold', -27.91528102267281),\n",
       " ('Exterior2ndDummy_Stone', -21.327998007783645),\n",
       " ('NeighborhoodDummy_StoneBr', -20.780718269602033),\n",
       " ('NeighborhoodDummy_IDOTRR', 20.627856893166186),\n",
       " ('SaleTypeDummy_New', 8.194838975061963),\n",
       " ('HeatingDummy_Grav', -1.9497243868009142)]"
      ]
     },
     "execution_count": 35,
     "metadata": {},
     "output_type": "execute_result"
    },
    {
     "data": {
      "image/png": "[encoded data removed]",
      "text/plain": [
       "<Figure size 936x648 with 1 Axes>"
      ]
     },
     "metadata": {
      "needs_background": "light"
     },
     "output_type": "display_data"
    }
   ],
   "source": [
    "getFeatureImportance(50, train.columns, gridRidge.best_estimator_.coef_,'descending')"
   ]
  },
  {
   "cell_type": "markdown",
   "metadata": {},
   "source": [
    "### Lasso Regression"
   ]
  },
  {
   "cell_type": "code",
   "execution_count": null,
   "metadata": {},
   "outputs": [],
   "source": [
    "model = Lasso()\n",
    "params = {'alpha':[0.1,1,10,50,75,100,1000,2000],'max_iter':[1000]}\n",
    "gridLasso = GridSearchCV(model, param_grid=params, cv=5)\n",
    "gridLasso.fit(X_Scaled, y)"
   ]
  },
  {
   "cell_type": "code",
   "execution_count": null,
   "metadata": {},
   "outputs": [],
   "source": [
    "gridLasso.cv_results_"
   ]
  },
  {
   "cell_type": "code",
   "execution_count": null,
   "metadata": {},
   "outputs": [],
   "source": [
    "gridLasso.best_params_"
   ]
  },
  {
   "cell_type": "code",
   "execution_count": null,
   "metadata": {},
   "outputs": [],
   "source": [
    "gridLasso.best_score_"
   ]
  },
  {
   "cell_type": "code",
   "execution_count": null,
   "metadata": {},
   "outputs": [],
   "source": [
    "getFeatureImportance(50, train.columns, gridLasso.best_estimator_.coef_, '')"
   ]
  },
  {
   "cell_type": "markdown",
   "metadata": {},
   "source": [
    "## Value Counts"
   ]
  },
  {
   "cell_type": "code",
   "execution_count": null,
   "metadata": {},
   "outputs": [],
   "source": [
    "train_org = pd.read_csv('train.csv')"
   ]
  },
  {
   "cell_type": "code",
   "execution_count": null,
   "metadata": {},
   "outputs": [],
   "source": [
    "def getValueCounts(cols, data):\n",
    "    f, axes = plt.subplots(round(len(cols)/2)+1, 2, figsize=(10,80))\n",
    "    rowIdx = 0\n",
    "    colIdx = 0\n",
    "    for col in cols:\n",
    "        if colIdx > 1:\n",
    "            rowIdx = rowIdx + 1\n",
    "            colIdx = 0\n",
    "        value_counts = data[col].value_counts()\n",
    "        ax = sns.barplot(x=value_counts.index, y=value_counts, data=data, ax=axes[rowIdx,colIdx]).set_title(col)\n",
    "        colIdx += 1\n",
    "    f.tight_layout()"
   ]
  },
  {
   "cell_type": "code",
   "execution_count": null,
   "metadata": {},
   "outputs": [],
   "source": [
    "cat_cols = train_org.columns[train_org.dtypes == 'object'] | train_org.columns[train_org.columns == 'MSSubClass']\n",
    "getValueCounts(cat_cols, train_org)"
   ]
  },
  {
   "cell_type": "code",
   "execution_count": null,
   "metadata": {},
   "outputs": [],
   "source": [
    "colsToDrop = ['BldgType','BsmtCond','BsmtFinType2','CentralAir','Condition1','Condition2','Electrical',\n",
    "              'ExterCond','Functional','GarageCond','GarageQual','Heating','LandContour','LandSlope',\n",
    "              'MiscFeature','PavedDrive','RoofMatl','Street','Utilities','SaleType','MSSubClass']"
   ]
  },
  {
   "cell_type": "code",
   "execution_count": null,
   "metadata": {},
   "outputs": [],
   "source": [
    "for col in colsToDrop:\n",
    "    train = train[train.columns.drop(list(train.filter(regex=col)))]\n"
   ]
  },
  {
   "cell_type": "code",
   "execution_count": null,
   "metadata": {},
   "outputs": [],
   "source": [
    "X = train.loc[:, train.columns != 'SalePrice']"
   ]
  },
  {
   "cell_type": "code",
   "execution_count": null,
   "metadata": {},
   "outputs": [],
   "source": [
    "scaler = StandardScaler()\n",
    "X_Scaled = scaler.fit_transform(train.loc[:, train.columns != 'SalePrice'])\n",
    "X_Scaled = pd.DataFrame(X_Scaled, columns = train.columns[train.columns != 'SalePrice'])\n",
    "y = train['SalePrice']"
   ]
  },
  {
   "cell_type": "markdown",
   "metadata": {},
   "source": [
    "## Random Forest on Subset"
   ]
  },
  {
   "cell_type": "code",
   "execution_count": null,
   "metadata": {},
   "outputs": [],
   "source": [
    "model = RandomForestRegressor()\n",
    "params = {'n_estimators':[100], 'max_features':['auto', 'sqrt']}\n",
    "gridRf = GridSearchCV(model, param_grid=params, cv=5)\n",
    "gridRf.fit(X, y)"
   ]
  },
  {
   "cell_type": "code",
   "execution_count": null,
   "metadata": {},
   "outputs": [],
   "source": [
    "gridRf.best_score_"
   ]
  },
  {
   "cell_type": "markdown",
   "metadata": {},
   "source": [
    "## Ridge on Subset"
   ]
  },
  {
   "cell_type": "code",
   "execution_count": null,
   "metadata": {},
   "outputs": [],
   "source": [
    "model = Ridge()\n",
    "params = {'alpha':[0.1,1,10,50,75,100,1000,2000],'max_iter':[1000]}\n",
    "gridRidge = GridSearchCV(model, param_grid=params, cv=5)\n",
    "gridRidge.fit(X_Scaled, y)"
   ]
  },
  {
   "cell_type": "code",
   "execution_count": null,
   "metadata": {},
   "outputs": [],
   "source": [
    "gridRidge.best_score_"
   ]
  },
  {
   "cell_type": "markdown",
   "metadata": {},
   "source": [
    "## Lasso on Subset"
   ]
  },
  {
   "cell_type": "code",
   "execution_count": null,
   "metadata": {},
   "outputs": [],
   "source": [
    "model = Lasso()\n",
    "params = {'alpha':[0.1,1,10,50,75,100,1000,2000],'max_iter':[1000]}\n",
    "gridLasso = GridSearchCV(model, param_grid=params, cv=5)\n",
    "gridLasso.fit(X_Scaled, y)"
   ]
  },
  {
   "cell_type": "code",
   "execution_count": null,
   "metadata": {},
   "outputs": [],
   "source": [
    "gridLasso.best_score_"
   ]
  },
  {
   "cell_type": "markdown",
   "metadata": {},
   "source": [
    "## Correlation between variables"
   ]
  },
  {
   "cell_type": "markdown",
   "metadata": {},
   "source": [
    "### Correlation Matrix"
   ]
  },
  {
   "cell_type": "code",
   "execution_count": null,
   "metadata": {},
   "outputs": [],
   "source": [
    "corr = X.corr()"
   ]
  },
  {
   "cell_type": "code",
   "execution_count": null,
   "metadata": {},
   "outputs": [],
   "source": [
    "def get_redundant_pairs(df):\n",
    "    '''Get diagonal and lower triangular pairs of correlation matrix'''\n",
    "    pairs_to_drop = set()\n",
    "    cols = df.columns\n",
    "    for i in range(0, df.shape[1]):\n",
    "        for j in range(0, i+1):\n",
    "            pairs_to_drop.add((cols[i], cols[j]))\n",
    "    return pairs_to_drop\n",
    "\n",
    "def get_top_abs_correlations(df, n=5):\n",
    "    au_corr = df.corr().abs().unstack()\n",
    "    labels_to_drop = get_redundant_pairs(df)\n",
    "    au_corr = au_corr.drop(labels=labels_to_drop).sort_values(ascending=False)\n",
    "    return au_corr[0:n]\n",
    "\n",
    "print(\"Top Absolute Correlations\")\n",
    "mostCorrelatedFeat = get_top_abs_correlations(corr, 1000)\n"
   ]
  },
  {
   "cell_type": "code",
   "execution_count": null,
   "metadata": {},
   "outputs": [],
   "source": [
    "mostCorrelatedFeat.head(50)"
   ]
  },
  {
   "cell_type": "code",
   "execution_count": null,
   "metadata": {},
   "outputs": [],
   "source": [
    "colsToDrop = ['Exterior2nd']\n",
    "for col in colsToDrop:\n",
    "    train = train[train.columns.drop(list(train.filter(regex=col)))]"
   ]
  },
  {
   "cell_type": "code",
   "execution_count": null,
   "metadata": {},
   "outputs": [],
   "source": [
    "X = train.loc[:, train.columns != 'SalePrice']"
   ]
  },
  {
   "cell_type": "markdown",
   "metadata": {},
   "source": [
    "### Variance Inflation Factor"
   ]
  },
  {
   "cell_type": "code",
   "execution_count": null,
   "metadata": {},
   "outputs": [],
   "source": [
    "constant = np.ones((X.shape[0], 1))\n",
    "X['constant'] = constant"
   ]
  },
  {
   "cell_type": "code",
   "execution_count": null,
   "metadata": {},
   "outputs": [],
   "source": [
    "vifs = zip(X.columns, [variance_inflation_factor(X.values, i) for i in range(len(X.columns))])"
   ]
  },
  {
   "cell_type": "code",
   "execution_count": null,
   "metadata": {},
   "outputs": [],
   "source": [
    "list(vifs)"
   ]
  },
  {
   "cell_type": "code",
   "execution_count": null,
   "metadata": {},
   "outputs": [],
   "source": [
    "X[['BsmtFinSF1','BsmtFinSF2','BsmtUnfSF','TotalBsmtSF']]"
   ]
  },
  {
   "cell_type": "code",
   "execution_count": null,
   "metadata": {},
   "outputs": [],
   "source": [
    "X[['GrLivArea','1stFlrSF','2ndFlrSF','LowQualFinSF']]"
   ]
  },
  {
   "cell_type": "code",
   "execution_count": null,
   "metadata": {},
   "outputs": [],
   "source": [
    "train = train.drop(['GrLivArea','TotalBsmtSF','OverallQual','GarageArea','PoolArea','PoolQC'], axis=1)"
   ]
  },
  {
   "cell_type": "code",
   "execution_count": null,
   "metadata": {},
   "outputs": [],
   "source": [
    "X = train.loc[:,train.columns != 'SalePrice']"
   ]
  },
  {
   "cell_type": "markdown",
   "metadata": {},
   "source": [
    "### Variance Inflation Factor on Subset"
   ]
  },
  {
   "cell_type": "code",
   "execution_count": null,
   "metadata": {},
   "outputs": [],
   "source": [
    "vifs = zip(X.columns, [variance_inflation_factor(X.values, i) for i in range(len(X.columns))])"
   ]
  },
  {
   "cell_type": "code",
   "execution_count": null,
   "metadata": {},
   "outputs": [],
   "source": [
    "list(vifs)"
   ]
  },
  {
   "cell_type": "markdown",
   "metadata": {},
   "source": [
    "### Correlation Matrix on Subset"
   ]
  },
  {
   "cell_type": "code",
   "execution_count": null,
   "metadata": {},
   "outputs": [],
   "source": [
    "corr = X.corr()"
   ]
  },
  {
   "cell_type": "code",
   "execution_count": null,
   "metadata": {},
   "outputs": [],
   "source": [
    "mostCorrelatedFeat = get_top_abs_correlations(corr, 1000)\n",
    "mostCorrelatedFeat.head(50)"
   ]
  },
  {
   "cell_type": "code",
   "execution_count": null,
   "metadata": {},
   "outputs": [],
   "source": [
    "scaler = StandardScaler()\n",
    "X_Scaled = scaler.fit_transform(train.loc[:, train.columns != 'SalePrice'])\n",
    "X_Scaled = pd.DataFrame(X_Scaled, columns = train.columns[train.columns != 'SalePrice'])\n",
    "y = train['SalePrice']"
   ]
  },
  {
   "cell_type": "code",
   "execution_count": null,
   "metadata": {},
   "outputs": [],
   "source": [
    "model = Lasso()\n",
    "params = {'alpha':[0.1,1,10,50,75,100,1000,2000],'max_iter':[1000]}\n",
    "gridLasso = GridSearchCV(model, param_grid=params, cv=5)\n",
    "gridLasso.fit(X_Scaled, y)\n"
   ]
  },
  {
   "cell_type": "code",
   "execution_count": null,
   "metadata": {},
   "outputs": [],
   "source": [
    "list(zip(X_Scaled.columns,gridLasso.best_estimator_.coef_))"
   ]
  },
  {
   "cell_type": "code",
   "execution_count": null,
   "metadata": {},
   "outputs": [],
   "source": [
    "stats.summary(gridLasso.best_estimator_, X_Scaled, y)"
   ]
  },
  {
   "cell_type": "code",
   "execution_count": null,
   "metadata": {},
   "outputs": [],
   "source": []
  }
 ],
 "metadata": {
  "kernelspec": {
   "display_name": "Python 3",
   "language": "python",
   "name": "python3"
  },
  "language_info": {
   "codemirror_mode": {
    "name": "ipython",
    "version": 3
   },
   "file_extension": ".py",
   "mimetype": "text/x-python",
   "name": "python",
   "nbconvert_exporter": "python",
   "pygments_lexer": "ipython3",
   "version": "3.8.3"
  }
 },
 "nbformat": 4,
 "nbformat_minor": 4
}

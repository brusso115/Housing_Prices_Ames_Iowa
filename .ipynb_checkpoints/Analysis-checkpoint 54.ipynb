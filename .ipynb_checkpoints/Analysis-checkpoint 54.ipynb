{
 "cells": [
  {
   "cell_type": "code",
   "execution_count": 1,
   "metadata": {},
   "outputs": [],
   "source": [
    "import pandas as pd\n",
    "import numpy as np\n",
    "from sklearn.ensemble import IsolationForest, GradientBoostingRegressor, RandomForestRegressor\n",
    "from sklearn.model_selection import GridSearchCV\n",
    "from sklearn.preprocessing import StandardScaler\n",
    "from sklearn.linear_model import Ridge, Lasso\n",
    "from sklearn.feature_selection import SelectKBest, f_regression\n",
    "from statsmodels.stats.outliers_influence import variance_inflation_factor\n",
    "from regressors import stats\n",
    "import statsmodels.api as sm\n",
    "import matplotlib.pyplot as plt\n",
    "import seaborn as sns"
   ]
  },
  {
   "cell_type": "code",
   "execution_count": 2,
   "metadata": {},
   "outputs": [],
   "source": [
    "train = pd.read_csv('train_filled_na.csv')\n",
    "train_ord = pd.read_csv('train_filled_na_ord.csv')"
   ]
  },
  {
   "cell_type": "code",
   "execution_count": 3,
   "metadata": {},
   "outputs": [],
   "source": [
    "train.drop('Id', axis = 1, inplace=True)\n",
    "train_ord.drop('Id', axis = 1, inplace=True)"
   ]
  },
  {
   "cell_type": "markdown",
   "metadata": {},
   "source": [
    "# Outlier Detection"
   ]
  },
  {
   "cell_type": "markdown",
   "metadata": {},
   "source": [
    "## Train w/ dummies"
   ]
  },
  {
   "cell_type": "code",
   "execution_count": 4,
   "metadata": {},
   "outputs": [],
   "source": [
    "iso = IsolationForest(contamination=0.1)\n",
    "yhat = iso.fit_predict(train)"
   ]
  },
  {
   "cell_type": "code",
   "execution_count": 5,
   "metadata": {},
   "outputs": [],
   "source": [
    "mask = yhat != -1"
   ]
  },
  {
   "cell_type": "code",
   "execution_count": 6,
   "metadata": {},
   "outputs": [],
   "source": [
    "train = train.loc[mask, :]"
   ]
  },
  {
   "cell_type": "code",
   "execution_count": 7,
   "metadata": {},
   "outputs": [],
   "source": [
    "# X = train.loc[:, train.columns != 'SalePrice']\n",
    "# y = train['SalePrice']"
   ]
  },
  {
   "cell_type": "markdown",
   "metadata": {},
   "source": [
    "## Train w/out dummies"
   ]
  },
  {
   "cell_type": "code",
   "execution_count": 8,
   "metadata": {},
   "outputs": [],
   "source": [
    "iso = IsolationForest(contamination=0.1)\n",
    "yhat = iso.fit_predict(train_ord)"
   ]
  },
  {
   "cell_type": "code",
   "execution_count": 9,
   "metadata": {},
   "outputs": [],
   "source": [
    "mask = yhat != -1"
   ]
  },
  {
   "cell_type": "code",
   "execution_count": 10,
   "metadata": {},
   "outputs": [],
   "source": [
    "train_ord = train_ord.loc[mask, :]"
   ]
  },
  {
   "cell_type": "code",
   "execution_count": 11,
   "metadata": {},
   "outputs": [],
   "source": [
    "# X = train_ord.loc[:, train_ord.columns != 'SalePrice']\n",
    "# y = train_ord['SalePrice']"
   ]
  },
  {
   "cell_type": "markdown",
   "metadata": {},
   "source": [
    "## Drop columns with all zeros"
   ]
  },
  {
   "cell_type": "code",
   "execution_count": 12,
   "metadata": {},
   "outputs": [],
   "source": [
    "allZeroCols = train.columns[(train == 0).all()].to_list()\n",
    "train = train.drop(allZeroCols, axis=1)"
   ]
  },
  {
   "cell_type": "code",
   "execution_count": 13,
   "metadata": {},
   "outputs": [],
   "source": [
    "allZeroCols = train_ord.columns[(train_ord == 0).all()].to_list()\n",
    "train_ord = train_ord.drop(allZeroCols, axis=1)"
   ]
  },
  {
   "cell_type": "markdown",
   "metadata": {},
   "source": [
    "# Feature Selection"
   ]
  },
  {
   "cell_type": "markdown",
   "metadata": {},
   "source": [
    "## Select K Best"
   ]
  },
  {
   "cell_type": "code",
   "execution_count": 14,
   "metadata": {},
   "outputs": [],
   "source": [
    "def get_k_best(k, X, y):\n",
    "    k_best = SelectKBest(f_regression, k=k).fit(X, y)\n",
    "    X[X.columns[k_best.get_support()]]\n",
    "\n",
    "    k_best_scores = zip(X.columns, k_best.scores_)\n",
    "    sorted_coef_importance = sorted(list(k_best_scores),key= lambda x: x[1],reverse=True)\n",
    "    sorted_coef_importance\n",
    "    print(sorted_coef_importance)\n",
    "    f, ax = plt.subplots(figsize=(13, 9))\n",
    "    sns.barplot([x[0] for x in sorted_coef_importance[:k]], [x[1] for x in sorted_coef_importance[:k]])\n",
    "    plt.xticks(rotation=90)"
   ]
  },
  {
   "cell_type": "code",
   "execution_count": 15,
   "metadata": {},
   "outputs": [
    {
     "name": "stdout",
     "output_type": "stream",
     "text": [
      "[('OverallQual', 2498.8417515519277), ('GrLivArea', 1588.6890390473836), ('ExterQual', 1131.8913216338512), ('GarageCars', 1015.4948990022474), ('TotalBsmtSF', 944.2799540815284), ('GarageArea', 941.7894075204715), ('KitchenQual', 870.8396557176504), ('1stFlrSF', 821.7661163558563), ('BsmtQual', 813.5093804074564), ('TotRmsAbvGrd', 621.0322163342686), ('YearBuilt', 617.96330290487), ('FullBath', 609.6245541624995), ('FoundationDummy_PConc', 513.7504223575169), ('YearRemodAdd', 505.20376185815064), ('GarageFinish', 342.2211198506514), ('MasVnrArea', 334.0855229442561), ('Fireplaces', 330.96362230079063), ('NeighborhoodDummy_NridgHt', 304.0041475194311), ('HeatingQC', 266.0292645953087), ('GarageTypeDummy_Detchd', 245.73829004479344), ('FoundationDummy_CBlock', 245.00012358655692), ('BsmtFinSF1', 242.1710284310941), ('MasVnrTypeDummy_None', 235.0209912152156), ('OpenPorchSF', 218.08082308856757), ('LotFrontage', 196.68128700185133), ('MSSubClassDummy_60', 194.46108799471813), ('Exterior2ndDummy_VinylSd', 193.17611033571185), ('SaleTypeDummy_New', 192.0527868432712), ('Exterior1stDummy_VinylSd', 192.03563816439058), ('GarageTypeDummy_Attchd', 189.85947436504884), ('SaleConditionDummy_Partial', 184.27196695683375), ('MasVnrTypeDummy_Stone', 184.03610844448787), ('BsmtExposure', 144.72363451797563), ('WoodDeckSF', 140.86585430643092), ('MSZoningDummy_RM', 134.16176883134375), ('NeighborhoodDummy_NoRidge', 132.3955559842825), ('LotArea', 128.91593419428554), ('2ndFlrSF', 109.93867242775089), ('HalfBath', 100.40261833966001), ('BsmtFullBath', 87.12892373688535), ('SaleTypeDummy_WD', 85.31052639934553), ('HouseStyleDummy_2Story', 82.23765170431479), ('LotShapeDummy_Reg', 80.14071656741605), ('MSZoningDummy_RL', 74.60216885474262), ('MSSubClassDummy_30', 74.4843799016323), ('ElectricalDummy_SBrkr', 73.46876325057518), ('GarageYrBlt', 71.37666227205239), ('NeighborhoodDummy_NAmes', 69.27642058113507), ('BsmtUnfSF', 67.7025146699224), ('RoofStyleDummy_Hip', 62.21998065525065), ('CentralAirDummy_Y', 59.40454330588953), ('GarageCond', 59.373701980362235), ('RoofStyleDummy_Gable', 59.28907546509946), ('MasVnrTypeDummy_BrkFace', 55.38874273377942), ('GarageTypeDummy_No_Garage', 50.88065948681454), ('NeighborhoodDummy_OldTown', 49.56283300975977), ('GarageQual', 49.315422003557686), ('GarageTypeDummy_BuiltIn', 48.46627650118985), ('PavedDriveDummy_Y', 48.103928468602035), ('NeighborhoodDummy_StoneBr', 47.68538450657678), ('NeighborhoodDummy_Edwards', 47.517651960530664), ('Exterior1stDummy_Wd Sdng', 43.66801997000028), ('Fence', 40.6273942778343), ('Exterior1stDummy_MetalSd', 39.389684101757325), ('Exterior2ndDummy_Wd Sdng', 39.34072059750292), ('Exterior2ndDummy_MetalSd', 38.17365420395155), ('SaleConditionDummy_Normal', 37.62411773544699), ('MSSubClassDummy_50', 37.364539988853174), ('NumFloors', 35.816970010129474), ('NeighborhoodDummy_Somerst', 31.65041919926823), ('NeighborhoodDummy_Sawyer', 30.893434819581763), ('OverallCond', 29.99532644109661), ('BedroomAbvGr', 29.690925192689953), ('NeighborhoodDummy_BrkSide', 27.66793877980691), ('Exterior1stDummy_HdBoard', 26.18494254898972), ('NeighborhoodDummy_IDOTRR', 25.95020331022126), ('ExterCond', 24.997355889042453), ('NeighborhoodDummy_Timber', 24.917575753687135), ('MSSubClassDummy_160', 22.99393260265859), ('Exterior2ndDummy_CmentBd', 21.759877721999278), ('EnclosedPorch', 20.340531321208857), ('FunctionalDummy_Typ', 19.83167829089936), ('NeighborhoodDummy_MeadowV', 17.846607651088274), ('Exterior1stDummy_CemntBd', 17.807967129417474), ('FoundationDummy_Slab', 17.6888816831572), ('KitchenAbvGr', 17.684015729481985), ('NeighborhoodDummy_BrDale', 17.406468420216118), ('Condition1Dummy_Feedr', 16.96510962507774), ('Condition1Dummy_Norm', 16.373720226654697), ('MSSubClassDummy_90', 16.122987222395803), ('BldgTypeDummy_Duplex', 16.122987222395803), ('Exterior2ndDummy_HdBoard', 16.09910111203495), ('ElectricalDummy_FuseF', 15.00457064545305), ('LandContourDummy_HLS', 14.695019330157034), ('LotConfigDummy_CulDSac', 14.580826358311464), ('BldgTypeDummy_Twnhs', 14.304592217582366), ('MSZoningDummy_FV', 14.085598718441283), ('MSSubClassDummy_45', 12.687372117914087), ('HouseStyleDummy_1.5Unf', 12.687372117914087), ('AlleyDummy_No_Alley_Access', 10.541105093050302), ('PavedDriveDummy_P', 10.522547576237965), ('HouseStyleDummy_SFoyer', 10.281159669468538), ('NeighborhoodDummy_CollgCr', 9.597420474177719), ('FireplaceQu', 9.562779648682076), ('Exterior1stDummy_WdShing', 9.494126050812474), ('BsmtFinType2', 8.603953047802099), ('Condition2Dummy_PosN', 8.267952127785478), ('MSZoningDummy_RH', 8.259888106818602), ('BsmtCond', 7.827518200922662), ('MiscFeatureDummy_No_Misc_Feature', 7.705646529941048), ('ScreenPorch', 7.417342583021026), ('Exterior2ndDummy_Wd Shng', 7.285948455219224), ('FunctionalDummy_Maj2', 7.2014097477500565), ('MSSubClassDummy_190', 7.187373191807548), ('BldgTypeDummy_2fmCon', 7.187373191807548), ('NeighborhoodDummy_SWISU', 7.169631390163409), ('FunctionalDummy_Min1', 7.16884510646963), ('HeatingDummy_GasA', 7.152161263500275), ('MiscFeatureDummy_Shed', 7.091341368974163), ('MSSubClassDummy_180', 7.030359969310705), ('BsmtFinType1', 6.709744387890608), ('NeighborhoodDummy_Mitchel', 5.937033371455436), ('LotShapeDummy_IR2', 5.841535424822847), ('BsmtHalfBath', 5.440711093855792), ('LotConfigDummy_Inside', 5.187007266399695), ('MoSold', 5.165874948122241), ('GarageTypeDummy_CarPort', 5.1207198908058995), ('MasVnrTypeDummy_No_MasVnr', 5.1095380105997235), ('LowQualFinSF', 5.087273652719688), ('Exterior1stDummy_BrkComm', 4.810277760507225), ('MSSubClassDummy_120', 4.62101579036956), ('MSSubClassDummy_85', 4.544943895301768), ('FunctionalDummy_Min2', 4.466589165824532), ('NeighborhoodDummy_ClearCr', 4.383247357608695), ('Exterior2ndDummy_Plywood', 4.365753661117436), ('Condition1Dummy_RRAe', 4.213205319193772), ('Exterior2ndDummy_Brk Cmn', 4.120381937742313), ('Exterior2ndDummy_Other', 3.7691335662197716), ('Condition1Dummy_PosN', 3.76479382007389), ('NeighborhoodDummy_Veenker', 3.7003321158198217), ('HouseStyleDummy_SLvl', 3.6631315096978416), ('NeighborhoodDummy_Crawfor', 3.5404099307111014), ('HeatingDummy_Grav', 3.4172498541142327), ('SaleConditionDummy_Family', 3.3391089377987626), ('HouseStyleDummy_1Story', 3.3262540903972826), ('Condition1Dummy_PosA', 3.1960336148054274), ('HeatingDummy_Wall', 3.185162914969789), ('SaleTypeDummy_Con', 3.1059642443761897), ('FunctionalDummy_Mod', 3.010176280346414), ('RoofMatlDummy_WdShake', 2.873885005227391), ('Condition2Dummy_RRNn', 2.8188419947513466), ('LandContourDummy_Low', 2.7599606910334047), ('NeighborhoodDummy_NPkVill', 2.642247287096893), ('ElectricalDummy_Mix', 2.5767541564714116), ('Condition1Dummy_RRNn', 2.5711982513702414), ('LandSlope', 2.4343359026056715), ('Exterior1stDummy_Stone', 2.374500233460411), ('SaleTypeDummy_Oth', 2.3070029654484343), ('3SsnPorch', 2.287198138645026), ('RoofMatlDummy_WdShngl', 2.2187920632602114), ('MSSubClassDummy_80', 2.210790374830151), ('NeighborhoodDummy_Gilbert', 1.8843638449409834), ('RoofMatlDummy_CompShg', 1.8533148444211078), ('Exterior1stDummy_BrkFace', 1.8516123948748413), ('SaleTypeDummy_CWD', 1.7581208841978186), ('Exterior1stDummy_AsphShn', 1.3003883791383173), ('Exterior1stDummy_ImStucc', 1.294976892556959), ('LandContourDummy_Lvl', 1.2506032512915422), ('RoofStyleDummy_Shed', 1.231692535372617), ('LotShapeDummy_IR3', 1.2087860679659834), ('HouseStyleDummy_2.5Unf', 1.190012985651512), ('Exterior2ndDummy_BrkFace', 1.1551525538627396), ('Exterior1stDummy_CBlock', 1.144822697239521), ('Exterior2ndDummy_CBlock', 1.144822697239521), ('Condition2Dummy_Feedr', 1.1365320712231235), ('Exterior2ndDummy_AsphShn', 1.1029509356121676), ('Exterior2ndDummy_ImStucc', 0.9646339523827714), ('Exterior2ndDummy_Stone', 0.8874645749815381), ('FoundationDummy_Stone', 0.8375275165501077), ('MiscVal', 0.8063649915379362), ('GarageTypeDummy_Basment', 0.7630617585212748), ('NeighborhoodDummy_Blueste', 0.7516915253920713), ('Exterior1stDummy_Plywood', 0.6758295372235673), ('HeatingDummy_GasW', 0.613931477787359), ('SaleConditionDummy_AdjLand', 0.5998239270408313), ('LotConfigDummy_FR3', 0.5945975995416944), ('NeighborhoodDummy_SawyerW', 0.5472914697940235), ('NeighborhoodDummy_NWAmes', 0.4931898115756794), ('Exterior2ndDummy_Stucco', 0.47215470185307595), ('MSSubClassDummy_70', 0.4706860021180169), ('MiscFeatureDummy_Othr', 0.45701199524814756), ('Condition2Dummy_Norm', 0.44575383003060837), ('Condition2Dummy_RRAn', 0.38577598540285846), ('AlleyDummy_Pave', 0.3848145771312106), ('RoofMatlDummy_Roll', 0.38411819623332083), ('UtilitiesDummy_NoSeWa', 0.37545187627620175), ('SaleTypeDummy_ConLI', 0.36944886800003374), ('StreetDummy_Pave', 0.3209583906403286), ('RoofStyleDummy_Gambrel', 0.28091679613807924), ('BsmtFinSF2', 0.24926296923588398), ('SaleConditionDummy_Alloca', 0.23384373124363805), ('hasBeenRemodeled', 0.22687663752292486), ('HouseStyleDummy_2.5Fin', 0.22646008905531329), ('SaleTypeDummy_ConLw', 0.21464415857226024), ('SaleTypeDummy_ConLD', 0.15383827005274586), ('MSSubClassDummy_75', 0.13342346788444334), ('Condition1Dummy_RRAn', 0.04526094405324876), ('Condition1Dummy_RRNe', 0.03694901407169351), ('BldgTypeDummy_TwnhsE', 0.03365271437484469), ('RoofMatlDummy_Tar&Grv', 0.012578315912125616), ('FoundationDummy_Wood', 0.012465912488137209), ('LotConfigDummy_FR2', 0.010229133417645662), ('PoolArea', 0.009043682876798862), ('YrSold', 0.005607770523707388), ('PoolQC', 0.004156940183308607), ('Exterior1stDummy_Stucco', 0.0010950101188830713), ('RoofStyleDummy_Mansard', 0.0007925643335385547), ('MSSubClassDummy_40', 0.00020130441277088341)]\n"
     ]
    },
    {
     "name": "stderr",
     "output_type": "stream",
     "text": [
      "/Users/baileyrusso/opt/anaconda3/lib/python3.8/site-packages/seaborn/_decorators.py:36: FutureWarning: Pass the following variables as keyword args: x, y. From version 0.12, the only valid positional argument will be `data`, and passing other arguments without an explicit keyword will result in an error or misinterpretation.\n",
      "  warnings.warn(\n"
     ]
    },
    {
     "data": {
      "image/png": "[encoded data removed]",
      "text/plain": [
       "<Figure size 936x648 with 1 Axes>"
      ]
     },
     "metadata": {
      "needs_background": "light"
     },
     "output_type": "display_data"
    }
   ],
   "source": [
    "get_k_best(50, X=train.loc[:, train.columns != 'SalePrice'], y=train['SalePrice'])"
   ]
  },
  {
   "cell_type": "code",
   "execution_count": 16,
   "metadata": {},
   "outputs": [
    {
     "name": "stdout",
     "output_type": "stream",
     "text": [
      "[('OverallQual', 2360.433102753024), ('GrLivArea', 1506.6357943787477), ('GarageCars', 1066.092078723424), ('GarageArea', 892.7159453232059), ('ExterQual', 892.7152545427457), ('TotalBsmtSF', 813.2347707795753), ('BsmtQual', 811.6598942269751), ('KitchenQual', 775.4427446273082), ('1stFlrSF', 755.7826568216705), ('FullBath', 691.9751530523282), ('YearBuilt', 651.826224668733), ('TotRmsAbvGrd', 530.8246686241567), ('YearRemodAdd', 523.414716009858), ('GarageFinish', 355.18249321901857), ('Foundation', 342.60283373024663), ('GarageType', 316.55431958618595), ('Fireplaces', 309.9815441844484), ('HeatingQC', 298.668316382457), ('MasVnrArea', 297.5528169115773), ('LotFrontage', 197.70004607174042), ('BsmtFinSF1', 194.20674450716456), ('OpenPorchSF', 191.4801681393852), ('WoodDeckSF', 163.26962225030758), ('BsmtExposure', 139.38370857477415), ('LotArea', 137.77398840852447), ('2ndFlrSF', 128.59504791300907), ('HalfBath', 111.3024630951478), ('BsmtFullBath', 80.40825407573581), ('LotShape', 76.06077154319946), ('GarageYrBlt', 72.53485437979282), ('Electrical', 68.94402126412601), ('MSZoning', 67.80335889729433), ('BsmtUnfSF', 65.30274996821616), ('CentralAir', 63.128688786682666), ('SaleCondition', 62.70658064985543), ('GarageCond', 57.16388020243942), ('HouseStyle', 54.59404446995238), ('PavedDrive', 53.191764057740215), ('Neighborhood', 50.28907378522211), ('BedroomAbvGr', 49.29847774528621), ('GarageQual', 47.426534405133296), ('Fence', 43.04565754968072), ('RoofStyle', 37.14746487151699), ('NumFloors', 36.48134045095471), ('EnclosedPorch', 34.91851057518673), ('OverallCond', 34.2117713362056), ('Exterior2nd', 30.41507281709622), ('Exterior1st', 22.485749305944474), ('ExterCond', 20.053169062209367), ('Functional', 18.659369710917815), ('KitchenAbvGr', 16.40493302154543), ('MasVnrType', 13.14956799726043), ('BsmtFinType2', 12.455224745983834), ('Condition1', 12.442550135477115), ('MiscFeature', 9.8486868945554), ('Alley', 9.21090037716442), ('BsmtFinType1', 8.09256849037737), ('MoSold', 8.085436235698866), ('BldgType', 7.141888704536293), ('FireplaceQu', 5.6169867198073495), ('BsmtCond', 5.132638179485697), ('Heating', 5.049104346752487), ('LowQualFinSF', 4.780714146130884), ('BsmtHalfBath', 4.769910112992343), ('LotConfig', 4.422410967152205), ('ScreenPorch', 4.004981643110587), ('BsmtFinSF2', 3.506958323691612), ('3SsnPorch', 3.4988094896859474), ('RoofMatl', 2.8967059547200216), ('SaleType', 2.755825200690039), ('hasBeenRemodeled', 2.0312401805003497), ('LandSlope', 1.8236284104150382), ('MSSubClass', 1.6889984270597873), ('MiscVal', 1.1425493851015183), ('Condition2', 1.1290270301870216), ('Street', 0.9010511403276952), ('LandContour', 0.3333405986781549), ('YrSold', 0.22372680400812103), ('PoolArea', 0.002186725207203335), ('PoolQC', 0.0002810416424181023)]\n"
     ]
    },
    {
     "name": "stderr",
     "output_type": "stream",
     "text": [
      "/Users/baileyrusso/opt/anaconda3/lib/python3.8/site-packages/seaborn/_decorators.py:36: FutureWarning: Pass the following variables as keyword args: x, y. From version 0.12, the only valid positional argument will be `data`, and passing other arguments without an explicit keyword will result in an error or misinterpretation.\n",
      "  warnings.warn(\n"
     ]
    },
    {
     "data": {
      "image/png": "[encoded data removed]",
      "text/plain": [
       "<Figure size 936x648 with 1 Axes>"
      ]
     },
     "metadata": {
      "needs_background": "light"
     },
     "output_type": "display_data"
    }
   ],
   "source": [
    "get_k_best(50, X=train_ord.loc[:, train_ord.columns != 'SalePrice'], y=train_ord['SalePrice'])"
   ]
  },
  {
   "cell_type": "markdown",
   "metadata": {},
   "source": [
    "## Model Feature Selection"
   ]
  },
  {
   "cell_type": "code",
   "execution_count": null,
   "metadata": {},
   "outputs": [],
   "source": [
    "def getFeatureImportance(num, cols, features_importances_, sort):\n",
    "    \n",
    "    feature_importances = zip(cols, features_importances_)\n",
    "    sorted_importance = sorted(list(feature_importances),key= lambda x: abs(x[1]),reverse=False if sort == 'ascending' else True)\n",
    "\n",
    "    f, ax = plt.subplots(figsize=(13, 9))\n",
    "    sns.barplot([x[0] for x in sorted_importance[:num]], [x[1] for x in sorted_importance[:num]])\n",
    "    plt.xticks(rotation=90)\n",
    "    \n",
    "    return sorted_importance"
   ]
  },
  {
   "cell_type": "markdown",
   "metadata": {},
   "source": [
    "### Random Forest"
   ]
  },
  {
   "cell_type": "code",
   "execution_count": null,
   "metadata": {},
   "outputs": [],
   "source": [
    "model = RandomForestRegressor()\n",
    "params = {'n_estimators':[100], 'max_features':['auto', 'sqrt']}\n",
    "gridRf = GridSearchCV(model, param_grid=params, cv=5)\n",
    "gridRf.fit(X, y)"
   ]
  },
  {
   "cell_type": "code",
   "execution_count": null,
   "metadata": {},
   "outputs": [],
   "source": [
    "gridRf.cv_results_"
   ]
  },
  {
   "cell_type": "code",
   "execution_count": null,
   "metadata": {},
   "outputs": [],
   "source": [
    "gridRf.best_params_"
   ]
  },
  {
   "cell_type": "code",
   "execution_count": null,
   "metadata": {},
   "outputs": [],
   "source": [
    "gridRf.best_score_"
   ]
  },
  {
   "cell_type": "code",
   "execution_count": null,
   "metadata": {},
   "outputs": [],
   "source": [
    "getFeatureImportance(50, train.columns, gridRf.best_estimator_.feature_importances_, '')"
   ]
  },
  {
   "cell_type": "markdown",
   "metadata": {},
   "source": [
    "### Ridge Regression"
   ]
  },
  {
   "cell_type": "code",
   "execution_count": null,
   "metadata": {},
   "outputs": [],
   "source": [
    "scaler = StandardScaler()\n",
    "X_Scaled = scaler.fit_transform(train.loc[:, train.columns != 'SalePrice'])\n",
    "X_Scaled = pd.DataFrame(X_Scaled, columns = train.columns[train.columns != 'SalePrice'])"
   ]
  },
  {
   "cell_type": "code",
   "execution_count": null,
   "metadata": {},
   "outputs": [],
   "source": [
    "model = Ridge()\n",
    "params = {'alpha':[0.1,1,10,50,75,100,1000,2000]}\n",
    "gridRidge = GridSearchCV(model, param_grid=params, cv=5)\n",
    "gridRidge.fit(X_Scaled, y)"
   ]
  },
  {
   "cell_type": "code",
   "execution_count": null,
   "metadata": {},
   "outputs": [],
   "source": [
    "gridRidge.cv_results_"
   ]
  },
  {
   "cell_type": "code",
   "execution_count": null,
   "metadata": {},
   "outputs": [],
   "source": [
    "gridRidge.best_params_"
   ]
  },
  {
   "cell_type": "code",
   "execution_count": null,
   "metadata": {},
   "outputs": [],
   "source": [
    "gridRidge.best_score_"
   ]
  },
  {
   "cell_type": "code",
   "execution_count": null,
   "metadata": {},
   "outputs": [],
   "source": [
    "gridRidge.best_estimator_.coef_"
   ]
  },
  {
   "cell_type": "code",
   "execution_count": null,
   "metadata": {},
   "outputs": [],
   "source": [
    "getFeatureImportance(50, train.columns, gridRidge.best_estimator_.coef_,'descending')"
   ]
  },
  {
   "cell_type": "markdown",
   "metadata": {},
   "source": [
    "### Lasso Regression"
   ]
  },
  {
   "cell_type": "code",
   "execution_count": null,
   "metadata": {},
   "outputs": [],
   "source": [
    "model = Lasso()\n",
    "params = {'alpha':[0.1,1,10,50,75,100,1000,2000],'max_iter':[1000]}\n",
    "gridLasso = GridSearchCV(model, param_grid=params, cv=5)\n",
    "gridLasso.fit(X_Scaled, y)"
   ]
  },
  {
   "cell_type": "code",
   "execution_count": null,
   "metadata": {},
   "outputs": [],
   "source": [
    "gridLasso.cv_results_"
   ]
  },
  {
   "cell_type": "code",
   "execution_count": null,
   "metadata": {},
   "outputs": [],
   "source": [
    "gridLasso.best_params_"
   ]
  },
  {
   "cell_type": "code",
   "execution_count": null,
   "metadata": {},
   "outputs": [],
   "source": [
    "gridLasso.best_score_"
   ]
  },
  {
   "cell_type": "code",
   "execution_count": null,
   "metadata": {},
   "outputs": [],
   "source": [
    "getFeatureImportance(50, train.columns, gridLasso.best_estimator_.coef_, '')"
   ]
  },
  {
   "cell_type": "markdown",
   "metadata": {},
   "source": [
    "## Value Counts"
   ]
  },
  {
   "cell_type": "code",
   "execution_count": null,
   "metadata": {},
   "outputs": [],
   "source": [
    "train_org = pd.read_csv('train.csv')"
   ]
  },
  {
   "cell_type": "code",
   "execution_count": null,
   "metadata": {},
   "outputs": [],
   "source": [
    "def getValueCounts(cols, data):\n",
    "    f, axes = plt.subplots(round(len(cols)/2)+1, 2, figsize=(10,80))\n",
    "    rowIdx = 0\n",
    "    colIdx = 0\n",
    "    for col in cols:\n",
    "        if colIdx > 1:\n",
    "            rowIdx = rowIdx + 1\n",
    "            colIdx = 0\n",
    "        value_counts = data[col].value_counts()\n",
    "        ax = sns.barplot(x=value_counts.index, y=value_counts, data=data, ax=axes[rowIdx,colIdx]).set_title(col)\n",
    "        colIdx += 1\n",
    "    f.tight_layout()"
   ]
  },
  {
   "cell_type": "code",
   "execution_count": null,
   "metadata": {},
   "outputs": [],
   "source": [
    "cat_cols = train_org.columns[train_org.dtypes == 'object'] | train_org.columns[train_org.columns == 'MSSubClass']\n",
    "getValueCounts(cat_cols, train_org)"
   ]
  },
  {
   "cell_type": "code",
   "execution_count": null,
   "metadata": {},
   "outputs": [],
   "source": [
    "colsToDrop = ['BldgType','BsmtCond','BsmtFinType2','CentralAir','Condition1','Condition2','Electrical',\n",
    "              'ExterCond','Functional','GarageCond','GarageQual','Heating','LandContour','LandSlope',\n",
    "              'MiscFeature','PavedDrive','RoofMatl','Street','Utilities','SaleType','MSSubClass']"
   ]
  },
  {
   "cell_type": "code",
   "execution_count": null,
   "metadata": {},
   "outputs": [],
   "source": [
    "for col in colsToDrop:\n",
    "    train = train[train.columns.drop(list(train.filter(regex=col)))]\n"
   ]
  },
  {
   "cell_type": "code",
   "execution_count": null,
   "metadata": {},
   "outputs": [],
   "source": [
    "X = train.loc[:, train.columns != 'SalePrice']"
   ]
  },
  {
   "cell_type": "code",
   "execution_count": null,
   "metadata": {},
   "outputs": [],
   "source": [
    "scaler = StandardScaler()\n",
    "X_Scaled = scaler.fit_transform(train.loc[:, train.columns != 'SalePrice'])\n",
    "X_Scaled = pd.DataFrame(X_Scaled, columns = train.columns[train.columns != 'SalePrice'])\n",
    "y = train['SalePrice']"
   ]
  },
  {
   "cell_type": "markdown",
   "metadata": {},
   "source": [
    "## Random Forest on Subset"
   ]
  },
  {
   "cell_type": "code",
   "execution_count": null,
   "metadata": {},
   "outputs": [],
   "source": [
    "model = RandomForestRegressor()\n",
    "params = {'n_estimators':[100], 'max_features':['auto', 'sqrt']}\n",
    "gridRf = GridSearchCV(model, param_grid=params, cv=5)\n",
    "gridRf.fit(X, y)"
   ]
  },
  {
   "cell_type": "code",
   "execution_count": null,
   "metadata": {},
   "outputs": [],
   "source": [
    "gridRf.best_score_"
   ]
  },
  {
   "cell_type": "markdown",
   "metadata": {},
   "source": [
    "## Ridge on Subset"
   ]
  },
  {
   "cell_type": "code",
   "execution_count": null,
   "metadata": {},
   "outputs": [],
   "source": [
    "model = Ridge()\n",
    "params = {'alpha':[0.1,1,10,50,75,100,1000,2000],'max_iter':[1000]}\n",
    "gridRidge = GridSearchCV(model, param_grid=params, cv=5)\n",
    "gridRidge.fit(X_Scaled, y)"
   ]
  },
  {
   "cell_type": "code",
   "execution_count": null,
   "metadata": {},
   "outputs": [],
   "source": [
    "gridRidge.best_score_"
   ]
  },
  {
   "cell_type": "markdown",
   "metadata": {},
   "source": [
    "## Lasso on Subset"
   ]
  },
  {
   "cell_type": "code",
   "execution_count": null,
   "metadata": {},
   "outputs": [],
   "source": [
    "model = Lasso()\n",
    "params = {'alpha':[0.1,1,10,50,75,100,1000,2000],'max_iter':[1000]}\n",
    "gridLasso = GridSearchCV(model, param_grid=params, cv=5)\n",
    "gridLasso.fit(X_Scaled, y)"
   ]
  },
  {
   "cell_type": "code",
   "execution_count": null,
   "metadata": {},
   "outputs": [],
   "source": [
    "gridLasso.best_score_"
   ]
  },
  {
   "cell_type": "markdown",
   "metadata": {},
   "source": [
    "## Correlation between variables"
   ]
  },
  {
   "cell_type": "markdown",
   "metadata": {},
   "source": [
    "### Correlation Matrix"
   ]
  },
  {
   "cell_type": "code",
   "execution_count": null,
   "metadata": {},
   "outputs": [],
   "source": [
    "corr = X.corr()"
   ]
  },
  {
   "cell_type": "code",
   "execution_count": null,
   "metadata": {},
   "outputs": [],
   "source": [
    "def get_redundant_pairs(df):\n",
    "    '''Get diagonal and lower triangular pairs of correlation matrix'''\n",
    "    pairs_to_drop = set()\n",
    "    cols = df.columns\n",
    "    for i in range(0, df.shape[1]):\n",
    "        for j in range(0, i+1):\n",
    "            pairs_to_drop.add((cols[i], cols[j]))\n",
    "    return pairs_to_drop\n",
    "\n",
    "def get_top_abs_correlations(df, n=5):\n",
    "    au_corr = df.corr().abs().unstack()\n",
    "    labels_to_drop = get_redundant_pairs(df)\n",
    "    au_corr = au_corr.drop(labels=labels_to_drop).sort_values(ascending=False)\n",
    "    return au_corr[0:n]\n",
    "\n",
    "print(\"Top Absolute Correlations\")\n",
    "mostCorrelatedFeat = get_top_abs_correlations(corr, 1000)\n"
   ]
  },
  {
   "cell_type": "code",
   "execution_count": null,
   "metadata": {},
   "outputs": [],
   "source": [
    "mostCorrelatedFeat.head(50)"
   ]
  },
  {
   "cell_type": "code",
   "execution_count": null,
   "metadata": {},
   "outputs": [],
   "source": [
    "colsToDrop = ['Exterior2nd']\n",
    "for col in colsToDrop:\n",
    "    train = train[train.columns.drop(list(train.filter(regex=col)))]"
   ]
  },
  {
   "cell_type": "code",
   "execution_count": null,
   "metadata": {},
   "outputs": [],
   "source": [
    "X = train.loc[:, train.columns != 'SalePrice']"
   ]
  },
  {
   "cell_type": "markdown",
   "metadata": {},
   "source": [
    "### Variance Inflation Factor"
   ]
  },
  {
   "cell_type": "code",
   "execution_count": null,
   "metadata": {},
   "outputs": [],
   "source": [
    "constant = np.ones((X.shape[0], 1))\n",
    "X['constant'] = constant"
   ]
  },
  {
   "cell_type": "code",
   "execution_count": null,
   "metadata": {},
   "outputs": [],
   "source": [
    "vifs = zip(X.columns, [variance_inflation_factor(X.values, i) for i in range(len(X.columns))])"
   ]
  },
  {
   "cell_type": "code",
   "execution_count": null,
   "metadata": {},
   "outputs": [],
   "source": [
    "list(vifs)"
   ]
  },
  {
   "cell_type": "code",
   "execution_count": null,
   "metadata": {},
   "outputs": [],
   "source": [
    "X[['BsmtFinSF1','BsmtFinSF2','BsmtUnfSF','TotalBsmtSF']]"
   ]
  },
  {
   "cell_type": "code",
   "execution_count": null,
   "metadata": {},
   "outputs": [],
   "source": [
    "X[['GrLivArea','1stFlrSF','2ndFlrSF','LowQualFinSF']]"
   ]
  },
  {
   "cell_type": "code",
   "execution_count": null,
   "metadata": {},
   "outputs": [],
   "source": [
    "train = train.drop(['GrLivArea','TotalBsmtSF','OverallQual','GarageArea','PoolArea','PoolQC'], axis=1)"
   ]
  },
  {
   "cell_type": "code",
   "execution_count": null,
   "metadata": {},
   "outputs": [],
   "source": [
    "X = train.loc[:,train.columns != 'SalePrice']"
   ]
  },
  {
   "cell_type": "markdown",
   "metadata": {},
   "source": [
    "### Variance Inflation Factor on Subset"
   ]
  },
  {
   "cell_type": "code",
   "execution_count": null,
   "metadata": {},
   "outputs": [],
   "source": [
    "vifs = zip(X.columns, [variance_inflation_factor(X.values, i) for i in range(len(X.columns))])"
   ]
  },
  {
   "cell_type": "code",
   "execution_count": null,
   "metadata": {},
   "outputs": [],
   "source": [
    "list(vifs)"
   ]
  },
  {
   "cell_type": "markdown",
   "metadata": {},
   "source": [
    "### Correlation Matrix on Subset"
   ]
  },
  {
   "cell_type": "code",
   "execution_count": null,
   "metadata": {},
   "outputs": [],
   "source": [
    "corr = X.corr()"
   ]
  },
  {
   "cell_type": "code",
   "execution_count": null,
   "metadata": {},
   "outputs": [],
   "source": [
    "mostCorrelatedFeat = get_top_abs_correlations(corr, 1000)\n",
    "mostCorrelatedFeat.head(50)"
   ]
  },
  {
   "cell_type": "code",
   "execution_count": null,
   "metadata": {},
   "outputs": [],
   "source": [
    "scaler = StandardScaler()\n",
    "X_Scaled = scaler.fit_transform(train.loc[:, train.columns != 'SalePrice'])\n",
    "X_Scaled = pd.DataFrame(X_Scaled, columns = train.columns[train.columns != 'SalePrice'])\n",
    "y = train['SalePrice']"
   ]
  },
  {
   "cell_type": "code",
   "execution_count": null,
   "metadata": {},
   "outputs": [],
   "source": [
    "model = Lasso()\n",
    "params = {'alpha':[0.1,1,10,50,75,100,1000,2000],'max_iter':[1000]}\n",
    "gridLasso = GridSearchCV(model, param_grid=params, cv=5)\n",
    "gridLasso.fit(X_Scaled, y)\n"
   ]
  },
  {
   "cell_type": "code",
   "execution_count": null,
   "metadata": {},
   "outputs": [],
   "source": [
    "list(zip(X_Scaled.columns,gridLasso.best_estimator_.coef_))"
   ]
  },
  {
   "cell_type": "code",
   "execution_count": null,
   "metadata": {},
   "outputs": [],
   "source": [
    "stats.summary(gridLasso.best_estimator_, X_Scaled, y)"
   ]
  },
  {
   "cell_type": "code",
   "execution_count": null,
   "metadata": {},
   "outputs": [],
   "source": []
  }
 ],
 "metadata": {
  "kernelspec": {
   "display_name": "Python 3",
   "language": "python",
   "name": "python3"
  },
  "language_info": {
   "codemirror_mode": {
    "name": "ipython",
    "version": 3
   },
   "file_extension": ".py",
   "mimetype": "text/x-python",
   "name": "python",
   "nbconvert_exporter": "python",
   "pygments_lexer": "ipython3",
   "version": "3.8.3"
  }
 },
 "nbformat": 4,
 "nbformat_minor": 4
}

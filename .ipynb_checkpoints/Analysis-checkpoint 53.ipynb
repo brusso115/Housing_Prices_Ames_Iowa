{
 "cells": [
  {
   "cell_type": "code",
   "execution_count": 1,
   "metadata": {},
   "outputs": [],
   "source": [
    "import pandas as pd\n",
    "import numpy as np\n",
    "from sklearn.ensemble import IsolationForest, GradientBoostingRegressor, RandomForestRegressor\n",
    "from sklearn.model_selection import GridSearchCV\n",
    "from sklearn.preprocessing import StandardScaler\n",
    "from sklearn.linear_model import Ridge, Lasso\n",
    "from sklearn.feature_selection import SelectKBest, f_regression\n",
    "from statsmodels.stats.outliers_influence import variance_inflation_factor\n",
    "from regressors import stats\n",
    "import statsmodels.api as sm\n",
    "import matplotlib.pyplot as plt\n",
    "import seaborn as sns"
   ]
  },
  {
   "cell_type": "code",
   "execution_count": 2,
   "metadata": {},
   "outputs": [],
   "source": [
    "train = pd.read_csv('train_filled_na.csv')\n",
    "train_ord = pd.read_csv('train_filled_na_ord.csv')"
   ]
  },
  {
   "cell_type": "code",
   "execution_count": 3,
   "metadata": {},
   "outputs": [],
   "source": [
    "train.drop('Id', axis = 1, inplace=True)\n",
    "train_ord.drop('Id', axis = 1, inplace=True)"
   ]
  },
  {
   "cell_type": "code",
   "execution_count": 4,
   "metadata": {},
   "outputs": [],
   "source": [
    "allZeroCols = train.columns[(train == 0).all()].to_list()\n",
    "train = train.drop(allZeroCols, axis=1)"
   ]
  },
  {
   "cell_type": "code",
   "execution_count": 5,
   "metadata": {},
   "outputs": [],
   "source": [
    "allZeroCols = train_ord.columns[(train_ord == 0).all()].to_list()\n",
    "train_ord = train_ord.drop(allZeroCols, axis=1)"
   ]
  },
  {
   "cell_type": "code",
   "execution_count": 17,
   "metadata": {},
   "outputs": [
    {
     "data": {
      "text/plain": [
       "[]"
      ]
     },
     "execution_count": 17,
     "metadata": {},
     "output_type": "execute_result"
    }
   ],
   "source": []
  },
  {
   "cell_type": "markdown",
   "metadata": {},
   "source": [
    "# Outlier Detection"
   ]
  },
  {
   "cell_type": "markdown",
   "metadata": {},
   "source": [
    "## Train w/ dummies"
   ]
  },
  {
   "cell_type": "code",
   "execution_count": 6,
   "metadata": {},
   "outputs": [],
   "source": [
    "iso = IsolationForest(contamination=0.1)\n",
    "yhat = iso.fit_predict(train)"
   ]
  },
  {
   "cell_type": "code",
   "execution_count": 7,
   "metadata": {},
   "outputs": [],
   "source": [
    "mask = yhat != -1"
   ]
  },
  {
   "cell_type": "code",
   "execution_count": 8,
   "metadata": {},
   "outputs": [],
   "source": [
    "train = train.loc[mask, :]"
   ]
  },
  {
   "cell_type": "code",
   "execution_count": 9,
   "metadata": {},
   "outputs": [],
   "source": [
    "# X = train.loc[:, train.columns != 'SalePrice']\n",
    "# y = train['SalePrice']"
   ]
  },
  {
   "cell_type": "markdown",
   "metadata": {},
   "source": [
    "## Train w/out dummies"
   ]
  },
  {
   "cell_type": "code",
   "execution_count": 10,
   "metadata": {},
   "outputs": [],
   "source": [
    "iso = IsolationForest(contamination=0.1)\n",
    "yhat = iso.fit_predict(train_ord)"
   ]
  },
  {
   "cell_type": "code",
   "execution_count": 11,
   "metadata": {},
   "outputs": [],
   "source": [
    "mask = yhat != -1"
   ]
  },
  {
   "cell_type": "code",
   "execution_count": 12,
   "metadata": {},
   "outputs": [],
   "source": [
    "train_ord = train_ord.loc[mask, :]"
   ]
  },
  {
   "cell_type": "code",
   "execution_count": 13,
   "metadata": {},
   "outputs": [],
   "source": [
    "# X = train_ord.loc[:, train_ord.columns != 'SalePrice']\n",
    "# y = train_ord['SalePrice']"
   ]
  },
  {
   "cell_type": "markdown",
   "metadata": {},
   "source": [
    "# Feature Selection"
   ]
  },
  {
   "cell_type": "markdown",
   "metadata": {},
   "source": [
    "## Select K Best"
   ]
  },
  {
   "cell_type": "code",
   "execution_count": 14,
   "metadata": {},
   "outputs": [],
   "source": [
    "def get_k_best(k, X, y):\n",
    "    k_best = SelectKBest(f_regression, k=k).fit(X, y)\n",
    "    X[X.columns[k_best.get_support()]]\n",
    "\n",
    "    k_best_scores = zip(X.columns, k_best.scores_)\n",
    "    sorted_coef_importance = sorted(list(k_best_scores),key= lambda x: x[1],reverse=True)\n",
    "    sorted_coef_importance\n",
    "    print(sorted_coef_importance)\n",
    "    f, ax = plt.subplots(figsize=(13, 9))\n",
    "    sns.barplot([x[0] for x in sorted_coef_importance[:k]], [x[1] for x in sorted_coef_importance[:k]])\n",
    "    plt.xticks(rotation=90)"
   ]
  },
  {
   "cell_type": "code",
   "execution_count": 15,
   "metadata": {},
   "outputs": [
    {
     "name": "stderr",
     "output_type": "stream",
     "text": [
      "/Users/baileyrusso/opt/anaconda3/lib/python3.8/site-packages/sklearn/feature_selection/_univariate_selection.py:302: RuntimeWarning: invalid value encountered in true_divide\n",
      "  corr /= X_norms\n",
      "/Users/baileyrusso/opt/anaconda3/lib/python3.8/site-packages/seaborn/_decorators.py:36: FutureWarning: Pass the following variables as keyword args: x, y. From version 0.12, the only valid positional argument will be `data`, and passing other arguments without an explicit keyword will result in an error or misinterpretation.\n",
      "  warnings.warn(\n"
     ]
    },
    {
     "name": "stdout",
     "output_type": "stream",
     "text": [
      "[('OverallQual', 2364.163378832908), ('GrLivArea', 1557.8149065712896), ('GarageCars', 987.6799842322013), ('GarageArea', 875.894597825676), ('ExterQual', 822.6495354372443), ('TotalBsmtSF', 801.1278294832146), ('1stFlrSF', 736.9226094688165), ('BsmtQual', 705.7877002358167), ('FullBath', 686.8598537354171), ('KitchenQual', 660.8478302172974), ('YearBuilt', 621.7805330961695), ('TotRmsAbvGrd', 541.8249145409987), ('YearRemodAdd', 515.9464343305278), ('Fireplaces', 355.147442329978), ('GarageFinish', 294.95220005318544), ('MasVnrArea', 291.95037583010577), ('HeatingQC', 271.08048913341605), ('MSSubClassDummy_60', 241.50715443919748), ('LotFrontage', 217.22152023676566), ('NeighborhoodDummy_NridgHt', 203.13323483578566), ('BsmtFinSF1', 191.80434337846165), ('NeighborhoodDummy_NoRidge', 167.60344747694432), ('WoodDeckSF', 167.46485938499245), ('MSZoningDummy_RM', 165.23571422815613), ('OpenPorchSF', 164.9871494605077), ('LotArea', 145.03328149826066), ('2ndFlrSF', 143.39466398173363), ('BsmtExposure', 131.9415602164614), ('HalfBath', 106.71159202199622), ('MSZoningDummy_RL', 104.30686753422339), ('LotShapeDummy_Reg', 97.50989222278427), ('MSSubClassDummy_30', 92.13886758219573), ('GarageYrBlt', 85.83912731847667), ('BsmtFullBath', 74.4636878030162), ('GarageCond', 68.03622678815266), ('NeighborhoodDummy_OldTown', 65.85609648603858), ('NeighborhoodDummy_NAmes', 65.75456905228091), ('BsmtUnfSF', 65.60429843261497), ('GarageQual', 63.34926262287351), ('BedroomAbvGr', 52.98062128925051), ('NeighborhoodDummy_Edwards', 46.59645332133701), ('NumFloors', 43.701499158198395), ('NeighborhoodDummy_StoneBr', 39.97301845244458), ('MSSubClassDummy_50', 34.40285054845941), ('NeighborhoodDummy_Somerst', 34.062537753071176), ('Fence', 34.025858297800454), ('NeighborhoodDummy_Timber', 33.50685398164471), ('NeighborhoodDummy_BrkSide', 29.187084431996436), ('NeighborhoodDummy_IDOTRR', 29.183855636582827), ('NeighborhoodDummy_Sawyer', 28.61433756114295), ('NeighborhoodDummy_MeadowV', 24.319429637831497), ('MSSubClassDummy_160', 22.634808811230947), ('ExterCond', 22.234395853827507), ('EnclosedPorch', 21.895391305481617), ('AlleyDummy_No_Alley_Access', 20.37774571923896), ('OverallCond', 20.34029890695776), ('KitchenAbvGr', 19.64588480975605), ('NeighborhoodDummy_BrDale', 19.46434106310496), ('Condition1Dummy_Norm', 17.82916630936074), ('NeighborhoodDummy_CollgCr', 17.184609744936246), ('LandContourDummy_HLS', 15.232572242416833), ('MSSubClassDummy_90', 15.043043691304433), ('MSZoningDummy_FV', 14.45344653273352), ('LotConfigDummy_CulDSac', 14.107243029866078), ('MSSubClassDummy_180', 12.792425044824157), ('Condition1Dummy_Feedr', 12.02599858390851), ('BsmtFinType2', 11.997447990752933), ('MSSubClassDummy_45', 10.645314337338785), ('BsmtCond', 10.25814029764439), ('BsmtFinType1', 8.36842281362555), ('LotShapeDummy_IR2', 8.07680106841342), ('NeighborhoodDummy_ClearCr', 7.678653371294054), ('NeighborhoodDummy_Crawfor', 7.5529536378071835), ('NeighborhoodDummy_SWISU', 7.060964299398297), ('MSZoningDummy_RH', 6.802763646578028), ('MSSubClassDummy_190', 6.662635368045926), ('LowQualFinSF', 6.399021216496406), ('LotConfigDummy_Inside', 5.956822448898284), ('LandContourDummy_Low', 4.913313900284125), ('MoSold', 4.541345419174894), ('NeighborhoodDummy_Gilbert', 4.463527365095571), ('MSSubClassDummy_85', 4.365694054989387), ('BsmtHalfBath', 4.176260645104421), ('ScreenPorch', 4.13438632422997), ('LandSlope', 4.053357078691991), ('NeighborhoodDummy_Mitchel', 3.88805502313446), ('MSSubClassDummy_120', 3.7239299148533904), ('NeighborhoodDummy_Veenker', 3.719621156335614), ('Condition1Dummy_PosA', 3.5359393550247615), ('FireplaceQu', 2.749712733052073), ('NeighborhoodDummy_SawyerW', 2.6002793027604056), ('NeighborhoodDummy_NPkVill', 2.379849787204828), ('LotConfigDummy_FR3', 2.358124327995344), ('BsmtFinSF2', 2.1155538364126887), ('LotShapeDummy_IR3', 1.8094385524563128), ('NeighborhoodDummy_NWAmes', 1.6179102575913922), ('StreetDummy_Pave', 1.5718051258709385), ('LandContourDummy_Lvl', 1.5163859810344291), ('MSSubClassDummy_75', 1.2330605733190614), ('MiscVal', 1.153216438835137), ('AlleyDummy_Pave', 1.1319510664435815), ('3SsnPorch', 1.082369919734744), ('MSSubClassDummy_70', 0.9420095383566385), ('MSSubClassDummy_80', 0.9375372109423935), ('hasBeenRemodeled', 0.7270369999772572), ('NeighborhoodDummy_Blueste', 0.6984498497231), ('MSSubClassDummy_40', 0.38425141891716974), ('UtilitiesDummy_NoSeWa', 0.34886601903158954), ('YrSold', 0.08242276668490627), ('LotConfigDummy_FR2', 0.0030380698849953426), ('PoolQC', 0.0004326300114950632), ('PoolArea', 5.417701112988019e-05), ('Condition2Dummy_PosA', nan), ('Condition2Dummy_PosN', nan), ('Condition2Dummy_RRAe', nan), ('RoofMatlDummy_Membran', nan), ('RoofMatlDummy_Metal', nan), ('Exterior1stDummy_AsphShn', nan), ('FoundationDummy_PConc', 518.5595039892203), ('FoundationDummy_CBlock', 229.64867793012115), ('Exterior1stDummy_VinylSd', 215.88524133700236), ('HouseStyleDummy_2Story', 101.07398209063939), ('RoofStyleDummy_Hip', 47.66433543458651), ('Exterior1stDummy_MetalSd', 46.23823844253471), ('Exterior2ndDummy_MetalSd', 45.53472357626537), ('Exterior1stDummy_Wd Sdng', 44.947591458876325), ('RoofStyleDummy_Gable', 44.712317279318526), ('Exterior1stDummy_HdBoard', 19.266758048695575), ('BldgTypeDummy_Twnhs', 16.993099671000696), ('BldgTypeDummy_Duplex', 15.043043691304433), ('HouseStyleDummy_SFoyer', 14.16967955388628), ('HouseStyleDummy_1.5Unf', 11.437705233608101), ('Exterior2ndDummy_HdBoard', 10.827188543776483), ('BldgTypeDummy_2fmCon', 8.006315614715026), ('Exterior1stDummy_WdShing', 7.962953302123389), ('HouseStyleDummy_1Story', 7.409922418112767), ('Condition2Dummy_Norm', 5.838060987721003), ('RoofMatlDummy_WdShake', 3.8215082842740693), ('Condition1Dummy_RRAe', 3.7006099590411887), ('Exterior2ndDummy_CmentBd', 3.6894033165229736), ('Exterior1stDummy_BrkFace', 3.3702708638915917), ('Exterior1stDummy_BrkComm', 3.1047756079863533), ('Exterior1stDummy_Stone', 3.0607915270304673), ('RoofMatlDummy_WdShngl', 2.943821478866505), ('Condition2Dummy_RRNn', 2.9148522649544635), ('Condition1Dummy_RRNn', 2.5930924903699313), ('RoofMatlDummy_CompShg', 2.5083545207348146), ('Condition1Dummy_PosN', 2.493974099354772), ('Exterior2ndDummy_Brk Cmn', 2.478351658784867), ('HouseStyleDummy_2.5Unf', 2.4589029622304874), ('Condition2Dummy_Feedr', 2.1187022026062823), ('Exterior1stDummy_CemntBd', 2.0813457534402198), ('HouseStyleDummy_SLvl', 1.9754501608280417), ('Exterior2ndDummy_BrkFace', 1.8362957697172522), ('Exterior1stDummy_ImStucc', 1.6610223290462753), ('RoofStyleDummy_Shed', 1.5840056458644018), ('Exterior1stDummy_Stucco', 1.4460552325616676), ('Exterior1stDummy_CBlock', 1.1695115881753073), ('Exterior2ndDummy_CBlock', 1.1695115881753073), ('RoofStyleDummy_Mansard', 0.4577271245405404), ('RoofMatlDummy_Tar&Grv', 0.36111444599221126), ('Condition2Dummy_RRAn', 0.35955651273405353), ('RoofMatlDummy_Roll', 0.35783879511460626), ('BldgTypeDummy_TwnhsE', 0.33534878884158814), ('Exterior2ndDummy_ImStucc', 0.26016375715166185), ('Condition1Dummy_RRNe', 0.09073752292317933), ('Exterior1stDummy_Plywood', 0.059613069039319816), ('Condition1Dummy_RRAn', 0.05132141798344469), ('RoofStyleDummy_Gambrel', 0.03528328841863209), ('HouseStyleDummy_2.5Fin', 0.024118327843548937), ('Exterior2ndDummy_AsphShn', 0.0006119903680379932), ('HeatingDummy_OthW', nan), ('ElectricalDummy_FuseP', nan), ('GarageTypeDummy_Detchd', 258.60207286898213), ('GarageTypeDummy_Attchd', 223.73671686549127), ('Exterior2ndDummy_VinylSd', 220.07608815785383), ('MasVnrTypeDummy_None', 216.12805241527457), ('MasVnrTypeDummy_Stone', 143.40475764661727), ('CentralAirDummy_Y', 66.74314110309057), ('MiscFeatureDummy_TenC', nan), ('SaleTypeDummy_New', 126.42480949896037), ('SaleConditionDummy_Partial', 123.50818772086224), ('ElectricalDummy_SBrkr', 75.93196416268037), ('MasVnrTypeDummy_BrkFace', 69.86276256549236), ('GarageTypeDummy_No_Garage', 65.0531048399551), ('PavedDriveDummy_Y', 56.33180610702553), ('GarageTypeDummy_BuiltIn', 52.41054042591214), ('SaleTypeDummy_WD', 41.20974701608057), ('Exterior2ndDummy_Wd Sdng', 35.58998515197355), ('FunctionalDummy_Typ', 21.686833101875774), ('ElectricalDummy_FuseF', 18.218178701582662), ('FoundationDummy_Slab', 16.120100685897143), ('MiscFeatureDummy_No_Misc_Feature', 12.477736488799838), ('MiscFeatureDummy_Shed', 11.892321315394256), ('SaleConditionDummy_Normal', 10.271771939867175), ('PavedDriveDummy_P', 9.592163823147311), ('FunctionalDummy_Maj2', 9.490458342154623), ('Exterior2ndDummy_Wd Shng', 7.356685648671539), ('FunctionalDummy_Min1', 5.728051878333925), ('GarageTypeDummy_CarPort', 5.64488455172628), ('HeatingDummy_GasA', 5.5235866318531155), ('FunctionalDummy_Min2', 5.215484965335339), ('Exterior2ndDummy_Other', 4.6304289481621925), ('FunctionalDummy_Mod', 4.342130135312695), ('Exterior2ndDummy_Stucco', 4.108272458747768), ('SaleConditionDummy_Family', 4.0094852960721905), ('SaleTypeDummy_Con', 3.9498025183153076), ('HeatingDummy_Wall', 3.529507223460178), ('FoundationDummy_Stone', 3.1596191941773033), ('ElectricalDummy_Mix', 2.7425425952603195), ('Exterior2ndDummy_Plywood', 2.6265610090909055), ('SaleTypeDummy_Oth', 2.357663992531357), ('HeatingDummy_GasW', 2.002142521767467), ('HeatingDummy_Grav', 1.463827823730457), ('SaleTypeDummy_ConLI', 1.3997798259864809), ('SaleTypeDummy_ConLD', 1.1349786065850507), ('MasVnrTypeDummy_No_MasVnr', 0.9366441428890178), ('Exterior2ndDummy_Stone', 0.7688663072702685), ('GarageTypeDummy_Basment', 0.6868542314324606), ('SaleConditionDummy_AdjLand', 0.5840966160087264), ('FunctionalDummy_Sev', 0.5169137102319746), ('MiscFeatureDummy_Othr', 0.43372623927001813), ('SaleTypeDummy_ConLw', 0.1317716476367771), ('SaleTypeDummy_CWD', 0.06683718835314068), ('FoundationDummy_Wood', 0.05574619738352952), ('SaleConditionDummy_Alloca', 0.005354124432748282)]\n"
     ]
    },
    {
     "data": {
      "image/png": "[encoded data removed]",
      "text/plain": [
       "<Figure size 936x648 with 1 Axes>"
      ]
     },
     "metadata": {
      "needs_background": "light"
     },
     "output_type": "display_data"
    }
   ],
   "source": [
    "get_k_best(50, X=train.loc[:, train.columns != 'SalePrice'], y=train['SalePrice'])"
   ]
  },
  {
   "cell_type": "code",
   "execution_count": 16,
   "metadata": {},
   "outputs": [
    {
     "name": "stderr",
     "output_type": "stream",
     "text": [
      "/Users/baileyrusso/opt/anaconda3/lib/python3.8/site-packages/sklearn/feature_selection/_univariate_selection.py:302: RuntimeWarning: invalid value encountered in true_divide\n",
      "  corr /= X_norms\n",
      "/Users/baileyrusso/opt/anaconda3/lib/python3.8/site-packages/seaborn/_decorators.py:36: FutureWarning: Pass the following variables as keyword args: x, y. From version 0.12, the only valid positional argument will be `data`, and passing other arguments without an explicit keyword will result in an error or misinterpretation.\n",
      "  warnings.warn(\n"
     ]
    },
    {
     "name": "stdout",
     "output_type": "stream",
     "text": [
      "[('Utilities', nan), ('OverallQual', 2467.3459213963088), ('GrLivArea', 1520.5054221854916), ('GarageCars', 1004.0837011026765), ('ExterQual', 972.5521674297978), ('GarageArea', 895.7622432829916), ('TotalBsmtSF', 879.631863101282), ('KitchenQual', 840.9752641300354), ('1stFlrSF', 800.206372561422), ('BsmtQual', 798.3899116722063), ('YearBuilt', 672.0644257096335), ('FullBath', 651.0049513947148), ('TotRmsAbvGrd', 513.0244959054811), ('YearRemodAdd', 493.6816094479673), ('GarageFinish', 346.50894622607785), ('Fireplaces', 340.76451306586637), ('Foundation', 338.037705614574), ('GarageType', 331.8626630982684), ('HeatingQC', 299.2465724918345), ('MasVnrArea', 282.2640218654703), ('LotFrontage', 208.78576753411866), ('BsmtFinSF1', 196.10102256320926), ('OpenPorchSF', 176.2823804324265), ('WoodDeckSF', 159.8229018690107), ('BsmtExposure', 149.00754078897396), ('LotArea', 137.76146006996657), ('HalfBath', 103.72016382946836), ('2ndFlrSF', 103.25887813338191), ('MSZoning', 89.15320409705701), ('LotShape', 81.08696244390296), ('BsmtFullBath', 80.43862919965952), ('BsmtUnfSF', 77.98959970534685), ('GarageYrBlt', 73.46198577131537), ('GarageCond', 63.12102588958619), ('Electrical', 60.93261293629748), ('CentralAir', 59.94902468304454), ('SaleCondition', 57.59759411220366), ('Neighborhood', 54.28251753228013), ('PavedDrive', 50.998130623867205), ('GarageQual', 48.66459785747223), ('HouseStyle', 46.447102362112716), ('OverallCond', 44.84462431053408), ('Fence', 42.01526550271847), ('RoofStyle', 36.62009607475908), ('BedroomAbvGr', 33.061704340411794), ('NumFloors', 25.80973148873828), ('EnclosedPorch', 25.565708061718105), ('Functional', 21.5562037186129), ('Exterior2nd', 20.919955139004063), ('ExterCond', 18.673219515429345), ('KitchenAbvGr', 17.65265837712648), ('Exterior1st', 16.875293716434758), ('BsmtFinType2', 13.12589328125301), ('MasVnrType', 12.265682189467004), ('Condition1', 11.57945824229456), ('Alley', 11.31021787690716), ('MiscFeature', 10.485291673953308), ('BsmtFinType1', 9.510428812611272), ('LowQualFinSF', 8.69661559840211), ('Heating', 8.499303209082763), ('BsmtCond', 8.291965704526174), ('BldgType', 7.884854389611497), ('FireplaceQu', 7.226904387462269), ('MoSold', 6.775475450472598), ('LotConfig', 5.411515338990095), ('BsmtHalfBath', 5.276544213161331), ('MSSubClass', 4.368688886900568), ('3SsnPorch', 3.173633556951363), ('BsmtFinSF2', 2.9694936118180313), ('ScreenPorch', 2.882806823737982), ('RoofMatl', 2.800193184179596), ('Street', 2.7711803478241603), ('SaleType', 2.727858191834234), ('hasBeenRemodeled', 2.5974802281087483), ('LandSlope', 2.264846112833975), ('MiscVal', 1.1142741695914047), ('LandContour', 0.863565247037291), ('YrSold', 0.17975837823911067), ('Condition2', 0.0990472893968073), ('PoolArea', 0.0017589771699711486), ('PoolQC', 0.0001508460029699144)]\n"
     ]
    },
    {
     "data": {
      "image/png": "[encoded data removed]",
      "text/plain": [
       "<Figure size 936x648 with 1 Axes>"
      ]
     },
     "metadata": {
      "needs_background": "light"
     },
     "output_type": "display_data"
    }
   ],
   "source": [
    "get_k_best(50, X=train_ord.loc[:, train_ord.columns != 'SalePrice'], y=train_ord['SalePrice'])"
   ]
  },
  {
   "cell_type": "markdown",
   "metadata": {},
   "source": [
    "## Model Feature Selection"
   ]
  },
  {
   "cell_type": "code",
   "execution_count": null,
   "metadata": {},
   "outputs": [],
   "source": [
    "def getFeatureImportance(num, cols, features_importances_, sort):\n",
    "    \n",
    "    feature_importances = zip(cols, features_importances_)\n",
    "    sorted_importance = sorted(list(feature_importances),key= lambda x: abs(x[1]),reverse=False if sort == 'ascending' else True)\n",
    "\n",
    "    f, ax = plt.subplots(figsize=(13, 9))\n",
    "    sns.barplot([x[0] for x in sorted_importance[:num]], [x[1] for x in sorted_importance[:num]])\n",
    "    plt.xticks(rotation=90)\n",
    "    \n",
    "    return sorted_importance"
   ]
  },
  {
   "cell_type": "markdown",
   "metadata": {},
   "source": [
    "### Random Forest"
   ]
  },
  {
   "cell_type": "code",
   "execution_count": null,
   "metadata": {},
   "outputs": [],
   "source": [
    "model = RandomForestRegressor()\n",
    "params = {'n_estimators':[100], 'max_features':['auto', 'sqrt']}\n",
    "gridRf = GridSearchCV(model, param_grid=params, cv=5)\n",
    "gridRf.fit(X, y)"
   ]
  },
  {
   "cell_type": "code",
   "execution_count": null,
   "metadata": {},
   "outputs": [],
   "source": [
    "gridRf.cv_results_"
   ]
  },
  {
   "cell_type": "code",
   "execution_count": null,
   "metadata": {},
   "outputs": [],
   "source": [
    "gridRf.best_params_"
   ]
  },
  {
   "cell_type": "code",
   "execution_count": null,
   "metadata": {},
   "outputs": [],
   "source": [
    "gridRf.best_score_"
   ]
  },
  {
   "cell_type": "code",
   "execution_count": null,
   "metadata": {},
   "outputs": [],
   "source": [
    "getFeatureImportance(50, train.columns, gridRf.best_estimator_.feature_importances_, '')"
   ]
  },
  {
   "cell_type": "markdown",
   "metadata": {},
   "source": [
    "### Ridge Regression"
   ]
  },
  {
   "cell_type": "code",
   "execution_count": null,
   "metadata": {},
   "outputs": [],
   "source": [
    "scaler = StandardScaler()\n",
    "X_Scaled = scaler.fit_transform(train.loc[:, train.columns != 'SalePrice'])\n",
    "X_Scaled = pd.DataFrame(X_Scaled, columns = train.columns[train.columns != 'SalePrice'])"
   ]
  },
  {
   "cell_type": "code",
   "execution_count": null,
   "metadata": {},
   "outputs": [],
   "source": [
    "model = Ridge()\n",
    "params = {'alpha':[0.1,1,10,50,75,100,1000,2000]}\n",
    "gridRidge = GridSearchCV(model, param_grid=params, cv=5)\n",
    "gridRidge.fit(X_Scaled, y)"
   ]
  },
  {
   "cell_type": "code",
   "execution_count": null,
   "metadata": {},
   "outputs": [],
   "source": [
    "gridRidge.cv_results_"
   ]
  },
  {
   "cell_type": "code",
   "execution_count": null,
   "metadata": {},
   "outputs": [],
   "source": [
    "gridRidge.best_params_"
   ]
  },
  {
   "cell_type": "code",
   "execution_count": null,
   "metadata": {},
   "outputs": [],
   "source": [
    "gridRidge.best_score_"
   ]
  },
  {
   "cell_type": "code",
   "execution_count": null,
   "metadata": {},
   "outputs": [],
   "source": [
    "gridRidge.best_estimator_.coef_"
   ]
  },
  {
   "cell_type": "code",
   "execution_count": null,
   "metadata": {},
   "outputs": [],
   "source": [
    "getFeatureImportance(50, train.columns, gridRidge.best_estimator_.coef_,'descending')"
   ]
  },
  {
   "cell_type": "markdown",
   "metadata": {},
   "source": [
    "### Lasso Regression"
   ]
  },
  {
   "cell_type": "code",
   "execution_count": null,
   "metadata": {},
   "outputs": [],
   "source": [
    "model = Lasso()\n",
    "params = {'alpha':[0.1,1,10,50,75,100,1000,2000],'max_iter':[1000]}\n",
    "gridLasso = GridSearchCV(model, param_grid=params, cv=5)\n",
    "gridLasso.fit(X_Scaled, y)"
   ]
  },
  {
   "cell_type": "code",
   "execution_count": null,
   "metadata": {},
   "outputs": [],
   "source": [
    "gridLasso.cv_results_"
   ]
  },
  {
   "cell_type": "code",
   "execution_count": null,
   "metadata": {},
   "outputs": [],
   "source": [
    "gridLasso.best_params_"
   ]
  },
  {
   "cell_type": "code",
   "execution_count": null,
   "metadata": {},
   "outputs": [],
   "source": [
    "gridLasso.best_score_"
   ]
  },
  {
   "cell_type": "code",
   "execution_count": null,
   "metadata": {},
   "outputs": [],
   "source": [
    "getFeatureImportance(50, train.columns, gridLasso.best_estimator_.coef_, '')"
   ]
  },
  {
   "cell_type": "markdown",
   "metadata": {},
   "source": [
    "## Value Counts"
   ]
  },
  {
   "cell_type": "code",
   "execution_count": null,
   "metadata": {},
   "outputs": [],
   "source": [
    "train_org = pd.read_csv('train.csv')"
   ]
  },
  {
   "cell_type": "code",
   "execution_count": null,
   "metadata": {},
   "outputs": [],
   "source": [
    "def getValueCounts(cols, data):\n",
    "    f, axes = plt.subplots(round(len(cols)/2)+1, 2, figsize=(10,80))\n",
    "    rowIdx = 0\n",
    "    colIdx = 0\n",
    "    for col in cols:\n",
    "        if colIdx > 1:\n",
    "            rowIdx = rowIdx + 1\n",
    "            colIdx = 0\n",
    "        value_counts = data[col].value_counts()\n",
    "        ax = sns.barplot(x=value_counts.index, y=value_counts, data=data, ax=axes[rowIdx,colIdx]).set_title(col)\n",
    "        colIdx += 1\n",
    "    f.tight_layout()"
   ]
  },
  {
   "cell_type": "code",
   "execution_count": null,
   "metadata": {},
   "outputs": [],
   "source": [
    "cat_cols = train_org.columns[train_org.dtypes == 'object'] | train_org.columns[train_org.columns == 'MSSubClass']\n",
    "getValueCounts(cat_cols, train_org)"
   ]
  },
  {
   "cell_type": "code",
   "execution_count": null,
   "metadata": {},
   "outputs": [],
   "source": [
    "colsToDrop = ['BldgType','BsmtCond','BsmtFinType2','CentralAir','Condition1','Condition2','Electrical',\n",
    "              'ExterCond','Functional','GarageCond','GarageQual','Heating','LandContour','LandSlope',\n",
    "              'MiscFeature','PavedDrive','RoofMatl','Street','Utilities','SaleType','MSSubClass']"
   ]
  },
  {
   "cell_type": "code",
   "execution_count": null,
   "metadata": {},
   "outputs": [],
   "source": [
    "for col in colsToDrop:\n",
    "    train = train[train.columns.drop(list(train.filter(regex=col)))]\n"
   ]
  },
  {
   "cell_type": "code",
   "execution_count": null,
   "metadata": {},
   "outputs": [],
   "source": [
    "X = train.loc[:, train.columns != 'SalePrice']"
   ]
  },
  {
   "cell_type": "code",
   "execution_count": null,
   "metadata": {},
   "outputs": [],
   "source": [
    "scaler = StandardScaler()\n",
    "X_Scaled = scaler.fit_transform(train.loc[:, train.columns != 'SalePrice'])\n",
    "X_Scaled = pd.DataFrame(X_Scaled, columns = train.columns[train.columns != 'SalePrice'])\n",
    "y = train['SalePrice']"
   ]
  },
  {
   "cell_type": "markdown",
   "metadata": {},
   "source": [
    "## Random Forest on Subset"
   ]
  },
  {
   "cell_type": "code",
   "execution_count": null,
   "metadata": {},
   "outputs": [],
   "source": [
    "model = RandomForestRegressor()\n",
    "params = {'n_estimators':[100], 'max_features':['auto', 'sqrt']}\n",
    "gridRf = GridSearchCV(model, param_grid=params, cv=5)\n",
    "gridRf.fit(X, y)"
   ]
  },
  {
   "cell_type": "code",
   "execution_count": null,
   "metadata": {},
   "outputs": [],
   "source": [
    "gridRf.best_score_"
   ]
  },
  {
   "cell_type": "markdown",
   "metadata": {},
   "source": [
    "## Ridge on Subset"
   ]
  },
  {
   "cell_type": "code",
   "execution_count": null,
   "metadata": {},
   "outputs": [],
   "source": [
    "model = Ridge()\n",
    "params = {'alpha':[0.1,1,10,50,75,100,1000,2000],'max_iter':[1000]}\n",
    "gridRidge = GridSearchCV(model, param_grid=params, cv=5)\n",
    "gridRidge.fit(X_Scaled, y)"
   ]
  },
  {
   "cell_type": "code",
   "execution_count": null,
   "metadata": {},
   "outputs": [],
   "source": [
    "gridRidge.best_score_"
   ]
  },
  {
   "cell_type": "markdown",
   "metadata": {},
   "source": [
    "## Lasso on Subset"
   ]
  },
  {
   "cell_type": "code",
   "execution_count": null,
   "metadata": {},
   "outputs": [],
   "source": [
    "model = Lasso()\n",
    "params = {'alpha':[0.1,1,10,50,75,100,1000,2000],'max_iter':[1000]}\n",
    "gridLasso = GridSearchCV(model, param_grid=params, cv=5)\n",
    "gridLasso.fit(X_Scaled, y)"
   ]
  },
  {
   "cell_type": "code",
   "execution_count": null,
   "metadata": {},
   "outputs": [],
   "source": [
    "gridLasso.best_score_"
   ]
  },
  {
   "cell_type": "markdown",
   "metadata": {},
   "source": [
    "## Correlation between variables"
   ]
  },
  {
   "cell_type": "markdown",
   "metadata": {},
   "source": [
    "### Correlation Matrix"
   ]
  },
  {
   "cell_type": "code",
   "execution_count": null,
   "metadata": {},
   "outputs": [],
   "source": [
    "corr = X.corr()"
   ]
  },
  {
   "cell_type": "code",
   "execution_count": null,
   "metadata": {},
   "outputs": [],
   "source": [
    "def get_redundant_pairs(df):\n",
    "    '''Get diagonal and lower triangular pairs of correlation matrix'''\n",
    "    pairs_to_drop = set()\n",
    "    cols = df.columns\n",
    "    for i in range(0, df.shape[1]):\n",
    "        for j in range(0, i+1):\n",
    "            pairs_to_drop.add((cols[i], cols[j]))\n",
    "    return pairs_to_drop\n",
    "\n",
    "def get_top_abs_correlations(df, n=5):\n",
    "    au_corr = df.corr().abs().unstack()\n",
    "    labels_to_drop = get_redundant_pairs(df)\n",
    "    au_corr = au_corr.drop(labels=labels_to_drop).sort_values(ascending=False)\n",
    "    return au_corr[0:n]\n",
    "\n",
    "print(\"Top Absolute Correlations\")\n",
    "mostCorrelatedFeat = get_top_abs_correlations(corr, 1000)\n"
   ]
  },
  {
   "cell_type": "code",
   "execution_count": null,
   "metadata": {},
   "outputs": [],
   "source": [
    "mostCorrelatedFeat.head(50)"
   ]
  },
  {
   "cell_type": "code",
   "execution_count": null,
   "metadata": {},
   "outputs": [],
   "source": [
    "colsToDrop = ['Exterior2nd']\n",
    "for col in colsToDrop:\n",
    "    train = train[train.columns.drop(list(train.filter(regex=col)))]"
   ]
  },
  {
   "cell_type": "code",
   "execution_count": null,
   "metadata": {},
   "outputs": [],
   "source": [
    "X = train.loc[:, train.columns != 'SalePrice']"
   ]
  },
  {
   "cell_type": "markdown",
   "metadata": {},
   "source": [
    "### Variance Inflation Factor"
   ]
  },
  {
   "cell_type": "code",
   "execution_count": null,
   "metadata": {},
   "outputs": [],
   "source": [
    "constant = np.ones((X.shape[0], 1))\n",
    "X['constant'] = constant"
   ]
  },
  {
   "cell_type": "code",
   "execution_count": null,
   "metadata": {},
   "outputs": [],
   "source": [
    "vifs = zip(X.columns, [variance_inflation_factor(X.values, i) for i in range(len(X.columns))])"
   ]
  },
  {
   "cell_type": "code",
   "execution_count": null,
   "metadata": {},
   "outputs": [],
   "source": [
    "list(vifs)"
   ]
  },
  {
   "cell_type": "code",
   "execution_count": null,
   "metadata": {},
   "outputs": [],
   "source": [
    "X[['BsmtFinSF1','BsmtFinSF2','BsmtUnfSF','TotalBsmtSF']]"
   ]
  },
  {
   "cell_type": "code",
   "execution_count": null,
   "metadata": {},
   "outputs": [],
   "source": [
    "X[['GrLivArea','1stFlrSF','2ndFlrSF','LowQualFinSF']]"
   ]
  },
  {
   "cell_type": "code",
   "execution_count": null,
   "metadata": {},
   "outputs": [],
   "source": [
    "train = train.drop(['GrLivArea','TotalBsmtSF','OverallQual','GarageArea','PoolArea','PoolQC'], axis=1)"
   ]
  },
  {
   "cell_type": "code",
   "execution_count": null,
   "metadata": {},
   "outputs": [],
   "source": [
    "X = train.loc[:,train.columns != 'SalePrice']"
   ]
  },
  {
   "cell_type": "markdown",
   "metadata": {},
   "source": [
    "### Variance Inflation Factor on Subset"
   ]
  },
  {
   "cell_type": "code",
   "execution_count": null,
   "metadata": {},
   "outputs": [],
   "source": [
    "vifs = zip(X.columns, [variance_inflation_factor(X.values, i) for i in range(len(X.columns))])"
   ]
  },
  {
   "cell_type": "code",
   "execution_count": null,
   "metadata": {},
   "outputs": [],
   "source": [
    "list(vifs)"
   ]
  },
  {
   "cell_type": "markdown",
   "metadata": {},
   "source": [
    "### Correlation Matrix on Subset"
   ]
  },
  {
   "cell_type": "code",
   "execution_count": null,
   "metadata": {},
   "outputs": [],
   "source": [
    "corr = X.corr()"
   ]
  },
  {
   "cell_type": "code",
   "execution_count": null,
   "metadata": {},
   "outputs": [],
   "source": [
    "mostCorrelatedFeat = get_top_abs_correlations(corr, 1000)\n",
    "mostCorrelatedFeat.head(50)"
   ]
  },
  {
   "cell_type": "code",
   "execution_count": null,
   "metadata": {},
   "outputs": [],
   "source": [
    "scaler = StandardScaler()\n",
    "X_Scaled = scaler.fit_transform(train.loc[:, train.columns != 'SalePrice'])\n",
    "X_Scaled = pd.DataFrame(X_Scaled, columns = train.columns[train.columns != 'SalePrice'])\n",
    "y = train['SalePrice']"
   ]
  },
  {
   "cell_type": "code",
   "execution_count": null,
   "metadata": {},
   "outputs": [],
   "source": [
    "model = Lasso()\n",
    "params = {'alpha':[0.1,1,10,50,75,100,1000,2000],'max_iter':[1000]}\n",
    "gridLasso = GridSearchCV(model, param_grid=params, cv=5)\n",
    "gridLasso.fit(X_Scaled, y)\n"
   ]
  },
  {
   "cell_type": "code",
   "execution_count": null,
   "metadata": {},
   "outputs": [],
   "source": [
    "list(zip(X_Scaled.columns,gridLasso.best_estimator_.coef_))"
   ]
  },
  {
   "cell_type": "code",
   "execution_count": null,
   "metadata": {},
   "outputs": [],
   "source": [
    "stats.summary(gridLasso.best_estimator_, X_Scaled, y)"
   ]
  },
  {
   "cell_type": "code",
   "execution_count": null,
   "metadata": {},
   "outputs": [],
   "source": []
  }
 ],
 "metadata": {
  "kernelspec": {
   "display_name": "Python 3",
   "language": "python",
   "name": "python3"
  },
  "language_info": {
   "codemirror_mode": {
    "name": "ipython",
    "version": 3
   },
   "file_extension": ".py",
   "mimetype": "text/x-python",
   "name": "python",
   "nbconvert_exporter": "python",
   "pygments_lexer": "ipython3",
   "version": "3.8.3"
  }
 },
 "nbformat": 4,
 "nbformat_minor": 4
}

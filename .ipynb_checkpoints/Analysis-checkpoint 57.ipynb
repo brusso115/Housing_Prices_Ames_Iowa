{
 "cells": [
  {
   "cell_type": "code",
   "execution_count": 1,
   "metadata": {},
   "outputs": [],
   "source": [
    "import pandas as pd\n",
    "import numpy as np\n",
    "from sklearn.ensemble import IsolationForest, GradientBoostingRegressor, RandomForestRegressor\n",
    "from sklearn.model_selection import GridSearchCV\n",
    "from sklearn.preprocessing import StandardScaler\n",
    "from sklearn.linear_model import Ridge, Lasso\n",
    "from sklearn.feature_selection import SelectKBest, f_regression\n",
    "from statsmodels.stats.outliers_influence import variance_inflation_factor\n",
    "from regressors import stats\n",
    "import statsmodels.api as sm\n",
    "import matplotlib.pyplot as plt\n",
    "import seaborn as sns"
   ]
  },
  {
   "cell_type": "code",
   "execution_count": 2,
   "metadata": {},
   "outputs": [],
   "source": [
    "train = pd.read_csv('train_filled_na.csv')\n",
    "train_ord = pd.read_csv('train_filled_na_ord.csv')"
   ]
  },
  {
   "cell_type": "code",
   "execution_count": 3,
   "metadata": {},
   "outputs": [],
   "source": [
    "train.drop('Id', axis = 1, inplace=True)\n",
    "train_ord.drop('Id', axis = 1, inplace=True)"
   ]
  },
  {
   "cell_type": "markdown",
   "metadata": {},
   "source": [
    "# Outlier Detection"
   ]
  },
  {
   "cell_type": "markdown",
   "metadata": {},
   "source": [
    "## Train w/ dummies"
   ]
  },
  {
   "cell_type": "code",
   "execution_count": 4,
   "metadata": {},
   "outputs": [],
   "source": [
    "iso = IsolationForest(contamination=0.1)\n",
    "yhat = iso.fit_predict(train)"
   ]
  },
  {
   "cell_type": "code",
   "execution_count": 5,
   "metadata": {},
   "outputs": [],
   "source": [
    "mask = yhat != -1"
   ]
  },
  {
   "cell_type": "code",
   "execution_count": 6,
   "metadata": {},
   "outputs": [],
   "source": [
    "train = train.loc[mask, :]"
   ]
  },
  {
   "cell_type": "code",
   "execution_count": 7,
   "metadata": {},
   "outputs": [],
   "source": [
    "# X = train.loc[:, train.columns != 'SalePrice']\n",
    "# y = train['SalePrice']"
   ]
  },
  {
   "cell_type": "markdown",
   "metadata": {},
   "source": [
    "## Train w/out dummies"
   ]
  },
  {
   "cell_type": "code",
   "execution_count": 8,
   "metadata": {},
   "outputs": [],
   "source": [
    "iso = IsolationForest(contamination=0.1)\n",
    "yhat = iso.fit_predict(train_ord)"
   ]
  },
  {
   "cell_type": "code",
   "execution_count": 9,
   "metadata": {},
   "outputs": [],
   "source": [
    "mask = yhat != -1"
   ]
  },
  {
   "cell_type": "code",
   "execution_count": 10,
   "metadata": {},
   "outputs": [],
   "source": [
    "train_ord = train_ord.loc[mask, :]"
   ]
  },
  {
   "cell_type": "code",
   "execution_count": 11,
   "metadata": {},
   "outputs": [],
   "source": [
    "# X = train_ord.loc[:, train_ord.columns != 'SalePrice']\n",
    "# y = train_ord['SalePrice']"
   ]
  },
  {
   "cell_type": "markdown",
   "metadata": {},
   "source": [
    "## Drop columns with all zeros"
   ]
  },
  {
   "cell_type": "code",
   "execution_count": 12,
   "metadata": {},
   "outputs": [],
   "source": [
    "allZeroCols = train.columns[(train == 0).all()].to_list()\n",
    "train = train.drop(allZeroCols, axis=1)"
   ]
  },
  {
   "cell_type": "code",
   "execution_count": 13,
   "metadata": {},
   "outputs": [],
   "source": [
    "allZeroCols = train_ord.columns[(train_ord == 0).all()].to_list()\n",
    "train_ord = train_ord.drop(allZeroCols, axis=1)"
   ]
  },
  {
   "cell_type": "markdown",
   "metadata": {},
   "source": [
    "# Feature Selection"
   ]
  },
  {
   "cell_type": "markdown",
   "metadata": {},
   "source": [
    "## Select K Best"
   ]
  },
  {
   "cell_type": "code",
   "execution_count": 14,
   "metadata": {},
   "outputs": [],
   "source": [
    "def get_k_best(k, X, y):\n",
    "    k_best = SelectKBest(f_regression, k=k).fit(X, y)\n",
    "    X[X.columns[k_best.get_support()]]\n",
    "\n",
    "    k_best_scores = zip(X.columns, k_best.scores_)\n",
    "    sorted_coef_importance = sorted(list(k_best_scores),key= lambda x: x[1],reverse=True)\n",
    "    sorted_coef_importance\n",
    "    print(sorted_coef_importance)\n",
    "    f, ax = plt.subplots(figsize=(13, 9))\n",
    "    sns.barplot([x[0] for x in sorted_coef_importance[:k]], [x[1] for x in sorted_coef_importance[:k]])\n",
    "    plt.xticks(rotation=90)"
   ]
  },
  {
   "cell_type": "code",
   "execution_count": 15,
   "metadata": {},
   "outputs": [
    {
     "name": "stdout",
     "output_type": "stream",
     "text": [
      "[('OverallQual', 2498.8417515519277), ('GrLivArea', 1588.6890390473836), ('ExterQual', 1131.8913216338512), ('GarageCars', 1015.4948990022474), ('TotalBsmtSF', 944.2799540815284), ('GarageArea', 941.7894075204715), ('KitchenQual', 870.8396557176504), ('1stFlrSF', 821.7661163558563), ('BsmtQual', 813.5093804074564), ('TotRmsAbvGrd', 621.0322163342686), ('YearBuilt', 617.96330290487), ('FullBath', 609.6245541624995), ('FoundationDummy_PConc', 513.7504223575169), ('YearRemodAdd', 505.20376185815064), ('GarageFinish', 342.2211198506514), ('MasVnrArea', 334.0855229442561), ('Fireplaces', 330.96362230079063), ('NeighborhoodDummy_NridgHt', 304.0041475194311), ('HeatingQC', 266.0292645953087), ('GarageTypeDummy_Detchd', 245.73829004479344), ('FoundationDummy_CBlock', 245.00012358655692), ('BsmtFinSF1', 242.1710284310941), ('MasVnrTypeDummy_None', 235.0209912152156), ('OpenPorchSF', 218.08082308856757), ('LotFrontage', 196.68128700185133), ('MSSubClassDummy_60', 194.46108799471813), ('Exterior2ndDummy_VinylSd', 193.17611033571185), ('SaleTypeDummy_New', 192.0527868432712), ('Exterior1stDummy_VinylSd', 192.03563816439058), ('GarageTypeDummy_Attchd', 189.85947436504884), ('SaleConditionDummy_Partial', 184.27196695683375), ('MasVnrTypeDummy_Stone', 184.03610844448787), ('BsmtExposure', 144.72363451797563), ('WoodDeckSF', 140.86585430643092), ('MSZoningDummy_RM', 134.16176883134375), ('NeighborhoodDummy_NoRidge', 132.3955559842825), ('LotArea', 128.91593419428554), ('2ndFlrSF', 109.93867242775089), ('HalfBath', 100.40261833966001), ('BsmtFullBath', 87.12892373688535), ('SaleTypeDummy_WD', 85.31052639934553), ('HouseStyleDummy_2Story', 82.23765170431479), ('LotShapeDummy_Reg', 80.14071656741605), ('MSZoningDummy_RL', 74.60216885474262), ('MSSubClassDummy_30', 74.4843799016323), ('ElectricalDummy_SBrkr', 73.46876325057518), ('GarageYrBlt', 71.37666227205239), ('NeighborhoodDummy_NAmes', 69.27642058113507), ('BsmtUnfSF', 67.7025146699224), ('RoofStyleDummy_Hip', 62.21998065525065), ('CentralAirDummy_Y', 59.40454330588953), ('GarageCond', 59.373701980362235), ('RoofStyleDummy_Gable', 59.28907546509946), ('MasVnrTypeDummy_BrkFace', 55.38874273377942), ('GarageTypeDummy_No_Garage', 50.88065948681454), ('NeighborhoodDummy_OldTown', 49.56283300975977), ('GarageQual', 49.315422003557686), ('GarageTypeDummy_BuiltIn', 48.46627650118985), ('PavedDriveDummy_Y', 48.103928468602035), ('NeighborhoodDummy_StoneBr', 47.68538450657678), ('NeighborhoodDummy_Edwards', 47.517651960530664), ('Exterior1stDummy_Wd Sdng', 43.66801997000028), ('Fence', 40.6273942778343), ('Exterior1stDummy_MetalSd', 39.389684101757325), ('Exterior2ndDummy_Wd Sdng', 39.34072059750292), ('Exterior2ndDummy_MetalSd', 38.17365420395155), ('SaleConditionDummy_Normal', 37.62411773544699), ('MSSubClassDummy_50', 37.364539988853174), ('NumFloors', 35.816970010129474), ('NeighborhoodDummy_Somerst', 31.65041919926823), ('NeighborhoodDummy_Sawyer', 30.893434819581763), ('OverallCond', 29.99532644109661), ('BedroomAbvGr', 29.690925192689953), ('NeighborhoodDummy_BrkSide', 27.66793877980691), ('Exterior1stDummy_HdBoard', 26.18494254898972), ('NeighborhoodDummy_IDOTRR', 25.95020331022126), ('ExterCond', 24.997355889042453), ('NeighborhoodDummy_Timber', 24.917575753687135), ('MSSubClassDummy_160', 22.99393260265859), ('Exterior2ndDummy_CmentBd', 21.759877721999278), ('EnclosedPorch', 20.340531321208857), ('FunctionalDummy_Typ', 19.83167829089936), ('NeighborhoodDummy_MeadowV', 17.846607651088274), ('Exterior1stDummy_CemntBd', 17.807967129417474), ('FoundationDummy_Slab', 17.6888816831572), ('KitchenAbvGr', 17.684015729481985), ('NeighborhoodDummy_BrDale', 17.406468420216118), ('Condition1Dummy_Feedr', 16.96510962507774), ('Condition1Dummy_Norm', 16.373720226654697), ('MSSubClassDummy_90', 16.122987222395803), ('BldgTypeDummy_Duplex', 16.122987222395803), ('Exterior2ndDummy_HdBoard', 16.09910111203495), ('ElectricalDummy_FuseF', 15.00457064545305), ('LandContourDummy_HLS', 14.695019330157034), ('LotConfigDummy_CulDSac', 14.580826358311464), ('BldgTypeDummy_Twnhs', 14.304592217582366), ('MSZoningDummy_FV', 14.085598718441283), ('MSSubClassDummy_45', 12.687372117914087), ('HouseStyleDummy_1.5Unf', 12.687372117914087), ('AlleyDummy_No_Alley_Access', 10.541105093050302), ('PavedDriveDummy_P', 10.522547576237965), ('HouseStyleDummy_SFoyer', 10.281159669468538), ('NeighborhoodDummy_CollgCr', 9.597420474177719), ('FireplaceQu', 9.562779648682076), ('Exterior1stDummy_WdShing', 9.494126050812474), ('BsmtFinType2', 8.603953047802099), ('Condition2Dummy_PosN', 8.267952127785478), ('MSZoningDummy_RH', 8.259888106818602), ('BsmtCond', 7.827518200922662), ('MiscFeatureDummy_No_Misc_Feature', 7.705646529941048), ('ScreenPorch', 7.417342583021026), ('Exterior2ndDummy_Wd Shng', 7.285948455219224), ('FunctionalDummy_Maj2', 7.2014097477500565), ('MSSubClassDummy_190', 7.187373191807548), ('BldgTypeDummy_2fmCon', 7.187373191807548), ('NeighborhoodDummy_SWISU', 7.169631390163409), ('FunctionalDummy_Min1', 7.16884510646963), ('HeatingDummy_GasA', 7.152161263500275), ('MiscFeatureDummy_Shed', 7.091341368974163), ('MSSubClassDummy_180', 7.030359969310705), ('BsmtFinType1', 6.709744387890608), ('NeighborhoodDummy_Mitchel', 5.937033371455436), ('LotShapeDummy_IR2', 5.841535424822847), ('BsmtHalfBath', 5.440711093855792), ('LotConfigDummy_Inside', 5.187007266399695), ('MoSold', 5.165874948122241), ('GarageTypeDummy_CarPort', 5.1207198908058995), ('MasVnrTypeDummy_No_MasVnr', 5.1095380105997235), ('LowQualFinSF', 5.087273652719688), ('Exterior1stDummy_BrkComm', 4.810277760507225), ('MSSubClassDummy_120', 4.62101579036956), ('MSSubClassDummy_85', 4.544943895301768), ('FunctionalDummy_Min2', 4.466589165824532), ('NeighborhoodDummy_ClearCr', 4.383247357608695), ('Exterior2ndDummy_Plywood', 4.365753661117436), ('Condition1Dummy_RRAe', 4.213205319193772), ('Exterior2ndDummy_Brk Cmn', 4.120381937742313), ('Exterior2ndDummy_Other', 3.7691335662197716), ('Condition1Dummy_PosN', 3.76479382007389), ('NeighborhoodDummy_Veenker', 3.7003321158198217), ('HouseStyleDummy_SLvl', 3.6631315096978416), ('NeighborhoodDummy_Crawfor', 3.5404099307111014), ('HeatingDummy_Grav', 3.4172498541142327), ('SaleConditionDummy_Family', 3.3391089377987626), ('HouseStyleDummy_1Story', 3.3262540903972826), ('Condition1Dummy_PosA', 3.1960336148054274), ('HeatingDummy_Wall', 3.185162914969789), ('SaleTypeDummy_Con', 3.1059642443761897), ('FunctionalDummy_Mod', 3.010176280346414), ('RoofMatlDummy_WdShake', 2.873885005227391), ('Condition2Dummy_RRNn', 2.8188419947513466), ('LandContourDummy_Low', 2.7599606910334047), ('NeighborhoodDummy_NPkVill', 2.642247287096893), ('ElectricalDummy_Mix', 2.5767541564714116), ('Condition1Dummy_RRNn', 2.5711982513702414), ('LandSlope', 2.4343359026056715), ('Exterior1stDummy_Stone', 2.374500233460411), ('SaleTypeDummy_Oth', 2.3070029654484343), ('3SsnPorch', 2.287198138645026), ('RoofMatlDummy_WdShngl', 2.2187920632602114), ('MSSubClassDummy_80', 2.210790374830151), ('NeighborhoodDummy_Gilbert', 1.8843638449409834), ('RoofMatlDummy_CompShg', 1.8533148444211078), ('Exterior1stDummy_BrkFace', 1.8516123948748413), ('SaleTypeDummy_CWD', 1.7581208841978186), ('Exterior1stDummy_AsphShn', 1.3003883791383173), ('Exterior1stDummy_ImStucc', 1.294976892556959), ('LandContourDummy_Lvl', 1.2506032512915422), ('RoofStyleDummy_Shed', 1.231692535372617), ('LotShapeDummy_IR3', 1.2087860679659834), ('HouseStyleDummy_2.5Unf', 1.190012985651512), ('Exterior2ndDummy_BrkFace', 1.1551525538627396), ('Exterior1stDummy_CBlock', 1.144822697239521), ('Exterior2ndDummy_CBlock', 1.144822697239521), ('Condition2Dummy_Feedr', 1.1365320712231235), ('Exterior2ndDummy_AsphShn', 1.1029509356121676), ('Exterior2ndDummy_ImStucc', 0.9646339523827714), ('Exterior2ndDummy_Stone', 0.8874645749815381), ('FoundationDummy_Stone', 0.8375275165501077), ('MiscVal', 0.8063649915379362), ('GarageTypeDummy_Basment', 0.7630617585212748), ('NeighborhoodDummy_Blueste', 0.7516915253920713), ('Exterior1stDummy_Plywood', 0.6758295372235673), ('HeatingDummy_GasW', 0.613931477787359), ('SaleConditionDummy_AdjLand', 0.5998239270408313), ('LotConfigDummy_FR3', 0.5945975995416944), ('NeighborhoodDummy_SawyerW', 0.5472914697940235), ('NeighborhoodDummy_NWAmes', 0.4931898115756794), ('Exterior2ndDummy_Stucco', 0.47215470185307595), ('MSSubClassDummy_70', 0.4706860021180169), ('MiscFeatureDummy_Othr', 0.45701199524814756), ('Condition2Dummy_Norm', 0.44575383003060837), ('Condition2Dummy_RRAn', 0.38577598540285846), ('AlleyDummy_Pave', 0.3848145771312106), ('RoofMatlDummy_Roll', 0.38411819623332083), ('UtilitiesDummy_NoSeWa', 0.37545187627620175), ('SaleTypeDummy_ConLI', 0.36944886800003374), ('StreetDummy_Pave', 0.3209583906403286), ('RoofStyleDummy_Gambrel', 0.28091679613807924), ('BsmtFinSF2', 0.24926296923588398), ('SaleConditionDummy_Alloca', 0.23384373124363805), ('hasBeenRemodeled', 0.22687663752292486), ('HouseStyleDummy_2.5Fin', 0.22646008905531329), ('SaleTypeDummy_ConLw', 0.21464415857226024), ('SaleTypeDummy_ConLD', 0.15383827005274586), ('MSSubClassDummy_75', 0.13342346788444334), ('Condition1Dummy_RRAn', 0.04526094405324876), ('Condition1Dummy_RRNe', 0.03694901407169351), ('BldgTypeDummy_TwnhsE', 0.03365271437484469), ('RoofMatlDummy_Tar&Grv', 0.012578315912125616), ('FoundationDummy_Wood', 0.012465912488137209), ('LotConfigDummy_FR2', 0.010229133417645662), ('PoolArea', 0.009043682876798862), ('YrSold', 0.005607770523707388), ('PoolQC', 0.004156940183308607), ('Exterior1stDummy_Stucco', 0.0010950101188830713), ('RoofStyleDummy_Mansard', 0.0007925643335385547), ('MSSubClassDummy_40', 0.00020130441277088341)]\n"
     ]
    },
    {
     "name": "stderr",
     "output_type": "stream",
     "text": [
      "/Users/baileyrusso/opt/anaconda3/lib/python3.8/site-packages/seaborn/_decorators.py:36: FutureWarning: Pass the following variables as keyword args: x, y. From version 0.12, the only valid positional argument will be `data`, and passing other arguments without an explicit keyword will result in an error or misinterpretation.\n",
      "  warnings.warn(\n"
     ]
    },
    {
     "data": {
      "image/png": "[encoded data removed]",
      "text/plain": [
       "<Figure size 936x648 with 1 Axes>"
      ]
     },
     "metadata": {
      "needs_background": "light"
     },
     "output_type": "display_data"
    }
   ],
   "source": [
    "get_k_best(50, X=train.loc[:, train.columns != 'SalePrice'], y=train['SalePrice'])"
   ]
  },
  {
   "cell_type": "code",
   "execution_count": 16,
   "metadata": {},
   "outputs": [
    {
     "name": "stdout",
     "output_type": "stream",
     "text": [
      "[('OverallQual', 2360.433102753024), ('GrLivArea', 1506.6357943787477), ('GarageCars', 1066.092078723424), ('GarageArea', 892.7159453232059), ('ExterQual', 892.7152545427457), ('TotalBsmtSF', 813.2347707795753), ('BsmtQual', 811.6598942269751), ('KitchenQual', 775.4427446273082), ('1stFlrSF', 755.7826568216705), ('FullBath', 691.9751530523282), ('YearBuilt', 651.826224668733), ('TotRmsAbvGrd', 530.8246686241567), ('YearRemodAdd', 523.414716009858), ('GarageFinish', 355.18249321901857), ('Foundation', 342.60283373024663), ('GarageType', 316.55431958618595), ('Fireplaces', 309.9815441844484), ('HeatingQC', 298.668316382457), ('MasVnrArea', 297.5528169115773), ('LotFrontage', 197.70004607174042), ('BsmtFinSF1', 194.20674450716456), ('OpenPorchSF', 191.4801681393852), ('WoodDeckSF', 163.26962225030758), ('BsmtExposure', 139.38370857477415), ('LotArea', 137.77398840852447), ('2ndFlrSF', 128.59504791300907), ('HalfBath', 111.3024630951478), ('BsmtFullBath', 80.40825407573581), ('LotShape', 76.06077154319946), ('GarageYrBlt', 72.53485437979282), ('Electrical', 68.94402126412601), ('MSZoning', 67.80335889729433), ('BsmtUnfSF', 65.30274996821616), ('CentralAir', 63.128688786682666), ('SaleCondition', 62.70658064985543), ('GarageCond', 57.16388020243942), ('HouseStyle', 54.59404446995238), ('PavedDrive', 53.191764057740215), ('Neighborhood', 50.28907378522211), ('BedroomAbvGr', 49.29847774528621), ('GarageQual', 47.426534405133296), ('Fence', 43.04565754968072), ('RoofStyle', 37.14746487151699), ('NumFloors', 36.48134045095471), ('EnclosedPorch', 34.91851057518673), ('OverallCond', 34.2117713362056), ('Exterior2nd', 30.41507281709622), ('Exterior1st', 22.485749305944474), ('ExterCond', 20.053169062209367), ('Functional', 18.659369710917815), ('KitchenAbvGr', 16.40493302154543), ('MasVnrType', 13.14956799726043), ('BsmtFinType2', 12.455224745983834), ('Condition1', 12.442550135477115), ('MiscFeature', 9.8486868945554), ('Alley', 9.21090037716442), ('BsmtFinType1', 8.09256849037737), ('MoSold', 8.085436235698866), ('BldgType', 7.141888704536293), ('FireplaceQu', 5.6169867198073495), ('BsmtCond', 5.132638179485697), ('Heating', 5.049104346752487), ('LowQualFinSF', 4.780714146130884), ('BsmtHalfBath', 4.769910112992343), ('LotConfig', 4.422410967152205), ('ScreenPorch', 4.004981643110587), ('BsmtFinSF2', 3.506958323691612), ('3SsnPorch', 3.4988094896859474), ('RoofMatl', 2.8967059547200216), ('SaleType', 2.755825200690039), ('hasBeenRemodeled', 2.0312401805003497), ('LandSlope', 1.8236284104150382), ('MSSubClass', 1.6889984270597873), ('MiscVal', 1.1425493851015183), ('Condition2', 1.1290270301870216), ('Street', 0.9010511403276952), ('LandContour', 0.3333405986781549), ('YrSold', 0.22372680400812103), ('PoolArea', 0.002186725207203335), ('PoolQC', 0.0002810416424181023)]\n"
     ]
    },
    {
     "name": "stderr",
     "output_type": "stream",
     "text": [
      "/Users/baileyrusso/opt/anaconda3/lib/python3.8/site-packages/seaborn/_decorators.py:36: FutureWarning: Pass the following variables as keyword args: x, y. From version 0.12, the only valid positional argument will be `data`, and passing other arguments without an explicit keyword will result in an error or misinterpretation.\n",
      "  warnings.warn(\n"
     ]
    },
    {
     "data": {
      "image/png": "[encoded data removed]",
      "text/plain": [
       "<Figure size 936x648 with 1 Axes>"
      ]
     },
     "metadata": {
      "needs_background": "light"
     },
     "output_type": "display_data"
    }
   ],
   "source": [
    "get_k_best(50, X=train_ord.loc[:, train_ord.columns != 'SalePrice'], y=train_ord['SalePrice'])"
   ]
  },
  {
   "cell_type": "markdown",
   "metadata": {},
   "source": [
    "## Model Feature Selection"
   ]
  },
  {
   "cell_type": "code",
   "execution_count": 17,
   "metadata": {},
   "outputs": [],
   "source": [
    "def getFeatureImportance(num, cols, features_importances_, sort):\n",
    "    \n",
    "    feature_importances = zip(cols, features_importances_)\n",
    "    sorted_importance = sorted(list(feature_importances),key= lambda x: abs(x[1]),reverse=False if sort == 'ascending' else True)\n",
    "\n",
    "    f, ax = plt.subplots(figsize=(13, 9))\n",
    "    sns.barplot([x[0] for x in sorted_importance[:num]], [x[1] for x in sorted_importance[:num]])\n",
    "    plt.xticks(rotation=90)\n",
    "    \n",
    "    return sorted_importance"
   ]
  },
  {
   "cell_type": "markdown",
   "metadata": {},
   "source": [
    "### Random Forest"
   ]
  },
  {
   "cell_type": "code",
   "execution_count": 24,
   "metadata": {},
   "outputs": [
    {
     "data": {
      "text/plain": [
       "GridSearchCV(cv=5, estimator=RandomForestRegressor(),\n",
       "             param_grid={'max_features': ['auto', 'sqrt'],\n",
       "                         'n_estimators': [100]})"
      ]
     },
     "execution_count": 24,
     "metadata": {},
     "output_type": "execute_result"
    }
   ],
   "source": [
    "X = train_ord.loc[:, train_ord.columns != 'SalePrice']\n",
    "y = train_ord['SalePrice']\n",
    "model = RandomForestRegressor()\n",
    "params = {'n_estimators':[100], 'max_features':['auto', 'sqrt']}\n",
    "gridRf = GridSearchCV(model, param_grid=params, cv=5)\n",
    "gridRf.fit(X, y)"
   ]
  },
  {
   "cell_type": "code",
   "execution_count": 25,
   "metadata": {},
   "outputs": [
    {
     "data": {
      "text/plain": [
       "{'mean_fit_time': array([1.08802619, 0.24155965]),\n",
       " 'std_fit_time': array([0.03154151, 0.02208944]),\n",
       " 'mean_score_time': array([0.01022344, 0.01128535]),\n",
       " 'std_score_time': array([0.00143591, 0.00184862]),\n",
       " 'param_max_features': masked_array(data=['auto', 'sqrt'],\n",
       "              mask=[False, False],\n",
       "        fill_value='?',\n",
       "             dtype=object),\n",
       " 'param_n_estimators': masked_array(data=[100, 100],\n",
       "              mask=[False, False],\n",
       "        fill_value='?',\n",
       "             dtype=object),\n",
       " 'params': [{'max_features': 'auto', 'n_estimators': 100},\n",
       "  {'max_features': 'sqrt', 'n_estimators': 100}],\n",
       " 'split0_test_score': array([0.85983665, 0.88649247]),\n",
       " 'split1_test_score': array([0.91140222, 0.89888612]),\n",
       " 'split2_test_score': array([0.84930433, 0.85104194]),\n",
       " 'split3_test_score': array([0.88366053, 0.87498797]),\n",
       " 'split4_test_score': array([0.87422657, 0.87179472]),\n",
       " 'mean_test_score': array([0.87568606, 0.87664064]),\n",
       " 'std_test_score': array([0.02139423, 0.01595887]),\n",
       " 'rank_test_score': array([2, 1], dtype=int32)}"
      ]
     },
     "execution_count": 25,
     "metadata": {},
     "output_type": "execute_result"
    }
   ],
   "source": [
    "gridRf.cv_results_"
   ]
  },
  {
   "cell_type": "code",
   "execution_count": 26,
   "metadata": {},
   "outputs": [
    {
     "data": {
      "text/plain": [
       "{'max_features': 'sqrt', 'n_estimators': 100}"
      ]
     },
     "execution_count": 26,
     "metadata": {},
     "output_type": "execute_result"
    }
   ],
   "source": [
    "gridRf.best_params_"
   ]
  },
  {
   "cell_type": "code",
   "execution_count": 27,
   "metadata": {},
   "outputs": [
    {
     "data": {
      "text/plain": [
       "0.8766406438393226"
      ]
     },
     "execution_count": 27,
     "metadata": {},
     "output_type": "execute_result"
    }
   ],
   "source": [
    "gridRf.best_score_"
   ]
  },
  {
   "cell_type": "code",
   "execution_count": 28,
   "metadata": {},
   "outputs": [
    {
     "name": "stderr",
     "output_type": "stream",
     "text": [
      "/Users/baileyrusso/opt/anaconda3/lib/python3.8/site-packages/seaborn/_decorators.py:36: FutureWarning: Pass the following variables as keyword args: x, y. From version 0.12, the only valid positional argument will be `data`, and passing other arguments without an explicit keyword will result in an error or misinterpretation.\n",
      "  warnings.warn(\n"
     ]
    },
    {
     "data": {
      "text/plain": [
       "[('OverallQual', 0.11853103624719359),\n",
       " ('GrLivArea', 0.0894032513113147),\n",
       " ('GarageArea', 0.05852264050118425),\n",
       " ('YearBuilt', 0.052979668663328906),\n",
       " ('TotalBsmtSF', 0.051717914695660144),\n",
       " ('ExterQual', 0.05111842742557838),\n",
       " ('GarageCars', 0.05074917718946653),\n",
       " ('1stFlrSF', 0.04634566165636158),\n",
       " ('GarageYrBlt', 0.03634658049743992),\n",
       " ('BsmtQual', 0.03552704410728914),\n",
       " ('FullBath', 0.03369811403930792),\n",
       " ('TotRmsAbvGrd', 0.02661221465621542),\n",
       " ('KitchenQual', 0.02573001096648716),\n",
       " ('LotFrontage', 0.021578909746855633),\n",
       " ('YearRemodAdd', 0.020536174572709114),\n",
       " ('BsmtFinSF1', 0.020311731793811467),\n",
       " ('LotArea', 0.0200641259633153),\n",
       " ('2ndFlrSF', 0.019849596118087273),\n",
       " ('Fireplaces', 0.01828896127331433),\n",
       " ('GarageType', 0.01650387110342636),\n",
       " ('GarageFinish', 0.016394964083099903),\n",
       " ('MasVnrArea', 0.016135907699026494),\n",
       " ('Neighborhood', 0.01124155377801735),\n",
       " ('BsmtUnfSF', 0.00986994901204707),\n",
       " ('Foundation', 0.009851260325957924),\n",
       " ('WoodDeckSF', 0.008835724122441367),\n",
       " ('OpenPorchSF', 0.008170113138009793),\n",
       " ('HeatingQC', 0.00788927558468953),\n",
       " ('FireplaceQu', 0.006293667669866463),\n",
       " ('MoSold', 0.005065330769149639),\n",
       " ('MSSubClass', 0.004886047523171327),\n",
       " ('BedroomAbvGr', 0.004815758317494398),\n",
       " ('BsmtFinType1', 0.004543092647965028),\n",
       " ('BsmtFullBath', 0.004395179928088593),\n",
       " ('HalfBath', 0.004334790011232513),\n",
       " ('BsmtExposure', 0.00427054778549216),\n",
       " ('HouseStyle', 0.004027912178468662),\n",
       " ('SaleCondition', 0.0038826961168429088),\n",
       " ('Exterior1st', 0.003654135280977902),\n",
       " ('MSZoning', 0.0035776590728792195),\n",
       " ('Exterior2nd', 0.003569297564642973),\n",
       " ('OverallCond', 0.0035492219316052994),\n",
       " ('YrSold', 0.0029022525763108225),\n",
       " ('hasBeenRemodeled', 0.0027219568431552906),\n",
       " ('LotShape', 0.0025464853591042657),\n",
       " ('MasVnrType', 0.002113769378115548),\n",
       " ('SaleType', 0.0019239803224994894),\n",
       " ('BldgType', 0.0017948040917167972),\n",
       " ('RoofStyle', 0.0017188590654938513),\n",
       " ('LandContour', 0.0016062291493255394),\n",
       " ('SalePrice', 0.0014385838790397577),\n",
       " ('EnclosedPorch', 0.001318400125357396),\n",
       " ('LotConfig', 0.0012122111912056214),\n",
       " ('GarageQual', 0.001170415746305615),\n",
       " ('Condition1', 0.0011548056123915041),\n",
       " ('ScreenPorch', 0.001133008363588066),\n",
       " ('KitchenAbvGr', 0.001089727075205068),\n",
       " ('CentralAir', 0.0010726788527477276),\n",
       " ('Functional', 0.0009769188273304947),\n",
       " ('GarageCond', 0.0009297850757629129),\n",
       " ('BsmtFinType2', 0.0009260108917323307),\n",
       " ('BsmtFinSF2', 0.0008874089026829325),\n",
       " ('BsmtCond', 0.0007902723488147606),\n",
       " ('Fence', 0.0007869975794005322),\n",
       " ('PavedDrive', 0.0007036394058450633),\n",
       " ('LandSlope', 0.0005801141717084349),\n",
       " ('Alley', 0.0005470928096762605),\n",
       " ('ExterCond', 0.0004775277810780966),\n",
       " ('RoofMatl', 0.0003787397080026996),\n",
       " ('BsmtHalfBath', 0.0003276069404308253),\n",
       " ('3SsnPorch', 0.00028864237984864243),\n",
       " ('Electrical', 0.0002726648640525033),\n",
       " ('Heating', 0.00012002557027866419),\n",
       " ('MiscVal', 0.00011841606264222921),\n",
       " ('MiscFeature', 0.0001004410851239523),\n",
       " ('Street', 6.915261764986501e-05),\n",
       " ('LowQualFinSF', 5.063446998431918e-05),\n",
       " ('PoolArea', 3.280980832602561e-05),\n",
       " ('Condition2', 2.7241742822031837e-05),\n",
       " ('PoolQC', 2.0492255730469884e-05)]"
      ]
     },
     "execution_count": 28,
     "metadata": {},
     "output_type": "execute_result"
    },
    {
     "data": {
      "image/png": "[encoded data removed]",
      "text/plain": [
       "<Figure size 936x648 with 1 Axes>"
      ]
     },
     "metadata": {
      "needs_background": "light"
     },
     "output_type": "display_data"
    }
   ],
   "source": [
    "getFeatureImportance(50, train_ord.columns, gridRf.best_estimator_.feature_importances_, '')"
   ]
  },
  {
   "cell_type": "markdown",
   "metadata": {},
   "source": [
    "### Ridge Regression"
   ]
  },
  {
   "cell_type": "code",
   "execution_count": 39,
   "metadata": {},
   "outputs": [],
   "source": [
    "scaler = StandardScaler()\n",
    "X_Scaled = scaler.fit_transform(train.loc[:, train.columns != 'SalePrice'])\n",
    "X_Scaled = pd.DataFrame(X_Scaled, columns = train.columns[train.columns != 'SalePrice'])\n",
    "y = train['SalePrice']"
   ]
  },
  {
   "cell_type": "code",
   "execution_count": 40,
   "metadata": {},
   "outputs": [
    {
     "data": {
      "text/plain": [
       "GridSearchCV(cv=5, estimator=Ridge(),\n",
       "             param_grid={'alpha': [0.1, 1, 10, 50, 75, 100, 1000, 2000]})"
      ]
     },
     "execution_count": 40,
     "metadata": {},
     "output_type": "execute_result"
    }
   ],
   "source": [
    "model = Ridge()\n",
    "params = {'alpha':[0.1,1,10,50,75,100,1000,2000]}\n",
    "gridRidge = GridSearchCV(model, param_grid=params, cv=5)\n",
    "gridRidge.fit(X_Scaled, y)"
   ]
  },
  {
   "cell_type": "code",
   "execution_count": 41,
   "metadata": {},
   "outputs": [
    {
     "data": {
      "text/plain": [
       "{'mean_fit_time': array([0.00656734, 0.00707541, 0.00541101, 0.00460796, 0.00476556,\n",
       "        0.00447512, 0.00448618, 0.00465841]),\n",
       " 'std_fit_time': array([1.72292001e-04, 4.48040482e-04, 2.51537572e-04, 3.13499432e-04,\n",
       "        9.98070862e-05, 4.61030913e-04, 3.93234644e-04, 2.06591447e-04]),\n",
       " 'mean_score_time': array([0.00367279, 0.0037653 , 0.00288773, 0.0025806 , 0.00264502,\n",
       "        0.00232186, 0.00266008, 0.00251245]),\n",
       " 'std_score_time': array([1.24767739e-04, 2.43330586e-04, 1.58966739e-04, 9.74862521e-05,\n",
       "        8.31871088e-05, 3.15377825e-04, 1.35914484e-05, 1.89888746e-04]),\n",
       " 'param_alpha': masked_array(data=[0.1, 1, 10, 50, 75, 100, 1000, 2000],\n",
       "              mask=[False, False, False, False, False, False, False, False],\n",
       "        fill_value='?',\n",
       "             dtype=object),\n",
       " 'params': [{'alpha': 0.1},\n",
       "  {'alpha': 1},\n",
       "  {'alpha': 10},\n",
       "  {'alpha': 50},\n",
       "  {'alpha': 75},\n",
       "  {'alpha': 100},\n",
       "  {'alpha': 1000},\n",
       "  {'alpha': 2000}],\n",
       " 'split0_test_score': array([0.89881895, 0.9003842 , 0.90443702, 0.90772385, 0.90850968,\n",
       "        0.90900631, 0.89726315, 0.87521567]),\n",
       " 'split1_test_score': array([0.9010388 , 0.90493869, 0.91038402, 0.9112656 , 0.91099212,\n",
       "        0.91064469, 0.88428388, 0.85237662]),\n",
       " 'split2_test_score': array([0.88782028, 0.89267939, 0.89814965, 0.90306338, 0.90387216,\n",
       "        0.90420719, 0.88400554, 0.85564766]),\n",
       " 'split3_test_score': array([0.88793067, 0.88884647, 0.89054855, 0.89391295, 0.89501769,\n",
       "        0.89572751, 0.88426503, 0.86159175]),\n",
       " 'split4_test_score': array([0.89144992, 0.89160558, 0.89215525, 0.89476199, 0.89564387,\n",
       "        0.89620277, 0.88252786, 0.85943614]),\n",
       " 'mean_test_score': array([0.89341172, 0.89569086, 0.8991349 , 0.90214556, 0.9028071 ,\n",
       "        0.9031577 , 0.88646909, 0.86085357]),\n",
       " 'std_test_score': array([0.00552386, 0.00600257, 0.00745743, 0.00689098, 0.00652128,\n",
       "        0.00624406, 0.00543594, 0.00784582]),\n",
       " 'rank_test_score': array([6, 5, 4, 3, 2, 1, 7, 8], dtype=int32)}"
      ]
     },
     "execution_count": 41,
     "metadata": {},
     "output_type": "execute_result"
    }
   ],
   "source": [
    "gridRidge.cv_results_"
   ]
  },
  {
   "cell_type": "code",
   "execution_count": 42,
   "metadata": {},
   "outputs": [
    {
     "data": {
      "text/plain": [
       "{'alpha': 100}"
      ]
     },
     "execution_count": 42,
     "metadata": {},
     "output_type": "execute_result"
    }
   ],
   "source": [
    "gridRidge.best_params_"
   ]
  },
  {
   "cell_type": "code",
   "execution_count": 43,
   "metadata": {},
   "outputs": [
    {
     "data": {
      "text/plain": [
       "0.9031576957067902"
      ]
     },
     "execution_count": 43,
     "metadata": {},
     "output_type": "execute_result"
    }
   ],
   "source": [
    "gridRidge.best_score_"
   ]
  },
  {
   "cell_type": "code",
   "execution_count": 44,
   "metadata": {},
   "outputs": [
    {
     "data": {
      "text/plain": [
       "array([ 1.58100786e+03,  4.29537431e+03,  1.53034059e-01,  9.40447648e+03,\n",
       "        4.51746962e+03,  4.80247567e+03,  1.43271931e+03,  3.22270394e+03,\n",
       "       -4.80599649e+03,  9.39409923e+02, -3.94992553e+03,  4.84251570e+02,\n",
       "       -2.02787469e+03,  3.45744382e+02,  8.13534213e+03, -8.80257577e+02,\n",
       "        6.98408311e+02, -1.24020174e+03,  7.38789319e+03, -4.75799911e+02,\n",
       "        7.25131050e+03,  6.41987796e+03, -3.20278154e+02,  1.15432916e+04,\n",
       "        1.02264922e+03, -1.75882263e+02,  1.42171349e+03,  1.26224723e+03,\n",
       "       -2.48964761e+03, -1.64883490e+03, -4.40328615e+03,  3.80903518e+03,\n",
       "        1.97237379e+03, -6.41076835e+02, -8.44944876e+02, -7.06324552e+02,\n",
       "        3.19706504e+03,  2.29385870e+03, -5.76042573e+01,  2.86997543e+02,\n",
       "        1.61378974e+03,  1.92647704e+03,  1.63779344e+02,  5.33647516e+02,\n",
       "        1.56171124e+03,  9.86378265e+02,  2.99116140e+02,  1.47493907e+02,\n",
       "        1.37064209e+02, -4.92903761e+02, -9.78339823e+01,  7.74954472e+02,\n",
       "       -7.66858048e+02, -8.35273705e+02,  2.66469774e+02, -4.65580895e+01,\n",
       "       -2.51930483e+02,  7.49084882e+02,  5.52122392e+02,  4.68451140e+02,\n",
       "       -1.28107949e+03, -8.20710016e+02, -9.10069598e+02, -2.35055242e+03,\n",
       "       -1.77562160e+03,  6.90856686e+01, -7.56779524e+02,  1.55180711e+03,\n",
       "        1.68957759e+02,  4.12548472e+02, -2.22765245e+02,  6.82049197e+02,\n",
       "        4.91931727e+02, -7.36181241e+01,  9.37227834e+01, -3.45605473e+02,\n",
       "        2.61566659e+02,  1.71201696e+03, -1.21450031e+03,  1.95283078e+00,\n",
       "       -9.31718361e+02,  1.50420571e+03, -1.10724687e+03, -9.38949216e+02,\n",
       "       -2.73417470e+02,  2.74930295e+02,  1.53334964e+03,  7.31225367e+02,\n",
       "       -2.77544359e+02, -1.67323387e+03,  2.12471741e+03, -2.17493589e+03,\n",
       "       -1.69473627e+03, -1.20377284e+01, -5.84801559e+02, -1.50998007e+03,\n",
       "       -1.99463909e+03,  8.38089655e+02, -1.99958765e+03,  3.42083158e+03,\n",
       "        5.43869495e+03, -1.17004663e+03, -8.73046118e+02, -1.49717022e+02,\n",
       "       -5.69425605e+02,  2.71459520e+02,  4.10185001e+03, -7.46717870e+02,\n",
       "        6.95329687e+02,  2.60566285e+02,  2.48417031e+03,  2.47029913e+02,\n",
       "        6.38384427e+02, -1.31413029e+03,  3.91438473e+02, -3.40571099e+02,\n",
       "        1.74710072e+02,  6.22879595e+01,  2.11146514e+02, -7.10463950e+02,\n",
       "        8.16626263e+01,  1.73525654e+01, -7.56779524e+02, -9.10069598e+02,\n",
       "       -2.46535939e+03, -2.21627184e+03, -4.65580895e+01, -6.89545060e+02,\n",
       "       -9.66529495e+02, -5.72126834e+02, -6.86739895e+02, -1.71199253e+02,\n",
       "        1.02479363e+03, -6.45872156e+02,  3.47119663e+02,  6.51647426e+02,\n",
       "       -2.64267771e+02,  8.47343927e+02,  3.29653592e+02, -1.12759679e+02,\n",
       "       -5.86579943e+02, -2.40027051e+02,  4.61665471e+02, -2.67930022e+02,\n",
       "        1.31865573e+02,  2.56922428e+03, -2.97346654e+02, -9.31761881e+02,\n",
       "       -5.02876459e+02, -6.05197350e+02,  5.95028665e+02, -3.16520612e+02,\n",
       "       -3.48382498e+02,  1.15186565e+03, -1.33802818e+01, -1.84595657e+03,\n",
       "        1.05220905e+03,  3.53697817e+02,  3.65495694e+02, -2.36097406e+02,\n",
       "       -2.97346654e+02,  1.49350949e+03, -1.27376404e+03,  2.91822800e+02,\n",
       "        1.75380845e+02, -2.15912023e+02, -1.11550656e+03,  2.42354668e+02,\n",
       "       -6.90921479e+01,  3.17754619e+02,  1.10190878e+03, -1.48311242e+03,\n",
       "       -4.59741754e+02,  1.28870982e+02,  7.62861968e+02,  1.49288248e+03,\n",
       "        6.01165899e+02,  1.78280825e+03,  1.15488949e+03,  2.40017002e+01,\n",
       "       -1.00522010e+03, -3.47484387e+02,  3.28329837e+02, -2.55558202e+02,\n",
       "       -6.26856610e+01,  1.54808987e+02, -1.34368879e+02,  1.47701172e+02,\n",
       "        4.65093080e+01, -6.45022407e+02, -5.98826489e+02,  9.40464316e+02,\n",
       "       -1.17266448e+03,  3.22267334e+03,  2.04113475e+01, -2.18644516e+01,\n",
       "        1.13236223e+03,  1.12611944e+01,  1.09413826e+03,  8.00519431e+02,\n",
       "       -2.37917895e+02,  4.08959029e+02, -2.32912024e+02, -3.21847146e+01,\n",
       "        3.56177312e+02,  1.61268127e+03,  1.20976711e+03,  7.05109470e+02,\n",
       "        2.40106448e+02, -1.80817337e+02,  3.29401948e+03,  2.66412542e+02,\n",
       "       -7.03165269e+01,  6.10065880e+02,  1.65876580e+03,  3.94833540e+02,\n",
       "        2.04727208e+03,  1.72548746e+03])"
      ]
     },
     "execution_count": 44,
     "metadata": {},
     "output_type": "execute_result"
    }
   ],
   "source": [
    "gridRidge.best_estimator_.coef_"
   ]
  },
  {
   "cell_type": "code",
   "execution_count": 45,
   "metadata": {},
   "outputs": [
    {
     "name": "stderr",
     "output_type": "stream",
     "text": [
      "/Users/baileyrusso/opt/anaconda3/lib/python3.8/site-packages/seaborn/_decorators.py:36: FutureWarning: Pass the following variables as keyword args: x, y. From version 0.12, the only valid positional argument will be `data`, and passing other arguments without an explicit keyword will result in an error or misinterpretation.\n",
      "  warnings.warn(\n"
     ]
    },
    {
     "data": {
      "text/plain": [
       "[('GrLivArea', 11543.291646917307),\n",
       " ('OverallQual', 9404.4764815931),\n",
       " ('BsmtFinSF1', 8135.3421253920515),\n",
       " ('TotalBsmtSF', 7387.893193205613),\n",
       " ('1stFlrSF', 7251.310500355828),\n",
       " ('2ndFlrSF', 6419.877964656119),\n",
       " ('NeighborhoodDummy_NoRidge', 5438.694954752888),\n",
       " ('ExterQual', -4805.996494029893),\n",
       " ('YearBuilt', 4802.475672012416),\n",
       " ('OverallCond', 4517.469620936579),\n",
       " ('KitchenQual', -4403.286146990425),\n",
       " ('LotArea', 4295.37431022482),\n",
       " ('NeighborhoodDummy_Somerst', 4101.850009373878),\n",
       " ('BsmtQual', -3949.9255349008827),\n",
       " ('TotRmsAbvGrd', 3809.0351826389738),\n",
       " ('NeighborhoodDummy_NWAmes', 3420.831584716309),\n",
       " ('SaleTypeDummy_ConLw', 3294.019480463353),\n",
       " ('MasVnrArea', 3222.7039398142906),\n",
       " ('FunctionalDummy_Mod', 3222.673339919169),\n",
       " ('GarageCars', 3197.0650380472457),\n",
       " ('Exterior1stDummy_BrkComm', 2569.2242843016943),\n",
       " ('BedroomAbvGr', -2489.6476065675934),\n",
       " ('Condition1Dummy_Feedr', 2484.170314666412),\n",
       " ('BldgTypeDummy_Duplex', -2465.3593881643915),\n",
       " ('MSSubClassDummy_90', -2350.5524166414457),\n",
       " ('GarageArea', 2293.858698769256),\n",
       " ('BldgTypeDummy_Twnhs', -2216.2718388452727),\n",
       " ('NeighborhoodDummy_Crawfor', -2174.9358896322765),\n",
       " ('NeighborhoodDummy_CollgCr', 2124.7174087052754),\n",
       " ('SaleConditionDummy_Family', 2047.2720786827035),\n",
       " ('BsmtExposure', -2027.8746896805617),\n",
       " ('NeighborhoodDummy_NPkVill', -1999.587654069726),\n",
       " ('NeighborhoodDummy_Mitchel', -1994.63908674423),\n",
       " ('Fireplaces', 1972.3737860197507),\n",
       " ('OpenPorchSF', 1926.4770426836808),\n",
       " ('Exterior1stDummy_VinylSd', -1845.9565658901959),\n",
       " ('FoundationDummy_CBlock', 1782.8082544451954),\n",
       " ('MSSubClassDummy_120', -1775.6215969408383),\n",
       " ('SaleConditionDummy_Normal', 1725.487458273486),\n",
       " ('LotShapeDummy_Reg', 1712.0169601817051),\n",
       " ('NeighborhoodDummy_Edwards', -1694.7362682292019),\n",
       " ('NeighborhoodDummy_ClearCr', -1673.233866340945),\n",
       " ('SaleConditionDummy_AdjLand', 1658.7658037089932),\n",
       " ('KitchenAbvGr', -1648.8349017108553),\n",
       " ('WoodDeckSF', 1613.7897414475642),\n",
       " ('MiscFeatureDummy_Shed', 1612.6812728881844),\n",
       " ('LotFrontage', 1581.0078639995836),\n",
       " ('ScreenPorch', 1561.7112426185292),\n",
       " ('MSSubClassDummy_190', 1551.8071104613452),\n",
       " ('NeighborhoodDummy_Blueste', 1533.3496399624375),\n",
       " ('NeighborhoodDummy_MeadowV', -1509.980066198618),\n",
       " ('UtilitiesDummy_NoSeWa', 1504.2057050936787),\n",
       " ('Exterior2ndDummy_CBlock', 1493.5094884079379),\n",
       " ('MasVnrTypeDummy_None', 1492.8824765824565),\n",
       " ('Exterior2ndDummy_Wd Sdng', -1483.1124179164772),\n",
       " ('YearRemodAdd', 1432.7193139541605),\n",
       " ('FullBath', 1421.713491509901),\n",
       " ('Condition1Dummy_PosN', -1314.1302875084398),\n",
       " ('MSSubClassDummy_75', -1281.0794868270186),\n",
       " ('Exterior2ndDummy_CmentBd', -1273.7640358502956),\n",
       " ('HalfBath', 1262.2472279971057),\n",
       " ('BsmtUnfSF', -1240.2017428647932),\n",
       " ('LandContourDummy_HLS', -1214.50030739524),\n",
       " ('SaleTypeDummy_CWD', 1209.767107869775),\n",
       " ('FunctionalDummy_Min2', -1172.6644813198623),\n",
       " ('NeighborhoodDummy_NridgHt', -1170.0466275239933),\n",
       " ('FoundationDummy_PConc', 1154.8894888692666),\n",
       " ('Exterior1stDummy_Stone', 1151.8656518494456),\n",
       " ('GarageTypeDummy_Basment', 1132.3622287259375),\n",
       " ('Exterior2ndDummy_Other', -1115.5065571609728),\n",
       " ('LotConfigDummy_CulDSac', -1107.2468692128332),\n",
       " ('Exterior2ndDummy_VinylSd', 1101.9087835150997),\n",
       " ('GarageTypeDummy_CarPort', 1094.1382632153263),\n",
       " ('Exterior1stDummy_Wd Sdng', 1052.2090488355861),\n",
       " ('HouseStyleDummy_SFoyer', 1024.793628240484),\n",
       " ('BsmtFullBath', 1022.6492151189956),\n",
       " ('FoundationDummy_Stone', -1005.2201012798902),\n",
       " ('PoolArea', 986.3782647291802),\n",
       " ('HouseStyleDummy_1Story', -966.5294945665263),\n",
       " ('FunctionalDummy_Min1', 940.4643156162867),\n",
       " ('ExterCond', 939.4099228382456),\n",
       " ('LotConfigDummy_FR2', -938.9492157609508),\n",
       " ('Exterior1stDummy_CBlock', -931.7618807042245),\n",
       " ('LandContourDummy_Lvl', -931.718360994379),\n",
       " ('BldgTypeDummy_2fmCon', -910.0695982020958),\n",
       " ('MSSubClassDummy_85', -910.0695982020916),\n",
       " ('BsmtFinType2', -880.2575771534744),\n",
       " ('NeighborhoodDummy_OldTown', -873.0461175338625),\n",
       " ('RoofStyleDummy_Mansard', 847.3439271904415),\n",
       " ('GarageYrBlt', -844.9448759213352),\n",
       " ('NeighborhoodDummy_NAmes', 838.0896547195208),\n",
       " ('NumFloors', -835.2737051231788),\n",
       " ('MSSubClassDummy_80', -820.7100160343003),\n",
       " ('GarageTypeDummy_Detchd', 800.5194311339752),\n",
       " ('SalePrice', 774.9544722716395),\n",
       " ('hasBeenRemodeled', -766.8580479709659),\n",
       " ('MasVnrTypeDummy_No_MasVnr', 762.8619676012933),\n",
       " ('MSSubClassDummy_180', -756.7795238099311),\n",
       " ('Condition2Dummy_RRNn', -756.7795238099301),\n",
       " ('MSSubClassDummy_50', 749.0848816847874),\n",
       " ('NeighborhoodDummy_StoneBr', -746.7178701275174),\n",
       " ('NeighborhoodDummy_BrDale', 731.2253667475666),\n",
       " ('Condition2Dummy_Norm', -710.4639498940742),\n",
       " ('GarageFinish', -706.3245520230762),\n",
       " ('SaleTypeDummy_Con', 705.1094700601736),\n",
       " ('BsmtFinSF2', 698.4083111580142),\n",
       " ('NeighborhoodDummy_Timber', 695.3296866158366),\n",
       " ('HouseStyleDummy_1.5Unf', -689.5450601479275),\n",
       " ('HouseStyleDummy_2.5Unf', -686.7398954545652),\n",
       " ('MSZoningDummy_RM', 682.0491970444904),\n",
       " ('RoofStyleDummy_Gambrel', 651.6474255640907),\n",
       " ('HouseStyleDummy_SLvl', -645.8721556696202),\n",
       " ('ElectricalDummy_SBrkr', -645.0224069673832),\n",
       " ('FireplaceQu', -641.076835488141),\n",
       " ('Condition1Dummy_PosA', 638.3844267019554),\n",
       " ('SaleTypeDummy_WD', 610.065880151249),\n",
       " ('Exterior1stDummy_HdBoard', -605.1973499630922),\n",
       " ('MasVnrTypeDummy_Stone', 601.1658988964211),\n",
       " ('FunctionalDummy_Maj2', -598.826488611633),\n",
       " ('Exterior1stDummy_ImStucc', 595.0286649889673),\n",
       " ('RoofMatlDummy_Roll', -586.5799430987994),\n",
       " ('NeighborhoodDummy_IDOTRR', -584.8015589027052),\n",
       " ('HouseStyleDummy_2.5Fin', -572.1268342480828),\n",
       " ('NeighborhoodDummy_Sawyer', -569.4256049615356),\n",
       " ('MSSubClassDummy_60', 552.1223920514949),\n",
       " ('3SsnPorch', 533.6475164220875),\n",
       " ('Exterior1stDummy_CemntBd', -502.87645923549127),\n",
       " ('MoSold', -492.90376135419285),\n",
       " ('StreetDummy_Pave', 491.93172651100105),\n",
       " ('BsmtCond', 484.25156993257343),\n",
       " ('HeatingQC', -475.7999108058748),\n",
       " ('MSSubClassDummy_70', 468.4511400867237),\n",
       " ('RoofMatlDummy_WdShake', 461.6654710392722),\n",
       " ('Exterior2ndDummy_Wd Shng', -459.74175431039055),\n",
       " ('MSZoningDummy_RH', 412.5484720054791),\n",
       " ('PavedDriveDummy_P', 408.9590286872648),\n",
       " ('SaleConditionDummy_Alloca', 394.8335400208246),\n",
       " ('Condition1Dummy_RRAe', 391.43847316730375),\n",
       " ('Exterior2ndDummy_AsphShn', 365.49569436021073),\n",
       " ('MiscFeatureDummy_Othr', 356.17731220954164),\n",
       " ('Exterior1stDummy_WdShing', 353.69781699724194),\n",
       " ('Exterior1stDummy_Plywood', -348.38249836003934),\n",
       " ('FoundationDummy_Wood', -347.4843868740728),\n",
       " ('RoofStyleDummy_Gable', 347.11966267435054),\n",
       " ('BsmtFinType1', 345.7443820824099),\n",
       " ('LotShapeDummy_IR2', -345.60547260725195),\n",
       " ('Condition1Dummy_RRAn', -340.571099428305),\n",
       " ('RoofStyleDummy_Shed', 329.65359182031557),\n",
       " ('HeatingDummy_GasA', 328.3298372598022),\n",
       " ('LowQualFinSF', -320.2781538564373),\n",
       " ('Exterior2ndDummy_Stucco', 317.75461913211234),\n",
       " ('Exterior1stDummy_MetalSd', -316.52061205561677),\n",
       " ('PoolQC', 299.11613996032054),\n",
       " ('Exterior1stDummy_BrkFace', -297.34665422377344),\n",
       " ('Exterior2ndDummy_BrkFace', -297.3466542237668),\n",
       " ('Exterior2ndDummy_HdBoard', 291.82280028828063),\n",
       " ('GarageCond', 286.9975434585125),\n",
       " ('NeighborhoodDummy_BrkSide', -277.54435909967503),\n",
       " ('LotConfigDummy_Inside', 274.9302947362535),\n",
       " ('LotConfigDummy_FR3', -273.4174703956768),\n",
       " ('NeighborhoodDummy_SawyerW', 271.4595204654796),\n",
       " ('RoofMatlDummy_WdShngl', -267.93002217964835),\n",
       " ('MSSubClassDummy_30', 266.46977357872476),\n",
       " ('SaleTypeDummy_New', 266.41254226684305),\n",
       " ('RoofStyleDummy_Hip', -264.26777060491116),\n",
       " ('LotShapeDummy_IR3', 261.5666589763065),\n",
       " ('NeighborhoodDummy_Veenker', 260.56628524865283),\n",
       " ('HeatingDummy_GasW', -255.55820223559448),\n",
       " ('MSSubClassDummy_45', -251.93048309512943),\n",
       " ('Condition1Dummy_Norm', 247.0299132423907),\n",
       " ('Exterior2ndDummy_Plywood', 242.35466830228256),\n",
       " ('SaleTypeDummy_ConLD', 240.10644844095944),\n",
       " ('RoofMatlDummy_Tar&Grv', -240.0270510575632),\n",
       " ('GarageTypeDummy_No_Garage', -237.91789503733108),\n",
       " ('Exterior2ndDummy_Brk Cmn', -236.0974059273777),\n",
       " ('PavedDriveDummy_Y', -232.91202387505206),\n",
       " ('MSZoningDummy_RL', -222.7652449390104),\n",
       " ('Exterior2ndDummy_MetalSd', -215.91202329375096),\n",
       " ('Condition2Dummy_Feedr', 211.14651407731773),\n",
       " ('SaleTypeDummy_ConLI', -180.81733669481133),\n",
       " ('BsmtHalfBath', -175.88226312866672),\n",
       " ('Exterior2ndDummy_ImStucc', 175.38084514925754),\n",
       " ('Condition1Dummy_RRNe', 174.71007233811545),\n",
       " ('HouseStyleDummy_2Story', -171.19925319208403),\n",
       " ('MSZoningDummy_FV', 168.95775869817342),\n",
       " ('EnclosedPorch', 163.77934401671212),\n",
       " ('HeatingDummy_Wall', 154.80898681747738),\n",
       " ('NeighborhoodDummy_SWISU', -149.71702162763634),\n",
       " ('ElectricalDummy_FuseF', 147.70117207888507),\n",
       " ('Fence', 147.49390700477224),\n",
       " ('MiscVal', 137.0642085516952),\n",
       " ('CentralAirDummy_Y', -134.36887882407243),\n",
       " ('Exterior1stDummy_AsphShn', 131.86557347187937),\n",
       " ('MasVnrTypeDummy_BrkFace', 128.8709819881835),\n",
       " ('RoofMatlDummy_CompShg', -112.75967878486738),\n",
       " ('YrSold', -97.83398229769388),\n",
       " ('AlleyDummy_Pave', 93.72278344082847),\n",
       " ('Condition2Dummy_PosN', 81.66262628335845),\n",
       " ('AlleyDummy_No_Alley_Access', -73.61812410871838),\n",
       " ('SaleTypeDummy_Oth', -70.31652685824149),\n",
       " ('Exterior2ndDummy_Stone', -69.09214787509352),\n",
       " ('MSSubClassDummy_160', 69.0856686466979),\n",
       " ('HeatingDummy_Grav', -62.68566099136045),\n",
       " ('Condition1Dummy_RRNn', 62.28795952802371),\n",
       " ('GarageQual', -57.60425726451233),\n",
       " ('MSSubClassDummy_40', -46.55808952689699),\n",
       " ('BldgTypeDummy_TwnhsE', -46.55808952688708),\n",
       " ('ElectricalDummy_Mix', 46.509308035355865),\n",
       " ('MiscFeatureDummy_No_Misc_Feature', -32.18471463121147),\n",
       " ('FoundationDummy_Slab', 24.001700222710895),\n",
       " ('GarageTypeDummy_Attchd', -21.864451601959004),\n",
       " ('FunctionalDummy_Typ', 20.41134746297003),\n",
       " ('Condition2Dummy_RRAn', 17.35256542267073),\n",
       " ('Exterior1stDummy_Stucco', -13.380281782479098),\n",
       " ('NeighborhoodDummy_Gilbert', -12.037728355548618),\n",
       " ('GarageTypeDummy_BuiltIn', 11.261194388347297),\n",
       " ('LandContourDummy_Low', 1.9528307805474823),\n",
       " ('LandSlope', 0.15303405903546902)]"
      ]
     },
     "execution_count": 45,
     "metadata": {},
     "output_type": "execute_result"
    },
    {
     "data": {
      "image/png": "[encoded data removed]",
      "text/plain": [
       "<Figure size 936x648 with 1 Axes>"
      ]
     },
     "metadata": {
      "needs_background": "light"
     },
     "output_type": "display_data"
    }
   ],
   "source": [
    "getFeatureImportance(50, train.columns, gridRidge.best_estimator_.coef_,'descending')"
   ]
  },
  {
   "cell_type": "markdown",
   "metadata": {},
   "source": [
    "### Lasso Regression"
   ]
  },
  {
   "cell_type": "code",
   "execution_count": 46,
   "metadata": {},
   "outputs": [
    {
     "name": "stderr",
     "output_type": "stream",
     "text": [
      "/Users/baileyrusso/opt/anaconda3/lib/python3.8/site-packages/sklearn/linear_model/_coordinate_descent.py:529: ConvergenceWarning: Objective did not converge. You might want to increase the number of iterations. Duality gap: 161626693865.31213, tolerance: 539423247.2728616\n",
      "  model = cd_fast.enet_coordinate_descent(\n",
      "/Users/baileyrusso/opt/anaconda3/lib/python3.8/site-packages/sklearn/linear_model/_coordinate_descent.py:529: ConvergenceWarning: Objective did not converge. You might want to increase the number of iterations. Duality gap: 160489590591.16763, tolerance: 500070726.1631459\n",
      "  model = cd_fast.enet_coordinate_descent(\n",
      "/Users/baileyrusso/opt/anaconda3/lib/python3.8/site-packages/sklearn/linear_model/_coordinate_descent.py:529: ConvergenceWarning: Objective did not converge. You might want to increase the number of iterations. Duality gap: 158779817734.8167, tolerance: 533008756.15258634\n",
      "  model = cd_fast.enet_coordinate_descent(\n",
      "/Users/baileyrusso/opt/anaconda3/lib/python3.8/site-packages/sklearn/linear_model/_coordinate_descent.py:529: ConvergenceWarning: Objective did not converge. You might want to increase the number of iterations. Duality gap: 161602416268.03394, tolerance: 543832548.547774\n",
      "  model = cd_fast.enet_coordinate_descent(\n",
      "/Users/baileyrusso/opt/anaconda3/lib/python3.8/site-packages/sklearn/linear_model/_coordinate_descent.py:529: ConvergenceWarning: Objective did not converge. You might want to increase the number of iterations. Duality gap: 162772929500.72427, tolerance: 541181734.9004505\n",
      "  model = cd_fast.enet_coordinate_descent(\n",
      "/Users/baileyrusso/opt/anaconda3/lib/python3.8/site-packages/sklearn/linear_model/_coordinate_descent.py:529: ConvergenceWarning: Objective did not converge. You might want to increase the number of iterations. Duality gap: 123627964603.45212, tolerance: 539423247.2728616\n",
      "  model = cd_fast.enet_coordinate_descent(\n",
      "/Users/baileyrusso/opt/anaconda3/lib/python3.8/site-packages/sklearn/linear_model/_coordinate_descent.py:529: ConvergenceWarning: Objective did not converge. You might want to increase the number of iterations. Duality gap: 136263177234.61037, tolerance: 500070726.1631459\n",
      "  model = cd_fast.enet_coordinate_descent(\n",
      "/Users/baileyrusso/opt/anaconda3/lib/python3.8/site-packages/sklearn/linear_model/_coordinate_descent.py:529: ConvergenceWarning: Objective did not converge. You might want to increase the number of iterations. Duality gap: 112027850710.85335, tolerance: 533008756.15258634\n",
      "  model = cd_fast.enet_coordinate_descent(\n",
      "/Users/baileyrusso/opt/anaconda3/lib/python3.8/site-packages/sklearn/linear_model/_coordinate_descent.py:529: ConvergenceWarning: Objective did not converge. You might want to increase the number of iterations. Duality gap: 126873963508.69861, tolerance: 543832548.547774\n",
      "  model = cd_fast.enet_coordinate_descent(\n",
      "/Users/baileyrusso/opt/anaconda3/lib/python3.8/site-packages/sklearn/linear_model/_coordinate_descent.py:529: ConvergenceWarning: Objective did not converge. You might want to increase the number of iterations. Duality gap: 127023759097.09631, tolerance: 541181734.9004505\n",
      "  model = cd_fast.enet_coordinate_descent(\n",
      "/Users/baileyrusso/opt/anaconda3/lib/python3.8/site-packages/sklearn/linear_model/_coordinate_descent.py:529: ConvergenceWarning: Objective did not converge. You might want to increase the number of iterations. Duality gap: 535144531.12231445, tolerance: 500070726.1631459\n",
      "  model = cd_fast.enet_coordinate_descent(\n",
      "/Users/baileyrusso/opt/anaconda3/lib/python3.8/site-packages/sklearn/linear_model/_coordinate_descent.py:529: ConvergenceWarning: Objective did not converge. You might want to increase the number of iterations. Duality gap: 15854195614.647614, tolerance: 533008756.15258634\n",
      "  model = cd_fast.enet_coordinate_descent(\n",
      "/Users/baileyrusso/opt/anaconda3/lib/python3.8/site-packages/sklearn/linear_model/_coordinate_descent.py:529: ConvergenceWarning: Objective did not converge. You might want to increase the number of iterations. Duality gap: 2930312476.9151, tolerance: 541181734.9004505\n",
      "  model = cd_fast.enet_coordinate_descent(\n"
     ]
    },
    {
     "data": {
      "text/plain": [
       "GridSearchCV(cv=5, estimator=Lasso(),\n",
       "             param_grid={'alpha': [0.1, 1, 10, 50, 75, 100, 1000, 2000],\n",
       "                         'max_iter': [1000]})"
      ]
     },
     "execution_count": 46,
     "metadata": {},
     "output_type": "execute_result"
    }
   ],
   "source": [
    "model = Lasso()\n",
    "params = {'alpha':[0.1,1,10,50,75,100,1000,2000],'max_iter':[1000]}\n",
    "gridLasso = GridSearchCV(model, param_grid=params, cv=5)\n",
    "gridLasso.fit(X_Scaled, y)"
   ]
  },
  {
   "cell_type": "code",
   "execution_count": 47,
   "metadata": {},
   "outputs": [
    {
     "data": {
      "text/plain": [
       "{'mean_fit_time': array([0.12106957, 0.1192369 , 0.12586865, 0.08609033, 0.06198187,\n",
       "        0.04862533, 0.00903406, 0.00942621]),\n",
       " 'std_fit_time': array([0.00403081, 0.00617391, 0.00387667, 0.0033512 , 0.00331881,\n",
       "        0.0019794 , 0.0005682 , 0.00040997]),\n",
       " 'mean_score_time': array([0.00279756, 0.00266442, 0.00275712, 0.00277815, 0.00270162,\n",
       "        0.0025527 , 0.00275359, 0.00328798]),\n",
       " 'std_score_time': array([0.00038009, 0.00060016, 0.00053336, 0.0001036 , 0.0004136 ,\n",
       "        0.0005231 , 0.00024241, 0.00019865]),\n",
       " 'param_alpha': masked_array(data=[0.1, 1, 10, 50, 75, 100, 1000, 2000],\n",
       "              mask=[False, False, False, False, False, False, False, False],\n",
       "        fill_value='?',\n",
       "             dtype=object),\n",
       " 'param_max_iter': masked_array(data=[1000, 1000, 1000, 1000, 1000, 1000, 1000, 1000],\n",
       "              mask=[False, False, False, False, False, False, False, False],\n",
       "        fill_value='?',\n",
       "             dtype=object),\n",
       " 'params': [{'alpha': 0.1, 'max_iter': 1000},\n",
       "  {'alpha': 1, 'max_iter': 1000},\n",
       "  {'alpha': 10, 'max_iter': 1000},\n",
       "  {'alpha': 50, 'max_iter': 1000},\n",
       "  {'alpha': 75, 'max_iter': 1000},\n",
       "  {'alpha': 100, 'max_iter': 1000},\n",
       "  {'alpha': 1000, 'max_iter': 1000},\n",
       "  {'alpha': 2000, 'max_iter': 1000}],\n",
       " 'split0_test_score': array([0.89862615, 0.89892854, 0.90066184, 0.90435425, 0.90575207,\n",
       "        0.90658638, 0.90636815, 0.89276548]),\n",
       " 'split1_test_score': array([0.90173617, 0.90277131, 0.90795354, 0.9154771 , 0.91640057,\n",
       "        0.91716722, 0.91496516, 0.90487049]),\n",
       " 'split2_test_score': array([0.89016858, 0.89094404, 0.89458681, 0.9006913 , 0.90302826,\n",
       "        0.9042492 , 0.89800631, 0.88272961]),\n",
       " 'split3_test_score': array([0.88818191, 0.88843196, 0.88987959, 0.8918136 , 0.89312038,\n",
       "        0.89406364, 0.89681234, 0.88451818]),\n",
       " 'split4_test_score': array([0.89169552, 0.89147539, 0.89150563, 0.89346728, 0.89468491,\n",
       "        0.8964959 , 0.90465576, 0.89461683]),\n",
       " 'mean_test_score': array([0.89408166, 0.89451025, 0.89691748, 0.90116071, 0.90259724,\n",
       "        0.90371247, 0.90416154, 0.89190012]),\n",
       " 'std_test_score': array([0.00519724, 0.00541554, 0.00663426, 0.00850806, 0.00840341,\n",
       "        0.00818238, 0.00653803, 0.00793664]),\n",
       " 'rank_test_score': array([7, 6, 5, 4, 3, 2, 1, 8], dtype=int32)}"
      ]
     },
     "execution_count": 47,
     "metadata": {},
     "output_type": "execute_result"
    }
   ],
   "source": [
    "gridLasso.cv_results_"
   ]
  },
  {
   "cell_type": "code",
   "execution_count": 48,
   "metadata": {},
   "outputs": [
    {
     "data": {
      "text/plain": [
       "{'alpha': 1000, 'max_iter': 1000}"
      ]
     },
     "execution_count": 48,
     "metadata": {},
     "output_type": "execute_result"
    }
   ],
   "source": [
    "gridLasso.best_params_"
   ]
  },
  {
   "cell_type": "code",
   "execution_count": 49,
   "metadata": {},
   "outputs": [
    {
     "data": {
      "text/plain": [
       "0.9041615449230023"
      ]
     },
     "execution_count": 49,
     "metadata": {},
     "output_type": "execute_result"
    }
   ],
   "source": [
    "gridLasso.best_score_"
   ]
  },
  {
   "cell_type": "code",
   "execution_count": 50,
   "metadata": {},
   "outputs": [
    {
     "name": "stderr",
     "output_type": "stream",
     "text": [
      "/Users/baileyrusso/opt/anaconda3/lib/python3.8/site-packages/seaborn/_decorators.py:36: FutureWarning: Pass the following variables as keyword args: x, y. From version 0.12, the only valid positional argument will be `data`, and passing other arguments without an explicit keyword will result in an error or misinterpretation.\n",
      "  warnings.warn(\n"
     ]
    },
    {
     "data": {
      "text/plain": [
       "[('GrLivArea', 23357.72386975808),\n",
       " ('OverallQual', 12487.939531506894),\n",
       " ('BsmtFinSF1', 9514.567934152374),\n",
       " ('TotalBsmtSF', 6617.131367506474),\n",
       " ('ExterQual', -6036.194912761384),\n",
       " ('NeighborhoodDummy_NoRidge', 5513.954253930058),\n",
       " ('KitchenQual', -5165.947585274503),\n",
       " ('YearBuilt', 4156.3732262528),\n",
       " ('SaleTypeDummy_ConLw', 4140.236352517985),\n",
       " ('BsmtQual', -4076.7026448285637),\n",
       " ('OverallCond', 3757.773084144673),\n",
       " ('LotArea', 3606.814862771842),\n",
       " ('NeighborhoodDummy_Somerst', 3110.7757016526703),\n",
       " ('NeighborhoodDummy_NWAmes', 2971.075292115856),\n",
       " ('FunctionalDummy_Mod', 2568.8439872876043),\n",
       " ('GarageCars', 2558.9466942656895),\n",
       " ('Exterior1stDummy_BrkComm', 2430.1514080357856),\n",
       " ('GarageArea', 2009.0758814687058),\n",
       " ('KitchenAbvGr', -1939.7487794788774),\n",
       " ('NeighborhoodDummy_CollgCr', 1911.1099374923087),\n",
       " ('Fireplaces', 1883.3233705625719),\n",
       " ('YearRemodAdd', 1832.8623575999125),\n",
       " ('MasVnrArea', 1830.6389022226538),\n",
       " ('MSSubClassDummy_90', -1738.1193223261093),\n",
       " ('MSSubClassDummy_120', -1594.0450122194377),\n",
       " ('Condition1Dummy_Feedr', 1322.5110076863077),\n",
       " ('LotShapeDummy_Reg', 1313.5339555553771),\n",
       " ('OpenPorchSF', 1119.3482635673734),\n",
       " ('BldgTypeDummy_Duplex', -1114.202940352921),\n",
       " ('BldgTypeDummy_Twnhs', -970.3845879329612),\n",
       " ('BsmtExposure', -959.835450043845),\n",
       " ('NeighborhoodDummy_SawyerW', 938.3037981978615),\n",
       " ('MasVnrTypeDummy_None', 835.769371749066),\n",
       " ('WoodDeckSF', 731.9764368904086),\n",
       " ('UtilitiesDummy_NoSeWa', 693.7696704482677),\n",
       " ('SaleTypeDummy_CWD', 663.4765709958793),\n",
       " ('FunctionalDummy_Min2', -627.1121644750515),\n",
       " ('NeighborhoodDummy_NPkVill', -615.6347547345912),\n",
       " ('HouseStyleDummy_SLvl', -598.6475305512436),\n",
       " ('LotFrontage', 579.2219170608553),\n",
       " ('MiscFeatureDummy_Shed', 552.9664008444543),\n",
       " ('GarageFinish', -495.2393064171181),\n",
       " ('BsmtFinType2', -467.14014267264093),\n",
       " ('BedroomAbvGr', -462.56698676451765),\n",
       " ('1stFlrSF', 372.33907809202265),\n",
       " ('BsmtFinSF2', 358.15581650677336),\n",
       " ('TotRmsAbvGrd', 342.4450908231856),\n",
       " ('NeighborhoodDummy_OldTown', -332.9161842774445),\n",
       " ('Condition1Dummy_PosN', -319.7886078841192),\n",
       " ('SaleConditionDummy_AdjLand', 302.5943930419132),\n",
       " ('Exterior2ndDummy_CmentBd', -296.394772656107),\n",
       " ('ScreenPorch', 281.24880382889023),\n",
       " ('FoundationDummy_CBlock', 273.32367662022847),\n",
       " ('LowQualFinSF', -262.2744753697734),\n",
       " ('Exterior1stDummy_Stone', 250.56646153092518),\n",
       " ('NeighborhoodDummy_BrDale', 236.39791891289428),\n",
       " ('HouseStyleDummy_1Story', -231.68549948002916),\n",
       " ('MSZoningDummy_RL', -221.03447750229978),\n",
       " ('Exterior2ndDummy_Wd Sdng', -212.05393421716414),\n",
       " ('FoundationDummy_Stone', -137.1583224834415),\n",
       " ('BldgTypeDummy_2fmCon', -109.34298743974591),\n",
       " ('NeighborhoodDummy_Timber', 106.99859908677),\n",
       " ('Exterior1stDummy_CemntBd', -104.88171858742786),\n",
       " ('MSSubClassDummy_180', -85.2527043124788),\n",
       " ('Exterior2ndDummy_Stucco', 83.7481414940947),\n",
       " ('BsmtFullBath', 53.85441593830461),\n",
       " ('NeighborhoodDummy_NridgHt', -53.66865222880249),\n",
       " ('MSSubClassDummy_85', -43.48728553243717),\n",
       " ('Exterior1stDummy_VinylSd', -29.53684241237077),\n",
       " ('Condition2Dummy_RRNn', -9.153962363683178),\n",
       " ('LandSlope', -0.0),\n",
       " ('ExterCond', 0.0),\n",
       " ('BsmtCond', 0.0),\n",
       " ('BsmtFinType1', -0.0),\n",
       " ('BsmtUnfSF', -0.0),\n",
       " ('HeatingQC', -0.0),\n",
       " ('2ndFlrSF', 0.0),\n",
       " ('BsmtHalfBath', -0.0),\n",
       " ('FullBath', 0.0),\n",
       " ('HalfBath', 0.0),\n",
       " ('FireplaceQu', -0.0),\n",
       " ('GarageYrBlt', -0.0),\n",
       " ('GarageQual', -0.0),\n",
       " ('GarageCond', 0.0),\n",
       " ('EnclosedPorch', -0.0),\n",
       " ('3SsnPorch', 0.0),\n",
       " ('PoolArea', 0.0),\n",
       " ('PoolQC', -0.0),\n",
       " ('Fence', 0.0),\n",
       " ('MiscVal', 0.0),\n",
       " ('MoSold', -0.0),\n",
       " ('YrSold', 0.0),\n",
       " ('SalePrice', 0.0),\n",
       " ('hasBeenRemodeled', -0.0),\n",
       " ('NumFloors', -0.0),\n",
       " ('MSSubClassDummy_30', 0.0),\n",
       " ('MSSubClassDummy_40', 0.0),\n",
       " ('MSSubClassDummy_45', -0.0),\n",
       " ('MSSubClassDummy_50', 0.0),\n",
       " ('MSSubClassDummy_60', 0.0),\n",
       " ('MSSubClassDummy_70', -0.0),\n",
       " ('MSSubClassDummy_75', 0.0),\n",
       " ('MSSubClassDummy_80', -0.0),\n",
       " ('MSSubClassDummy_160', 0.0),\n",
       " ('MSSubClassDummy_190', 0.0),\n",
       " ('MSZoningDummy_FV', -0.0),\n",
       " ('MSZoningDummy_RH', 0.0),\n",
       " ('MSZoningDummy_RM', 0.0),\n",
       " ('StreetDummy_Pave', 0.0),\n",
       " ('AlleyDummy_No_Alley_Access', -0.0),\n",
       " ('AlleyDummy_Pave', 0.0),\n",
       " ('LotShapeDummy_IR2', -0.0),\n",
       " ('LotShapeDummy_IR3', -0.0),\n",
       " ('LandContourDummy_HLS', -0.0),\n",
       " ('LandContourDummy_Low', 0.0),\n",
       " ('LandContourDummy_Lvl', -0.0),\n",
       " ('LotConfigDummy_CulDSac', -0.0),\n",
       " ('LotConfigDummy_FR2', -0.0),\n",
       " ('LotConfigDummy_FR3', -0.0),\n",
       " ('LotConfigDummy_Inside', 0.0),\n",
       " ('NeighborhoodDummy_Blueste', 0.0),\n",
       " ('NeighborhoodDummy_BrkSide', 0.0),\n",
       " ('NeighborhoodDummy_ClearCr', -0.0),\n",
       " ('NeighborhoodDummy_Crawfor', -0.0),\n",
       " ('NeighborhoodDummy_Edwards', -0.0),\n",
       " ('NeighborhoodDummy_Gilbert', 0.0),\n",
       " ('NeighborhoodDummy_IDOTRR', -0.0),\n",
       " ('NeighborhoodDummy_MeadowV', -0.0),\n",
       " ('NeighborhoodDummy_Mitchel', -0.0),\n",
       " ('NeighborhoodDummy_NAmes', 0.0),\n",
       " ('NeighborhoodDummy_SWISU', 0.0),\n",
       " ('NeighborhoodDummy_Sawyer', -0.0),\n",
       " ('NeighborhoodDummy_StoneBr', -0.0),\n",
       " ('NeighborhoodDummy_Veenker', 0.0),\n",
       " ('Condition1Dummy_Norm', -0.0),\n",
       " ('Condition1Dummy_PosA', 0.0),\n",
       " ('Condition1Dummy_RRAe', 0.0),\n",
       " ('Condition1Dummy_RRAn', -0.0),\n",
       " ('Condition1Dummy_RRNe', -0.0),\n",
       " ('Condition1Dummy_RRNn', -0.0),\n",
       " ('Condition2Dummy_Feedr', 0.0),\n",
       " ('Condition2Dummy_Norm', -0.0),\n",
       " ('Condition2Dummy_PosN', -0.0),\n",
       " ('Condition2Dummy_RRAn', 0.0),\n",
       " ('BldgTypeDummy_TwnhsE', 0.0),\n",
       " ('HouseStyleDummy_1.5Unf', 0.0),\n",
       " ('HouseStyleDummy_2.5Fin', -0.0),\n",
       " ('HouseStyleDummy_2.5Unf', 0.0),\n",
       " ('HouseStyleDummy_2Story', -0.0),\n",
       " ('HouseStyleDummy_SFoyer', 0.0),\n",
       " ('RoofStyleDummy_Gable', 0.0),\n",
       " ('RoofStyleDummy_Gambrel', 0.0),\n",
       " ('RoofStyleDummy_Hip', -0.0),\n",
       " ('RoofStyleDummy_Mansard', 0.0),\n",
       " ('RoofStyleDummy_Shed', 0.0),\n",
       " ('RoofMatlDummy_CompShg', -0.0),\n",
       " ('RoofMatlDummy_Roll', -0.0),\n",
       " ('RoofMatlDummy_Tar&Grv', -0.0),\n",
       " ('RoofMatlDummy_WdShake', 0.0),\n",
       " ('RoofMatlDummy_WdShngl', -0.0),\n",
       " ('Exterior1stDummy_AsphShn', -0.0),\n",
       " ('Exterior1stDummy_BrkFace', -0.0),\n",
       " ('Exterior1stDummy_CBlock', 0.0),\n",
       " ('Exterior1stDummy_HdBoard', -0.0),\n",
       " ('Exterior1stDummy_ImStucc', 0.0),\n",
       " ('Exterior1stDummy_MetalSd', -0.0),\n",
       " ('Exterior1stDummy_Plywood', -0.0),\n",
       " ('Exterior1stDummy_Stucco', 0.0),\n",
       " ('Exterior1stDummy_Wd Sdng', 0.0),\n",
       " ('Exterior1stDummy_WdShing', 0.0),\n",
       " ('Exterior2ndDummy_AsphShn', 0.0),\n",
       " ('Exterior2ndDummy_Brk Cmn', 0.0),\n",
       " ('Exterior2ndDummy_BrkFace', -0.0),\n",
       " ('Exterior2ndDummy_CBlock', 0.0),\n",
       " ('Exterior2ndDummy_HdBoard', -0.0),\n",
       " ('Exterior2ndDummy_ImStucc', 0.0),\n",
       " ('Exterior2ndDummy_MetalSd', 0.0),\n",
       " ('Exterior2ndDummy_Other', -0.0),\n",
       " ('Exterior2ndDummy_Plywood', 0.0),\n",
       " ('Exterior2ndDummy_Stone', 0.0),\n",
       " ('Exterior2ndDummy_VinylSd', -0.0),\n",
       " ('Exterior2ndDummy_Wd Shng', -0.0),\n",
       " ('MasVnrTypeDummy_BrkFace', 0.0),\n",
       " ('MasVnrTypeDummy_No_MasVnr', 0.0),\n",
       " ('MasVnrTypeDummy_Stone', -0.0),\n",
       " ('FoundationDummy_PConc', 0.0),\n",
       " ('FoundationDummy_Slab', 0.0),\n",
       " ('FoundationDummy_Wood', -0.0),\n",
       " ('HeatingDummy_GasA', 0.0),\n",
       " ('HeatingDummy_GasW', -0.0),\n",
       " ('HeatingDummy_Grav', 0.0),\n",
       " ('HeatingDummy_Wall', 0.0),\n",
       " ('CentralAirDummy_Y', 0.0),\n",
       " ('ElectricalDummy_FuseF', -0.0),\n",
       " ('ElectricalDummy_Mix', 0.0),\n",
       " ('ElectricalDummy_SBrkr', -0.0),\n",
       " ('FunctionalDummy_Maj2', -0.0),\n",
       " ('FunctionalDummy_Min1', 0.0),\n",
       " ('FunctionalDummy_Typ', -0.0),\n",
       " ('GarageTypeDummy_Attchd', -0.0),\n",
       " ('GarageTypeDummy_Basment', 0.0),\n",
       " ('GarageTypeDummy_BuiltIn', 0.0),\n",
       " ('GarageTypeDummy_CarPort', -0.0),\n",
       " ('GarageTypeDummy_Detchd', 0.0),\n",
       " ('GarageTypeDummy_No_Garage', -0.0),\n",
       " ('PavedDriveDummy_P', 0.0),\n",
       " ('PavedDriveDummy_Y', -0.0),\n",
       " ('MiscFeatureDummy_No_Misc_Feature', -0.0),\n",
       " ('MiscFeatureDummy_Othr', 0.0),\n",
       " ('SaleTypeDummy_Con', 0.0),\n",
       " ('SaleTypeDummy_ConLD', -0.0),\n",
       " ('SaleTypeDummy_ConLI', -0.0),\n",
       " ('SaleTypeDummy_New', 0.0),\n",
       " ('SaleTypeDummy_Oth', -0.0),\n",
       " ('SaleTypeDummy_WD', 0.0),\n",
       " ('SaleConditionDummy_Alloca', -0.0),\n",
       " ('SaleConditionDummy_Family', 0.0),\n",
       " ('SaleConditionDummy_Normal', 0.0)]"
      ]
     },
     "execution_count": 50,
     "metadata": {},
     "output_type": "execute_result"
    },
    {
     "data": {
      "image/png": "[encoded data removed]",
      "text/plain": [
       "<Figure size 936x648 with 1 Axes>"
      ]
     },
     "metadata": {
      "needs_background": "light"
     },
     "output_type": "display_data"
    }
   ],
   "source": [
    "getFeatureImportance(50, train.columns, gridLasso.best_estimator_.coef_, '')"
   ]
  },
  {
   "cell_type": "markdown",
   "metadata": {},
   "source": [
    "## Value Counts"
   ]
  },
  {
   "cell_type": "code",
   "execution_count": null,
   "metadata": {},
   "outputs": [],
   "source": [
    "train_org = pd.read_csv('train.csv')"
   ]
  },
  {
   "cell_type": "code",
   "execution_count": null,
   "metadata": {},
   "outputs": [],
   "source": [
    "def getValueCounts(cols, data):\n",
    "    f, axes = plt.subplots(round(len(cols)/2)+1, 2, figsize=(10,80))\n",
    "    rowIdx = 0\n",
    "    colIdx = 0\n",
    "    for col in cols:\n",
    "        if colIdx > 1:\n",
    "            rowIdx = rowIdx + 1\n",
    "            colIdx = 0\n",
    "        value_counts = data[col].value_counts()\n",
    "        ax = sns.barplot(x=value_counts.index, y=value_counts, data=data, ax=axes[rowIdx,colIdx]).set_title(col)\n",
    "        colIdx += 1\n",
    "    f.tight_layout()"
   ]
  },
  {
   "cell_type": "code",
   "execution_count": null,
   "metadata": {},
   "outputs": [],
   "source": [
    "cat_cols = train_org.columns[train_org.dtypes == 'object'] | train_org.columns[train_org.columns == 'MSSubClass']\n",
    "getValueCounts(cat_cols, train_org)"
   ]
  },
  {
   "cell_type": "code",
   "execution_count": null,
   "metadata": {},
   "outputs": [],
   "source": [
    "colsToDrop = ['BldgType','BsmtCond','BsmtFinType2','CentralAir','Condition1','Condition2','Electrical',\n",
    "              'ExterCond','Functional','GarageCond','GarageQual','Heating','LandContour','LandSlope',\n",
    "              'MiscFeature','PavedDrive','RoofMatl','Street','Utilities','SaleType','MSSubClass']"
   ]
  },
  {
   "cell_type": "code",
   "execution_count": null,
   "metadata": {},
   "outputs": [],
   "source": [
    "for col in colsToDrop:\n",
    "    train = train[train.columns.drop(list(train.filter(regex=col)))]\n"
   ]
  },
  {
   "cell_type": "code",
   "execution_count": null,
   "metadata": {},
   "outputs": [],
   "source": [
    "X = train.loc[:, train.columns != 'SalePrice']"
   ]
  },
  {
   "cell_type": "code",
   "execution_count": null,
   "metadata": {},
   "outputs": [],
   "source": [
    "scaler = StandardScaler()\n",
    "X_Scaled = scaler.fit_transform(train.loc[:, train.columns != 'SalePrice'])\n",
    "X_Scaled = pd.DataFrame(X_Scaled, columns = train.columns[train.columns != 'SalePrice'])\n",
    "y = train['SalePrice']"
   ]
  },
  {
   "cell_type": "markdown",
   "metadata": {},
   "source": [
    "## Random Forest on Subset"
   ]
  },
  {
   "cell_type": "code",
   "execution_count": null,
   "metadata": {},
   "outputs": [],
   "source": [
    "model = RandomForestRegressor()\n",
    "params = {'n_estimators':[100], 'max_features':['auto', 'sqrt']}\n",
    "gridRf = GridSearchCV(model, param_grid=params, cv=5)\n",
    "gridRf.fit(X, y)"
   ]
  },
  {
   "cell_type": "code",
   "execution_count": null,
   "metadata": {},
   "outputs": [],
   "source": [
    "gridRf.best_score_"
   ]
  },
  {
   "cell_type": "markdown",
   "metadata": {},
   "source": [
    "## Ridge on Subset"
   ]
  },
  {
   "cell_type": "code",
   "execution_count": null,
   "metadata": {},
   "outputs": [],
   "source": [
    "model = Ridge()\n",
    "params = {'alpha':[0.1,1,10,50,75,100,1000,2000],'max_iter':[1000]}\n",
    "gridRidge = GridSearchCV(model, param_grid=params, cv=5)\n",
    "gridRidge.fit(X_Scaled, y)"
   ]
  },
  {
   "cell_type": "code",
   "execution_count": null,
   "metadata": {},
   "outputs": [],
   "source": [
    "gridRidge.best_score_"
   ]
  },
  {
   "cell_type": "markdown",
   "metadata": {},
   "source": [
    "## Lasso on Subset"
   ]
  },
  {
   "cell_type": "code",
   "execution_count": null,
   "metadata": {},
   "outputs": [],
   "source": [
    "model = Lasso()\n",
    "params = {'alpha':[0.1,1,10,50,75,100,1000,2000],'max_iter':[1000]}\n",
    "gridLasso = GridSearchCV(model, param_grid=params, cv=5)\n",
    "gridLasso.fit(X_Scaled, y)"
   ]
  },
  {
   "cell_type": "code",
   "execution_count": null,
   "metadata": {},
   "outputs": [],
   "source": [
    "gridLasso.best_score_"
   ]
  },
  {
   "cell_type": "markdown",
   "metadata": {},
   "source": [
    "## Correlation between variables"
   ]
  },
  {
   "cell_type": "markdown",
   "metadata": {},
   "source": [
    "### Correlation Matrix"
   ]
  },
  {
   "cell_type": "code",
   "execution_count": null,
   "metadata": {},
   "outputs": [],
   "source": [
    "corr = X.corr()"
   ]
  },
  {
   "cell_type": "code",
   "execution_count": null,
   "metadata": {},
   "outputs": [],
   "source": [
    "def get_redundant_pairs(df):\n",
    "    '''Get diagonal and lower triangular pairs of correlation matrix'''\n",
    "    pairs_to_drop = set()\n",
    "    cols = df.columns\n",
    "    for i in range(0, df.shape[1]):\n",
    "        for j in range(0, i+1):\n",
    "            pairs_to_drop.add((cols[i], cols[j]))\n",
    "    return pairs_to_drop\n",
    "\n",
    "def get_top_abs_correlations(df, n=5):\n",
    "    au_corr = df.corr().abs().unstack()\n",
    "    labels_to_drop = get_redundant_pairs(df)\n",
    "    au_corr = au_corr.drop(labels=labels_to_drop).sort_values(ascending=False)\n",
    "    return au_corr[0:n]\n",
    "\n",
    "print(\"Top Absolute Correlations\")\n",
    "mostCorrelatedFeat = get_top_abs_correlations(corr, 1000)\n"
   ]
  },
  {
   "cell_type": "code",
   "execution_count": null,
   "metadata": {},
   "outputs": [],
   "source": [
    "mostCorrelatedFeat.head(50)"
   ]
  },
  {
   "cell_type": "code",
   "execution_count": null,
   "metadata": {},
   "outputs": [],
   "source": [
    "colsToDrop = ['Exterior2nd']\n",
    "for col in colsToDrop:\n",
    "    train = train[train.columns.drop(list(train.filter(regex=col)))]"
   ]
  },
  {
   "cell_type": "code",
   "execution_count": null,
   "metadata": {},
   "outputs": [],
   "source": [
    "X = train.loc[:, train.columns != 'SalePrice']"
   ]
  },
  {
   "cell_type": "markdown",
   "metadata": {},
   "source": [
    "### Variance Inflation Factor"
   ]
  },
  {
   "cell_type": "code",
   "execution_count": null,
   "metadata": {},
   "outputs": [],
   "source": [
    "constant = np.ones((X.shape[0], 1))\n",
    "X['constant'] = constant"
   ]
  },
  {
   "cell_type": "code",
   "execution_count": null,
   "metadata": {},
   "outputs": [],
   "source": [
    "vifs = zip(X.columns, [variance_inflation_factor(X.values, i) for i in range(len(X.columns))])"
   ]
  },
  {
   "cell_type": "code",
   "execution_count": null,
   "metadata": {},
   "outputs": [],
   "source": [
    "list(vifs)"
   ]
  },
  {
   "cell_type": "code",
   "execution_count": null,
   "metadata": {},
   "outputs": [],
   "source": [
    "X[['BsmtFinSF1','BsmtFinSF2','BsmtUnfSF','TotalBsmtSF']]"
   ]
  },
  {
   "cell_type": "code",
   "execution_count": null,
   "metadata": {},
   "outputs": [],
   "source": [
    "X[['GrLivArea','1stFlrSF','2ndFlrSF','LowQualFinSF']]"
   ]
  },
  {
   "cell_type": "code",
   "execution_count": null,
   "metadata": {},
   "outputs": [],
   "source": [
    "train = train.drop(['GrLivArea','TotalBsmtSF','OverallQual','GarageArea','PoolArea','PoolQC'], axis=1)"
   ]
  },
  {
   "cell_type": "code",
   "execution_count": null,
   "metadata": {},
   "outputs": [],
   "source": [
    "X = train.loc[:,train.columns != 'SalePrice']"
   ]
  },
  {
   "cell_type": "markdown",
   "metadata": {},
   "source": [
    "### Variance Inflation Factor on Subset"
   ]
  },
  {
   "cell_type": "code",
   "execution_count": null,
   "metadata": {},
   "outputs": [],
   "source": [
    "vifs = zip(X.columns, [variance_inflation_factor(X.values, i) for i in range(len(X.columns))])"
   ]
  },
  {
   "cell_type": "code",
   "execution_count": null,
   "metadata": {},
   "outputs": [],
   "source": [
    "list(vifs)"
   ]
  },
  {
   "cell_type": "markdown",
   "metadata": {},
   "source": [
    "### Correlation Matrix on Subset"
   ]
  },
  {
   "cell_type": "code",
   "execution_count": null,
   "metadata": {},
   "outputs": [],
   "source": [
    "corr = X.corr()"
   ]
  },
  {
   "cell_type": "code",
   "execution_count": null,
   "metadata": {},
   "outputs": [],
   "source": [
    "mostCorrelatedFeat = get_top_abs_correlations(corr, 1000)\n",
    "mostCorrelatedFeat.head(50)"
   ]
  },
  {
   "cell_type": "code",
   "execution_count": null,
   "metadata": {},
   "outputs": [],
   "source": [
    "scaler = StandardScaler()\n",
    "X_Scaled = scaler.fit_transform(train.loc[:, train.columns != 'SalePrice'])\n",
    "X_Scaled = pd.DataFrame(X_Scaled, columns = train.columns[train.columns != 'SalePrice'])\n",
    "y = train['SalePrice']"
   ]
  },
  {
   "cell_type": "code",
   "execution_count": null,
   "metadata": {},
   "outputs": [],
   "source": [
    "model = Lasso()\n",
    "params = {'alpha':[0.1,1,10,50,75,100,1000,2000],'max_iter':[1000]}\n",
    "gridLasso = GridSearchCV(model, param_grid=params, cv=5)\n",
    "gridLasso.fit(X_Scaled, y)\n"
   ]
  },
  {
   "cell_type": "code",
   "execution_count": null,
   "metadata": {},
   "outputs": [],
   "source": [
    "list(zip(X_Scaled.columns,gridLasso.best_estimator_.coef_))"
   ]
  },
  {
   "cell_type": "code",
   "execution_count": null,
   "metadata": {},
   "outputs": [],
   "source": [
    "stats.summary(gridLasso.best_estimator_, X_Scaled, y)"
   ]
  },
  {
   "cell_type": "code",
   "execution_count": null,
   "metadata": {},
   "outputs": [],
   "source": []
  }
 ],
 "metadata": {
  "kernelspec": {
   "display_name": "Python 3",
   "language": "python",
   "name": "python3"
  },
  "language_info": {
   "codemirror_mode": {
    "name": "ipython",
    "version": 3
   },
   "file_extension": ".py",
   "mimetype": "text/x-python",
   "name": "python",
   "nbconvert_exporter": "python",
   "pygments_lexer": "ipython3",
   "version": "3.8.3"
  }
 },
 "nbformat": 4,
 "nbformat_minor": 4
}
